{
  "nbformat": 4,
  "nbformat_minor": 0,
  "metadata": {
    "colab": {
      "name": "ProjetoFinalAwari.ipynb",
      "provenance": [],
      "collapsed_sections": [
        "ot77pl5w54R8",
        "fMER2V3v6Mf4",
        "sV4UqUOB69qR",
        "YmPpNPJS12H7",
        "_eTmiePO9hSR"
      ],
      "authorship_tag": "ABX9TyN16kmDFhLMSd4VQPE++Uax",
      "include_colab_link": true
    },
    "kernelspec": {
      "name": "python3",
      "display_name": "Python 3"
    }
  },
  "cells": [
    {
      "cell_type": "markdown",
      "metadata": {
        "id": "view-in-github",
        "colab_type": "text"
      },
      "source": [
        "<a href=\"https://colab.research.google.com/github/JoaoDaross/ProjetoFinalAwari/blob/main/ProjetoFinalAwari.ipynb\" target=\"_parent\"><img src=\"https://colab.research.google.com/assets/colab-badge.svg\" alt=\"Open In Colab\"/></a>"
      ]
    },
    {
      "cell_type": "markdown",
      "metadata": {
        "id": "3CEvPnTZ4DZW"
      },
      "source": [
        "<img src=\"https://i.imgur.com/YX6UATs.png\"  width=\"160\">"
      ]
    },
    {
      "cell_type": "markdown",
      "metadata": {
        "id": "BniT9xG2zCVO"
      },
      "source": [
        "# **Projeto Final do Curso Intensivo de Ciência de Dados.**\n",
        "\n",
        "**Turma:** Intensivo-Junho-20\n",
        "\n",
        "**Autor:** João Guilherme Daross Brandão"
      ]
    },
    {
      "cell_type": "markdown",
      "metadata": {
        "id": "ot77pl5w54R8"
      },
      "source": [
        "# Exposição do problema"
      ]
    },
    {
      "cell_type": "markdown",
      "metadata": {
        "id": "cOQA5bKDyseh"
      },
      "source": [
        "> Esta etapa consiste em apresentar um panorama da situação em que o projeto se encaixa, demonstrar o problema e como vou tentar resolver. \n",
        "\n",
        "<br/>\n",
        "<br/>\n",
        "\n",
        "## **O Projeto**\n",
        "\n",
        "O projeto consiste em identificar o salário de uma vaga de trabalho levando em consideração o título do cargo, localização da sede, tamanho da empresa e faturamento.\n",
        "\n",
        "<br/>\n",
        "<br/>\n",
        "\n",
        "### **Resumo sobre as seções**\n",
        "\n",
        "\n",
        "*   **Coleta ou Importação dos dados:** O objetivo é coletar os dados, entender o tamanho do dataset, identificar as colunas e selecionar apenas as colunas que serão, a princípio, necessárias para a análise e se há dados faltantes.\n",
        "<br/>\n",
        "\n",
        "*   **Preparação dos dados:**\n",
        "<br/>\n",
        "\n",
        "*   **Análise exploratória:**\n",
        "<br/>\n",
        "\n",
        "*   **Modelagem:**\n",
        "<br/>\n",
        "\n",
        "*   **Comunicação e visualização:**\n",
        "<br/>"
      ]
    },
    {
      "cell_type": "markdown",
      "metadata": {
        "id": "fMER2V3v6Mf4"
      },
      "source": [
        "# Coleta de Dados"
      ]
    },
    {
      "cell_type": "markdown",
      "metadata": {
        "id": "XyywXIrzz9qe"
      },
      "source": [
        "Para realizar um projeto de ciência de\n",
        "dados é necessário coletar dados. E para isso, possuímos basicamente duas opções:\n",
        "\n",
        "<br/>\n",
        "\n",
        "- Coleta de dados primária.\n",
        "\n",
        "<br/>\n",
        "\n",
        "- Coleta de dados secundária.\n",
        "\n",
        "<br/>\n",
        "\n",
        "Nesse projeto vamos utilizar a coleta de dados secundária que consiste em  coletar os dados de alguma base já\n",
        "criada por outra pessoa, empresa ou organização.\n",
        "\n",
        "<br/>\n",
        "\n",
        "###**Conjunto de dados**\n",
        "\n",
        "O conjunto de dados que iremos utilizar foi coletado da plataforma [Kaggle](https://www.kaggle.com/prithviraj7387/datascientistsalaries).\n",
        "\n",
        "<br/>\n",
        "\n",
        "### **Descrição do dados**\n",
        "\n",
        "No arquivo [data_scraped.csv](https://github.com/JoaoDaross/ProjetoFinalAwari/blob/main/data_scraped.csv), você encontrará as seguintes colunas:\n",
        "\n",
        "- **Unnamed: 0:** indice segundário;\n",
        "- **Job Title:** Titulo do cargo;\n",
        "- **Salary Estimate:** Salário estimado;\n",
        "- **Job Description:** Descrição do trabalho;\n",
        "- **Rating:** Ranking;\n",
        "- **Company Name:** Nome da empresa;\n",
        "- **Location:** Localização da empresa;\n",
        "- **Headquarters:** Localização da sede;\n",
        "- **Size:** Tamanho da empresa;\n",
        "- **Founded:** Ano que a empresa foi fundada;\n",
        "- **Type of ownership:** Tipo de sociedade;\n",
        "- **Industry:** Industria da empresa;\n",
        "- **Sector:** Setor da empresa;\n",
        "- **Revenue:** Faturamento;\n",
        "- **Competitors:** Não identificado."
      ]
    },
    {
      "cell_type": "markdown",
      "metadata": {
        "id": "vqStjK2cFfne"
      },
      "source": [
        "\n",
        "\n",
        "---\n",
        "\n",
        "\n",
        "\n",
        "---\n",
        "\n"
      ]
    },
    {
      "cell_type": "markdown",
      "metadata": {
        "id": "0PCnUusTE9Gs"
      },
      "source": [
        "> Primeiro vamos importar as bibliotecas que iremos utilizar no projeto"
      ]
    },
    {
      "cell_type": "code",
      "metadata": {
        "id": "pL09IS0_KEOm"
      },
      "source": [
        "# Importando bibliotecas \n",
        "%matplotlib inline\n",
        "import pandas as pd\n",
        "import numpy as np\n",
        "import matplotlib.pyplot as plt\n",
        "import seaborn as sns\n",
        "from sklearn import linear_model\n",
        "from sklearn.linear_model import LinearRegression"
      ],
      "execution_count": 1,
      "outputs": []
    },
    {
      "cell_type": "markdown",
      "metadata": {
        "id": "9dKdcNLMFGMR"
      },
      "source": [
        "> Selecionando os dados que vamos extrair as informações"
      ]
    },
    {
      "cell_type": "code",
      "metadata": {
        "id": "u-9fksw4oeUp"
      },
      "source": [
        "#selecionando a fonte de dados\n",
        "fonte = \"https://raw.githubusercontent.com/JoaoDaross/ProjetoFinalAwari/main/data_scraped.csv\""
      ],
      "execution_count": 2,
      "outputs": []
    },
    {
      "cell_type": "markdown",
      "metadata": {
        "id": "GP6jlDvOFYkl"
      },
      "source": [
        "> Leitura dos dados"
      ]
    },
    {
      "cell_type": "code",
      "metadata": {
        "id": "0ZZfsNfGKyX5"
      },
      "source": [
        "#leitura de dados\n",
        "df = pd.read_csv(fonte)"
      ],
      "execution_count": 3,
      "outputs": []
    },
    {
      "cell_type": "markdown",
      "metadata": {
        "id": "K_u-ITKgFoK8"
      },
      "source": [
        "> Visualizar os dataset e identificar se as informações de cada coluna conferem com as descrições"
      ]
    },
    {
      "cell_type": "code",
      "metadata": {
        "id": "SLx8A-KdouPM",
        "outputId": "09953011-1af7-454b-b9bf-f7d5b4ec0d12",
        "colab": {
          "base_uri": "https://localhost:8080/",
          "height": 513
        }
      },
      "source": [
        "# Visualisando as primeiras 5 linhas do dataset\n",
        "df.head()"
      ],
      "execution_count": 4,
      "outputs": [
        {
          "output_type": "execute_result",
          "data": {
            "text/html": [
              "<div>\n",
              "<style scoped>\n",
              "    .dataframe tbody tr th:only-of-type {\n",
              "        vertical-align: middle;\n",
              "    }\n",
              "\n",
              "    .dataframe tbody tr th {\n",
              "        vertical-align: top;\n",
              "    }\n",
              "\n",
              "    .dataframe thead th {\n",
              "        text-align: right;\n",
              "    }\n",
              "</style>\n",
              "<table border=\"1\" class=\"dataframe\">\n",
              "  <thead>\n",
              "    <tr style=\"text-align: right;\">\n",
              "      <th></th>\n",
              "      <th>Unnamed: 0</th>\n",
              "      <th>Job Title</th>\n",
              "      <th>Salary Estimate</th>\n",
              "      <th>Job Description</th>\n",
              "      <th>Rating</th>\n",
              "      <th>Company Name</th>\n",
              "      <th>Location</th>\n",
              "      <th>Headquarters</th>\n",
              "      <th>Size</th>\n",
              "      <th>Founded</th>\n",
              "      <th>Type of ownership</th>\n",
              "      <th>Industry</th>\n",
              "      <th>Sector</th>\n",
              "      <th>Revenue</th>\n",
              "      <th>Competitors</th>\n",
              "    </tr>\n",
              "  </thead>\n",
              "  <tbody>\n",
              "    <tr>\n",
              "      <th>0</th>\n",
              "      <td>0</td>\n",
              "      <td>Data Scientist</td>\n",
              "      <td>$53K-$91K (Glassdoor est.)</td>\n",
              "      <td>Data Scientist\\r\\nLocation: Albuquerque, NM\\r\\...</td>\n",
              "      <td>3.8</td>\n",
              "      <td>Tecolote Research\\r\\n3.8</td>\n",
              "      <td>Albuquerque, NM</td>\n",
              "      <td>Goleta, CA</td>\n",
              "      <td>501 to 1000 employees</td>\n",
              "      <td>1973</td>\n",
              "      <td>Company - Private</td>\n",
              "      <td>Aerospace &amp; Defense</td>\n",
              "      <td>Aerospace &amp; Defense</td>\n",
              "      <td>$50 to $100 million (USD)</td>\n",
              "      <td>-1</td>\n",
              "    </tr>\n",
              "    <tr>\n",
              "      <th>1</th>\n",
              "      <td>1</td>\n",
              "      <td>Healthcare Data Scientist</td>\n",
              "      <td>$63K-$112K (Glassdoor est.)</td>\n",
              "      <td>What You Will Do:\\r\\n\\r\\nI. General Summary\\r\\...</td>\n",
              "      <td>3.4</td>\n",
              "      <td>University of Maryland Medical System\\r\\n3.4</td>\n",
              "      <td>Linthicum, MD</td>\n",
              "      <td>Baltimore, MD</td>\n",
              "      <td>10000+ employees</td>\n",
              "      <td>1984</td>\n",
              "      <td>Other Organization</td>\n",
              "      <td>Health Care Services &amp; Hospitals</td>\n",
              "      <td>Health Care</td>\n",
              "      <td>$2 to $5 billion (USD)</td>\n",
              "      <td>-1</td>\n",
              "    </tr>\n",
              "    <tr>\n",
              "      <th>2</th>\n",
              "      <td>2</td>\n",
              "      <td>Data Scientist</td>\n",
              "      <td>$80K-$90K (Glassdoor est.)</td>\n",
              "      <td>KnowBe4, Inc. is a high growth information sec...</td>\n",
              "      <td>4.8</td>\n",
              "      <td>KnowBe4\\r\\n4.8</td>\n",
              "      <td>Clearwater, FL</td>\n",
              "      <td>Clearwater, FL</td>\n",
              "      <td>501 to 1000 employees</td>\n",
              "      <td>2010</td>\n",
              "      <td>Company - Private</td>\n",
              "      <td>Security Services</td>\n",
              "      <td>Business Services</td>\n",
              "      <td>$100 to $500 million (USD)</td>\n",
              "      <td>-1</td>\n",
              "    </tr>\n",
              "    <tr>\n",
              "      <th>3</th>\n",
              "      <td>3</td>\n",
              "      <td>Data Scientist</td>\n",
              "      <td>$56K-$97K (Glassdoor est.)</td>\n",
              "      <td>*Organization and Job ID**\\r\\nJob ID: 310709\\r...</td>\n",
              "      <td>3.8</td>\n",
              "      <td>PNNL\\r\\n3.8</td>\n",
              "      <td>Richland, WA</td>\n",
              "      <td>Richland, WA</td>\n",
              "      <td>1001 to 5000 employees</td>\n",
              "      <td>1965</td>\n",
              "      <td>Government</td>\n",
              "      <td>Energy</td>\n",
              "      <td>Oil, Gas, Energy &amp; Utilities</td>\n",
              "      <td>$500 million to $1 billion (USD)</td>\n",
              "      <td>Oak Ridge National Laboratory, National Renewa...</td>\n",
              "    </tr>\n",
              "    <tr>\n",
              "      <th>4</th>\n",
              "      <td>4</td>\n",
              "      <td>Data Scientist</td>\n",
              "      <td>$86K-$143K (Glassdoor est.)</td>\n",
              "      <td>Data Scientist\\r\\nAffinity Solutions / Marketi...</td>\n",
              "      <td>2.9</td>\n",
              "      <td>Affinity Solutions\\r\\n2.9</td>\n",
              "      <td>New York, NY</td>\n",
              "      <td>New York, NY</td>\n",
              "      <td>51 to 200 employees</td>\n",
              "      <td>1998</td>\n",
              "      <td>Company - Private</td>\n",
              "      <td>Advertising &amp; Marketing</td>\n",
              "      <td>Business Services</td>\n",
              "      <td>Unknown / Non-Applicable</td>\n",
              "      <td>Commerce Signals, Cardlytics, Yodlee</td>\n",
              "    </tr>\n",
              "  </tbody>\n",
              "</table>\n",
              "</div>"
            ],
            "text/plain": [
              "   Unnamed: 0  ...                                        Competitors\n",
              "0           0  ...                                                 -1\n",
              "1           1  ...                                                 -1\n",
              "2           2  ...                                                 -1\n",
              "3           3  ...  Oak Ridge National Laboratory, National Renewa...\n",
              "4           4  ...               Commerce Signals, Cardlytics, Yodlee\n",
              "\n",
              "[5 rows x 15 columns]"
            ]
          },
          "metadata": {
            "tags": []
          },
          "execution_count": 4
        }
      ]
    },
    {
      "cell_type": "markdown",
      "metadata": {
        "id": "0gskIf1yF1xW"
      },
      "source": [
        "> Identificando o tamanho do dataset em relação a quantidade de linhas e colunas"
      ]
    },
    {
      "cell_type": "code",
      "metadata": {
        "id": "e0Cms7hvbDGZ",
        "outputId": "bb91e8e2-fbbf-4060-ac6a-7b571a1323f8",
        "colab": {
          "base_uri": "https://localhost:8080/"
        }
      },
      "source": [
        "#visualizando o número de linhas e colunas\n",
        "nlinhas, nColunas = df.shape\n",
        "print(f'Este Dataset possui {nlinhas} linhas e {nColunas} colunas')"
      ],
      "execution_count": 5,
      "outputs": [
        {
          "output_type": "stream",
          "text": [
            "Este Dataset possui 956 linhas e 15 colunas\n"
          ],
          "name": "stdout"
        }
      ]
    },
    {
      "cell_type": "markdown",
      "metadata": {
        "id": "O4vjI2gHF90a"
      },
      "source": [
        "> Conferir se as colunas conferem com a descrição inicial"
      ]
    },
    {
      "cell_type": "code",
      "metadata": {
        "id": "W08Erz6NbHA7",
        "outputId": "11fbb417-044a-461e-f081-7cf9fdc56234",
        "colab": {
          "base_uri": "https://localhost:8080/"
        }
      },
      "source": [
        "#visualizando nossas colunas\n",
        "df.columns.values"
      ],
      "execution_count": 6,
      "outputs": [
        {
          "output_type": "execute_result",
          "data": {
            "text/plain": [
              "array(['Unnamed: 0', 'Job Title', 'Salary Estimate', 'Job Description',\n",
              "       'Rating', 'Company Name', 'Location', 'Headquarters', 'Size',\n",
              "       'Founded', 'Type of ownership', 'Industry', 'Sector', 'Revenue',\n",
              "       'Competitors'], dtype=object)"
            ]
          },
          "metadata": {
            "tags": []
          },
          "execution_count": 6
        }
      ]
    },
    {
      "cell_type": "markdown",
      "metadata": {
        "id": "sV4UqUOB69qR"
      },
      "source": [
        "# Preparação dos dados"
      ]
    },
    {
      "cell_type": "markdown",
      "metadata": {
        "id": "mQxcHWas1J4X"
      },
      "source": [
        "Após a coleta de dados, é preciso organizá-los de forma a facilitar a exploração e modelagem. \n",
        "\n",
        "<br/>\n",
        "\n",
        "Durante essa etapa, alguns dos procedimentos que irei realizar:\n",
        "\n",
        "<br/>\n",
        "\n",
        "- Remoção de colunas e dados indesejados\n",
        "- Remoção de dados duplicados\n",
        "- Tratamento de dados ausentes\n",
        "- Ajustes dos tipos de dados ( datetime, floats, integers, strings , etc...)\n",
        "- Tratamento de Strings\n"
      ]
    },
    {
      "cell_type": "markdown",
      "metadata": {
        "id": "SUxCh7jdGXyH"
      },
      "source": [
        "\n",
        "\n",
        "---\n",
        "\n",
        "\n",
        "\n",
        "---\n",
        "\n"
      ]
    },
    {
      "cell_type": "markdown",
      "metadata": {
        "id": "hfDBZRg58egr"
      },
      "source": [
        "> Inicialmente, identifiquei quatro colunas que não influênciam na nossa análise e modelo e vou remover"
      ]
    },
    {
      "cell_type": "code",
      "metadata": {
        "id": "efMLVs4ILYKh"
      },
      "source": [
        "# Excluindo as colunas que não iremos utilizar.\n",
        "df.drop('Unnamed: 0', axis=1, inplace=True) # Coluna idêntica ao índice do próprio pandas. \n",
        "df.drop('Job Description', axis=1, inplace=True) # Não existe uma padrão que faça sentido a utilização dos dados.\n",
        "df.drop('Company Name', axis=1, inplace=True) # Dado não influência as principais variáveis que serão utilizadas.\n",
        "df.drop('Competitors', axis=1, inplace=True) # Não identificado que tipo de informação essa coluna apresenta."
      ],
      "execution_count": 7,
      "outputs": []
    },
    {
      "cell_type": "markdown",
      "metadata": {
        "id": "D-EgQk2mGleI"
      },
      "source": [
        "> Identifiquei que os dados faltantes foram alimentados com \"-1\"\n",
        "<br/>\n",
        "> Substitui para o padrão NaN ficando mais amigável e melhor manejar"
      ]
    },
    {
      "cell_type": "code",
      "metadata": {
        "id": "05g9aTfgPQR2"
      },
      "source": [
        "# Convertendo todos os valos \"-1\" para NaN\n",
        "df = df[['Job Title', 'Salary Estimate', 'Rating', 'Location',\t'Headquarters', 'Size',\t'Founded',\t'Type of ownership',\t'Industry',\t'Sector',\t'Revenue']].replace('-1', np.NAN)"
      ],
      "execution_count": 8,
      "outputs": []
    },
    {
      "cell_type": "markdown",
      "metadata": {
        "id": "Ft0EjsZyHavO"
      },
      "source": [
        "> Agora, vamos identificar quantos valores faltantes existem em cada coluna"
      ]
    },
    {
      "cell_type": "code",
      "metadata": {
        "id": "Mk4ctzJhMEWZ",
        "outputId": "944bdfe2-7243-4c56-8079-81e86d376c3c",
        "colab": {
          "base_uri": "https://localhost:8080/"
        }
      },
      "source": [
        "# Analisando a quantidade de vezes o NaN aparece em todo o dataset\n",
        "df.isnull().sum()"
      ],
      "execution_count": 9,
      "outputs": [
        {
          "output_type": "execute_result",
          "data": {
            "text/plain": [
              "Job Title              0\n",
              "Salary Estimate      214\n",
              "Rating                 0\n",
              "Location               0\n",
              "Headquarters          11\n",
              "Size                  11\n",
              "Founded                0\n",
              "Type of ownership     11\n",
              "Industry              39\n",
              "Sector                39\n",
              "Revenue               11\n",
              "dtype: int64"
            ]
          },
          "metadata": {
            "tags": []
          },
          "execution_count": 9
        }
      ]
    },
    {
      "cell_type": "markdown",
      "metadata": {
        "id": "H4vbz7ykHp-r"
      },
      "source": [
        "> Seguindo a ordem das colunas, identifiquei que não existe valores faltantes na coluna **Job Title** e o principal problema é a não padronização\n",
        "<br/>\n",
        "> Padronizei essa coluna com os cinco principais cargos identificados\n",
        "<br/>\n",
        "**(Data Scientist, Data Engineer, Data Analyst, Business Intelligence, Intern)**"
      ]
    },
    {
      "cell_type": "code",
      "metadata": {
        "id": "jQgIqX1QLlrv",
        "outputId": "91302d79-0722-4d4a-b7ad-dda0cd6031df",
        "colab": {
          "base_uri": "https://localhost:8080/"
        }
      },
      "source": [
        "# Padronizando a coluna \"Job Title\"\n",
        "df['Job Title'].replace(\n",
        "    to_replace=['Sr. Enterprise Account Exec- Data Science / ML - NYC','Senior Manager, Epidemiologic Data Scientist','Senior Risk Data Scientist','Senior Data Scientist 4 Artificial Intelligence','Senior Scientist Protein/Oligonucleotides','Senior Insurance Data Scientist','Senior Research Analytical Scientist-Non-Targeted Analysis','Senior Clinical Lab Scientist, Clinical Lab Svcs - FT/Nights (8hr)','Senior Director Biometrics and Clinical Data Management','Sr. Scientist - Digital & Image Analysis/Computational Pathology','Sr Software Engineer (Data Scientist)','Sr. Data Scientist - Analytics, Personalized Healthcare (PHC)','Senior Data Scientist Artificial Intelligence','Senior LiDAR Data Scientist','Senior Data & Machine Learning Scientist','Senior Scientist - Biostatistician','Senior Scientist - Biostatistician ','Senior Data Scientist Oncology','Senior Scientist - Neuroscience','Sr Scientist, Immuno-Oncology - Oncology','Sr Expert Data Science, Advanced Visual Analytics (Associate level)','Senior Scientist - Toxicologist - Product Integrity (Stewardship)','Senior Scientist, Cell Pharmacology/Assay Development','Data Scientist SR','Scientist/Senior Scientist, Autoimmune','Senior Scientist, Logic Gated CAR T Cell Therapy','Senior Data Scientist / Machine Learning','Senior Scientist (Neuroscience)','Sr. Data Scientist II','Senior Scientist - Regulatory Submissions','Sr. Scientist, Quantitative Translational Sciences','Senior Data Scientist - AI Forecasting, Finance team','Senior Data Scientist - Algorithms','Sr. Data Scientist','Sr Data Scientist','Data Scientist, Senior','Senior Data Scientist Statistics','Senior Data Scientist','Data Scientist Manager','Data Science Manager','Senior Formulations Scientist II',\n",
        "                'Jr. Data Scientist','Staff Data Scientist - Technology','Scientist, Immuno-Oncology','Machine Learning Research Scientist','Pricipal Scientist Molecular and cellular biologist','MED TECH/LAB SCIENTIST - LABORATORY','Associate Principal Scientist, Pharmacogenomics','Medical Lab Scientist - MLT','Quality Control Scientist','PL Actuarial-Lead Data Scientist','Customer Data Scientist','Data Scientist - Health Data Analytics','Scientist Manufacturing Pharma - Kentucky BioProcessing','Principal Scientist - Immunologist','Data Scientist / Machine Learning Expert','Medical Lab Scientist - MLT ','Data Scientist, Office of Data Science','Associate Director/Director, Safety Scientist','Principal Data Scientist with over 10 years experience','Staff Data Scientist','Digital Health Data Scientist','Data Scientist (Actuary, FSA or ASA)','Clinical Laboratory Scientist','Head Data Scientist – Image Analytics lead, Novartis AI Innovation Lab','UX Data Scientist (Python)','Principal Scientist, Hematology','Scientist - Analytical Services','Principal Data Scientist (Computational Chemistry)','Head Data Scientist – NLP lead, Novartis AI Innovation Lab','Data Scientist (Active TS SCI with Polygraph)','Managing Data Scientist/ML Engineer','Scientist, Bacteriology','Staff Scientist- Upstream PD','Scientist - Analytical Development - Pharmaceutics','RESEARCH COMPUTER SCIENTIST - RESEARCH ENGINEER - SR. COMPUTER SCIENTIST - SOFTWARE DEVELOPMENT','Principal Data Scientist (Computational Chemistry','Excel / VBA / SQL Data Analyst','Data Analytics Project Manager','College Hire - Data Scientist - Open to December 2019 Graduates','Scientist','Risk and Analytics IT, Data Scientist','Data Scientist in Artificial Intelligence Early Career','Scientist, Analytical Development','Director Data Science','Scientist, Product Development','Director II, Data Science - GRS Predictive Analytics','Scientist, Pharmacometrics','Data Scientist - Algorithms & Inference','Data Scientist - Systems Engineering','Associate Director, Platform and DevOps- Data Engineering and Aritifical Intelligence','Product Engineer – Spatial Data Science and Statistical Analysis','Senior Imagery Scientist - SAR TO 11 #78 (TS/SCI)','Associate Machine Learning Engineer / Data Scientist May 2020 Undergrad','Scientist Manufacturing - Kentucky BioProcessing','Machine Learning Engineer - Regulatory','Research Scientist – Security and Privacy','Technology-Minded, Data Professional Opportunities','Associate Environmental Scientist - Wildlife Biologist','Sr. Scientist Method Development','Research Scientist – Security and Privacy ','Computational Chemist/Data Scientist','Scientist, Upstream Process Development (Bioreactors)','Scientist - Biomarker and Flow Cytometry','Medical Lab Scientist','Principal, Data Science - Advanced Analytics','Principal Scientist, Chemistry & Immunology','Associate, Data Science, Internal Audit','Clinical Data Scientist','Scientist – Cancer Drug Discovery','Project Scientist - Auton Lab, Robotics Institute','PV Scientist','Staff Machine Learning Scientist, AI Foundation','Geospatial Software Developer and Data Scientist','Data Scientist - Quantitative','Front-End, Back-End, Fullstack Developers & Data Scientist / Researchers - Cleared OR CLEARABLE (Up to 25% Profit Sharing Benefit!)','VP, Data Science','Deep Learning/Computer Vision Scientist','Product Engineer – Data Science','Data Science Project Manager','Chief Scientist - Emerging Technology Center','Lab Head, Principle Scientist, Dupixent/Type 2 Inflammation & Fibrosis - Cambridge, MA','Data Systems Specialist 2','RESEARCH SCIENTIST - BIOLOGICAL SAFETY','Environmental Scientist','Data Scientist - Research','Clinical Document Review Scientist','R&D Sr Data Scientist','Associate Scientist/Scientist, Process Analytical Technology - Small Molecule Analytical Chemistry','Data Scientist - Alpha Insights','Chief Data Scientist','Scientist - CVRM Metabolism - in vivo pharmacology','Real World Evidence (RWE) Scientist','Data Scientist, Rice University','Clinical Data Manager','Director, Data Science','Sr. Scientist, Toxicology','Scientist 2, QC Viral Vector','Clinical Scientist, Clinical Development','Data Scientist - Consultant - National','Scientist, Molecular/Cellular Biologist','Research Scientist, Machine Learning Department','Healthcare Data Scientist','Research Scientist, Immunology - Cancer Biology','Senior Data Scientist – Visualization, Novartis AI Innovation Lab','Machine Learning Scientist','Senior Research Scientist - Embedded System Development for DevOps','Senior Quantitative Analyst','Process Development Scientist','Project Scientist','Chief Data Officer','Associate Scientist','Data Scientist Analyst','Manager of Data Science','Senior Scientist - Bioanalytical','Director, Precision Medicine Clinical Biomarker Scientist','Senior Data Scientist - R&D Oncology','Associate Scientist ','Senior Machine Learning (ML) Engineer / Data Scientist - Cyber Security Analytics','Customer Data Scientist/Sales Engineer','Data Scientist/ML Engineer','Associate Scientist, LC/MS Biologics','R&D Data Analysis Scientist','Data Scientist - Sales','Data Management Specialist','Senior Research Statistician- Data Scientist','Senior Spark Engineer (Data Science)','Pharmacovigilance Scientist (Senior Pharmacovigilance)','Data Scientist II','Data Scientist (Warehouse Automation)','Medical Laboratory Scientist','Medical Technologist / Clinical Laboratory Scientist','Food Scientist - Developer','Insurance Data Scientist','Research Scientist','Research Scientist / Principal Research Scientist - Multiphysical Systems','Sr. Data Scientist, Cyber-Security LT Contract','Senior Research Scientist-Machine Learning','Data Scientists','Assistant Director/Director, Office of Data Science','Associate Scientist / Sr. Associate Scientist, Antibody Discovery','Scientist, Stem Cells and Genomics','Sr. Manager, Data Science - Marketing Mix Media','Business Development - Data Supply Partnerships (Veraset)','Data Scientist in Translational Medicine','Customer Data Scientist/Sales Engineer (Bay','Environmental Data Specialist','Head Data Scientist, Predictive Analytics Lead AI Innovation Lab','R&D Specialist/ Food Scientist','MED TECH/LAB SCIENTIST- SOUTH COASTAL LAB','Associate Research Scientist I (Protein Expression and Production)','Product Manager/Data Evangelist','Ag Data Scientist','Staff Scientist-Downstream Process Development','Principal Data Scientist','Lead Data Scientist','Machine Learning Engineer (NLP)','Associate Data Scientist/Computer Scientist','Staff Scientist','Senior Data Scientist: Causal & Predictive analytics AI Innovation Lab','Research Scientist or Senior Research Scientist - Computer Vision','Quality Control Scientist III- Analytical Development','Scientist I/II, Biology ', 'Scientist – Cancer Discovery, Molecular Assay', 'Principal Research Scientist/Team Lead, Medicinal Chemistry - Oncology', 'Principal Machine Learning Scientist', 'Manager, Safety Scientist, Medical Safety & Risk Management', 'Scientist I/II, Biology', 'Data Scientist - Bioinformatics', 'Senior Analytical Scientist', 'Tech Manager, Software Engineering - Data', 'Scientist, Biomarker Science', 'Sr. Scientist II' ],\n",
        "    value='Data Scientist',\n",
        "    inplace=True\n",
        ")\n",
        "\n",
        "df['Job Title'].replace(\n",
        "    to_replace=['Sr Data Engineer (Sr BI Developer)','Sr. Microsoft Data Engineer','Sr. Data Engineer (ETL Developer)','Senior Data Science Systems Engineer','Sr. BI Data Engineer III','Senior Data Engineer','Sr. Data Engineer','Sr. Data Engineer - Contract-to-Hire (Java)',\n",
        "                'Data Modeler - Data Solutions Engineer','Enterprise Architect, Data','IT - Data Engineer II','Staff Data Engineer','Director II, Data Science - GRM Actuarial','Data Science Engineer - Mobile','Director - Data, Privacy and AI Governance','Staff Machine Learning Engineer','Associate Data Engineer','Staff BI and Data Engineer','Data Engineer 5 - Contract (Remote)','AWS Data Engineer','Lead Big Data Engineer','Data Engineer - Consultant (Charlotte Based)','Lead Data Engineer (Python)','Data Engineer 4 - Contract (Remote)','Data Engineer, Data Engineering and Artifical Intelligence','Software Data Engineer - College','Data Engineer I','ENVIRONMENTAL ENGINEER/SCIENTIST','Data Modeler','Data Engineering Analyst','Software Engineer (Data Scientist/Software Engineer) - SISW - MG','Data Engineer 4 - Contract','Principal Data Engineer, Data Platform & Insights','Software Engineer - Data Visualization','Data Modeler (Analytical Systems)','Data Platform Engineer','Data Operations Lead','Data Architect / Data Modeler','Data Engineer - ETL','MongoDB Data Engineer II','Big Data Engineer','SQL Data Engineer','Software Engineer Staff Scientist: Human Language Technologies','Data Engineer 5 - Contract','Spectral Scientist/Engineer','Data Engineer with R','Lead Data Engineer','Machine Learning Engineer','Weapons and Sensors Engineer/Scientist – Entry Level','Postdoc Scientist - T cell engineering','Data Engineer I - Azure','Sr. Data Engineer | Big Data SaaS Pipeline','Big Data Engineer - Chicago - Future Opportunity'],\n",
        "    value='Data Engineer',\n",
        "    inplace=True\n",
        ")\n",
        "\n",
        "df['Job Title'].replace(\n",
        "    to_replace=['Data Analyst Senior','Sr Data Analyst - IT','Sr. Data Analyst','Senior Data Analyst/Scientist','Jr. Business Data Analyst','Junior Data Analyst','Data Analytics Manager','Senior Data Analyst',\n",
        "                'Marketing Data Analyst, May 2020 Undergrad','Data Science Analyst','Associate Data Analyst','Advanced Analytics Manager','Data Analyst 1, full-time contract worker for up to 12 months','Market Data Analyst','Market Data Analyst ','IT Associate Data Analyst','Corporate Risk Data Analyst (SQL Based) - Milwaukee or','Information Security Data Analyst','Clinical Data Analyst','Products Data Analyst II','Data Analytics Project Manager ','Lead Data Analyst','Digital Marketing & ECommerce Data Analyst','Salesforce Analytics Consultant','Senior Operations Data Analyst, Call Center Operations','Diversity and Inclusion Data Analyst','Systems Engineer II - Data Analyst','Radar Data Analyst','Associate Data Analyst- Graduate Development Program','Analytics - Business Assurance Data Analyst','Business Data Analyst','Data Analyst 2 (Missionary Department)','ATL - Data & Analytics (DA)','Revenue Analytics Manager','Supply Chain Data Analyst','System and Data Analyst','CONSULTANT– DATA ANALYTICS GROUP','Foundational Community Supports Data Analyst','Consultant - Analytics Consulting','Analytics Consultant','Business Data Analyst, SQL','Health Data Analyst/Developer','Financial Data Analyst','Data Analyst II','Web Data Analyst','MSP - Data & Analytics (DA)','Program/Data Analyst','CONSULTANT– DATA ANALYTICS GROUP ','Data Analyst / Scientist','Senior Engineer, Data Management Engineering','Data Analyst 2 (Missionary Department) ','Senior Health Data Analyst, Star Ratings','Data Analyst Level III','Data Analyst Level III ','Data Analyst - Asset Management','Data Analyst, Performance Partnership','Survey Data Analyst','Analytics Manager - Data Mart','Data Analyst Chemist - Quality System Contractor','Analytics Manager','Marketing Data Analyst','Data & Analytics Consultant (NYC)','E-Commerce Data Analyst','Insurance Financial Data Analyst','Lead Health Data Analyst - Front End'],\n",
        "    value='Data Analyst',\n",
        "    inplace=True\n",
        ")\n",
        "\n",
        "df['Job Title'].replace(\n",
        "    to_replace=['BI & Platform Analytics Manager','Business Intelligence Analyst / Developer','Business Intelligence Analyst'],\n",
        "    value='Business Intelligence',\n",
        "    inplace=True\n",
        ")\n",
        "\n",
        "df['Job Title'].replace(\n",
        "    to_replace=['Data Engineer Intern','Data Science Intern'],\n",
        "    value='Intern',\n",
        "    inplace=True\n",
        ")\n",
        "\n",
        "df['Job Title'].value_counts()"
      ],
      "execution_count": 10,
      "outputs": [
        {
          "output_type": "execute_result",
          "data": {
            "text/plain": [
              "Data Scientist           612\n",
              "Data Engineer            193\n",
              "Data Analyst             133\n",
              "Business Intelligence     16\n",
              "Intern                     2\n",
              "Name: Job Title, dtype: int64"
            ]
          },
          "metadata": {
            "tags": []
          },
          "execution_count": 10
        }
      ]
    },
    {
      "cell_type": "markdown",
      "metadata": {
        "id": "EBaIB8yBJHjS"
      },
      "source": [
        "> Segunda coluna. Coluna que traz informações númericas mas que esta bastante poluída com strings\n",
        "<br/>\n",
        "> Passo a passo:\n",
        "- Transformar a coluna inicial em duas colunas(**Valor Mínimo,Valor Máximo)**;\n",
        "- Excluir a coluna inicial**(Salary Estimate)**;\n",
        "- Excluir os salários que não foram divulgados anualmente;\n",
        "- Limpar as strings;\n",
        "- Mudar o tipo das novas colunas;\n",
        "- Converter o valor para milhares;\n",
        "- Alimentar os valores faltantes com a mediana de cada coluna. "
      ]
    },
    {
      "cell_type": "code",
      "metadata": {
        "id": "VpYQ0_paOQxi"
      },
      "source": [
        "# Transformando a coluna 'Salary Estimate' em duas colunas 'Valor Mínimo','Valor Máximo'\n",
        "df[['Valor Mínimo','Valor Máximo']] = df['Salary Estimate'].str.split('-', expand=True)"
      ],
      "execution_count": 11,
      "outputs": []
    },
    {
      "cell_type": "code",
      "metadata": {
        "id": "huWIJQ8nLAZE"
      },
      "source": [
        "# Excluindo a coluna 'Salary Estimate'\n",
        "df.drop('Salary Estimate', axis=1, inplace=True)"
      ],
      "execution_count": null,
      "outputs": []
    },
    {
      "cell_type": "code",
      "metadata": {
        "id": "BnOjZ84rUtt-"
      },
      "source": [
        "# Criando uma lista com o indíce dos salários divulgados por hora.\n",
        "lista_indice = [197, 209, 240, 247, 257, 307, 337, 427, 437, 456, 464, 522, 523, 632, 652, 682, 694, 786, 787, 823, 854, 875, 919, 936]\n",
        "\n",
        "# Excluindo esses indices\n",
        "df = df.drop(lista_indice) "
      ],
      "execution_count": 12,
      "outputs": []
    },
    {
      "cell_type": "code",
      "metadata": {
        "id": "WLDjROsJQfz3"
      },
      "source": [
        "# Limpando as colunas 'Valor Mínimo','Valor Máximo'\n",
        "df['Valor Mínimo'] = df['Valor Mínimo'].str.replace('K','')\n",
        "df['Valor Máximo'] = df['Valor Máximo'].str.replace('K','')\n",
        "df['Valor Mínimo'] = df['Valor Mínimo'].str.replace('$','')\n",
        "df['Valor Máximo'] = df['Valor Máximo'].str.replace('$','')\n",
        "df['Valor Máximo'] = df['Valor Máximo'].str.replace('Glassdoor est.','')\n",
        "df['Valor Máximo'] = df['Valor Máximo'].str.replace('(','')\n",
        "df['Valor Máximo'] = df['Valor Máximo'].str.replace(')','')\n",
        "df['Valor Máximo'] = df['Valor Máximo'].str.replace('Employer est.','')\n",
        "df['Valor Mínimo'] = df['Valor Mínimo'].str.replace('Employer Provided Salary:','')"
      ],
      "execution_count": 13,
      "outputs": []
    },
    {
      "cell_type": "code",
      "metadata": {
        "id": "C_lKBPC9K1JB"
      },
      "source": [
        "# Mudando o type das colunas 'Valor Mínimo','Valor Máximo'\n",
        "df['Valor Máximo'] = df['Valor Máximo'].astype(float)\n",
        "df['Valor Mínimo'] = df['Valor Mínimo'].astype(float)"
      ],
      "execution_count": 14,
      "outputs": []
    },
    {
      "cell_type": "code",
      "metadata": {
        "id": "EdcultncK3bI"
      },
      "source": [
        "# Convertendo para milhares\n",
        "df['Valor Máximo'] = df['Valor Máximo'].multiply(1000)\n",
        "df['Valor Mínimo'] = df['Valor Mínimo'].multiply(1000)"
      ],
      "execution_count": 15,
      "outputs": []
    },
    {
      "cell_type": "code",
      "metadata": {
        "id": "FspUlErDK6Ur"
      },
      "source": [
        "# Preenchendo os valores vazios com a mediana\n",
        "df['Valor Máximo'] = df['Valor Máximo'].fillna(df['Valor Máximo'].median())\n",
        "df['Valor Mínimo'] = df['Valor Mínimo'].fillna(df['Valor Mínimo'].median())"
      ],
      "execution_count": 16,
      "outputs": []
    },
    {
      "cell_type": "markdown",
      "metadata": {
        "id": "J1kvfvlxLHuN"
      },
      "source": [
        "> A coluna **Revenue** já possuia um padrão para dados não divulgados serem preenchidos como **Unknown / Non-Applicable**\n",
        "<br/>\n",
        "> Para preencher os valores faltantes segui o padrão identificado"
      ]
    },
    {
      "cell_type": "code",
      "metadata": {
        "id": "UJvejYk50E6Q"
      },
      "source": [
        "# Substituindo os valores vazios por Unknown / Non-Applicable\n",
        "df['Revenue'] = df['Revenue'].fillna('Unknown / Non-Applicable')"
      ],
      "execution_count": 17,
      "outputs": []
    },
    {
      "cell_type": "markdown",
      "metadata": {
        "id": "2KWmHVxPMg59"
      },
      "source": [
        "> A coluna **Size** já possuia um padrão para dados não divulgados serem preenchidos como **Unknown**\n",
        "<br/>\n",
        "> Para preencher os valores faltantes segui o padrão identificado"
      ]
    },
    {
      "cell_type": "code",
      "metadata": {
        "id": "CFr5D2AGLoOJ"
      },
      "source": [
        "# Substituindo os valores vazios por Unknown\n",
        "df['Size'] = df['Size'].fillna('Unknown')"
      ],
      "execution_count": 18,
      "outputs": []
    },
    {
      "cell_type": "markdown",
      "metadata": {
        "id": "2DsaqZlXMnfv"
      },
      "source": [
        "> A coluna **Type of ownership** já possuia um padrão para dados não divulgados serem preenchidos como **Unknown**\n",
        "<br/>\n",
        "> Para preencher os valores faltantes segui o padrão identificado"
      ]
    },
    {
      "cell_type": "code",
      "metadata": {
        "id": "UV4hIaedLn7d"
      },
      "source": [
        "# Substituindo  os valores vazios por Unknown\n",
        "df['Type of ownership'] = df['Type of ownership'].fillna('Unknown')"
      ],
      "execution_count": 19,
      "outputs": []
    },
    {
      "cell_type": "markdown",
      "metadata": {
        "id": "albuRB0XMwqP"
      },
      "source": [
        "> A coluna **Sector** já possuia um padrão para dados não divulgados serem preenchidos como **Unknown**\n",
        "<br/>\n",
        "> Para preencher os valores faltantes segui o padrão identificado"
      ]
    },
    {
      "cell_type": "code",
      "metadata": {
        "id": "XaWkttiCLnnC"
      },
      "source": [
        "# Substituindo  os valores vazios por Unknown\n",
        "df['Sector'] = df['Sector'].fillna('Unknown')"
      ],
      "execution_count": 20,
      "outputs": []
    },
    {
      "cell_type": "markdown",
      "metadata": {
        "id": "HW0Q1kQtM0Mg"
      },
      "source": [
        "> A coluna **Industry** já possuia um padrão para dados não divulgados serem preenchidos como **Unknown**\n",
        "<br/>\n",
        "> Para preencher os valores faltantes segui o padrão identificado"
      ]
    },
    {
      "cell_type": "code",
      "metadata": {
        "id": "Rx0aehu7LnRu"
      },
      "source": [
        "# Substituindo  os valores vazios por Unknown\n",
        "df['Industry'] = df['Industry'].fillna('Unknown')"
      ],
      "execution_count": 21,
      "outputs": []
    },
    {
      "cell_type": "markdown",
      "metadata": {
        "id": "JJ1EhUdNM4H7"
      },
      "source": [
        "> A coluna **Headquarters** já possuia um padrão para dados não divulgados serem preenchidos como **Unknown**\n",
        "<br/>\n",
        "> Para preencher os valores faltantes segui o padrão identificado"
      ]
    },
    {
      "cell_type": "code",
      "metadata": {
        "id": "KzyqkaovLm-C"
      },
      "source": [
        "# Substituindo  os valores vazios por Unknown\n",
        "df['Headquarters'] = df['Headquarters'].fillna('Unknown')"
      ],
      "execution_count": 22,
      "outputs": []
    },
    {
      "cell_type": "markdown",
      "metadata": {
        "id": "VGw_g3STNBkp"
      },
      "source": [
        ""
      ]
    },
    {
      "cell_type": "code",
      "metadata": {
        "id": "ZXSux1ivLmq4"
      },
      "source": [
        "# Transformando a coluna 'Headquarters' em duas colunas 'Cidade','Pais'\n",
        "df[['Cidade_HQ','Pais_HQ']] = df['Headquarters'].str.split(',', expand=True)\n",
        "\n",
        "# Substituindo  os valores vazios por Unknown\n",
        "df['Pais_HQ'] = df['Pais_HQ'].fillna('Unknown')\n",
        "\n",
        "# Transformando em paises\n",
        "df[\"Pais_HQ\"].replace(\n",
        "    to_replace=[' CA', ' MD', ' FL', ' WA', ' NY', ' TX', ' VA', ' AR',\n",
        "       ' NJ', ' MA', ' CO', ' ID', ' GA', ' MI', ' IL', ' CT', ' NE', ' AL', ' MO', ' RI',\n",
        "       ' OH', ' PA', ' LA', ' DC', ' MN', ' AZ',' IN', ' SC', ' UT', ' TN', ' WI',\n",
        "       ' AK', ' NV', ' IA', ' NC',' OR', ' PR'],\n",
        "    value='USA',\n",
        "    inplace=True\n",
        ")\n",
        "\n",
        "\n",
        "\n",
        "# Excluindo a coluna 'Headquarters' porque ela foi dividida em duas colunas\n",
        "df.drop('Headquarters', axis=1, inplace=True)"
      ],
      "execution_count": null,
      "outputs": []
    },
    {
      "cell_type": "code",
      "metadata": {
        "id": "zpHin9PWdH-v",
        "outputId": "b983604d-8bac-4d9e-d599-c5945a323a89",
        "colab": {
          "base_uri": "https://localhost:8080/",
          "height": 306
        }
      },
      "source": [
        "# Visualisando as primeiras 5 linhas do dataset \n",
        "df.head()"
      ],
      "execution_count": null,
      "outputs": [
        {
          "output_type": "execute_result",
          "data": {
            "text/html": [
              "<div>\n",
              "<style scoped>\n",
              "    .dataframe tbody tr th:only-of-type {\n",
              "        vertical-align: middle;\n",
              "    }\n",
              "\n",
              "    .dataframe tbody tr th {\n",
              "        vertical-align: top;\n",
              "    }\n",
              "\n",
              "    .dataframe thead th {\n",
              "        text-align: right;\n",
              "    }\n",
              "</style>\n",
              "<table border=\"1\" class=\"dataframe\">\n",
              "  <thead>\n",
              "    <tr style=\"text-align: right;\">\n",
              "      <th></th>\n",
              "      <th>Job Title</th>\n",
              "      <th>Rating</th>\n",
              "      <th>Location</th>\n",
              "      <th>Size</th>\n",
              "      <th>Founded</th>\n",
              "      <th>Type of ownership</th>\n",
              "      <th>Industry</th>\n",
              "      <th>Sector</th>\n",
              "      <th>Revenue</th>\n",
              "      <th>Valor Mínimo</th>\n",
              "      <th>Valor Máximo</th>\n",
              "      <th>Cidade_HQ</th>\n",
              "      <th>Pais_HQ</th>\n",
              "    </tr>\n",
              "  </thead>\n",
              "  <tbody>\n",
              "    <tr>\n",
              "      <th>0</th>\n",
              "      <td>Data Scientist</td>\n",
              "      <td>3.8</td>\n",
              "      <td>Albuquerque, NM</td>\n",
              "      <td>501 to 1000 employees</td>\n",
              "      <td>1973</td>\n",
              "      <td>Company - Private</td>\n",
              "      <td>Aerospace &amp; Defense</td>\n",
              "      <td>Aerospace &amp; Defense</td>\n",
              "      <td>$50 to $100 million (USD)</td>\n",
              "      <td>53000.0</td>\n",
              "      <td>91000.0</td>\n",
              "      <td>Goleta</td>\n",
              "      <td>USA</td>\n",
              "    </tr>\n",
              "    <tr>\n",
              "      <th>1</th>\n",
              "      <td>Data Scientist</td>\n",
              "      <td>3.4</td>\n",
              "      <td>Linthicum, MD</td>\n",
              "      <td>10000+ employees</td>\n",
              "      <td>1984</td>\n",
              "      <td>Other Organization</td>\n",
              "      <td>Health Care Services &amp; Hospitals</td>\n",
              "      <td>Health Care</td>\n",
              "      <td>$2 to $5 billion (USD)</td>\n",
              "      <td>63000.0</td>\n",
              "      <td>112000.0</td>\n",
              "      <td>Baltimore</td>\n",
              "      <td>USA</td>\n",
              "    </tr>\n",
              "    <tr>\n",
              "      <th>2</th>\n",
              "      <td>Data Scientist</td>\n",
              "      <td>4.8</td>\n",
              "      <td>Clearwater, FL</td>\n",
              "      <td>501 to 1000 employees</td>\n",
              "      <td>2010</td>\n",
              "      <td>Company - Private</td>\n",
              "      <td>Security Services</td>\n",
              "      <td>Business Services</td>\n",
              "      <td>$100 to $500 million (USD)</td>\n",
              "      <td>80000.0</td>\n",
              "      <td>90000.0</td>\n",
              "      <td>Clearwater</td>\n",
              "      <td>USA</td>\n",
              "    </tr>\n",
              "    <tr>\n",
              "      <th>3</th>\n",
              "      <td>Data Scientist</td>\n",
              "      <td>3.8</td>\n",
              "      <td>Richland, WA</td>\n",
              "      <td>1001 to 5000 employees</td>\n",
              "      <td>1965</td>\n",
              "      <td>Government</td>\n",
              "      <td>Energy</td>\n",
              "      <td>Oil, Gas, Energy &amp; Utilities</td>\n",
              "      <td>$500 million to $1 billion (USD)</td>\n",
              "      <td>56000.0</td>\n",
              "      <td>97000.0</td>\n",
              "      <td>Richland</td>\n",
              "      <td>USA</td>\n",
              "    </tr>\n",
              "    <tr>\n",
              "      <th>4</th>\n",
              "      <td>Data Scientist</td>\n",
              "      <td>2.9</td>\n",
              "      <td>New York, NY</td>\n",
              "      <td>51 to 200 employees</td>\n",
              "      <td>1998</td>\n",
              "      <td>Company - Private</td>\n",
              "      <td>Advertising &amp; Marketing</td>\n",
              "      <td>Business Services</td>\n",
              "      <td>Unknown / Non-Applicable</td>\n",
              "      <td>86000.0</td>\n",
              "      <td>143000.0</td>\n",
              "      <td>New York</td>\n",
              "      <td>USA</td>\n",
              "    </tr>\n",
              "  </tbody>\n",
              "</table>\n",
              "</div>"
            ],
            "text/plain": [
              "        Job Title  Rating         Location  ... Valor Máximo   Cidade_HQ Pais_HQ\n",
              "0  Data Scientist     3.8  Albuquerque, NM  ...      91000.0      Goleta     USA\n",
              "1  Data Scientist     3.4    Linthicum, MD  ...     112000.0   Baltimore     USA\n",
              "2  Data Scientist     4.8   Clearwater, FL  ...      90000.0  Clearwater     USA\n",
              "3  Data Scientist     3.8     Richland, WA  ...      97000.0    Richland     USA\n",
              "4  Data Scientist     2.9     New York, NY  ...     143000.0    New York     USA\n",
              "\n",
              "[5 rows x 13 columns]"
            ]
          },
          "metadata": {
            "tags": []
          },
          "execution_count": 16
        }
      ]
    },
    {
      "cell_type": "code",
      "metadata": {
        "id": "eml3URSl02Xc",
        "outputId": "57860e01-88b9-4615-cb86-378420184a8c",
        "colab": {
          "base_uri": "https://localhost:8080/"
        }
      },
      "source": [
        "# Analisando a quantidade de vezes o NaN aparece em todo o dataset\n",
        "df.isnull().sum()"
      ],
      "execution_count": null,
      "outputs": [
        {
          "output_type": "execute_result",
          "data": {
            "text/plain": [
              "Job Title            0\n",
              "Rating               0\n",
              "Location             0\n",
              "Size                 0\n",
              "Founded              0\n",
              "Type of ownership    0\n",
              "Industry             0\n",
              "Sector               0\n",
              "Revenue              0\n",
              "Valor Mínimo         0\n",
              "Valor Máximo         0\n",
              "Cidade_HQ            0\n",
              "Pais_HQ              0\n",
              "dtype: int64"
            ]
          },
          "metadata": {
            "tags": []
          },
          "execution_count": 17
        }
      ]
    },
    {
      "cell_type": "code",
      "metadata": {
        "id": "xMFIVjDt1mjV",
        "outputId": "02b94ebd-b599-4372-9fd1-5445da28ad64",
        "colab": {
          "base_uri": "https://localhost:8080/"
        }
      },
      "source": [
        "# Verificando se todas as colunas estão com a mesma quantidade de valores\n",
        "df.info()"
      ],
      "execution_count": null,
      "outputs": [
        {
          "output_type": "stream",
          "text": [
            "<class 'pandas.core.frame.DataFrame'>\n",
            "Int64Index: 932 entries, 0 to 955\n",
            "Data columns (total 13 columns):\n",
            " #   Column             Non-Null Count  Dtype  \n",
            "---  ------             --------------  -----  \n",
            " 0   Job Title          932 non-null    object \n",
            " 1   Rating             932 non-null    float64\n",
            " 2   Location           932 non-null    object \n",
            " 3   Size               932 non-null    object \n",
            " 4   Founded            932 non-null    int64  \n",
            " 5   Type of ownership  932 non-null    object \n",
            " 6   Industry           932 non-null    object \n",
            " 7   Sector             932 non-null    object \n",
            " 8   Revenue            932 non-null    object \n",
            " 9   Valor Mínimo       932 non-null    float64\n",
            " 10  Valor Máximo       932 non-null    float64\n",
            " 11  Cidade_HQ          932 non-null    object \n",
            " 12  Pais_HQ            932 non-null    object \n",
            "dtypes: float64(3), int64(1), object(9)\n",
            "memory usage: 101.9+ KB\n"
          ],
          "name": "stdout"
        }
      ]
    },
    {
      "cell_type": "markdown",
      "metadata": {
        "id": "YmPpNPJS12H7"
      },
      "source": [
        "# IV - Análise exploratória"
      ]
    },
    {
      "cell_type": "markdown",
      "metadata": {
        "id": "m4OID8Bd1Q7P"
      },
      "source": [
        "Após preparar os dados, precisamos entendê-los.\n",
        "\n",
        "<br/>\n",
        "\n",
        "Para isso, será utilizado procedimentos de estatística descritiva.\n",
        "\n",
        "<br/>\n",
        "\n",
        "- Verificar medidas de tendência central e de dispersão de variáveis que você\n",
        "julgar importantes para a resolução do problema proposto.\n",
        "\n",
        "<br/>\n",
        "\n",
        "- Verificar a existência de correlações entre variáveis.\n",
        "\n",
        "<br/>\n",
        "\n",
        "- Verificar a distribuição dos dados através da plotagem de histogramas ou mesmo da aplicação de testes estatísticos com essa finalidade.\n",
        "\n",
        "<br/>\n",
        "\n",
        "- Gerar visualizações como gráficos de barras, gráfico de setores, histogramas, boxplots, gráficos de linha (sequência), etc...\n"
      ]
    },
    {
      "cell_type": "code",
      "metadata": {
        "id": "RnJ4ydFjWtIE",
        "outputId": "0264716d-e152-4a4c-d9e4-720e641be086",
        "colab": {
          "base_uri": "https://localhost:8080/"
        }
      },
      "source": [
        "# Analisando o maior e menor salário independente da função.\n",
        "print('O maior salário é $ {}  e o menor salário é $ {}'.format(df['Valor Máximo'].max(), df['Valor Mínimo'].min() ))"
      ],
      "execution_count": null,
      "outputs": [
        {
          "output_type": "stream",
          "text": [
            "O maior salário é $ 306000.0  e o menor salário é $ 15000.0\n"
          ],
          "name": "stdout"
        }
      ]
    },
    {
      "cell_type": "code",
      "metadata": {
        "id": "ppu_EpvL1AEN",
        "outputId": "4bba11ab-2b93-4316-f19a-6dccd44789e5",
        "colab": {
          "base_uri": "https://localhost:8080/",
          "height": 388
        }
      },
      "source": [
        "# Analisando max e min por Job Title\n",
        "df.groupby('Job Title')['Valor Mínimo', 'Valor Máximo'].agg(['max', 'min'])\n"
      ],
      "execution_count": null,
      "outputs": [
        {
          "output_type": "stream",
          "text": [
            "/usr/local/lib/python3.6/dist-packages/ipykernel_launcher.py:2: FutureWarning: Indexing with multiple keys (implicitly converted to a tuple of keys) will be deprecated, use a list instead.\n",
            "  \n"
          ],
          "name": "stderr"
        },
        {
          "output_type": "execute_result",
          "data": {
            "text/html": [
              "<div>\n",
              "<style scoped>\n",
              "    .dataframe tbody tr th:only-of-type {\n",
              "        vertical-align: middle;\n",
              "    }\n",
              "\n",
              "    .dataframe tbody tr th {\n",
              "        vertical-align: top;\n",
              "    }\n",
              "\n",
              "    .dataframe thead tr th {\n",
              "        text-align: left;\n",
              "    }\n",
              "\n",
              "    .dataframe thead tr:last-of-type th {\n",
              "        text-align: right;\n",
              "    }\n",
              "</style>\n",
              "<table border=\"1\" class=\"dataframe\">\n",
              "  <thead>\n",
              "    <tr>\n",
              "      <th></th>\n",
              "      <th colspan=\"2\" halign=\"left\">Valor Mínimo</th>\n",
              "      <th colspan=\"2\" halign=\"left\">Valor Máximo</th>\n",
              "    </tr>\n",
              "    <tr>\n",
              "      <th></th>\n",
              "      <th>max</th>\n",
              "      <th>min</th>\n",
              "      <th>max</th>\n",
              "      <th>min</th>\n",
              "    </tr>\n",
              "    <tr>\n",
              "      <th>Job Title</th>\n",
              "      <th></th>\n",
              "      <th></th>\n",
              "      <th></th>\n",
              "      <th></th>\n",
              "    </tr>\n",
              "  </thead>\n",
              "  <tbody>\n",
              "    <tr>\n",
              "      <th>Business Intelligence</th>\n",
              "      <td>85000.0</td>\n",
              "      <td>53000.0</td>\n",
              "      <td>134000.0</td>\n",
              "      <td>105000.0</td>\n",
              "    </tr>\n",
              "    <tr>\n",
              "      <th>Data Analyst</th>\n",
              "      <td>99000.0</td>\n",
              "      <td>20000.0</td>\n",
              "      <td>178000.0</td>\n",
              "      <td>39000.0</td>\n",
              "    </tr>\n",
              "    <tr>\n",
              "      <th>Data Engineer</th>\n",
              "      <td>202000.0</td>\n",
              "      <td>37000.0</td>\n",
              "      <td>306000.0</td>\n",
              "      <td>66000.0</td>\n",
              "    </tr>\n",
              "    <tr>\n",
              "      <th>Data Scientist</th>\n",
              "      <td>200000.0</td>\n",
              "      <td>15000.0</td>\n",
              "      <td>289000.0</td>\n",
              "      <td>16000.0</td>\n",
              "    </tr>\n",
              "    <tr>\n",
              "      <th>Intern</th>\n",
              "      <td>71000.0</td>\n",
              "      <td>71000.0</td>\n",
              "      <td>126000.0</td>\n",
              "      <td>126000.0</td>\n",
              "    </tr>\n",
              "  </tbody>\n",
              "</table>\n",
              "</div>"
            ],
            "text/plain": [
              "                      Valor Mínimo          Valor Máximo          \n",
              "                               max      min          max       min\n",
              "Job Title                                                         \n",
              "Business Intelligence      85000.0  53000.0     134000.0  105000.0\n",
              "Data Analyst               99000.0  20000.0     178000.0   39000.0\n",
              "Data Engineer             202000.0  37000.0     306000.0   66000.0\n",
              "Data Scientist            200000.0  15000.0     289000.0   16000.0\n",
              "Intern                     71000.0  71000.0     126000.0  126000.0"
            ]
          },
          "metadata": {
            "tags": []
          },
          "execution_count": 21
        }
      ]
    },
    {
      "cell_type": "code",
      "metadata": {
        "id": "xcDQxhRnAFgm",
        "outputId": "537f3b39-c548-4db6-ba92-857dda9f141e",
        "colab": {
          "base_uri": "https://localhost:8080/",
          "height": 1000
        }
      },
      "source": [
        "# Analisando a média por Job Title e Size\n",
        "df.groupby(['Job Title', 'Size'])['Valor Mínimo', 'Valor Máximo'].mean()"
      ],
      "execution_count": null,
      "outputs": [
        {
          "output_type": "stream",
          "text": [
            "/usr/local/lib/python3.6/dist-packages/ipykernel_launcher.py:2: FutureWarning: Indexing with multiple keys (implicitly converted to a tuple of keys) will be deprecated, use a list instead.\n",
            "  \n"
          ],
          "name": "stderr"
        },
        {
          "output_type": "execute_result",
          "data": {
            "text/html": [
              "<div>\n",
              "<style scoped>\n",
              "    .dataframe tbody tr th:only-of-type {\n",
              "        vertical-align: middle;\n",
              "    }\n",
              "\n",
              "    .dataframe tbody tr th {\n",
              "        vertical-align: top;\n",
              "    }\n",
              "\n",
              "    .dataframe thead th {\n",
              "        text-align: right;\n",
              "    }\n",
              "</style>\n",
              "<table border=\"1\" class=\"dataframe\">\n",
              "  <thead>\n",
              "    <tr style=\"text-align: right;\">\n",
              "      <th></th>\n",
              "      <th></th>\n",
              "      <th>Valor Mínimo</th>\n",
              "      <th>Valor Máximo</th>\n",
              "    </tr>\n",
              "    <tr>\n",
              "      <th>Job Title</th>\n",
              "      <th>Size</th>\n",
              "      <th></th>\n",
              "      <th></th>\n",
              "    </tr>\n",
              "  </thead>\n",
              "  <tbody>\n",
              "    <tr>\n",
              "      <th rowspan=\"3\" valign=\"top\">Business Intelligence</th>\n",
              "      <th>1001 to 5000 employees</th>\n",
              "      <td>72666.666667</td>\n",
              "      <td>125166.666667</td>\n",
              "    </tr>\n",
              "    <tr>\n",
              "      <th>201 to 500 employees</th>\n",
              "      <td>71000.000000</td>\n",
              "      <td>126000.000000</td>\n",
              "    </tr>\n",
              "    <tr>\n",
              "      <th>501 to 1000 employees</th>\n",
              "      <td>71000.000000</td>\n",
              "      <td>126000.000000</td>\n",
              "    </tr>\n",
              "    <tr>\n",
              "      <th rowspan=\"7\" valign=\"top\">Data Analyst</th>\n",
              "      <th>1 to 50 employees</th>\n",
              "      <td>59833.333333</td>\n",
              "      <td>104833.333333</td>\n",
              "    </tr>\n",
              "    <tr>\n",
              "      <th>10000+ employees</th>\n",
              "      <td>49538.461538</td>\n",
              "      <td>82000.000000</td>\n",
              "    </tr>\n",
              "    <tr>\n",
              "      <th>1001 to 5000 employees</th>\n",
              "      <td>48538.461538</td>\n",
              "      <td>88653.846154</td>\n",
              "    </tr>\n",
              "    <tr>\n",
              "      <th>201 to 500 employees</th>\n",
              "      <td>53185.185185</td>\n",
              "      <td>95481.481481</td>\n",
              "    </tr>\n",
              "    <tr>\n",
              "      <th>5001 to 10000 employees</th>\n",
              "      <td>45666.666667</td>\n",
              "      <td>80555.555556</td>\n",
              "    </tr>\n",
              "    <tr>\n",
              "      <th>501 to 1000 employees</th>\n",
              "      <td>42535.714286</td>\n",
              "      <td>76928.571429</td>\n",
              "    </tr>\n",
              "    <tr>\n",
              "      <th>51 to 200 employees</th>\n",
              "      <td>58727.272727</td>\n",
              "      <td>106818.181818</td>\n",
              "    </tr>\n",
              "    <tr>\n",
              "      <th rowspan=\"8\" valign=\"top\">Data Engineer</th>\n",
              "      <th>1 to 50 employees</th>\n",
              "      <td>70312.500000</td>\n",
              "      <td>128250.000000</td>\n",
              "    </tr>\n",
              "    <tr>\n",
              "      <th>10000+ employees</th>\n",
              "      <td>84769.230769</td>\n",
              "      <td>147076.923077</td>\n",
              "    </tr>\n",
              "    <tr>\n",
              "      <th>1001 to 5000 employees</th>\n",
              "      <td>76322.580645</td>\n",
              "      <td>137774.193548</td>\n",
              "    </tr>\n",
              "    <tr>\n",
              "      <th>201 to 500 employees</th>\n",
              "      <td>80222.222222</td>\n",
              "      <td>140481.481481</td>\n",
              "    </tr>\n",
              "    <tr>\n",
              "      <th>5001 to 10000 employees</th>\n",
              "      <td>74333.333333</td>\n",
              "      <td>134055.555556</td>\n",
              "    </tr>\n",
              "    <tr>\n",
              "      <th>501 to 1000 employees</th>\n",
              "      <td>63925.925926</td>\n",
              "      <td>112962.962963</td>\n",
              "    </tr>\n",
              "    <tr>\n",
              "      <th>51 to 200 employees</th>\n",
              "      <td>81883.720930</td>\n",
              "      <td>139069.767442</td>\n",
              "    </tr>\n",
              "    <tr>\n",
              "      <th>Unknown</th>\n",
              "      <td>71000.000000</td>\n",
              "      <td>126000.000000</td>\n",
              "    </tr>\n",
              "    <tr>\n",
              "      <th rowspan=\"8\" valign=\"top\">Data Scientist</th>\n",
              "      <th>1 to 50 employees</th>\n",
              "      <td>81277.777778</td>\n",
              "      <td>138972.222222</td>\n",
              "    </tr>\n",
              "    <tr>\n",
              "      <th>10000+ employees</th>\n",
              "      <td>85848.214286</td>\n",
              "      <td>146562.500000</td>\n",
              "    </tr>\n",
              "    <tr>\n",
              "      <th>1001 to 5000 employees</th>\n",
              "      <td>74903.846154</td>\n",
              "      <td>129913.461538</td>\n",
              "    </tr>\n",
              "    <tr>\n",
              "      <th>201 to 500 employees</th>\n",
              "      <td>74650.000000</td>\n",
              "      <td>133090.000000</td>\n",
              "    </tr>\n",
              "    <tr>\n",
              "      <th>5001 to 10000 employees</th>\n",
              "      <td>77208.333333</td>\n",
              "      <td>136208.333333</td>\n",
              "    </tr>\n",
              "    <tr>\n",
              "      <th>501 to 1000 employees</th>\n",
              "      <td>77172.839506</td>\n",
              "      <td>132666.666667</td>\n",
              "    </tr>\n",
              "    <tr>\n",
              "      <th>51 to 200 employees</th>\n",
              "      <td>83306.818182</td>\n",
              "      <td>138704.545455</td>\n",
              "    </tr>\n",
              "    <tr>\n",
              "      <th>Unknown</th>\n",
              "      <td>88125.000000</td>\n",
              "      <td>132666.666667</td>\n",
              "    </tr>\n",
              "    <tr>\n",
              "      <th rowspan=\"2\" valign=\"top\">Intern</th>\n",
              "      <th>201 to 500 employees</th>\n",
              "      <td>71000.000000</td>\n",
              "      <td>126000.000000</td>\n",
              "    </tr>\n",
              "    <tr>\n",
              "      <th>51 to 200 employees</th>\n",
              "      <td>71000.000000</td>\n",
              "      <td>126000.000000</td>\n",
              "    </tr>\n",
              "  </tbody>\n",
              "</table>\n",
              "</div>"
            ],
            "text/plain": [
              "                                               Valor Mínimo   Valor Máximo\n",
              "Job Title             Size                                                \n",
              "Business Intelligence 1001 to 5000 employees   72666.666667  125166.666667\n",
              "                      201 to 500 employees     71000.000000  126000.000000\n",
              "                      501 to 1000 employees    71000.000000  126000.000000\n",
              "Data Analyst          1 to 50 employees        59833.333333  104833.333333\n",
              "                      10000+ employees         49538.461538   82000.000000\n",
              "                      1001 to 5000 employees   48538.461538   88653.846154\n",
              "                      201 to 500 employees     53185.185185   95481.481481\n",
              "                      5001 to 10000 employees  45666.666667   80555.555556\n",
              "                      501 to 1000 employees    42535.714286   76928.571429\n",
              "                      51 to 200 employees      58727.272727  106818.181818\n",
              "Data Engineer         1 to 50 employees        70312.500000  128250.000000\n",
              "                      10000+ employees         84769.230769  147076.923077\n",
              "                      1001 to 5000 employees   76322.580645  137774.193548\n",
              "                      201 to 500 employees     80222.222222  140481.481481\n",
              "                      5001 to 10000 employees  74333.333333  134055.555556\n",
              "                      501 to 1000 employees    63925.925926  112962.962963\n",
              "                      51 to 200 employees      81883.720930  139069.767442\n",
              "                      Unknown                  71000.000000  126000.000000\n",
              "Data Scientist        1 to 50 employees        81277.777778  138972.222222\n",
              "                      10000+ employees         85848.214286  146562.500000\n",
              "                      1001 to 5000 employees   74903.846154  129913.461538\n",
              "                      201 to 500 employees     74650.000000  133090.000000\n",
              "                      5001 to 10000 employees  77208.333333  136208.333333\n",
              "                      501 to 1000 employees    77172.839506  132666.666667\n",
              "                      51 to 200 employees      83306.818182  138704.545455\n",
              "                      Unknown                  88125.000000  132666.666667\n",
              "Intern                201 to 500 employees     71000.000000  126000.000000\n",
              "                      51 to 200 employees      71000.000000  126000.000000"
            ]
          },
          "metadata": {
            "tags": []
          },
          "execution_count": 22
        }
      ]
    },
    {
      "cell_type": "code",
      "metadata": {
        "id": "7KY45GEJbkzO",
        "outputId": "db35caf0-e18d-47f3-d42e-e548f3506ada",
        "colab": {
          "base_uri": "https://localhost:8080/",
          "height": 227
        }
      },
      "source": [
        "# Analisando principais medidas do dataframe\n",
        "df.describe().T"
      ],
      "execution_count": null,
      "outputs": [
        {
          "output_type": "execute_result",
          "data": {
            "text/html": [
              "<div>\n",
              "<style scoped>\n",
              "    .dataframe tbody tr th:only-of-type {\n",
              "        vertical-align: middle;\n",
              "    }\n",
              "\n",
              "    .dataframe tbody tr th {\n",
              "        vertical-align: top;\n",
              "    }\n",
              "\n",
              "    .dataframe thead th {\n",
              "        text-align: right;\n",
              "    }\n",
              "</style>\n",
              "<table border=\"1\" class=\"dataframe\">\n",
              "  <thead>\n",
              "    <tr style=\"text-align: right;\">\n",
              "      <th></th>\n",
              "      <th>count</th>\n",
              "      <th>mean</th>\n",
              "      <th>std</th>\n",
              "      <th>min</th>\n",
              "      <th>25%</th>\n",
              "      <th>50%</th>\n",
              "      <th>75%</th>\n",
              "      <th>max</th>\n",
              "    </tr>\n",
              "  </thead>\n",
              "  <tbody>\n",
              "    <tr>\n",
              "      <th>Rating</th>\n",
              "      <td>932.0</td>\n",
              "      <td>3.603004</td>\n",
              "      <td>1.079818</td>\n",
              "      <td>-1.0</td>\n",
              "      <td>3.3</td>\n",
              "      <td>3.8</td>\n",
              "      <td>4.2</td>\n",
              "      <td>5.0</td>\n",
              "    </tr>\n",
              "    <tr>\n",
              "      <th>Founded</th>\n",
              "      <td>932.0</td>\n",
              "      <td>1769.543991</td>\n",
              "      <td>605.754504</td>\n",
              "      <td>-1.0</td>\n",
              "      <td>1938.5</td>\n",
              "      <td>1993.0</td>\n",
              "      <td>2008.0</td>\n",
              "      <td>2019.0</td>\n",
              "    </tr>\n",
              "    <tr>\n",
              "      <th>Valor Mínimo</th>\n",
              "      <td>932.0</td>\n",
              "      <td>74753.218884</td>\n",
              "      <td>27103.240585</td>\n",
              "      <td>15000.0</td>\n",
              "      <td>60000.0</td>\n",
              "      <td>71000.0</td>\n",
              "      <td>84250.0</td>\n",
              "      <td>202000.0</td>\n",
              "    </tr>\n",
              "    <tr>\n",
              "      <th>Valor Máximo</th>\n",
              "      <td>932.0</td>\n",
              "      <td>129417.381974</td>\n",
              "      <td>38747.227314</td>\n",
              "      <td>16000.0</td>\n",
              "      <td>109000.0</td>\n",
              "      <td>126000.0</td>\n",
              "      <td>144000.0</td>\n",
              "      <td>306000.0</td>\n",
              "    </tr>\n",
              "  </tbody>\n",
              "</table>\n",
              "</div>"
            ],
            "text/plain": [
              "              count           mean           std  ...       50%       75%       max\n",
              "Rating        932.0       3.603004      1.079818  ...       3.8       4.2       5.0\n",
              "Founded       932.0    1769.543991    605.754504  ...    1993.0    2008.0    2019.0\n",
              "Valor Mínimo  932.0   74753.218884  27103.240585  ...   71000.0   84250.0  202000.0\n",
              "Valor Máximo  932.0  129417.381974  38747.227314  ...  126000.0  144000.0  306000.0\n",
              "\n",
              "[4 rows x 8 columns]"
            ]
          },
          "metadata": {
            "tags": []
          },
          "execution_count": 23
        }
      ]
    },
    {
      "cell_type": "code",
      "metadata": {
        "id": "Tt4jHy2jkerU"
      },
      "source": [
        "# Padronizando as cores \n",
        "cor_valor_maximo =  \"r\"\n",
        "cor_valor_minimo =  \"b\""
      ],
      "execution_count": null,
      "outputs": []
    },
    {
      "cell_type": "code",
      "metadata": {
        "id": "dfBjIMpMam-s",
        "outputId": "4a55d556-229b-4aa3-e4c5-0cbd15f9388e",
        "colab": {
          "base_uri": "https://localhost:8080/",
          "height": 54
        }
      },
      "source": [
        "# Aplicando um estilo aos plots\n",
        "plt.style.use(\"ggplot\")\n",
        "\n",
        "# Criando gráfico\n",
        "plt.hist(df['Valor Máximo'],ec = \"k\", label= 'Valor Máximo', alpha= 0.5, color = cor_valor_maximo)\n",
        "plt.hist(df['Valor Mínimo'],ec = \"k\", label= 'Valor Mínimo', alpha= 0.5, color = cor_valor_minimo)\n",
        "\n",
        "# Colocando a legenda no melhor lugar\n",
        "plt.legend(loc='best')\n",
        "\n",
        "# Mostrando gráfico\n",
        "plt.show()"
      ],
      "execution_count": null,
      "outputs": [
        {
          "output_type": "display_data",
          "data": {
            "image/png": "[encoded data removed]",
            "text/plain": [
              "<Figure size 432x288 with 1 Axes>"
            ]
          },
          "metadata": {
            "tags": []
          }
        }
      ]
    },
    {
      "cell_type": "markdown",
      "metadata": {
        "id": "Ohr5jogYbuvN"
      },
      "source": [
        "**Algumas Conclusões**\n",
        "\n",
        "1 - Há maior concentração de Valor Máximo entre 100000 e 150000\n",
        "\n",
        "2 - Há maior concentração de Valor Mínimo entre 50000 e 90000"
      ]
    },
    {
      "cell_type": "code",
      "metadata": {
        "id": "VSS5fPqVeFIF",
        "outputId": "7e7c0f22-adaf-482f-e989-d239d8efd00a",
        "colab": {
          "base_uri": "https://localhost:8080/",
          "height": 54
        }
      },
      "source": [
        "# Configurando tamanho da figura\n",
        "plt.figure(figsize=(18,8))\n",
        "\n",
        "# Criando gráfico\n",
        "g3 = sns.kdeplot(df['Valor Mínimo'], label = 'Valor Mínimo', shade = True)\n",
        "g3 = sns.kdeplot(df['Valor Máximo'], label = 'Valor Máximo', shade = True)\n",
        "\n",
        "# Criando titulo\n",
        "plt.title('Salários',\n",
        "               pad = 20,\n",
        "         fontsize = 13, color ='dimgrey', fontweight = 'bold')\n",
        "\n",
        "sns.despine(bottom = True, left=True)\n",
        "\n",
        "# Padronizando as legendas\n",
        "plt.xlabel('Valor', color = 'grey', labelpad = 20, fontsize = 8)\n",
        "\n",
        "\n",
        "g3.tick_params(axis ='y', labelsize=0, length = 0)\n",
        "g3.set_yticklabels([])\n",
        "plt.ylabel([], fontsize =0)\n",
        "\n",
        "g3 = plt.legend()"
      ],
      "execution_count": null,
      "outputs": [
        {
          "output_type": "display_data",
          "data": {
            "image/png": "[encoded data removed]",
            "text/plain": [
              "<Figure size 1296x576 with 1 Axes>"
            ]
          },
          "metadata": {
            "tags": []
          }
        }
      ]
    },
    {
      "cell_type": "markdown",
      "metadata": {
        "id": "vcV9EpvagHBI"
      },
      "source": [
        "**Algumas Conclusões**\n",
        "\n",
        "1 - Os salários Máximo são mais \"distribuídos\".\n",
        "\n",
        "2 - Os salários Mínimo tem uma alta concentração um pouco acima de $50000."
      ]
    },
    {
      "cell_type": "code",
      "metadata": {
        "id": "J9JBBafw3qMw",
        "outputId": "ae91ba00-13e5-4c50-8631-6c74393b5430",
        "colab": {
          "base_uri": "https://localhost:8080/",
          "height": 71
        }
      },
      "source": [
        "funcoes_order = ['Data Scientist',\n",
        "    'Data Engineer',\n",
        "    'Business Intelligence',\n",
        "    'Intern',\n",
        "    'Data Analyst'\n",
        "]\n",
        "\n",
        "# Criando gráfico\n",
        "plt.figure(figsize=(20, 20))\n",
        "plt.subplot(4, 2, 1)\n",
        "sns.barplot(x=\"Job Title\", y=\"Valor Máximo\", data=df, color= cor_valor_maximo, errwidth=False, order= funcoes_order)\n",
        "plt.xticks(rotation=45)\n",
        "\n",
        "##############\n",
        "\n",
        "# Criando gráfico\n",
        "plt.subplot(4, 2, 2)\n",
        "sns.barplot(x=\"Job Title\", y=\"Valor Mínimo\", data=df, color= cor_valor_minimo, errwidth=False, order= funcoes_order)\n",
        "plt.xticks(rotation=45)"
      ],
      "execution_count": null,
      "outputs": [
        {
          "output_type": "execute_result",
          "data": {
            "text/plain": [
              "(array([0, 1, 2, 3, 4]), <a list of 5 Text major ticklabel objects>)"
            ]
          },
          "metadata": {
            "tags": []
          },
          "execution_count": 27
        },
        {
          "output_type": "display_data",
          "data": {
            "image/png": "[encoded data removed]",
            "text/plain": [
              "<Figure size 1440x1440 with 2 Axes>"
            ]
          },
          "metadata": {
            "tags": []
          }
        }
      ]
    },
    {
      "cell_type": "markdown",
      "metadata": {
        "id": "yq8NOHJ5btqS"
      },
      "source": [
        "**Algumas Conclusões**\n",
        "\n",
        "1 - Os salários de Data Analyst são menores do que o de Intern.\n",
        "\n",
        "2 - Os salários de Business Intelligence e Intern são bem próximos.\n",
        "\n",
        "3 - Os salários de Data Scientist e Data Engineer são bem próximos."
      ]
    },
    {
      "cell_type": "code",
      "metadata": {
        "id": "9S_tZ3qvlDk1",
        "outputId": "3233db6d-0448-4d61-ec2e-c8cdac888ff6",
        "colab": {
          "base_uri": "https://localhost:8080/",
          "height": 71
        }
      },
      "source": [
        "# Criando gráfico\n",
        "plt.figure(figsize=(20, 30))\n",
        "plt.subplot(4, 2, 1)\n",
        "sns.set_theme(style=\"whitegrid\")\n",
        "sns.boxplot(x=\"Job Title\", y = \"Valor Máximo\", data = df, color= cor_valor_maximo)\n",
        "plt.title(\"Boxplot do Salário Máximo pela Função\")\n",
        "plt.xticks(rotation=45)\n",
        "\n",
        "##############\n",
        "\n",
        "# Criando gráfico\n",
        "plt.subplot(4, 2, 2)\n",
        "sns.set_theme(style=\"whitegrid\")\n",
        "sns.boxplot(x=\"Job Title\", y = \"Valor Mínimo\", data = df, color= cor_valor_minimo)\n",
        "plt.title(\"Boxplot do Salário Mínimo pela Função\")\n",
        "plt.xticks(rotation=45)"
      ],
      "execution_count": null,
      "outputs": [
        {
          "output_type": "execute_result",
          "data": {
            "text/plain": [
              "(array([0, 1, 2, 3, 4]), <a list of 5 Text major ticklabel objects>)"
            ]
          },
          "metadata": {
            "tags": []
          },
          "execution_count": 28
        },
        {
          "output_type": "display_data",
          "data": {
            "image/png": "[encoded data removed]",
            "text/plain": [
              "<Figure size 1440x2160 with 2 Axes>"
            ]
          },
          "metadata": {
            "tags": []
          }
        }
      ]
    },
    {
      "cell_type": "markdown",
      "metadata": {
        "id": "RtccXB3GhnTG"
      },
      "source": [
        "**Algumas Conclusões**\n",
        "\n",
        "1 - Os salários de Data Scientist e Data Engineer são bem próximos no gráfico anterior mas nesse gráfico podemos verificar que a média é praticamente a mesma mas a caixa de distribuição dos salários e bem maior no Data Scientist do que Data Engineer.\n",
        "\n",
        "2 - O Data Engineer possui um outlier bem evidente no valor máximo superior. \n",
        "\n",
        "3 - O Data Scientist possui um outlier bem evidente na parte inferior de ambas variáveis."
      ]
    },
    {
      "cell_type": "code",
      "metadata": {
        "id": "SqZ_PrMM0S6s",
        "outputId": "55ce383a-fd07-4351-fe44-db8a7ae00b42",
        "colab": {
          "base_uri": "https://localhost:8080/",
          "height": 88
        }
      },
      "source": [
        "# Criando gráfico\n",
        "plt.figure(figsize=(20, 20))\n",
        "plt.subplot(4, 2, 1)\n",
        "ax = sns.barplot(x=\"Pais_HQ\",\n",
        "            y=\"Valor Máximo\", \n",
        "            data=df, \n",
        "            color= cor_valor_maximo,\n",
        "            errwidth=False)\n",
        "plt.xticks(rotation=90)\n",
        "\n",
        "##############\n",
        "\n",
        "# Criando gráfico\n",
        "plt.subplot(4, 2, 2)\n",
        "sns.barplot(x=\"Pais_HQ\", \n",
        "            y=\"Valor Mínimo\", \n",
        "            data=df,\n",
        "            color= cor_valor_minimo,\n",
        "            errwidth=False)\n",
        "plt.xticks(rotation=90)"
      ],
      "execution_count": null,
      "outputs": [
        {
          "output_type": "execute_result",
          "data": {
            "text/plain": [
              "(array([ 0,  1,  2,  3,  4,  5,  6,  7,  8,  9, 10, 11, 12, 13]),\n",
              " <a list of 14 Text major ticklabel objects>)"
            ]
          },
          "metadata": {
            "tags": []
          },
          "execution_count": 29
        },
        {
          "output_type": "display_data",
          "data": {
            "image/png": "[encoded data removed]",
            "text/plain": [
              "<Figure size 1440x1440 with 2 Axes>"
            ]
          },
          "metadata": {
            "tags": []
          }
        }
      ]
    },
    {
      "cell_type": "markdown",
      "metadata": {
        "id": "n9GE5Ru5hrwk"
      },
      "source": [
        "**Algumas Conclusões**\n",
        "\n",
        "1 - Japan e Bermuda tem os maiores salários.\n",
        "\n",
        "2 - India e Spain tem os menores salários."
      ]
    },
    {
      "cell_type": "code",
      "metadata": {
        "id": "lmCbUOZckIn-",
        "outputId": "c50c9a64-3260-4210-e8e9-8774563637b9",
        "colab": {
          "base_uri": "https://localhost:8080/",
          "height": 71
        }
      },
      "source": [
        "# Criando gráfico\n",
        "sns.pairplot(df, hue='Job Title', diag_kind=\"hist\")"
      ],
      "execution_count": null,
      "outputs": [
        {
          "output_type": "execute_result",
          "data": {
            "text/plain": [
              "<seaborn.axisgrid.PairGrid at 0x7f8b13bb8748>"
            ]
          },
          "metadata": {
            "tags": []
          },
          "execution_count": 30
        },
        {
          "output_type": "display_data",
          "data": {
            "image/png": "[encoded data removed]",
            "text/plain": [
              "<Figure size 876.475x720 with 20 Axes>"
            ]
          },
          "metadata": {
            "tags": []
          }
        }
      ]
    },
    {
      "cell_type": "markdown",
      "metadata": {
        "id": "GiIhvexBhzoR"
      },
      "source": [
        "**Algumas Conclusões**\n",
        "\n",
        "1 - Evidente correlação positiva entre os valores de salários."
      ]
    },
    {
      "cell_type": "code",
      "metadata": {
        "id": "xXXQa9aJ9Qwz",
        "outputId": "7f037570-1ed5-48bd-a623-df19a2923b75",
        "colab": {
          "base_uri": "https://localhost:8080/",
          "height": 71
        }
      },
      "source": [
        "#matriz\n",
        "correlacao = df.corr()\n",
        "\n",
        "# Generate a mask for the upper triangle\n",
        "mask = np.triu(np.ones_like(correlacao, dtype=bool))\n",
        "\n",
        "# Set up the matplotlib figure\n",
        "f, ax = plt.subplots(figsize=(11, 9))\n",
        "\n",
        "# Draw the heatmap with the mask and correct aspect ratio\n",
        "sns.heatmap(correlacao, mask=mask, cmap='coolwarm', annot=True, center=0, linewidths=.5)\n",
        "plt.title(\"Correlação das Variáveis\")"
      ],
      "execution_count": null,
      "outputs": [
        {
          "output_type": "execute_result",
          "data": {
            "text/plain": [
              "Text(0.5, 1.0, 'Correlação das Variáveis')"
            ]
          },
          "metadata": {
            "tags": []
          },
          "execution_count": 31
        },
        {
          "output_type": "display_data",
          "data": {
            "image/png": "[encoded data removed]",
            "text/plain": [
              "<Figure size 792x648 with 2 Axes>"
            ]
          },
          "metadata": {
            "tags": []
          }
        }
      ]
    },
    {
      "cell_type": "markdown",
      "metadata": {
        "id": "WusNc3d1h1b-"
      },
      "source": [
        "**Algumas Conclusões**\n",
        "\n",
        "1 - Confirmada a correlação positiva em Valor Máximo e Valor Mínimo (0,94).\n",
        "\n",
        "2 - Correlação pouco significativa entre Founded e Rating (0,49). "
      ]
    },
    {
      "cell_type": "code",
      "metadata": {
        "id": "k3QM3l5rkbCL",
        "outputId": "b4fd7ee2-5081-4e5f-eec1-d5a58d4695e3",
        "colab": {
          "base_uri": "https://localhost:8080/",
          "height": 71
        }
      },
      "source": [
        "tamanho_order = ['1 to 50 employees',\n",
        "    '51 to 200 employees',\n",
        "    '201 to 500 employees',\n",
        "    '501 to 1000 employees',\n",
        "    '1001 to 5000 employees',\n",
        "    '5001 to 10000 employees',\n",
        "    '10000+ employees',\n",
        "    'Unknown'\n",
        "]\n",
        "# Criando gráfico\n",
        "plt.figure(figsize=(20, 20))\n",
        "plt.subplot(4, 2, 1)\n",
        "sns.barplot(x=\"Size\", y=\"Valor Máximo\", data=df, color= cor_valor_maximo, errwidth=False, order= tamanho_order)\n",
        "plt.xticks(rotation=45)\n",
        "\n",
        "##############\n",
        "\n",
        "# Criando gráfico\n",
        "plt.subplot(4, 2, 2)\n",
        "sns.barplot(x=\"Size\", y=\"Valor Mínimo\", data=df, color= cor_valor_minimo, errwidth=False, order= tamanho_order)\n",
        "plt.xticks(rotation=45)"
      ],
      "execution_count": null,
      "outputs": [
        {
          "output_type": "execute_result",
          "data": {
            "text/plain": [
              "(array([0, 1, 2, 3, 4, 5, 6, 7]), <a list of 8 Text major ticklabel objects>)"
            ]
          },
          "metadata": {
            "tags": []
          },
          "execution_count": 32
        },
        {
          "output_type": "display_data",
          "data": {
            "image/png": "[encoded data removed]",
            "text/plain": [
              "<Figure size 1440x1440 with 2 Axes>"
            ]
          },
          "metadata": {
            "tags": []
          }
        }
      ]
    },
    {
      "cell_type": "code",
      "metadata": {
        "id": "RglUSz7tnwd2",
        "outputId": "3e2806d0-7714-4d32-de6d-a613035ff10e",
        "colab": {
          "base_uri": "https://localhost:8080/",
          "height": 88
        }
      },
      "source": [
        "faturamento_order = ['Less than $1 million (USD)',\n",
        "    '$1 to $5 million (USD)',\n",
        "    '$5 to $10 million (USD)',\n",
        "    '$10 to $25 million (USD)',\n",
        "    '$25 to $50 million (USD)',\n",
        "    '$50 to $100 million (USD)',\n",
        "    '$100 to $500 million (USD)',\n",
        "    '$500 million to $1 billion (USD)',\n",
        "    '$1 to $2 billion (USD)',\n",
        "    '$2 to $5 billion (USD)',\n",
        "    '$5 to $10 billion (USD)',\n",
        "    '$10+ billion (USD)',\n",
        "    'Unknown / Non-Applicable'\n",
        "]\n",
        "\n",
        "# Criando gráfico\n",
        "plt.figure(figsize=(20, 20))\n",
        "plt.subplot(4, 2, 1)\n",
        "sns.barplot(x=\"Revenue\", y=\"Valor Máximo\", data=df, color= cor_valor_maximo, errwidth=False, order= faturamento_order)\n",
        "plt.xticks(rotation=90)\n",
        "\n",
        "##############\n",
        "\n",
        "# Criando gráfico\n",
        "plt.subplot(4, 2, 2)\n",
        "sns.barplot(x=\"Revenue\", y=\"Valor Mínimo\", data=df, color= cor_valor_minimo, errwidth=False, order= faturamento_order)\n",
        "plt.xticks(rotation=90)"
      ],
      "execution_count": null,
      "outputs": [
        {
          "output_type": "execute_result",
          "data": {
            "text/plain": [
              "(array([ 0,  1,  2,  3,  4,  5,  6,  7,  8,  9, 10, 11, 12]),\n",
              " <a list of 13 Text major ticklabel objects>)"
            ]
          },
          "metadata": {
            "tags": []
          },
          "execution_count": 33
        },
        {
          "output_type": "display_data",
          "data": {
            "image/png": "[encoded data removed]",
            "text/plain": [
              "<Figure size 1440x1440 with 2 Axes>"
            ]
          },
          "metadata": {
            "tags": []
          }
        }
      ]
    },
    {
      "cell_type": "markdown",
      "metadata": {
        "id": "_eTmiePO9hSR"
      },
      "source": [
        "# V - Modelagem"
      ]
    },
    {
      "cell_type": "markdown",
      "metadata": {
        "id": "h06Vf4ba1Wy4"
      },
      "source": [
        "Depois de compreender e ganhar intuições acerca dos dados, chega o momento de fato modelá-los.\n",
        "\n",
        "<br/>\n",
        "\n",
        "Durante essa etapa, alguns dos procedimentos que podem ser realizados são:\n",
        "\n",
        "<br/>\n",
        "\n",
        "- Divisão dos dados em dados de treino e teste\n",
        "\n",
        "<br/>\n",
        "\n",
        "- Criação de um benchmark (modelo inicial para comparações futuras)\n",
        "\n",
        "<br/>\n",
        "\n",
        "- Triagem de modelo(s) para utilização\n",
        "\n",
        "<br/>\n",
        "\n",
        "- Utilização de métricas de mensuração de performance dos algoritmos\n",
        "\n",
        "<br/>\n",
        "\n",
        "- Calibração dos hiperparâmetros do(s) algoritmo(s)\n"
      ]
    },
    {
      "cell_type": "code",
      "metadata": {
        "id": "NSiEr_hfHF0G",
        "outputId": "eaa6e4cd-4a46-4044-d214-4eba3050c609",
        "colab": {
          "base_uri": "https://localhost:8080/",
          "height": 357
        }
      },
      "source": [
        "df.head()"
      ],
      "execution_count": null,
      "outputs": [
        {
          "output_type": "execute_result",
          "data": {
            "text/html": [
              "<div>\n",
              "<style scoped>\n",
              "    .dataframe tbody tr th:only-of-type {\n",
              "        vertical-align: middle;\n",
              "    }\n",
              "\n",
              "    .dataframe tbody tr th {\n",
              "        vertical-align: top;\n",
              "    }\n",
              "\n",
              "    .dataframe thead th {\n",
              "        text-align: right;\n",
              "    }\n",
              "</style>\n",
              "<table border=\"1\" class=\"dataframe\">\n",
              "  <thead>\n",
              "    <tr style=\"text-align: right;\">\n",
              "      <th></th>\n",
              "      <th>Job Title</th>\n",
              "      <th>Rating</th>\n",
              "      <th>Location</th>\n",
              "      <th>Size</th>\n",
              "      <th>Founded</th>\n",
              "      <th>Type of ownership</th>\n",
              "      <th>Industry</th>\n",
              "      <th>Sector</th>\n",
              "      <th>Revenue</th>\n",
              "      <th>Valor Mínimo</th>\n",
              "      <th>Valor Máximo</th>\n",
              "      <th>Cidade_HQ</th>\n",
              "      <th>Pais_HQ</th>\n",
              "    </tr>\n",
              "  </thead>\n",
              "  <tbody>\n",
              "    <tr>\n",
              "      <th>0</th>\n",
              "      <td>Data Scientist</td>\n",
              "      <td>3.8</td>\n",
              "      <td>Albuquerque, NM</td>\n",
              "      <td>501 to 1000 employees</td>\n",
              "      <td>1973</td>\n",
              "      <td>Company - Private</td>\n",
              "      <td>Aerospace &amp; Defense</td>\n",
              "      <td>Aerospace &amp; Defense</td>\n",
              "      <td>$50 to $100 million (USD)</td>\n",
              "      <td>53000.0</td>\n",
              "      <td>91000.0</td>\n",
              "      <td>Goleta</td>\n",
              "      <td>USA</td>\n",
              "    </tr>\n",
              "    <tr>\n",
              "      <th>1</th>\n",
              "      <td>Data Scientist</td>\n",
              "      <td>3.4</td>\n",
              "      <td>Linthicum, MD</td>\n",
              "      <td>10000+ employees</td>\n",
              "      <td>1984</td>\n",
              "      <td>Other Organization</td>\n",
              "      <td>Health Care Services &amp; Hospitals</td>\n",
              "      <td>Health Care</td>\n",
              "      <td>$2 to $5 billion (USD)</td>\n",
              "      <td>63000.0</td>\n",
              "      <td>112000.0</td>\n",
              "      <td>Baltimore</td>\n",
              "      <td>USA</td>\n",
              "    </tr>\n",
              "    <tr>\n",
              "      <th>2</th>\n",
              "      <td>Data Scientist</td>\n",
              "      <td>4.8</td>\n",
              "      <td>Clearwater, FL</td>\n",
              "      <td>501 to 1000 employees</td>\n",
              "      <td>2010</td>\n",
              "      <td>Company - Private</td>\n",
              "      <td>Security Services</td>\n",
              "      <td>Business Services</td>\n",
              "      <td>$100 to $500 million (USD)</td>\n",
              "      <td>80000.0</td>\n",
              "      <td>90000.0</td>\n",
              "      <td>Clearwater</td>\n",
              "      <td>USA</td>\n",
              "    </tr>\n",
              "    <tr>\n",
              "      <th>3</th>\n",
              "      <td>Data Scientist</td>\n",
              "      <td>3.8</td>\n",
              "      <td>Richland, WA</td>\n",
              "      <td>1001 to 5000 employees</td>\n",
              "      <td>1965</td>\n",
              "      <td>Government</td>\n",
              "      <td>Energy</td>\n",
              "      <td>Oil, Gas, Energy &amp; Utilities</td>\n",
              "      <td>$500 million to $1 billion (USD)</td>\n",
              "      <td>56000.0</td>\n",
              "      <td>97000.0</td>\n",
              "      <td>Richland</td>\n",
              "      <td>USA</td>\n",
              "    </tr>\n",
              "    <tr>\n",
              "      <th>4</th>\n",
              "      <td>Data Scientist</td>\n",
              "      <td>2.9</td>\n",
              "      <td>New York, NY</td>\n",
              "      <td>51 to 200 employees</td>\n",
              "      <td>1998</td>\n",
              "      <td>Company - Private</td>\n",
              "      <td>Advertising &amp; Marketing</td>\n",
              "      <td>Business Services</td>\n",
              "      <td>Unknown / Non-Applicable</td>\n",
              "      <td>86000.0</td>\n",
              "      <td>143000.0</td>\n",
              "      <td>New York</td>\n",
              "      <td>USA</td>\n",
              "    </tr>\n",
              "  </tbody>\n",
              "</table>\n",
              "</div>"
            ],
            "text/plain": [
              "        Job Title  Rating         Location  ... Valor Máximo   Cidade_HQ Pais_HQ\n",
              "0  Data Scientist     3.8  Albuquerque, NM  ...      91000.0      Goleta     USA\n",
              "1  Data Scientist     3.4    Linthicum, MD  ...     112000.0   Baltimore     USA\n",
              "2  Data Scientist     4.8   Clearwater, FL  ...      90000.0  Clearwater     USA\n",
              "3  Data Scientist     3.8     Richland, WA  ...      97000.0    Richland     USA\n",
              "4  Data Scientist     2.9     New York, NY  ...     143000.0    New York     USA\n",
              "\n",
              "[5 rows x 13 columns]"
            ]
          },
          "metadata": {
            "tags": []
          },
          "execution_count": 34
        }
      ]
    },
    {
      "cell_type": "markdown",
      "metadata": {
        "id": "MOUVbkSwHIVy"
      },
      "source": [
        "**Categoricas** \n",
        "\n",
        "- Job Title\n",
        "- Size\n",
        "- Revenue\n",
        "- Pais\n",
        "\n",
        "**Numerica** \n",
        "\n",
        "\n",
        "- Rating\n",
        "- Founded\n",
        "- Valor Mínimo\n",
        "- Valor Máximo"
      ]
    },
    {
      "cell_type": "code",
      "metadata": {
        "id": "vzGRmRZIIBTR"
      },
      "source": [
        "# Tratando colunas categóricas\n",
        "cat_cols = ['Job Title', 'Size', 'Revenue', 'Pais_HQ']\n",
        "treino_cat = df[cat_cols]"
      ],
      "execution_count": null,
      "outputs": []
    },
    {
      "cell_type": "code",
      "metadata": {
        "id": "BhD-RaVAIBEP"
      },
      "source": [
        "# usando one hot encoding\n",
        "treino_cat = pd.get_dummies(treino_cat)"
      ],
      "execution_count": null,
      "outputs": []
    },
    {
      "cell_type": "code",
      "metadata": {
        "id": "YoPmNDaVIBCq",
        "outputId": "4f1f9b31-f295-4709-f319-7ab856dc5fb7",
        "colab": {
          "base_uri": "https://localhost:8080/"
        }
      },
      "source": [
        "treino_cat.info()"
      ],
      "execution_count": null,
      "outputs": [
        {
          "output_type": "stream",
          "text": [
            "<class 'pandas.core.frame.DataFrame'>\n",
            "Int64Index: 932 entries, 0 to 955\n",
            "Data columns (total 40 columns):\n",
            " #   Column                                    Non-Null Count  Dtype\n",
            "---  ------                                    --------------  -----\n",
            " 0   Job Title_Business Intelligence           932 non-null    uint8\n",
            " 1   Job Title_Data Analyst                    932 non-null    uint8\n",
            " 2   Job Title_Data Engineer                   932 non-null    uint8\n",
            " 3   Job Title_Data Scientist                  932 non-null    uint8\n",
            " 4   Job Title_Intern                          932 non-null    uint8\n",
            " 5   Size_1 to 50 employees                    932 non-null    uint8\n",
            " 6   Size_10000+ employees                     932 non-null    uint8\n",
            " 7   Size_1001 to 5000 employees               932 non-null    uint8\n",
            " 8   Size_201 to 500 employees                 932 non-null    uint8\n",
            " 9   Size_5001 to 10000 employees              932 non-null    uint8\n",
            " 10  Size_501 to 1000 employees                932 non-null    uint8\n",
            " 11  Size_51 to 200 employees                  932 non-null    uint8\n",
            " 12  Size_Unknown                              932 non-null    uint8\n",
            " 13  Revenue_$1 to $2 billion (USD)            932 non-null    uint8\n",
            " 14  Revenue_$1 to $5 million (USD)            932 non-null    uint8\n",
            " 15  Revenue_$10 to $25 million (USD)          932 non-null    uint8\n",
            " 16  Revenue_$10+ billion (USD)                932 non-null    uint8\n",
            " 17  Revenue_$100 to $500 million (USD)        932 non-null    uint8\n",
            " 18  Revenue_$2 to $5 billion (USD)            932 non-null    uint8\n",
            " 19  Revenue_$25 to $50 million (USD)          932 non-null    uint8\n",
            " 20  Revenue_$5 to $10 billion (USD)           932 non-null    uint8\n",
            " 21  Revenue_$5 to $10 million (USD)           932 non-null    uint8\n",
            " 22  Revenue_$50 to $100 million (USD)         932 non-null    uint8\n",
            " 23  Revenue_$500 million to $1 billion (USD)  932 non-null    uint8\n",
            " 24  Revenue_Less than $1 million (USD)        932 non-null    uint8\n",
            " 25  Revenue_Unknown / Non-Applicable          932 non-null    uint8\n",
            " 26  Pais_HQ_ Belgium                          932 non-null    uint8\n",
            " 27  Pais_HQ_ Bermuda                          932 non-null    uint8\n",
            " 28  Pais_HQ_ China                            932 non-null    uint8\n",
            " 29  Pais_HQ_ France                           932 non-null    uint8\n",
            " 30  Pais_HQ_ Germany                          932 non-null    uint8\n",
            " 31  Pais_HQ_ India                            932 non-null    uint8\n",
            " 32  Pais_HQ_ Japan                            932 non-null    uint8\n",
            " 33  Pais_HQ_ Singapore                        932 non-null    uint8\n",
            " 34  Pais_HQ_ South Korea                      932 non-null    uint8\n",
            " 35  Pais_HQ_ Spain                            932 non-null    uint8\n",
            " 36  Pais_HQ_ Switzerland                      932 non-null    uint8\n",
            " 37  Pais_HQ_ United Kingdom                   932 non-null    uint8\n",
            " 38  Pais_HQ_USA                               932 non-null    uint8\n",
            " 39  Pais_HQ_Unknown                           932 non-null    uint8\n",
            "dtypes: uint8(40)\n",
            "memory usage: 83.7 KB\n"
          ],
          "name": "stdout"
        }
      ]
    },
    {
      "cell_type": "code",
      "metadata": {
        "id": "2LdORVAnIA1Y"
      },
      "source": [
        "num_cols = ['Rating', 'Founded', 'Valor Mínimo', 'Valor Máximo']\n",
        "treino_num = df[num_cols]"
      ],
      "execution_count": null,
      "outputs": []
    },
    {
      "cell_type": "code",
      "metadata": {
        "id": "M_zOtu9JIAzy",
        "outputId": "1bf3f7b1-b400-4659-a62e-91a29882ea54",
        "colab": {
          "base_uri": "https://localhost:8080/"
        }
      },
      "source": [
        "treino_num.info()"
      ],
      "execution_count": null,
      "outputs": [
        {
          "output_type": "stream",
          "text": [
            "<class 'pandas.core.frame.DataFrame'>\n",
            "Int64Index: 932 entries, 0 to 955\n",
            "Data columns (total 4 columns):\n",
            " #   Column        Non-Null Count  Dtype  \n",
            "---  ------        --------------  -----  \n",
            " 0   Rating        932 non-null    float64\n",
            " 1   Founded       932 non-null    int64  \n",
            " 2   Valor Mínimo  932 non-null    float64\n",
            " 3   Valor Máximo  932 non-null    float64\n",
            "dtypes: float64(3), int64(1)\n",
            "memory usage: 76.4 KB\n"
          ],
          "name": "stdout"
        }
      ]
    },
    {
      "cell_type": "code",
      "metadata": {
        "id": "VzBidS43IAsH"
      },
      "source": [
        "treino = pd.concat([treino_cat, treino_num], axis=1)"
      ],
      "execution_count": null,
      "outputs": []
    },
    {
      "cell_type": "code",
      "metadata": {
        "id": "sXA4Tk2lO8fR",
        "outputId": "a5ca2edf-1959-4c1b-a138-ec4c693e263e",
        "colab": {
          "base_uri": "https://localhost:8080/",
          "height": 275
        }
      },
      "source": [
        "treino.head()"
      ],
      "execution_count": null,
      "outputs": [
        {
          "output_type": "execute_result",
          "data": {
            "text/html": [
              "<div>\n",
              "<style scoped>\n",
              "    .dataframe tbody tr th:only-of-type {\n",
              "        vertical-align: middle;\n",
              "    }\n",
              "\n",
              "    .dataframe tbody tr th {\n",
              "        vertical-align: top;\n",
              "    }\n",
              "\n",
              "    .dataframe thead th {\n",
              "        text-align: right;\n",
              "    }\n",
              "</style>\n",
              "<table border=\"1\" class=\"dataframe\">\n",
              "  <thead>\n",
              "    <tr style=\"text-align: right;\">\n",
              "      <th></th>\n",
              "      <th>Job Title_Business Intelligence</th>\n",
              "      <th>Job Title_Data Analyst</th>\n",
              "      <th>Job Title_Data Engineer</th>\n",
              "      <th>Job Title_Data Scientist</th>\n",
              "      <th>Job Title_Intern</th>\n",
              "      <th>Size_1 to 50 employees</th>\n",
              "      <th>Size_10000+ employees</th>\n",
              "      <th>Size_1001 to 5000 employees</th>\n",
              "      <th>Size_201 to 500 employees</th>\n",
              "      <th>Size_5001 to 10000 employees</th>\n",
              "      <th>Size_501 to 1000 employees</th>\n",
              "      <th>Size_51 to 200 employees</th>\n",
              "      <th>Size_Unknown</th>\n",
              "      <th>Revenue_$1 to $2 billion (USD)</th>\n",
              "      <th>Revenue_$1 to $5 million (USD)</th>\n",
              "      <th>Revenue_$10 to $25 million (USD)</th>\n",
              "      <th>Revenue_$10+ billion (USD)</th>\n",
              "      <th>Revenue_$100 to $500 million (USD)</th>\n",
              "      <th>Revenue_$2 to $5 billion (USD)</th>\n",
              "      <th>Revenue_$25 to $50 million (USD)</th>\n",
              "      <th>Revenue_$5 to $10 billion (USD)</th>\n",
              "      <th>Revenue_$5 to $10 million (USD)</th>\n",
              "      <th>Revenue_$50 to $100 million (USD)</th>\n",
              "      <th>Revenue_$500 million to $1 billion (USD)</th>\n",
              "      <th>Revenue_Less than $1 million (USD)</th>\n",
              "      <th>Revenue_Unknown / Non-Applicable</th>\n",
              "      <th>Pais_HQ_ Belgium</th>\n",
              "      <th>Pais_HQ_ Bermuda</th>\n",
              "      <th>Pais_HQ_ China</th>\n",
              "      <th>Pais_HQ_ France</th>\n",
              "      <th>Pais_HQ_ Germany</th>\n",
              "      <th>Pais_HQ_ India</th>\n",
              "      <th>Pais_HQ_ Japan</th>\n",
              "      <th>Pais_HQ_ Singapore</th>\n",
              "      <th>Pais_HQ_ South Korea</th>\n",
              "      <th>Pais_HQ_ Spain</th>\n",
              "      <th>Pais_HQ_ Switzerland</th>\n",
              "      <th>Pais_HQ_ United Kingdom</th>\n",
              "      <th>Pais_HQ_USA</th>\n",
              "      <th>Pais_HQ_Unknown</th>\n",
              "      <th>Rating</th>\n",
              "      <th>Founded</th>\n",
              "      <th>Valor Mínimo</th>\n",
              "      <th>Valor Máximo</th>\n",
              "    </tr>\n",
              "  </thead>\n",
              "  <tbody>\n",
              "    <tr>\n",
              "      <th>0</th>\n",
              "      <td>0</td>\n",
              "      <td>0</td>\n",
              "      <td>0</td>\n",
              "      <td>1</td>\n",
              "      <td>0</td>\n",
              "      <td>0</td>\n",
              "      <td>0</td>\n",
              "      <td>0</td>\n",
              "      <td>0</td>\n",
              "      <td>0</td>\n",
              "      <td>1</td>\n",
              "      <td>0</td>\n",
              "      <td>0</td>\n",
              "      <td>0</td>\n",
              "      <td>0</td>\n",
              "      <td>0</td>\n",
              "      <td>0</td>\n",
              "      <td>0</td>\n",
              "      <td>0</td>\n",
              "      <td>0</td>\n",
              "      <td>0</td>\n",
              "      <td>0</td>\n",
              "      <td>1</td>\n",
              "      <td>0</td>\n",
              "      <td>0</td>\n",
              "      <td>0</td>\n",
              "      <td>0</td>\n",
              "      <td>0</td>\n",
              "      <td>0</td>\n",
              "      <td>0</td>\n",
              "      <td>0</td>\n",
              "      <td>0</td>\n",
              "      <td>0</td>\n",
              "      <td>0</td>\n",
              "      <td>0</td>\n",
              "      <td>0</td>\n",
              "      <td>0</td>\n",
              "      <td>0</td>\n",
              "      <td>1</td>\n",
              "      <td>0</td>\n",
              "      <td>3.8</td>\n",
              "      <td>1973</td>\n",
              "      <td>53000.0</td>\n",
              "      <td>91000.0</td>\n",
              "    </tr>\n",
              "    <tr>\n",
              "      <th>1</th>\n",
              "      <td>0</td>\n",
              "      <td>0</td>\n",
              "      <td>0</td>\n",
              "      <td>1</td>\n",
              "      <td>0</td>\n",
              "      <td>0</td>\n",
              "      <td>1</td>\n",
              "      <td>0</td>\n",
              "      <td>0</td>\n",
              "      <td>0</td>\n",
              "      <td>0</td>\n",
              "      <td>0</td>\n",
              "      <td>0</td>\n",
              "      <td>0</td>\n",
              "      <td>0</td>\n",
              "      <td>0</td>\n",
              "      <td>0</td>\n",
              "      <td>0</td>\n",
              "      <td>1</td>\n",
              "      <td>0</td>\n",
              "      <td>0</td>\n",
              "      <td>0</td>\n",
              "      <td>0</td>\n",
              "      <td>0</td>\n",
              "      <td>0</td>\n",
              "      <td>0</td>\n",
              "      <td>0</td>\n",
              "      <td>0</td>\n",
              "      <td>0</td>\n",
              "      <td>0</td>\n",
              "      <td>0</td>\n",
              "      <td>0</td>\n",
              "      <td>0</td>\n",
              "      <td>0</td>\n",
              "      <td>0</td>\n",
              "      <td>0</td>\n",
              "      <td>0</td>\n",
              "      <td>0</td>\n",
              "      <td>1</td>\n",
              "      <td>0</td>\n",
              "      <td>3.4</td>\n",
              "      <td>1984</td>\n",
              "      <td>63000.0</td>\n",
              "      <td>112000.0</td>\n",
              "    </tr>\n",
              "    <tr>\n",
              "      <th>2</th>\n",
              "      <td>0</td>\n",
              "      <td>0</td>\n",
              "      <td>0</td>\n",
              "      <td>1</td>\n",
              "      <td>0</td>\n",
              "      <td>0</td>\n",
              "      <td>0</td>\n",
              "      <td>0</td>\n",
              "      <td>0</td>\n",
              "      <td>0</td>\n",
              "      <td>1</td>\n",
              "      <td>0</td>\n",
              "      <td>0</td>\n",
              "      <td>0</td>\n",
              "      <td>0</td>\n",
              "      <td>0</td>\n",
              "      <td>0</td>\n",
              "      <td>1</td>\n",
              "      <td>0</td>\n",
              "      <td>0</td>\n",
              "      <td>0</td>\n",
              "      <td>0</td>\n",
              "      <td>0</td>\n",
              "      <td>0</td>\n",
              "      <td>0</td>\n",
              "      <td>0</td>\n",
              "      <td>0</td>\n",
              "      <td>0</td>\n",
              "      <td>0</td>\n",
              "      <td>0</td>\n",
              "      <td>0</td>\n",
              "      <td>0</td>\n",
              "      <td>0</td>\n",
              "      <td>0</td>\n",
              "      <td>0</td>\n",
              "      <td>0</td>\n",
              "      <td>0</td>\n",
              "      <td>0</td>\n",
              "      <td>1</td>\n",
              "      <td>0</td>\n",
              "      <td>4.8</td>\n",
              "      <td>2010</td>\n",
              "      <td>80000.0</td>\n",
              "      <td>90000.0</td>\n",
              "    </tr>\n",
              "    <tr>\n",
              "      <th>3</th>\n",
              "      <td>0</td>\n",
              "      <td>0</td>\n",
              "      <td>0</td>\n",
              "      <td>1</td>\n",
              "      <td>0</td>\n",
              "      <td>0</td>\n",
              "      <td>0</td>\n",
              "      <td>1</td>\n",
              "      <td>0</td>\n",
              "      <td>0</td>\n",
              "      <td>0</td>\n",
              "      <td>0</td>\n",
              "      <td>0</td>\n",
              "      <td>0</td>\n",
              "      <td>0</td>\n",
              "      <td>0</td>\n",
              "      <td>0</td>\n",
              "      <td>0</td>\n",
              "      <td>0</td>\n",
              "      <td>0</td>\n",
              "      <td>0</td>\n",
              "      <td>0</td>\n",
              "      <td>0</td>\n",
              "      <td>1</td>\n",
              "      <td>0</td>\n",
              "      <td>0</td>\n",
              "      <td>0</td>\n",
              "      <td>0</td>\n",
              "      <td>0</td>\n",
              "      <td>0</td>\n",
              "      <td>0</td>\n",
              "      <td>0</td>\n",
              "      <td>0</td>\n",
              "      <td>0</td>\n",
              "      <td>0</td>\n",
              "      <td>0</td>\n",
              "      <td>0</td>\n",
              "      <td>0</td>\n",
              "      <td>1</td>\n",
              "      <td>0</td>\n",
              "      <td>3.8</td>\n",
              "      <td>1965</td>\n",
              "      <td>56000.0</td>\n",
              "      <td>97000.0</td>\n",
              "    </tr>\n",
              "    <tr>\n",
              "      <th>4</th>\n",
              "      <td>0</td>\n",
              "      <td>0</td>\n",
              "      <td>0</td>\n",
              "      <td>1</td>\n",
              "      <td>0</td>\n",
              "      <td>0</td>\n",
              "      <td>0</td>\n",
              "      <td>0</td>\n",
              "      <td>0</td>\n",
              "      <td>0</td>\n",
              "      <td>0</td>\n",
              "      <td>1</td>\n",
              "      <td>0</td>\n",
              "      <td>0</td>\n",
              "      <td>0</td>\n",
              "      <td>0</td>\n",
              "      <td>0</td>\n",
              "      <td>0</td>\n",
              "      <td>0</td>\n",
              "      <td>0</td>\n",
              "      <td>0</td>\n",
              "      <td>0</td>\n",
              "      <td>0</td>\n",
              "      <td>0</td>\n",
              "      <td>0</td>\n",
              "      <td>1</td>\n",
              "      <td>0</td>\n",
              "      <td>0</td>\n",
              "      <td>0</td>\n",
              "      <td>0</td>\n",
              "      <td>0</td>\n",
              "      <td>0</td>\n",
              "      <td>0</td>\n",
              "      <td>0</td>\n",
              "      <td>0</td>\n",
              "      <td>0</td>\n",
              "      <td>0</td>\n",
              "      <td>0</td>\n",
              "      <td>1</td>\n",
              "      <td>0</td>\n",
              "      <td>2.9</td>\n",
              "      <td>1998</td>\n",
              "      <td>86000.0</td>\n",
              "      <td>143000.0</td>\n",
              "    </tr>\n",
              "  </tbody>\n",
              "</table>\n",
              "</div>"
            ],
            "text/plain": [
              "   Job Title_Business Intelligence  ...  Valor Máximo\n",
              "0                                0  ...       91000.0\n",
              "1                                0  ...      112000.0\n",
              "2                                0  ...       90000.0\n",
              "3                                0  ...       97000.0\n",
              "4                                0  ...      143000.0\n",
              "\n",
              "[5 rows x 44 columns]"
            ]
          },
          "metadata": {
            "tags": []
          },
          "execution_count": 41
        }
      ]
    },
    {
      "cell_type": "code",
      "metadata": {
        "id": "HMyoDhLvIAd-",
        "outputId": "c3d5017b-4a6e-402b-f850-193aead38ee5",
        "colab": {
          "base_uri": "https://localhost:8080/"
        }
      },
      "source": [
        "treino.shape"
      ],
      "execution_count": null,
      "outputs": [
        {
          "output_type": "execute_result",
          "data": {
            "text/plain": [
              "(932, 44)"
            ]
          },
          "metadata": {
            "tags": []
          },
          "execution_count": 42
        }
      ]
    },
    {
      "cell_type": "code",
      "metadata": {
        "id": "eGDeEUwhZmJE"
      },
      "source": [
        "# Dividindo os dados de treino e teste (X e y) Variável alvo = Valor Máximo.\n",
        "\n",
        "X = treino.drop('Valor Máximo', axis=1)\n",
        "y = treino['Valor Máximo']\n",
        "\n",
        "\n",
        "from sklearn.model_selection import train_test_split\n",
        "\n",
        "\n",
        "#vamos estratificar nossas amostras para que nosso teste tenha a mesma proporção de classes que nosso treino\n",
        "X_train, X_test, y_train, y_test = train_test_split(X,y, test_size=0.25, random_state=42)"
      ],
      "execution_count": null,
      "outputs": []
    },
    {
      "cell_type": "code",
      "metadata": {
        "id": "wKFU3Mq6IAOL",
        "outputId": "81faa8a8-b0ea-422b-9009-651e734fa23d",
        "colab": {
          "base_uri": "https://localhost:8080/"
        }
      },
      "source": [
        "from sklearn.linear_model import LinearRegression # importa o modelo\n",
        "\n",
        "regr = LinearRegression() # cria o modelo\n",
        "\n",
        "regr.fit(X_train, y_train) # treina o modelo"
      ],
      "execution_count": null,
      "outputs": [
        {
          "output_type": "execute_result",
          "data": {
            "text/plain": [
              "LinearRegression(copy_X=True, fit_intercept=True, n_jobs=None, normalize=False)"
            ]
          },
          "metadata": {
            "tags": []
          },
          "execution_count": 44
        }
      ]
    },
    {
      "cell_type": "code",
      "metadata": {
        "id": "R0bZhoboZlxH"
      },
      "source": [
        "r2_train = regr.score(X_train, y_train)\n",
        "r2_test = regr.score(X_test, y_test)"
      ],
      "execution_count": null,
      "outputs": []
    },
    {
      "cell_type": "code",
      "metadata": {
        "id": "PcDYQrRqLL-k",
        "outputId": "cb8c6480-cee2-46d1-c9f9-498d7973744f",
        "colab": {
          "base_uri": "https://localhost:8080/"
        }
      },
      "source": [
        "print('R2 no set de treino: %.2f' % r2_train)\n",
        "print('R2 no set de teste: %.2f' % r2_test)"
      ],
      "execution_count": null,
      "outputs": [
        {
          "output_type": "stream",
          "text": [
            "R2 no set de treino: 0.91\n",
            "R2 no set de teste: 0.87\n"
          ],
          "name": "stdout"
        }
      ]
    },
    {
      "cell_type": "code",
      "metadata": {
        "id": "v9-PEkdoLbVw"
      },
      "source": [
        "# Dividindo os dados de treino e teste (X e y) Variável alvo = Valor Máximo.\n",
        "\n",
        "X = treino.drop('Valor Mínimo', axis=1)\n",
        "y = treino['Valor Mínimo']\n",
        "\n",
        "\n",
        "from sklearn.model_selection import train_test_split\n",
        "\n",
        "\n",
        "#vamos estratificar nossas amostras para que nosso teste tenha a mesma proporção de classes que nosso treino\n",
        "X_train, X_test, y_train, y_test = train_test_split(X,y, test_size=0.25, random_state=42)"
      ],
      "execution_count": null,
      "outputs": []
    },
    {
      "cell_type": "code",
      "metadata": {
        "id": "YKkm1yZaLbEA",
        "outputId": "9d29a731-05c4-40e4-826f-fd40be77978c",
        "colab": {
          "base_uri": "https://localhost:8080/"
        }
      },
      "source": [
        "from sklearn.linear_model import LinearRegression # importa o modelo\n",
        "\n",
        "regr = LinearRegression() # cria o modelo\n",
        "\n",
        "regr.fit(X_train, y_train) # treina o modelo"
      ],
      "execution_count": null,
      "outputs": [
        {
          "output_type": "execute_result",
          "data": {
            "text/plain": [
              "LinearRegression(copy_X=True, fit_intercept=True, n_jobs=None, normalize=False)"
            ]
          },
          "metadata": {
            "tags": []
          },
          "execution_count": 48
        }
      ]
    },
    {
      "cell_type": "code",
      "metadata": {
        "id": "ImzVjo8eLay3"
      },
      "source": [
        "r2_train = regr.score(X_train, y_train)\n",
        "r2_test = regr.score(X_test, y_test)"
      ],
      "execution_count": null,
      "outputs": []
    },
    {
      "cell_type": "code",
      "metadata": {
        "id": "UYoXE3D2Lagt",
        "outputId": "86cfca1d-357f-48a2-fcd4-2034504ba570",
        "colab": {
          "base_uri": "https://localhost:8080/"
        }
      },
      "source": [
        "print('R2 no set de treino: %.2f' % r2_train)\n",
        "print('R2 no set de teste: %.2f' % r2_test)"
      ],
      "execution_count": null,
      "outputs": [
        {
          "output_type": "stream",
          "text": [
            "R2 no set de treino: 0.91\n",
            "R2 no set de teste: 0.86\n"
          ],
          "name": "stdout"
        }
      ]
    },
    {
      "cell_type": "code",
      "metadata": {
        "id": "Jj9JL1RcE5vH",
        "outputId": "8eec0fdd-ae82-4a88-9ced-2a1069988b08",
        "colab": {
          "base_uri": "https://localhost:8080/"
        }
      },
      "source": [
        "from sklearn.linear_model import LinearRegression\n",
        "\n",
        "lr = LinearRegression()\n",
        "lr.fit(X_train, y_train)\n",
        "lr.score(X_test, y_test)"
      ],
      "execution_count": null,
      "outputs": [
        {
          "output_type": "execute_result",
          "data": {
            "text/plain": [
              "0.8624042704382797"
            ]
          },
          "metadata": {
            "tags": []
          },
          "execution_count": 51
        }
      ]
    },
    {
      "cell_type": "code",
      "metadata": {
        "id": "cuSRPxBxFC-s",
        "outputId": "ae4def4e-a949-4e2f-b35e-f91d22432d58",
        "colab": {
          "base_uri": "https://localhost:8080/"
        }
      },
      "source": [
        "from sklearn.dummy import DummyRegressor\n",
        "\n",
        "reg = DummyRegressor(strategy='mean')\n",
        "reg.fit(X_train, y_train)\n",
        "reg.score(X_test, y_test)"
      ],
      "execution_count": null,
      "outputs": [
        {
          "output_type": "execute_result",
          "data": {
            "text/plain": [
              "-0.001005632686938318"
            ]
          },
          "metadata": {
            "tags": []
          },
          "execution_count": 52
        }
      ]
    },
    {
      "cell_type": "code",
      "metadata": {
        "id": "BiFRAh7AFHrx"
      },
      "source": [
        "from sklearn.linear_model import RidgeCV, Lasso, ElasticNet, LassoLars, HuberRegressor\n",
        "from sklearn.svm import SVR\n",
        "from sklearn.neighbors import KNeighborsRegressor\n",
        "from sklearn.ensemble import GradientBoostingRegressor, AdaBoostRegressor\n",
        "from sklearn.neural_network import MLPRegressor\n",
        "from sklearn.ensemble import RandomForestRegressor"
      ],
      "execution_count": null,
      "outputs": []
    },
    {
      "cell_type": "code",
      "metadata": {
        "id": "GQzqSZy0FI2g"
      },
      "source": [
        "reg_list = [RidgeCV(),\n",
        "            SVR(),\n",
        "            KNeighborsRegressor(),\n",
        "            RandomForestRegressor(),\n",
        "            AdaBoostRegressor(),\n",
        "            GradientBoostingRegressor(),\n",
        "            MLPRegressor(),\n",
        "            # LGBMRegressor(), \n",
        "            # XGBRegressor(objective='reg:squarederror')\n",
        "            ]"
      ],
      "execution_count": null,
      "outputs": []
    },
    {
      "cell_type": "code",
      "metadata": {
        "id": "xOqLiGZ9FMWd",
        "outputId": "2064fd8a-e904-47d5-adeb-5f0ba370f3f3",
        "colab": {
          "base_uri": "https://localhost:8080/"
        }
      },
      "source": [
        "from sklearn.model_selection import cross_val_score\n",
        "import numpy as np\n",
        "\n",
        "for reg in reg_list:\n",
        "    print(f'Treinando o modelo {reg.__class__.__name__}')\n",
        "    reg.fit(X_train, y_train)\n",
        "    \n",
        "    train_score = reg.score(X_train, y_train)\n",
        "    cv_scores = cross_val_score(reg, X_train, y_train)\n",
        "    test_score = reg.score(X_test, y_test)\n",
        "    \n",
        "    print(f\"R² treino: {train_score}\")\n",
        "    print(f\"R² validação : {np.mean(cv_scores):.2f} +- {np.std(cv_scores):.2f}\")\n",
        "    print(f\"R² teste: {test_score}\")\n",
        "    print('-'*70)"
      ],
      "execution_count": null,
      "outputs": [
        {
          "output_type": "stream",
          "text": [
            "Treinando o modelo RidgeCV\n",
            "R² treino: 0.9056017252911984\n",
            "R² validação : 0.89 +- 0.02\n",
            "R² teste: 0.8636306291922106\n",
            "----------------------------------------------------------------------\n",
            "Treinando o modelo SVR\n",
            "R² treino: -0.017287056661578152\n",
            "R² validação : -0.02 +- 0.01\n",
            "R² teste: -0.011773403596150755\n",
            "----------------------------------------------------------------------\n",
            "Treinando o modelo KNeighborsRegressor\n",
            "R² treino: 0.9357256180220067\n",
            "R² validação : 0.90 +- 0.02\n",
            "R² teste: 0.8536860285269373\n",
            "----------------------------------------------------------------------\n",
            "Treinando o modelo RandomForestRegressor\n",
            "R² treino: 0.9929094577899038\n",
            "R² validação : 0.94 +- 0.02\n",
            "R² teste: 0.8831652739330188\n",
            "----------------------------------------------------------------------\n",
            "Treinando o modelo AdaBoostRegressor\n",
            "R² treino: 0.9133188036519786\n",
            "R² validação : 0.90 +- 0.02\n",
            "R² teste: 0.8354335602771046\n",
            "----------------------------------------------------------------------\n",
            "Treinando o modelo GradientBoostingRegressor\n",
            "R² treino: 0.9704509067664842\n",
            "R² validação : 0.94 +- 0.02\n",
            "R² teste: 0.8984912256460167\n",
            "----------------------------------------------------------------------\n",
            "Treinando o modelo MLPRegressor\n"
          ],
          "name": "stdout"
        },
        {
          "output_type": "stream",
          "text": [
            "/usr/local/lib/python3.6/dist-packages/sklearn/neural_network/_multilayer_perceptron.py:571: ConvergenceWarning: Stochastic Optimizer: Maximum iterations (200) reached and the optimization hasn't converged yet.\n",
            "  % self.max_iter, ConvergenceWarning)\n",
            "/usr/local/lib/python3.6/dist-packages/sklearn/neural_network/_multilayer_perceptron.py:571: ConvergenceWarning: Stochastic Optimizer: Maximum iterations (200) reached and the optimization hasn't converged yet.\n",
            "  % self.max_iter, ConvergenceWarning)\n",
            "/usr/local/lib/python3.6/dist-packages/sklearn/neural_network/_multilayer_perceptron.py:571: ConvergenceWarning: Stochastic Optimizer: Maximum iterations (200) reached and the optimization hasn't converged yet.\n",
            "  % self.max_iter, ConvergenceWarning)\n"
          ],
          "name": "stderr"
        },
        {
          "output_type": "stream",
          "text": [
            "R² treino: 0.8789243645260907\n",
            "R² validação : 0.87 +- 0.02\n",
            "R² teste: 0.8568881090204725\n",
            "----------------------------------------------------------------------\n"
          ],
          "name": "stdout"
        },
        {
          "output_type": "stream",
          "text": [
            "/usr/local/lib/python3.6/dist-packages/sklearn/neural_network/_multilayer_perceptron.py:571: ConvergenceWarning: Stochastic Optimizer: Maximum iterations (200) reached and the optimization hasn't converged yet.\n",
            "  % self.max_iter, ConvergenceWarning)\n"
          ],
          "name": "stderr"
        }
      ]
    },
    {
      "cell_type": "code",
      "metadata": {
        "id": "E9Hr9gi5FSTO"
      },
      "source": [
        "# Bonus: testando com todos os regressores do sklearn\n",
        "from sklearn.utils import all_estimators\n",
        "\n",
        "estimators = all_estimators(type_filter='regressor')\n",
        "\n",
        "relatorio = {'nome':[],\n",
        "             'train_score':[],\n",
        "             'cv_scores_mean':[],\n",
        "             'test_score':[],\n",
        "             'estimador':[]\n",
        "             }\n",
        "\n",
        "ignore_list = ['IsotonicRegression',\n",
        " 'MultiOutputRegressor',\n",
        " 'ElasticNet',\n",
        " 'MultiTaskElasticNet',\n",
        " 'MultiTaskElasticNetCV',\n",
        " 'MultiTaskLasso',\n",
        " 'MultiTaskLassoCV',\n",
        " 'RadiusNeighborsRegressor',\n",
        " 'RegressorChain',\n",
        " 'StackingRegressor',\n",
        " 'VotingRegressor']"
      ],
      "execution_count": null,
      "outputs": []
    },
    {
      "cell_type": "code",
      "metadata": {
        "id": "J585YZTBFY3l",
        "outputId": "e20f2d39-34ca-4d61-9018-03eefee70b12",
        "colab": {
          "base_uri": "https://localhost:8080/"
        }
      },
      "source": [
        "for name, RegressorClass in estimators:\n",
        "    if name not in ignore_list:\n",
        "        print(f'Treinando o modelo {name}')\n",
        "        reg = RegressorClass()\n",
        "        reg.fit(X_train, y_train)\n",
        "\n",
        "        train_score = reg.score(X_train, y_train)\n",
        "        cv_scores = cross_val_score(reg, X_train, y_train)\n",
        "        test_score = reg.score(X_test, y_test)\n",
        "\n",
        "        print(f\"R² treino: {train_score}\")\n",
        "        print(f\"R² validação: {np.mean(cv_scores):.2f} +- {np.std(cv_scores):.2f}\")\n",
        "        print(f\"R² teste: {test_score}\")\n",
        "        print('-'*70)\n",
        "\n",
        "        relatorio['nome'].append(name)\n",
        "        relatorio['train_score'].append(train_score)\n",
        "        relatorio['cv_scores_mean'].append(np.mean(cv_scores))\n",
        "        relatorio['test_score'].append(test_score)\n",
        "        relatorio['estimador'].append(reg)"
      ],
      "execution_count": null,
      "outputs": [
        {
          "output_type": "stream",
          "text": [
            "Treinando o modelo ARDRegression\n",
            "R² treino: 0.9037208379430162\n",
            "R² validação: 0.89 +- 0.02\n",
            "R² teste: 0.8606355356043264\n",
            "----------------------------------------------------------------------\n",
            "Treinando o modelo AdaBoostRegressor\n",
            "R² treino: 0.9106317560603312\n",
            "R² validação: 0.90 +- 0.02\n",
            "R² teste: 0.8259684303438857\n",
            "----------------------------------------------------------------------\n",
            "Treinando o modelo BaggingRegressor\n",
            "R² treino: 0.9879464748508654\n",
            "R² validação: 0.93 +- 0.04\n",
            "R² teste: 0.8985821917876867\n",
            "----------------------------------------------------------------------\n",
            "Treinando o modelo BayesianRidge\n",
            "R² treino: 0.8892567401534085\n",
            "R² validação: 0.88 +- 0.02\n",
            "R² teste: 0.8636508406873553\n",
            "----------------------------------------------------------------------\n",
            "Treinando o modelo CCA\n",
            "R² treino: 0.9044811084179852\n",
            "R² validação: 0.89 +- 0.02\n",
            "R² teste: 0.859041437742001\n",
            "----------------------------------------------------------------------\n",
            "Treinando o modelo DecisionTreeRegressor\n"
          ],
          "name": "stdout"
        },
        {
          "output_type": "stream",
          "text": [
            "/usr/local/lib/python3.6/dist-packages/sklearn/cross_decomposition/_pls.py:321: UserWarning: Y residual constant at iteration 1\n",
            "  warnings.warn('Y residual constant at iteration %s' % k)\n",
            "/usr/local/lib/python3.6/dist-packages/sklearn/cross_decomposition/_pls.py:321: UserWarning: Y residual constant at iteration 1\n",
            "  warnings.warn('Y residual constant at iteration %s' % k)\n",
            "/usr/local/lib/python3.6/dist-packages/sklearn/cross_decomposition/_pls.py:321: UserWarning: Y residual constant at iteration 1\n",
            "  warnings.warn('Y residual constant at iteration %s' % k)\n",
            "/usr/local/lib/python3.6/dist-packages/sklearn/cross_decomposition/_pls.py:321: UserWarning: Y residual constant at iteration 1\n",
            "  warnings.warn('Y residual constant at iteration %s' % k)\n",
            "/usr/local/lib/python3.6/dist-packages/sklearn/cross_decomposition/_pls.py:321: UserWarning: Y residual constant at iteration 1\n",
            "  warnings.warn('Y residual constant at iteration %s' % k)\n",
            "/usr/local/lib/python3.6/dist-packages/sklearn/cross_decomposition/_pls.py:321: UserWarning: Y residual constant at iteration 1\n",
            "  warnings.warn('Y residual constant at iteration %s' % k)\n"
          ],
          "name": "stderr"
        },
        {
          "output_type": "stream",
          "text": [
            "R² treino: 0.999998433205883\n",
            "R² validação: 0.92 +- 0.02\n",
            "R² teste: 0.7885038172612131\n",
            "----------------------------------------------------------------------\n",
            "Treinando o modelo DummyRegressor\n",
            "R² treino: 0.0\n",
            "R² validação: -0.01 +- 0.01\n",
            "R² teste: -0.001005632686938318\n",
            "----------------------------------------------------------------------\n",
            "Treinando o modelo ElasticNetCV\n",
            "R² treino: 0.8885068870530728\n",
            "R² validação: 0.88 +- 0.02\n",
            "R² teste: 0.8632930446894922\n",
            "----------------------------------------------------------------------\n",
            "Treinando o modelo ExtraTreeRegressor\n",
            "R² treino: 0.999998433205883\n",
            "R² validação: 0.92 +- 0.02\n",
            "R² teste: 0.9148129226116936\n",
            "----------------------------------------------------------------------\n",
            "Treinando o modelo ExtraTreesRegressor\n",
            "R² treino: 0.9999984083878641\n",
            "R² validação: 0.95 +- 0.02\n",
            "R² teste: 0.9245272935000756\n",
            "----------------------------------------------------------------------\n",
            "Treinando o modelo GaussianProcessRegressor\n",
            "R² treino: 0.999998433205883\n",
            "R² validação: -2.69 +- 0.78\n",
            "R² teste: -2.7362679895315747\n",
            "----------------------------------------------------------------------\n",
            "Treinando o modelo GradientBoostingRegressor\n",
            "R² treino: 0.9704509067664842\n",
            "R² validação: 0.94 +- 0.02\n",
            "R² teste: 0.899508778167673\n",
            "----------------------------------------------------------------------\n",
            "Treinando o modelo HistGradientBoostingRegressor\n",
            "R² treino: 0.964343872910784\n",
            "R² validação: 0.91 +- 0.01\n",
            "R² teste: 0.8743234608910013\n",
            "----------------------------------------------------------------------\n",
            "Treinando o modelo HuberRegressor\n",
            "R² treino: 0.8729211076535741\n",
            "R² validação: 0.87 +- 0.03\n",
            "R² teste: 0.8549411162137841\n",
            "----------------------------------------------------------------------\n",
            "Treinando o modelo KNeighborsRegressor\n",
            "R² treino: 0.9357256180220067\n",
            "R² validação: 0.90 +- 0.02\n",
            "R² teste: 0.8536860285269373\n",
            "----------------------------------------------------------------------\n",
            "Treinando o modelo KernelRidge\n",
            "R² treino: 0.9055124929103822\n",
            "R² validação: 0.89 +- 0.02\n",
            "R² teste: 0.8646431809108817\n",
            "----------------------------------------------------------------------\n",
            "Treinando o modelo Lars\n"
          ],
          "name": "stdout"
        },
        {
          "output_type": "stream",
          "text": [
            "/usr/local/lib/python3.6/dist-packages/sklearn/linear_model/_least_angle.py:582: ConvergenceWarning: Regressors in active set degenerate. Dropping a regressor, after 36 iterations, i.e. alpha=5.087e-01, with an active set of 35 regressors, and the smallest cholesky pivot element being 6.409e-08. Reduce max_iter or increase eps parameters.\n",
            "  ConvergenceWarning)\n",
            "/usr/local/lib/python3.6/dist-packages/sklearn/linear_model/_least_angle.py:582: ConvergenceWarning: Regressors in active set degenerate. Dropping a regressor, after 39 iterations, i.e. alpha=1.612e-01, with an active set of 37 regressors, and the smallest cholesky pivot element being 6.409e-08. Reduce max_iter or increase eps parameters.\n",
            "  ConvergenceWarning)\n",
            "/usr/local/lib/python3.6/dist-packages/sklearn/linear_model/_least_angle.py:582: ConvergenceWarning: Regressors in active set degenerate. Dropping a regressor, after 40 iterations, i.e. alpha=8.711e-02, with an active set of 38 regressors, and the smallest cholesky pivot element being 6.409e-08. Reduce max_iter or increase eps parameters.\n",
            "  ConvergenceWarning)\n",
            "/usr/local/lib/python3.6/dist-packages/sklearn/linear_model/_least_angle.py:582: ConvergenceWarning: Regressors in active set degenerate. Dropping a regressor, after 42 iterations, i.e. alpha=8.016e-02, with an active set of 39 regressors, and the smallest cholesky pivot element being 6.409e-08. Reduce max_iter or increase eps parameters.\n",
            "  ConvergenceWarning)\n",
            "/usr/local/lib/python3.6/dist-packages/sklearn/linear_model/_least_angle.py:582: ConvergenceWarning: Regressors in active set degenerate. Dropping a regressor, after 42 iterations, i.e. alpha=2.927e-02, with an active set of 39 regressors, and the smallest cholesky pivot element being 6.747e-08. Reduce max_iter or increase eps parameters.\n",
            "  ConvergenceWarning)\n",
            "/usr/local/lib/python3.6/dist-packages/sklearn/linear_model/_least_angle.py:582: ConvergenceWarning: Regressors in active set degenerate. Dropping a regressor, after 43 iterations, i.e. alpha=5.673e-01, with an active set of 39 regressors, and the smallest cholesky pivot element being 2.980e-08. Reduce max_iter or increase eps parameters.\n",
            "  ConvergenceWarning)\n"
          ],
          "name": "stderr"
        },
        {
          "output_type": "stream",
          "text": [
            "R² treino: 0.9058498178490657\n",
            "R² validação: -25577554940851856080896.00 +- 51155109881703712161792.00\n",
            "R² teste: -2.427007990386356e+19\n",
            "----------------------------------------------------------------------\n",
            "Treinando o modelo LarsCV\n"
          ],
          "name": "stdout"
        },
        {
          "output_type": "stream",
          "text": [
            "/usr/local/lib/python3.6/dist-packages/sklearn/linear_model/_least_angle.py:582: ConvergenceWarning: Regressors in active set degenerate. Dropping a regressor, after 29 iterations, i.e. alpha=3.330e+00, with an active set of 28 regressors, and the smallest cholesky pivot element being 8.689e-08. Reduce max_iter or increase eps parameters.\n",
            "  ConvergenceWarning)\n",
            "/usr/local/lib/python3.6/dist-packages/sklearn/linear_model/_least_angle.py:582: ConvergenceWarning: Regressors in active set degenerate. Dropping a regressor, after 32 iterations, i.e. alpha=2.018e+00, with an active set of 31 regressors, and the smallest cholesky pivot element being 8.689e-08. Reduce max_iter or increase eps parameters.\n",
            "  ConvergenceWarning)\n",
            "/usr/local/lib/python3.6/dist-packages/sklearn/linear_model/_least_angle.py:582: ConvergenceWarning: Regressors in active set degenerate. Dropping a regressor, after 34 iterations, i.e. alpha=1.266e+00, with an active set of 33 regressors, and the smallest cholesky pivot element being 8.689e-08. Reduce max_iter or increase eps parameters.\n",
            "  ConvergenceWarning)\n",
            "/usr/local/lib/python3.6/dist-packages/sklearn/linear_model/_least_angle.py:582: ConvergenceWarning: Regressors in active set degenerate. Dropping a regressor, after 36 iterations, i.e. alpha=4.633e-01, with an active set of 35 regressors, and the smallest cholesky pivot element being 8.689e-08. Reduce max_iter or increase eps parameters.\n",
            "  ConvergenceWarning)\n",
            "/usr/local/lib/python3.6/dist-packages/sklearn/linear_model/_least_angle.py:582: ConvergenceWarning: Regressors in active set degenerate. Dropping a regressor, after 39 iterations, i.e. alpha=3.451e-01, with an active set of 37 regressors, and the smallest cholesky pivot element being 8.941e-08. Reduce max_iter or increase eps parameters.\n",
            "  ConvergenceWarning)\n",
            "/usr/local/lib/python3.6/dist-packages/sklearn/linear_model/_least_angle.py:582: ConvergenceWarning: Regressors in active set degenerate. Dropping a regressor, after 39 iterations, i.e. alpha=3.168e-01, with an active set of 37 regressors, and the smallest cholesky pivot element being 8.941e-08. Reduce max_iter or increase eps parameters.\n",
            "  ConvergenceWarning)\n",
            "/usr/local/lib/python3.6/dist-packages/sklearn/linear_model/_least_angle.py:582: ConvergenceWarning: Regressors in active set degenerate. Dropping a regressor, after 41 iterations, i.e. alpha=2.528e-01, with an active set of 38 regressors, and the smallest cholesky pivot element being 8.941e-08. Reduce max_iter or increase eps parameters.\n",
            "  ConvergenceWarning)\n",
            "/usr/local/lib/python3.6/dist-packages/sklearn/linear_model/_least_angle.py:582: ConvergenceWarning: Regressors in active set degenerate. Dropping a regressor, after 43 iterations, i.e. alpha=2.256e-01, with an active set of 39 regressors, and the smallest cholesky pivot element being 8.941e-08. Reduce max_iter or increase eps parameters.\n",
            "  ConvergenceWarning)\n",
            "/usr/local/lib/python3.6/dist-packages/sklearn/linear_model/_least_angle.py:582: ConvergenceWarning: Regressors in active set degenerate. Dropping a regressor, after 35 iterations, i.e. alpha=1.546e+00, with an active set of 34 regressors, and the smallest cholesky pivot element being 8.689e-08. Reduce max_iter or increase eps parameters.\n",
            "  ConvergenceWarning)\n",
            "/usr/local/lib/python3.6/dist-packages/sklearn/linear_model/_least_angle.py:582: ConvergenceWarning: Regressors in active set degenerate. Dropping a regressor, after 35 iterations, i.e. alpha=1.100e+00, with an active set of 34 regressors, and the smallest cholesky pivot element being 8.689e-08. Reduce max_iter or increase eps parameters.\n",
            "  ConvergenceWarning)\n",
            "/usr/local/lib/python3.6/dist-packages/sklearn/linear_model/_least_angle.py:582: ConvergenceWarning: Regressors in active set degenerate. Dropping a regressor, after 37 iterations, i.e. alpha=8.443e-01, with an active set of 35 regressors, and the smallest cholesky pivot element being 8.689e-08. Reduce max_iter or increase eps parameters.\n",
            "  ConvergenceWarning)\n",
            "/usr/local/lib/python3.6/dist-packages/sklearn/linear_model/_least_angle.py:582: ConvergenceWarning: Regressors in active set degenerate. Dropping a regressor, after 37 iterations, i.e. alpha=3.904e-01, with an active set of 35 regressors, and the smallest cholesky pivot element being 6.909e-08. Reduce max_iter or increase eps parameters.\n",
            "  ConvergenceWarning)\n",
            "/usr/local/lib/python3.6/dist-packages/sklearn/linear_model/_least_angle.py:582: ConvergenceWarning: Regressors in active set degenerate. Dropping a regressor, after 37 iterations, i.e. alpha=1.866e-01, with an active set of 35 regressors, and the smallest cholesky pivot element being 2.356e-08. Reduce max_iter or increase eps parameters.\n",
            "  ConvergenceWarning)\n",
            "/usr/local/lib/python3.6/dist-packages/sklearn/linear_model/_least_angle.py:582: ConvergenceWarning: Regressors in active set degenerate. Dropping a regressor, after 37 iterations, i.e. alpha=5.550e-02, with an active set of 35 regressors, and the smallest cholesky pivot element being 2.220e-16. Reduce max_iter or increase eps parameters.\n",
            "  ConvergenceWarning)\n",
            "/usr/local/lib/python3.6/dist-packages/sklearn/linear_model/_least_angle.py:582: ConvergenceWarning: Regressors in active set degenerate. Dropping a regressor, after 38 iterations, i.e. alpha=1.431e+00, with an active set of 36 regressors, and the smallest cholesky pivot element being 6.322e-08. Reduce max_iter or increase eps parameters.\n",
            "  ConvergenceWarning)\n",
            "/usr/local/lib/python3.6/dist-packages/sklearn/linear_model/_least_angle.py:582: ConvergenceWarning: Regressors in active set degenerate. Dropping a regressor, after 39 iterations, i.e. alpha=3.163e-01, with an active set of 37 regressors, and the smallest cholesky pivot element being 7.743e-08. Reduce max_iter or increase eps parameters.\n",
            "  ConvergenceWarning)\n",
            "/usr/local/lib/python3.6/dist-packages/sklearn/linear_model/_least_angle.py:582: ConvergenceWarning: Regressors in active set degenerate. Dropping a regressor, after 39 iterations, i.e. alpha=1.602e-01, with an active set of 37 regressors, and the smallest cholesky pivot element being 1.825e-08. Reduce max_iter or increase eps parameters.\n",
            "  ConvergenceWarning)\n",
            "/usr/local/lib/python3.6/dist-packages/sklearn/linear_model/_least_angle.py:582: ConvergenceWarning: Regressors in active set degenerate. Dropping a regressor, after 39 iterations, i.e. alpha=1.115e-01, with an active set of 37 regressors, and the smallest cholesky pivot element being 6.322e-08. Reduce max_iter or increase eps parameters.\n",
            "  ConvergenceWarning)\n",
            "/usr/local/lib/python3.6/dist-packages/sklearn/linear_model/_least_angle.py:582: ConvergenceWarning: Regressors in active set degenerate. Dropping a regressor, after 39 iterations, i.e. alpha=2.817e-02, with an active set of 37 regressors, and the smallest cholesky pivot element being 6.322e-08. Reduce max_iter or increase eps parameters.\n",
            "  ConvergenceWarning)\n",
            "/usr/local/lib/python3.6/dist-packages/sklearn/linear_model/_least_angle.py:582: ConvergenceWarning: Regressors in active set degenerate. Dropping a regressor, after 37 iterations, i.e. alpha=6.440e-01, with an active set of 36 regressors, and the smallest cholesky pivot element being 3.650e-08. Reduce max_iter or increase eps parameters.\n",
            "  ConvergenceWarning)\n",
            "/usr/local/lib/python3.6/dist-packages/sklearn/linear_model/_least_angle.py:582: ConvergenceWarning: Regressors in active set degenerate. Dropping a regressor, after 39 iterations, i.e. alpha=6.246e-01, with an active set of 37 regressors, and the smallest cholesky pivot element being 2.581e-08. Reduce max_iter or increase eps parameters.\n",
            "  ConvergenceWarning)\n",
            "/usr/local/lib/python3.6/dist-packages/sklearn/linear_model/_least_angle.py:582: ConvergenceWarning: Regressors in active set degenerate. Dropping a regressor, after 43 iterations, i.e. alpha=3.084e+00, with an active set of 39 regressors, and the smallest cholesky pivot element being 2.581e-08. Reduce max_iter or increase eps parameters.\n",
            "  ConvergenceWarning)\n",
            "/usr/local/lib/python3.6/dist-packages/sklearn/linear_model/_least_angle.py:582: ConvergenceWarning: Regressors in active set degenerate. Dropping a regressor, after 43 iterations, i.e. alpha=4.047e-02, with an active set of 39 regressors, and the smallest cholesky pivot element being 9.996e-08. Reduce max_iter or increase eps parameters.\n",
            "  ConvergenceWarning)\n",
            "/usr/local/lib/python3.6/dist-packages/sklearn/linear_model/_least_angle.py:582: ConvergenceWarning: Regressors in active set degenerate. Dropping a regressor, after 44 iterations, i.e. alpha=6.798e+00, with an active set of 37 regressors, and the smallest cholesky pivot element being 5.373e-08. Reduce max_iter or increase eps parameters.\n",
            "  ConvergenceWarning)\n",
            "/usr/local/lib/python3.6/dist-packages/sklearn/linear_model/_least_angle.py:582: ConvergenceWarning: Regressors in active set degenerate. Dropping a regressor, after 39 iterations, i.e. alpha=2.555e-02, with an active set of 37 regressors, and the smallest cholesky pivot element being 9.125e-08. Reduce max_iter or increase eps parameters.\n",
            "  ConvergenceWarning)\n",
            "/usr/local/lib/python3.6/dist-packages/sklearn/linear_model/_least_angle.py:582: ConvergenceWarning: Regressors in active set degenerate. Dropping a regressor, after 39 iterations, i.e. alpha=1.344e-02, with an active set of 37 regressors, and the smallest cholesky pivot element being 5.475e-08. Reduce max_iter or increase eps parameters.\n",
            "  ConvergenceWarning)\n",
            "/usr/local/lib/python3.6/dist-packages/sklearn/linear_model/_least_angle.py:582: ConvergenceWarning: Regressors in active set degenerate. Dropping a regressor, after 39 iterations, i.e. alpha=4.367e-03, with an active set of 37 regressors, and the smallest cholesky pivot element being 8.752e-08. Reduce max_iter or increase eps parameters.\n",
            "  ConvergenceWarning)\n",
            "/usr/local/lib/python3.6/dist-packages/sklearn/linear_model/_least_angle.py:582: ConvergenceWarning: Regressors in active set degenerate. Dropping a regressor, after 30 iterations, i.e. alpha=2.427e+00, with an active set of 29 regressors, and the smallest cholesky pivot element being 1.490e-08. Reduce max_iter or increase eps parameters.\n",
            "  ConvergenceWarning)\n",
            "/usr/local/lib/python3.6/dist-packages/sklearn/linear_model/_least_angle.py:582: ConvergenceWarning: Regressors in active set degenerate. Dropping a regressor, after 34 iterations, i.e. alpha=1.551e+00, with an active set of 33 regressors, and the smallest cholesky pivot element being 1.490e-08. Reduce max_iter or increase eps parameters.\n",
            "  ConvergenceWarning)\n",
            "/usr/local/lib/python3.6/dist-packages/sklearn/linear_model/_least_angle.py:582: ConvergenceWarning: Regressors in active set degenerate. Dropping a regressor, after 35 iterations, i.e. alpha=1.156e+00, with an active set of 34 regressors, and the smallest cholesky pivot element being 1.825e-08. Reduce max_iter or increase eps parameters.\n",
            "  ConvergenceWarning)\n",
            "/usr/local/lib/python3.6/dist-packages/sklearn/linear_model/_least_angle.py:582: ConvergenceWarning: Regressors in active set degenerate. Dropping a regressor, after 36 iterations, i.e. alpha=5.843e-01, with an active set of 35 regressors, and the smallest cholesky pivot element being 1.490e-08. Reduce max_iter or increase eps parameters.\n",
            "  ConvergenceWarning)\n",
            "/usr/local/lib/python3.6/dist-packages/sklearn/linear_model/_least_angle.py:582: ConvergenceWarning: Regressors in active set degenerate. Dropping a regressor, after 36 iterations, i.e. alpha=4.237e-01, with an active set of 35 regressors, and the smallest cholesky pivot element being 7.300e-08. Reduce max_iter or increase eps parameters.\n",
            "  ConvergenceWarning)\n",
            "/usr/local/lib/python3.6/dist-packages/sklearn/linear_model/_least_angle.py:582: ConvergenceWarning: Regressors in active set degenerate. Dropping a regressor, after 39 iterations, i.e. alpha=2.676e-01, with an active set of 37 regressors, and the smallest cholesky pivot element being 1.490e-08. Reduce max_iter or increase eps parameters.\n",
            "  ConvergenceWarning)\n",
            "/usr/local/lib/python3.6/dist-packages/sklearn/linear_model/_least_angle.py:582: ConvergenceWarning: Regressors in active set degenerate. Dropping a regressor, after 39 iterations, i.e. alpha=2.105e-01, with an active set of 37 regressors, and the smallest cholesky pivot element being 1.825e-08. Reduce max_iter or increase eps parameters.\n",
            "  ConvergenceWarning)\n",
            "/usr/local/lib/python3.6/dist-packages/sklearn/linear_model/_least_angle.py:582: ConvergenceWarning: Regressors in active set degenerate. Dropping a regressor, after 39 iterations, i.e. alpha=1.097e-03, with an active set of 37 regressors, and the smallest cholesky pivot element being 8.162e-08. Reduce max_iter or increase eps parameters.\n",
            "  ConvergenceWarning)\n",
            "/usr/local/lib/python3.6/dist-packages/sklearn/linear_model/_least_angle.py:582: ConvergenceWarning: Regressors in active set degenerate. Dropping a regressor, after 39 iterations, i.e. alpha=3.795e-01, with an active set of 37 regressors, and the smallest cholesky pivot element being 8.025e-08. Reduce max_iter or increase eps parameters.\n",
            "  ConvergenceWarning)\n",
            "/usr/local/lib/python3.6/dist-packages/sklearn/linear_model/_least_angle.py:582: ConvergenceWarning: Regressors in active set degenerate. Dropping a regressor, after 39 iterations, i.e. alpha=2.996e-01, with an active set of 37 regressors, and the smallest cholesky pivot element being 8.025e-08. Reduce max_iter or increase eps parameters.\n",
            "  ConvergenceWarning)\n",
            "/usr/local/lib/python3.6/dist-packages/sklearn/linear_model/_least_angle.py:582: ConvergenceWarning: Regressors in active set degenerate. Dropping a regressor, after 39 iterations, i.e. alpha=2.671e-01, with an active set of 37 regressors, and the smallest cholesky pivot element being 5.162e-08. Reduce max_iter or increase eps parameters.\n",
            "  ConvergenceWarning)\n",
            "/usr/local/lib/python3.6/dist-packages/sklearn/linear_model/_least_angle.py:582: ConvergenceWarning: Regressors in active set degenerate. Dropping a regressor, after 34 iterations, i.e. alpha=1.638e+00, with an active set of 33 regressors, and the smallest cholesky pivot element being 8.162e-08. Reduce max_iter or increase eps parameters.\n",
            "  ConvergenceWarning)\n",
            "/usr/local/lib/python3.6/dist-packages/sklearn/linear_model/_least_angle.py:582: ConvergenceWarning: Regressors in active set degenerate. Dropping a regressor, after 35 iterations, i.e. alpha=8.445e-01, with an active set of 34 regressors, and the smallest cholesky pivot element being 8.162e-08. Reduce max_iter or increase eps parameters.\n",
            "  ConvergenceWarning)\n",
            "/usr/local/lib/python3.6/dist-packages/sklearn/linear_model/_least_angle.py:582: ConvergenceWarning: Regressors in active set degenerate. Dropping a regressor, after 37 iterations, i.e. alpha=4.173e-01, with an active set of 36 regressors, and the smallest cholesky pivot element being 8.162e-08. Reduce max_iter or increase eps parameters.\n",
            "  ConvergenceWarning)\n",
            "/usr/local/lib/python3.6/dist-packages/sklearn/linear_model/_least_angle.py:582: ConvergenceWarning: Regressors in active set degenerate. Dropping a regressor, after 39 iterations, i.e. alpha=2.585e-01, with an active set of 37 regressors, and the smallest cholesky pivot element being 8.941e-08. Reduce max_iter or increase eps parameters.\n",
            "  ConvergenceWarning)\n",
            "/usr/local/lib/python3.6/dist-packages/sklearn/linear_model/_least_angle.py:582: ConvergenceWarning: Regressors in active set degenerate. Dropping a regressor, after 39 iterations, i.e. alpha=2.505e-01, with an active set of 37 regressors, and the smallest cholesky pivot element being 4.942e-08. Reduce max_iter or increase eps parameters.\n",
            "  ConvergenceWarning)\n",
            "/usr/local/lib/python3.6/dist-packages/sklearn/linear_model/_least_angle.py:582: ConvergenceWarning: Regressors in active set degenerate. Dropping a regressor, after 41 iterations, i.e. alpha=4.667e-02, with an active set of 38 regressors, and the smallest cholesky pivot element being 9.657e-08. Reduce max_iter or increase eps parameters.\n",
            "  ConvergenceWarning)\n",
            "/usr/local/lib/python3.6/dist-packages/sklearn/linear_model/_least_angle.py:582: ConvergenceWarning: Regressors in active set degenerate. Dropping a regressor, after 41 iterations, i.e. alpha=3.025e-03, with an active set of 38 regressors, and the smallest cholesky pivot element being 5.162e-08. Reduce max_iter or increase eps parameters.\n",
            "  ConvergenceWarning)\n",
            "/usr/local/lib/python3.6/dist-packages/sklearn/linear_model/_least_angle.py:582: ConvergenceWarning: Regressors in active set degenerate. Dropping a regressor, after 83 iterations, i.e. alpha=1.298e+35, with an active set of 36 regressors, and the smallest cholesky pivot element being 8.689e-08. Reduce max_iter or increase eps parameters.\n",
            "  ConvergenceWarning)\n",
            "/usr/local/lib/python3.6/dist-packages/sklearn/linear_model/_least_angle.py:582: ConvergenceWarning: Regressors in active set degenerate. Dropping a regressor, after 83 iterations, i.e. alpha=2.265e+34, with an active set of 36 regressors, and the smallest cholesky pivot element being 7.598e-08. Reduce max_iter or increase eps parameters.\n",
            "  ConvergenceWarning)\n",
            "/usr/local/lib/python3.6/dist-packages/sklearn/linear_model/_least_angle.py:582: ConvergenceWarning: Regressors in active set degenerate. Dropping a regressor, after 83 iterations, i.e. alpha=5.280e+33, with an active set of 36 regressors, and the smallest cholesky pivot element being 7.598e-08. Reduce max_iter or increase eps parameters.\n",
            "  ConvergenceWarning)\n",
            "/usr/local/lib/python3.6/dist-packages/sklearn/linear_model/_least_angle.py:582: ConvergenceWarning: Regressors in active set degenerate. Dropping a regressor, after 42 iterations, i.e. alpha=3.239e+00, with an active set of 37 regressors, and the smallest cholesky pivot element being 8.941e-08. Reduce max_iter or increase eps parameters.\n",
            "  ConvergenceWarning)\n",
            "/usr/local/lib/python3.6/dist-packages/sklearn/linear_model/_least_angle.py:582: ConvergenceWarning: Regressors in active set degenerate. Dropping a regressor, after 42 iterations, i.e. alpha=2.629e+00, with an active set of 37 regressors, and the smallest cholesky pivot element being 7.146e-08. Reduce max_iter or increase eps parameters.\n",
            "  ConvergenceWarning)\n"
          ],
          "name": "stderr"
        },
        {
          "output_type": "stream",
          "text": [
            "R² treino: 0.9040453803612191\n",
            "R² validação: 0.89 +- 0.02\n",
            "R² teste: 0.8632935727821747\n",
            "----------------------------------------------------------------------\n",
            "Treinando o modelo Lasso\n",
            "R² treino: 0.9058486887308854\n",
            "R² validação: 0.89 +- 0.02\n",
            "R² teste: 0.8625033445718393\n",
            "----------------------------------------------------------------------\n",
            "Treinando o modelo LassoCV\n",
            "R² treino: 0.8885084488167472\n",
            "R² validação: 0.88 +- 0.02\n",
            "R² teste: 0.8632588868340767\n",
            "----------------------------------------------------------------------\n",
            "Treinando o modelo LassoLars\n",
            "R² treino: 0.9058094495058677\n",
            "R² validação: 0.89 +- 0.02\n",
            "R² teste: 0.862767478953444\n",
            "----------------------------------------------------------------------\n",
            "Treinando o modelo LassoLarsCV\n",
            "R² treino: 0.9040453803612191\n",
            "R² validação: 0.89 +- 0.02\n",
            "R² teste: 0.8632935727821747\n",
            "----------------------------------------------------------------------\n",
            "Treinando o modelo LassoLarsIC\n",
            "R² treino: 0.8926344153976551\n",
            "R² validação: 0.89 +- 0.02\n",
            "R² teste: 0.8622705254259915\n",
            "----------------------------------------------------------------------\n",
            "Treinando o modelo LinearRegression\n",
            "R² treino: 0.9058537389622089\n",
            "R² validação: 0.89 +- 0.02\n",
            "R² teste: 0.8624042704382797\n",
            "----------------------------------------------------------------------\n",
            "Treinando o modelo LinearSVR\n"
          ],
          "name": "stdout"
        },
        {
          "output_type": "stream",
          "text": [
            "/usr/local/lib/python3.6/dist-packages/sklearn/svm/_base.py:947: ConvergenceWarning: Liblinear failed to converge, increase the number of iterations.\n",
            "  \"the number of iterations.\", ConvergenceWarning)\n",
            "/usr/local/lib/python3.6/dist-packages/sklearn/svm/_base.py:947: ConvergenceWarning: Liblinear failed to converge, increase the number of iterations.\n",
            "  \"the number of iterations.\", ConvergenceWarning)\n",
            "/usr/local/lib/python3.6/dist-packages/sklearn/svm/_base.py:947: ConvergenceWarning: Liblinear failed to converge, increase the number of iterations.\n",
            "  \"the number of iterations.\", ConvergenceWarning)\n",
            "/usr/local/lib/python3.6/dist-packages/sklearn/svm/_base.py:947: ConvergenceWarning: Liblinear failed to converge, increase the number of iterations.\n",
            "  \"the number of iterations.\", ConvergenceWarning)\n",
            "/usr/local/lib/python3.6/dist-packages/sklearn/svm/_base.py:947: ConvergenceWarning: Liblinear failed to converge, increase the number of iterations.\n",
            "  \"the number of iterations.\", ConvergenceWarning)\n",
            "/usr/local/lib/python3.6/dist-packages/sklearn/svm/_base.py:947: ConvergenceWarning: Liblinear failed to converge, increase the number of iterations.\n",
            "  \"the number of iterations.\", ConvergenceWarning)\n"
          ],
          "name": "stderr"
        },
        {
          "output_type": "stream",
          "text": [
            "R² treino: 0.8564919101716307\n",
            "R² validação: 0.76 +- 0.19\n",
            "R² teste: 0.8413014516264958\n",
            "----------------------------------------------------------------------\n",
            "Treinando o modelo MLPRegressor\n"
          ],
          "name": "stdout"
        },
        {
          "output_type": "stream",
          "text": [
            "/usr/local/lib/python3.6/dist-packages/sklearn/neural_network/_multilayer_perceptron.py:571: ConvergenceWarning: Stochastic Optimizer: Maximum iterations (200) reached and the optimization hasn't converged yet.\n",
            "  % self.max_iter, ConvergenceWarning)\n"
          ],
          "name": "stderr"
        },
        {
          "output_type": "stream",
          "text": [
            "R² treino: 0.8728176057469178\n",
            "R² validação: 0.87 +- 0.02\n",
            "R² teste: 0.8519919661849737\n",
            "----------------------------------------------------------------------\n",
            "Treinando o modelo NuSVR\n",
            "R² treino: -0.005067067310871032\n",
            "R² validação: -0.01 +- 0.01\n",
            "R² teste: -0.0011753632522610857\n",
            "----------------------------------------------------------------------\n",
            "Treinando o modelo OrthogonalMatchingPursuit\n",
            "R² treino: 0.8997522935920909\n",
            "R² validação: 0.89 +- 0.02\n",
            "R² teste: 0.8567384102628204\n",
            "----------------------------------------------------------------------\n",
            "Treinando o modelo OrthogonalMatchingPursuitCV\n",
            "R² treino: 0.898576245142963\n",
            "R² validação: 0.89 +- 0.02\n",
            "R² teste: 0.8575368851031407\n",
            "----------------------------------------------------------------------\n",
            "Treinando o modelo PLSCanonical\n",
            "R² treino: 0.3899889213544796\n",
            "R² validação: 0.37 +- 0.11\n",
            "R² teste: 0.20122892086658162\n",
            "----------------------------------------------------------------------\n",
            "Treinando o modelo PLSRegression\n"
          ],
          "name": "stdout"
        },
        {
          "output_type": "stream",
          "text": [
            "/usr/local/lib/python3.6/dist-packages/sklearn/cross_decomposition/_pls.py:321: UserWarning: Y residual constant at iteration 1\n",
            "  warnings.warn('Y residual constant at iteration %s' % k)\n",
            "/usr/local/lib/python3.6/dist-packages/sklearn/cross_decomposition/_pls.py:321: UserWarning: Y residual constant at iteration 1\n",
            "  warnings.warn('Y residual constant at iteration %s' % k)\n",
            "/usr/local/lib/python3.6/dist-packages/sklearn/cross_decomposition/_pls.py:321: UserWarning: Y residual constant at iteration 1\n",
            "  warnings.warn('Y residual constant at iteration %s' % k)\n",
            "/usr/local/lib/python3.6/dist-packages/sklearn/cross_decomposition/_pls.py:321: UserWarning: Y residual constant at iteration 1\n",
            "  warnings.warn('Y residual constant at iteration %s' % k)\n",
            "/usr/local/lib/python3.6/dist-packages/sklearn/cross_decomposition/_pls.py:321: UserWarning: Y residual constant at iteration 1\n",
            "  warnings.warn('Y residual constant at iteration %s' % k)\n",
            "/usr/local/lib/python3.6/dist-packages/sklearn/cross_decomposition/_pls.py:321: UserWarning: Y residual constant at iteration 1\n",
            "  warnings.warn('Y residual constant at iteration %s' % k)\n"
          ],
          "name": "stderr"
        },
        {
          "output_type": "stream",
          "text": [
            "R² treino: 0.8347727369997121\n",
            "R² validação: 0.82 +- 0.02\n",
            "R² teste: 0.7851703116263045\n",
            "----------------------------------------------------------------------\n",
            "Treinando o modelo PassiveAggressiveRegressor\n",
            "R² treino: 0.867475093445707\n",
            "R² validação: 0.85 +- 0.05\n",
            "R² teste: 0.8371878207548562\n",
            "----------------------------------------------------------------------\n",
            "Treinando o modelo RANSACRegressor\n",
            "R² treino: 0.8876906273058369\n",
            "R² validação: 0.88 +- 0.02\n",
            "R² teste: 0.8593301646954807\n",
            "----------------------------------------------------------------------\n",
            "Treinando o modelo RandomForestRegressor\n",
            "R² treino: 0.9927412702824108\n",
            "R² validação: 0.94 +- 0.03\n",
            "R² teste: 0.8907497881472077\n",
            "----------------------------------------------------------------------\n",
            "Treinando o modelo Ridge\n",
            "R² treino: 0.9056018738297024\n",
            "R² validação: 0.89 +- 0.02\n",
            "R² teste: 0.8636171366417256\n",
            "----------------------------------------------------------------------\n",
            "Treinando o modelo RidgeCV\n",
            "R² treino: 0.9056017252911984\n",
            "R² validação: 0.89 +- 0.02\n",
            "R² teste: 0.8636306291922106\n",
            "----------------------------------------------------------------------\n",
            "Treinando o modelo SGDRegressor\n",
            "R² treino: -8.353125634307652e+27\n",
            "R² validação: -97238022168239692544573702144.00 +- 120050985830391571530609852416.00\n",
            "R² teste: -9.597641576834676e+27\n",
            "----------------------------------------------------------------------\n",
            "Treinando o modelo SVR\n",
            "R² treino: -0.017287056661578152\n",
            "R² validação: -0.02 +- 0.01\n",
            "R² teste: -0.011773403596150755\n",
            "----------------------------------------------------------------------\n",
            "Treinando o modelo TheilSenRegressor\n",
            "R² treino: 0.8995646362512504\n",
            "R² validação: 0.89 +- 0.02\n",
            "R² teste: 0.8648188237363329\n",
            "----------------------------------------------------------------------\n",
            "Treinando o modelo TransformedTargetRegressor\n",
            "R² treino: 0.9058537389622089\n",
            "R² validação: 0.89 +- 0.02\n",
            "R² teste: 0.8624042704382797\n",
            "----------------------------------------------------------------------\n"
          ],
          "name": "stdout"
        }
      ]
    },
    {
      "cell_type": "code",
      "metadata": {
        "id": "DDr7Fp_lF8sg",
        "outputId": "b60e55dd-a077-45bd-a8bd-fa07b5f45c97",
        "colab": {
          "base_uri": "https://localhost:8080/",
          "height": 359
        }
      },
      "source": [
        "relatorio = pd.DataFrame(relatorio).sort_values(by='cv_scores_mean', ascending=False)\n",
        "relatorio.head(10)"
      ],
      "execution_count": null,
      "outputs": [
        {
          "output_type": "execute_result",
          "data": {
            "text/html": [
              "<div>\n",
              "<style scoped>\n",
              "    .dataframe tbody tr th:only-of-type {\n",
              "        vertical-align: middle;\n",
              "    }\n",
              "\n",
              "    .dataframe tbody tr th {\n",
              "        vertical-align: top;\n",
              "    }\n",
              "\n",
              "    .dataframe thead th {\n",
              "        text-align: right;\n",
              "    }\n",
              "</style>\n",
              "<table border=\"1\" class=\"dataframe\">\n",
              "  <thead>\n",
              "    <tr style=\"text-align: right;\">\n",
              "      <th></th>\n",
              "      <th>nome</th>\n",
              "      <th>train_score</th>\n",
              "      <th>cv_scores_mean</th>\n",
              "      <th>test_score</th>\n",
              "      <th>estimador</th>\n",
              "    </tr>\n",
              "  </thead>\n",
              "  <tbody>\n",
              "    <tr>\n",
              "      <th>9</th>\n",
              "      <td>ExtraTreesRegressor</td>\n",
              "      <td>0.999998</td>\n",
              "      <td>0.951657</td>\n",
              "      <td>0.924527</td>\n",
              "      <td>(ExtraTreeRegressor(ccp_alpha=0.0, criterion='...</td>\n",
              "    </tr>\n",
              "    <tr>\n",
              "      <th>33</th>\n",
              "      <td>RandomForestRegressor</td>\n",
              "      <td>0.992741</td>\n",
              "      <td>0.938528</td>\n",
              "      <td>0.890750</td>\n",
              "      <td>(DecisionTreeRegressor(ccp_alpha=0.0, criterio...</td>\n",
              "    </tr>\n",
              "    <tr>\n",
              "      <th>11</th>\n",
              "      <td>GradientBoostingRegressor</td>\n",
              "      <td>0.970451</td>\n",
              "      <td>0.938409</td>\n",
              "      <td>0.899509</td>\n",
              "      <td>([DecisionTreeRegressor(ccp_alpha=0.0, criteri...</td>\n",
              "    </tr>\n",
              "    <tr>\n",
              "      <th>2</th>\n",
              "      <td>BaggingRegressor</td>\n",
              "      <td>0.987946</td>\n",
              "      <td>0.926044</td>\n",
              "      <td>0.898582</td>\n",
              "      <td>(DecisionTreeRegressor(ccp_alpha=0.0, criterio...</td>\n",
              "    </tr>\n",
              "    <tr>\n",
              "      <th>5</th>\n",
              "      <td>DecisionTreeRegressor</td>\n",
              "      <td>0.999998</td>\n",
              "      <td>0.924837</td>\n",
              "      <td>0.788504</td>\n",
              "      <td>DecisionTreeRegressor(ccp_alpha=0.0, criterion...</td>\n",
              "    </tr>\n",
              "    <tr>\n",
              "      <th>8</th>\n",
              "      <td>ExtraTreeRegressor</td>\n",
              "      <td>0.999998</td>\n",
              "      <td>0.920653</td>\n",
              "      <td>0.914813</td>\n",
              "      <td>ExtraTreeRegressor(ccp_alpha=0.0, criterion='m...</td>\n",
              "    </tr>\n",
              "    <tr>\n",
              "      <th>12</th>\n",
              "      <td>HistGradientBoostingRegressor</td>\n",
              "      <td>0.964344</td>\n",
              "      <td>0.914317</td>\n",
              "      <td>0.874323</td>\n",
              "      <td>HistGradientBoostingRegressor(l2_regularizatio...</td>\n",
              "    </tr>\n",
              "    <tr>\n",
              "      <th>14</th>\n",
              "      <td>KNeighborsRegressor</td>\n",
              "      <td>0.935726</td>\n",
              "      <td>0.898679</td>\n",
              "      <td>0.853686</td>\n",
              "      <td>KNeighborsRegressor(algorithm='auto', leaf_siz...</td>\n",
              "    </tr>\n",
              "    <tr>\n",
              "      <th>1</th>\n",
              "      <td>AdaBoostRegressor</td>\n",
              "      <td>0.910632</td>\n",
              "      <td>0.898176</td>\n",
              "      <td>0.825968</td>\n",
              "      <td>(DecisionTreeRegressor(ccp_alpha=0.0, criterio...</td>\n",
              "    </tr>\n",
              "    <tr>\n",
              "      <th>34</th>\n",
              "      <td>Ridge</td>\n",
              "      <td>0.905602</td>\n",
              "      <td>0.894880</td>\n",
              "      <td>0.863617</td>\n",
              "      <td>Ridge(alpha=1.0, copy_X=True, fit_intercept=Tr...</td>\n",
              "    </tr>\n",
              "  </tbody>\n",
              "</table>\n",
              "</div>"
            ],
            "text/plain": [
              "                             nome  ...                                          estimador\n",
              "9             ExtraTreesRegressor  ...  (ExtraTreeRegressor(ccp_alpha=0.0, criterion='...\n",
              "33          RandomForestRegressor  ...  (DecisionTreeRegressor(ccp_alpha=0.0, criterio...\n",
              "11      GradientBoostingRegressor  ...  ([DecisionTreeRegressor(ccp_alpha=0.0, criteri...\n",
              "2                BaggingRegressor  ...  (DecisionTreeRegressor(ccp_alpha=0.0, criterio...\n",
              "5           DecisionTreeRegressor  ...  DecisionTreeRegressor(ccp_alpha=0.0, criterion...\n",
              "8              ExtraTreeRegressor  ...  ExtraTreeRegressor(ccp_alpha=0.0, criterion='m...\n",
              "12  HistGradientBoostingRegressor  ...  HistGradientBoostingRegressor(l2_regularizatio...\n",
              "14            KNeighborsRegressor  ...  KNeighborsRegressor(algorithm='auto', leaf_siz...\n",
              "1               AdaBoostRegressor  ...  (DecisionTreeRegressor(ccp_alpha=0.0, criterio...\n",
              "34                          Ridge  ...  Ridge(alpha=1.0, copy_X=True, fit_intercept=Tr...\n",
              "\n",
              "[10 rows x 5 columns]"
            ]
          },
          "metadata": {
            "tags": []
          },
          "execution_count": 58
        }
      ]
    },
    {
      "cell_type": "code",
      "metadata": {
        "id": "YP7c5FoxGSg9",
        "outputId": "a65b5690-e2b8-46bc-e109-c10a7c32687e",
        "colab": {
          "base_uri": "https://localhost:8080/"
        }
      },
      "source": [
        "from sklearn.ensemble import StackingRegressor\n",
        "\n",
        "top_3_regs = relatorio[['nome', 'estimador']].values[:3]\n",
        "\n",
        "reg = StackingRegressor(\n",
        "    estimators = top_3_regs\n",
        ")\n",
        "\n",
        "reg.fit(X_train, y_train)\n",
        "\n",
        "train_score = reg.score(X_train, y_train)\n",
        "cv_scores = cross_val_score(reg, X_train, y_train)\n",
        "test_score = reg.score(X_test, y_test)\n",
        "\n",
        "print(f\"R² treino: {train_score}\")\n",
        "print(f\"R² validação: {np.mean(cv_scores):.2f} +- {np.std(cv_scores):.2f}\")\n",
        "print(f\"R² teste: {test_score}\")\n",
        "print('-'*70)"
      ],
      "execution_count": null,
      "outputs": [
        {
          "output_type": "stream",
          "text": [
            "R² treino: 0.9975657163359221\n",
            "R² validação: 0.95 +- 0.02\n",
            "R² teste: 0.9243579998604213\n",
            "----------------------------------------------------------------------\n"
          ],
          "name": "stdout"
        }
      ]
    },
    {
      "cell_type": "code",
      "metadata": {
        "id": "N7o_G2aaGkkD",
        "outputId": "1020ef35-0f5a-4321-f7d6-04ee39d1b11c",
        "colab": {
          "base_uri": "https://localhost:8080/"
        }
      },
      "source": [
        "reg"
      ],
      "execution_count": null,
      "outputs": [
        {
          "output_type": "execute_result",
          "data": {
            "text/plain": [
              "StackingRegressor(cv=None,\n",
              "                  estimators=array([['ExtraTreesRegressor',\n",
              "        ExtraTreesRegressor(bootstrap=False, ccp_alpha=0.0, criterion='mse',\n",
              "                    max_depth=None, max_features='auto', max_leaf_nodes=None,\n",
              "                    max_samples=None, min_impurity_decrease=0.0,\n",
              "                    min_impurity_split=None, min_samples_leaf=1,\n",
              "                    min_samples_split=2, min_weight_fraction_leaf=0.0,\n",
              "                    n_estimators=100, n_jobs=Non...\n",
              "                          min_impurity_decrease=0.0, min_impurity_split=None,\n",
              "                          min_samples_leaf=1, min_samples_split=2,\n",
              "                          min_weight_fraction_leaf=0.0, n_estimators=100,\n",
              "                          n_iter_no_change=None, presort='deprecated',\n",
              "                          random_state=None, subsample=1.0, tol=0.0001,\n",
              "                          validation_fraction=0.1, verbose=0, warm_start=False)]],\n",
              "      dtype=object),\n",
              "                  final_estimator=None, n_jobs=None, passthrough=False,\n",
              "                  verbose=0)"
            ]
          },
          "metadata": {
            "tags": []
          },
          "execution_count": 60
        }
      ]
    },
    {
      "cell_type": "markdown",
      "metadata": {
        "id": "zlgjhajISvlT"
      },
      "source": [
        "# VI - Comunicação e visualização"
      ]
    },
    {
      "cell_type": "markdown",
      "metadata": {
        "id": "ZPJZH-DG1b8A"
      },
      "source": [
        "Esta etapa consiste na documentação do seu projeto. Você pode criá-la através de um post no Medium , no ReadMe do seu repositório no GitHub ou em um documento PDF.\n",
        "\n",
        "Alguns pontos importantes nessa etapa:\n",
        "\n",
        "- Apresentação detalhada do problema, de sua relevância e do porquê de ser um\n",
        "problema resolvível por um projeto de ciência de dados\n",
        "- Apresentação e justificativa da escolha dos procedimentos de coleta de dados\n",
        "utilizados\n",
        "- Apresentação e justificativa da escolha dos procedimentos de manipulação de\n",
        "dados utilizados\n",
        "- Apresentação de insights retirados da análise exploratória de dados\n",
        "- Apresentação e justificativa da escolha dos procedimentos de modelagem\n",
        "utilizados\n",
        "- Avaliação do modelo final e comparação com o benchmark utilizado\n",
        "- Reflexões sobre o quão eficaz foi todo o processo para a resolução do problema proposto\n",
        "- Apresentação de melhorias possíveis em seu projeto (da aquisição de dados à\n",
        "modelagem)\n",
        "\n",
        "Além dos pontos apresentados, é aconselhável que você traga visualizações de seus\n",
        "dados. Essas visualizações podem ser referentes à análise exploratória de dados ou\n",
        "mesmo à performance do(s) algoritmo(s) utilizados por você durante a realização do\n",
        "projeto. Utilize visualizações que auxiliem os leitores na compreensão das decisões\n",
        "tomadas por você para realizar o projeto.\n",
        "Caso você deseje ou julgue necessário, pode também criar dashboards com múltiplas\n",
        "visualizações se o tipo de projeto que estiver realizando for adaptável a essa ferramenta.\n",
        "Bibliotecas sugeridas para esta etapa:\n",
        "Matplotlib, Seaborn, Plotly, Bokeh, Altair entre outras."
      ]
    }
  ]
}