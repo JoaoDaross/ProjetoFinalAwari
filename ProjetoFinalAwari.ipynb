{
  "nbformat": 4,
  "nbformat_minor": 0,
  "metadata": {
    "colab": {
      "name": "ProjetoFinalAwari.ipynb",
      "provenance": [],
      "collapsed_sections": [
        "ot77pl5w54R8",
        "fMER2V3v6Mf4",
        "sV4UqUOB69qR",
        "YmPpNPJS12H7",
        "_eTmiePO9hSR"
      ],
      "authorship_tag": "ABX9TyNn7oitwOMPhmgKg0EwggQx",
      "include_colab_link": true
    },
    "kernelspec": {
      "name": "python3",
      "display_name": "Python 3"
    }
  },
  "cells": [
    {
      "cell_type": "markdown",
      "metadata": {
        "id": "view-in-github",
        "colab_type": "text"
      },
      "source": [
        "<a href=\"https://colab.research.google.com/github/JoaoDaross/ProjetoFinalAwari/blob/main/ProjetoFinalAwari.ipynb\" target=\"_parent\"><img src=\"https://colab.research.google.com/assets/colab-badge.svg\" alt=\"Open In Colab\"/></a>"
      ]
    },
    {
      "cell_type": "markdown",
      "metadata": {
        "id": "3CEvPnTZ4DZW"
      },
      "source": [
        "<img src=\"https://i.imgur.com/YX6UATs.png\"  width=\"160\">"
      ]
    },
    {
      "cell_type": "markdown",
      "metadata": {
        "id": "ot77pl5w54R8"
      },
      "source": [
        "# I - Exposição do problema"
      ]
    },
    {
      "cell_type": "markdown",
      "metadata": {
        "id": "cOQA5bKDyseh"
      },
      "source": [
        "## Projeto Final - Salários Profissionais de Dados\n",
        "\n",
        "### O Projeto\n",
        "\n",
        "O projeto tem como objetivo auxiliar os profissionais de dados que estão em busca de identificar o salário de um determinado cargo de acordo com algumas variáveis.\n",
        "\n",
        "### Conjunto de dados\n",
        "\n",
        "O conjunto de dados que iremos utilizar foi coletado da plataforma [Kaggle](https://www.kaggle.com/prithviraj7387/datascientistsalaries).\n",
        "\n",
        "### Descrição do dados\n",
        "\n",
        "No arquivo [data_scraped](https://github.com/JoaoDaross/ProjetoFinalAwari/blob/main/data_scraped.csv), você encontrará as seguintes colunas:\n",
        "- Unnamed: 0: indice segundário;\n",
        "- Job Title: Titulo do cargo;\n",
        "- Salary Estimate: Salário estimado;\n",
        "- Job Description: Descrição do trabalho;\n",
        "- Rating: Ranking;\n",
        "- Company Name: Nome da empresa;\n",
        "- Location: Localização da empresa;\n",
        "- Headquarters: Localização da sede;\n",
        "- Size: Número de funcionários;\n",
        "- Founded: Ano que a empresa foi fundada;\n",
        "- Type of ownership: Tipo de sociedade;\n",
        "- Industry: Industria da empresa;\n",
        "- Sector: Setor da empresa;\n",
        "- Revenue: Faturamento;\n",
        "- Competitors: Não identificado.\n",
        "\n",
        "\n",
        "### Resumo sobre as seções\n",
        "\n",
        "\n",
        "*   **Coleta ou Importação dos dados:** O objetivo é coletar os dados, entender o tamanho do dataset, identificar as colunas e selecionar apenas as colunas que serão, a princípio, necessárias para a análise e se há dados faltantes.\n",
        "\n",
        "*   **Preparação dos dados:**\n",
        "*   **Análise exploratória:**\n",
        "*   **Modelagem:**\n",
        "*   **Comunicação e visualização:**"
      ]
    },
    {
      "cell_type": "markdown",
      "metadata": {
        "id": "fMER2V3v6Mf4"
      },
      "source": [
        "# II - Coleta ou Importação dos Dados"
      ]
    },
    {
      "cell_type": "code",
      "metadata": {
        "id": "pL09IS0_KEOm"
      },
      "source": [
        "# Importando nossas bibliotecas \n",
        "%matplotlib inline\n",
        "import pandas as pd\n",
        "import numpy as np\n",
        "import matplotlib.pyplot as plt\n",
        "import seaborn as sns\n",
        "from sklearn import linear_model\n",
        "from sklearn.linear_model import LinearRegression"
      ],
      "execution_count": 1,
      "outputs": []
    },
    {
      "cell_type": "code",
      "metadata": {
        "id": "u-9fksw4oeUp"
      },
      "source": [
        "#selecionando a fonte de dados\n",
        "fonte = \"https://raw.githubusercontent.com/JoaoDaross/ProjetoFinalAwari/main/data_scraped.csv\""
      ],
      "execution_count": 2,
      "outputs": []
    },
    {
      "cell_type": "code",
      "metadata": {
        "id": "0ZZfsNfGKyX5"
      },
      "source": [
        "#leitura de dados\n",
        "df = pd.read_csv(fonte)"
      ],
      "execution_count": 3,
      "outputs": []
    },
    {
      "cell_type": "code",
      "metadata": {
        "id": "SLx8A-KdouPM",
        "outputId": "02eea3b4-a731-4469-b3ae-49ed779caf09",
        "colab": {
          "base_uri": "https://localhost:8080/",
          "height": 513
        }
      },
      "source": [
        "# Visualisando as primeiras 5 linhas do dataset\n",
        "df.head()"
      ],
      "execution_count": 4,
      "outputs": [
        {
          "output_type": "execute_result",
          "data": {
            "text/html": [
              "<div>\n",
              "<style scoped>\n",
              "    .dataframe tbody tr th:only-of-type {\n",
              "        vertical-align: middle;\n",
              "    }\n",
              "\n",
              "    .dataframe tbody tr th {\n",
              "        vertical-align: top;\n",
              "    }\n",
              "\n",
              "    .dataframe thead th {\n",
              "        text-align: right;\n",
              "    }\n",
              "</style>\n",
              "<table border=\"1\" class=\"dataframe\">\n",
              "  <thead>\n",
              "    <tr style=\"text-align: right;\">\n",
              "      <th></th>\n",
              "      <th>Unnamed: 0</th>\n",
              "      <th>Job Title</th>\n",
              "      <th>Salary Estimate</th>\n",
              "      <th>Job Description</th>\n",
              "      <th>Rating</th>\n",
              "      <th>Company Name</th>\n",
              "      <th>Location</th>\n",
              "      <th>Headquarters</th>\n",
              "      <th>Size</th>\n",
              "      <th>Founded</th>\n",
              "      <th>Type of ownership</th>\n",
              "      <th>Industry</th>\n",
              "      <th>Sector</th>\n",
              "      <th>Revenue</th>\n",
              "      <th>Competitors</th>\n",
              "    </tr>\n",
              "  </thead>\n",
              "  <tbody>\n",
              "    <tr>\n",
              "      <th>0</th>\n",
              "      <td>0</td>\n",
              "      <td>Data Scientist</td>\n",
              "      <td>$53K-$91K (Glassdoor est.)</td>\n",
              "      <td>Data Scientist\\r\\nLocation: Albuquerque, NM\\r\\...</td>\n",
              "      <td>3.8</td>\n",
              "      <td>Tecolote Research\\r\\n3.8</td>\n",
              "      <td>Albuquerque, NM</td>\n",
              "      <td>Goleta, CA</td>\n",
              "      <td>501 to 1000 employees</td>\n",
              "      <td>1973</td>\n",
              "      <td>Company - Private</td>\n",
              "      <td>Aerospace &amp; Defense</td>\n",
              "      <td>Aerospace &amp; Defense</td>\n",
              "      <td>$50 to $100 million (USD)</td>\n",
              "      <td>-1</td>\n",
              "    </tr>\n",
              "    <tr>\n",
              "      <th>1</th>\n",
              "      <td>1</td>\n",
              "      <td>Healthcare Data Scientist</td>\n",
              "      <td>$63K-$112K (Glassdoor est.)</td>\n",
              "      <td>What You Will Do:\\r\\n\\r\\nI. General Summary\\r\\...</td>\n",
              "      <td>3.4</td>\n",
              "      <td>University of Maryland Medical System\\r\\n3.4</td>\n",
              "      <td>Linthicum, MD</td>\n",
              "      <td>Baltimore, MD</td>\n",
              "      <td>10000+ employees</td>\n",
              "      <td>1984</td>\n",
              "      <td>Other Organization</td>\n",
              "      <td>Health Care Services &amp; Hospitals</td>\n",
              "      <td>Health Care</td>\n",
              "      <td>$2 to $5 billion (USD)</td>\n",
              "      <td>-1</td>\n",
              "    </tr>\n",
              "    <tr>\n",
              "      <th>2</th>\n",
              "      <td>2</td>\n",
              "      <td>Data Scientist</td>\n",
              "      <td>$80K-$90K (Glassdoor est.)</td>\n",
              "      <td>KnowBe4, Inc. is a high growth information sec...</td>\n",
              "      <td>4.8</td>\n",
              "      <td>KnowBe4\\r\\n4.8</td>\n",
              "      <td>Clearwater, FL</td>\n",
              "      <td>Clearwater, FL</td>\n",
              "      <td>501 to 1000 employees</td>\n",
              "      <td>2010</td>\n",
              "      <td>Company - Private</td>\n",
              "      <td>Security Services</td>\n",
              "      <td>Business Services</td>\n",
              "      <td>$100 to $500 million (USD)</td>\n",
              "      <td>-1</td>\n",
              "    </tr>\n",
              "    <tr>\n",
              "      <th>3</th>\n",
              "      <td>3</td>\n",
              "      <td>Data Scientist</td>\n",
              "      <td>$56K-$97K (Glassdoor est.)</td>\n",
              "      <td>*Organization and Job ID**\\r\\nJob ID: 310709\\r...</td>\n",
              "      <td>3.8</td>\n",
              "      <td>PNNL\\r\\n3.8</td>\n",
              "      <td>Richland, WA</td>\n",
              "      <td>Richland, WA</td>\n",
              "      <td>1001 to 5000 employees</td>\n",
              "      <td>1965</td>\n",
              "      <td>Government</td>\n",
              "      <td>Energy</td>\n",
              "      <td>Oil, Gas, Energy &amp; Utilities</td>\n",
              "      <td>$500 million to $1 billion (USD)</td>\n",
              "      <td>Oak Ridge National Laboratory, National Renewa...</td>\n",
              "    </tr>\n",
              "    <tr>\n",
              "      <th>4</th>\n",
              "      <td>4</td>\n",
              "      <td>Data Scientist</td>\n",
              "      <td>$86K-$143K (Glassdoor est.)</td>\n",
              "      <td>Data Scientist\\r\\nAffinity Solutions / Marketi...</td>\n",
              "      <td>2.9</td>\n",
              "      <td>Affinity Solutions\\r\\n2.9</td>\n",
              "      <td>New York, NY</td>\n",
              "      <td>New York, NY</td>\n",
              "      <td>51 to 200 employees</td>\n",
              "      <td>1998</td>\n",
              "      <td>Company - Private</td>\n",
              "      <td>Advertising &amp; Marketing</td>\n",
              "      <td>Business Services</td>\n",
              "      <td>Unknown / Non-Applicable</td>\n",
              "      <td>Commerce Signals, Cardlytics, Yodlee</td>\n",
              "    </tr>\n",
              "  </tbody>\n",
              "</table>\n",
              "</div>"
            ],
            "text/plain": [
              "   Unnamed: 0  ...                                        Competitors\n",
              "0           0  ...                                                 -1\n",
              "1           1  ...                                                 -1\n",
              "2           2  ...                                                 -1\n",
              "3           3  ...  Oak Ridge National Laboratory, National Renewa...\n",
              "4           4  ...               Commerce Signals, Cardlytics, Yodlee\n",
              "\n",
              "[5 rows x 15 columns]"
            ]
          },
          "metadata": {
            "tags": []
          },
          "execution_count": 4
        }
      ]
    },
    {
      "cell_type": "code",
      "metadata": {
        "id": "e0Cms7hvbDGZ",
        "outputId": "9b5d5844-9404-4a0f-acb4-61c0188f71ea",
        "colab": {
          "base_uri": "https://localhost:8080/"
        }
      },
      "source": [
        "#visualizando o número de linhas e colunas\n",
        "nlinhas, nColunas = df.shape\n",
        "print(f'Este Dataset possui {nlinhas} linhas e {nColunas} colunas')"
      ],
      "execution_count": 5,
      "outputs": [
        {
          "output_type": "stream",
          "text": [
            "Este Dataset possui 956 linhas e 15 colunas\n"
          ],
          "name": "stdout"
        }
      ]
    },
    {
      "cell_type": "code",
      "metadata": {
        "id": "W08Erz6NbHA7",
        "outputId": "643688ab-c91b-4985-96d1-687ac6dc7f12",
        "colab": {
          "base_uri": "https://localhost:8080/"
        }
      },
      "source": [
        "#visualizando nossas colunas\n",
        "df.columns.values"
      ],
      "execution_count": 6,
      "outputs": [
        {
          "output_type": "execute_result",
          "data": {
            "text/plain": [
              "array(['Unnamed: 0', 'Job Title', 'Salary Estimate', 'Job Description',\n",
              "       'Rating', 'Company Name', 'Location', 'Headquarters', 'Size',\n",
              "       'Founded', 'Type of ownership', 'Industry', 'Sector', 'Revenue',\n",
              "       'Competitors'], dtype=object)"
            ]
          },
          "metadata": {
            "tags": []
          },
          "execution_count": 6
        }
      ]
    },
    {
      "cell_type": "code",
      "metadata": {
        "id": "efMLVs4ILYKh"
      },
      "source": [
        "# Excluindo as colunas que não iremos utilizar.\n",
        "df.drop('Unnamed: 0', axis=1, inplace=True) # Coluna idêntica ao índice do próprio pandas. \n",
        "df.drop('Job Description', axis=1, inplace=True) # Não existe uma padrão que faça sentido a utilização dos dados.\n",
        "df.drop('Company Name', axis=1, inplace=True) # Dado não influência as principais variáveis que serão utilizadas.\n",
        "df.drop('Competitors', axis=1, inplace=True) # Não identificado que tipo de informação essa coluna apresenta."
      ],
      "execution_count": 7,
      "outputs": []
    },
    {
      "cell_type": "code",
      "metadata": {
        "id": "05g9aTfgPQR2"
      },
      "source": [
        "# Convertendo todos os valos \"-1\" para NaN\n",
        "df = df[['Job Title', 'Salary Estimate', 'Rating', 'Location',\t'Headquarters', 'Size',\t'Founded',\t'Type of ownership',\t'Industry',\t'Sector',\t'Revenue']].replace('-1', np.NAN)"
      ],
      "execution_count": 8,
      "outputs": []
    },
    {
      "cell_type": "code",
      "metadata": {
        "id": "GTEfgzbJaAyG",
        "outputId": "30828156-161c-400b-a83c-a9921e94e33e",
        "colab": {
          "base_uri": "https://localhost:8080/"
        }
      },
      "source": [
        "# Função para analisar todas as colunas da variável c\n",
        "\n",
        "def funcao_value_counts():\n",
        "    for d in df:\n",
        "        print(df[d].value_counts().sort_index())\n",
        "        \n",
        "funcao_value_counts()"
      ],
      "execution_count": 9,
      "outputs": [
        {
          "output_type": "stream",
          "text": [
            "ATL - Data & Analytics (DA)                             1\n",
            "AWS Data Engineer                                       2\n",
            "Advanced Analytics Manager                              2\n",
            "Ag Data Scientist                                       1\n",
            "Analytics - Business Assurance Data Analyst             2\n",
            "                                                       ..\n",
            "Technology-Minded, Data Professional Opportunities      2\n",
            "UX Data Scientist (Python)                              3\n",
            "VP, Data Science                                        2\n",
            "Weapons and Sensors Engineer/Scientist – Entry Level    1\n",
            "Web Data Analyst                                        1\n",
            "Name: Job Title, Length: 328, dtype: int64\n",
            "$10-$17 Per Hour(Glassdoor est.)             2\n",
            "$100K-$160K (Glassdoor est.)                 1\n",
            "$100K-$166K (Glassdoor est.)                 2\n",
            "$100K-$173K (Glassdoor est.)                 2\n",
            "$100K-$190K (Glassdoor est.)                 2\n",
            "                                            ..\n",
            "Employer Provided Salary:$120K-$145K         2\n",
            "Employer Provided Salary:$150K-$160K         2\n",
            "Employer Provided Salary:$200K-$250K         2\n",
            "Employer Provided Salary:$25-$28 Per Hour    3\n",
            "Employer Provided Salary:$85K-$90K           1\n",
            "Name: Salary Estimate, Length: 416, dtype: int64\n",
            "-1.0    34\n",
            " 1.9     3\n",
            " 2.1     5\n",
            " 2.2     3\n",
            " 2.3     4\n",
            " 2.4     8\n",
            " 2.5     3\n",
            " 2.6    14\n",
            " 2.7    17\n",
            " 2.8     7\n",
            " 2.9    22\n",
            " 3.0    17\n",
            " 3.1    30\n",
            " 3.2    36\n",
            " 3.3    44\n",
            " 3.4    47\n",
            " 3.5    53\n",
            " 3.6    56\n",
            " 3.7    69\n",
            " 3.8    75\n",
            " 3.9    69\n",
            " 4.0    56\n",
            " 4.1    37\n",
            " 4.2    41\n",
            " 4.3    39\n",
            " 4.4    46\n",
            " 4.5    19\n",
            " 4.6    18\n",
            " 4.7    38\n",
            " 4.8    14\n",
            " 4.9     4\n",
            " 5.0    28\n",
            "Name: Rating, dtype: int64\n",
            "Agoura Hills, CA    1\n",
            "Alabaster, AL       1\n",
            "Alameda, CA         2\n",
            "Albuquerque, NM     3\n",
            "Alexandria, VA      5\n",
            "                   ..\n",
            "Winter Park, FL     2\n",
            "Woburn, MA          1\n",
            "Woodbridge, NJ      2\n",
            "Woodinville, WA     1\n",
            "Worcester, MA       5\n",
            "Name: Location, Length: 237, dtype: int64\n",
            "Akron, OH              1\n",
            "Alameda, CA            2\n",
            "Alexandria, VA         8\n",
            "Alpharetta, GA         1\n",
            "Anchorage, AK          1\n",
            "                      ..\n",
            "Winter Park, FL        2\n",
            "Woburn, MA             2\n",
            "Woodinville, WA        1\n",
            "Worcester, MA          5\n",
            "Zurich, Switzerland    3\n",
            "Name: Headquarters, Length: 234, dtype: int64\n",
            "1 to 50 employees           61\n",
            "10000+ employees           154\n",
            "1001 to 5000 employees     177\n",
            "201 to 500 employees       160\n",
            "5001 to 10000 employees     79\n",
            "501 to 1000 employees      144\n",
            "51 to 200 employees        155\n",
            "Unknown                     15\n",
            "Name: Size, dtype: int64\n",
            "-1       97\n",
            " 1744     1\n",
            " 1781    14\n",
            " 1812     1\n",
            " 1830     4\n",
            "         ..\n",
            " 2015    21\n",
            " 2016    15\n",
            " 2017    15\n",
            " 2018     2\n",
            " 2019     4\n",
            "Name: Founded, Length: 109, dtype: int64\n",
            "College / University               15\n",
            "Company - Private                 532\n",
            "Company - Public                  237\n",
            "Contract                            5\n",
            "Government                         17\n",
            "Hospital                           15\n",
            "Nonprofit Organization             65\n",
            "Other Organization                  5\n",
            "Private Practice / Firm             1\n",
            "School / School District            2\n",
            "Subsidiary or Business Segment     40\n",
            "Unknown                            11\n",
            "Name: Type of ownership, dtype: int64\n",
            "Accounting                               1\n",
            "Advertising & Marketing                 25\n",
            "Aerospace & Defense                     32\n",
            "Architectural & Engineering Services     4\n",
            "Auctions & Galleries                     1\n",
            "                                        ..\n",
            "Travel Agencies                          8\n",
            "Trucking                                 1\n",
            "Utilities                                1\n",
            "Video Games                              8\n",
            "Wholesale                                3\n",
            "Name: Industry, Length: 62, dtype: int64\n",
            "Accounting & Legal                      1\n",
            "Aerospace & Defense                    32\n",
            "Agriculture & Forestry                  1\n",
            "Arts, Entertainment & Recreation        4\n",
            "Biotech & Pharmaceuticals             148\n",
            "Business Services                     134\n",
            "Construction, Repair & Maintenance      4\n",
            "Consumer Services                       4\n",
            "Education                              26\n",
            "Finance                                56\n",
            "Government                             13\n",
            "Health Care                            51\n",
            "Information Technology                239\n",
            "Insurance                              71\n",
            "Manufacturing                          40\n",
            "Media                                  13\n",
            "Mining & Metals                         3\n",
            "Non-Profit                             16\n",
            "Oil, Gas, Energy & Utilities           15\n",
            "Real Estate                             8\n",
            "Retail                                 16\n",
            "Telecommunications                      6\n",
            "Transportation & Logistics              8\n",
            "Travel & Tourism                        8\n",
            "Name: Sector, dtype: int64\n",
            "$1 to $2 billion (USD)               68\n",
            "$1 to $5 million (USD)               17\n",
            "$10 to $25 million (USD)             39\n",
            "$10+ billion (USD)                  140\n",
            "$100 to $500 million (USD)          107\n",
            "$2 to $5 billion (USD)               44\n",
            "$25 to $50 million (USD)             59\n",
            "$5 to $10 billion (USD)              20\n",
            "$5 to $10 million (USD)              29\n",
            "$50 to $100 million (USD)            52\n",
            "$500 million to $1 billion (USD)     62\n",
            "Less than $1 million (USD)            9\n",
            "Unknown / Non-Applicable            299\n",
            "Name: Revenue, dtype: int64\n"
          ],
          "name": "stdout"
        }
      ]
    },
    {
      "cell_type": "code",
      "metadata": {
        "id": "Mk4ctzJhMEWZ",
        "outputId": "866db2d1-32b4-4b56-cec5-c68371ded911",
        "colab": {
          "base_uri": "https://localhost:8080/"
        }
      },
      "source": [
        "# Analisando a quantidade de vezes o NaN aparece em todo o dataset\n",
        "df.isnull().sum()"
      ],
      "execution_count": 10,
      "outputs": [
        {
          "output_type": "execute_result",
          "data": {
            "text/plain": [
              "Job Title              0\n",
              "Salary Estimate      214\n",
              "Rating                 0\n",
              "Location               0\n",
              "Headquarters          11\n",
              "Size                  11\n",
              "Founded                0\n",
              "Type of ownership     11\n",
              "Industry              39\n",
              "Sector                39\n",
              "Revenue               11\n",
              "dtype: int64"
            ]
          },
          "metadata": {
            "tags": []
          },
          "execution_count": 10
        }
      ]
    },
    {
      "cell_type": "markdown",
      "metadata": {
        "id": "sV4UqUOB69qR"
      },
      "source": [
        "# III - Preparação dos dados"
      ]
    },
    {
      "cell_type": "code",
      "metadata": {
        "id": "iLXfVRKKqwgJ"
      },
      "source": [
        "#criando dicionários de dados para facilitar a análise\n",
        "funcoes = {\n",
        "    1: 'Data Scientist',\n",
        "    2: 'Data Analyst',\n",
        "    3: 'Data Engineer',\n",
        "    4: 'Business Intelligence',\n",
        "    5: 'Intern'\n",
        "}\n",
        "\n",
        "tamanho = {\n",
        "    1: '1 to 50 employees',\n",
        "    2: '51 to 200 employees',\n",
        "    3: '201 to 500 employees',\n",
        "    4: '501 to 1000 employees',\n",
        "    5: '1001 to 5000 employees',\n",
        "    6: '5001 to 10000 employees',\n",
        "    7: '10000+ employees',\n",
        "    8: 'Unknown'\n",
        "}\n",
        "\n",
        "faturamento = {\n",
        "    1: 'Less than $1 million (USD)',\n",
        "    2: '$1 to $5 million (USD)',\n",
        "    3: '$5 to $10 million (USD)',\n",
        "    4: '$10 to $25 million (USD)',\n",
        "    5: '$25 to $50 million (USD)',\n",
        "    6: '$50 to $100 million (USD)',\n",
        "    7: '$100 to $500 million (USD)',\n",
        "    8: '$500 million to $1 billion (USD)',\n",
        "    9: '$1 to $2 billion (USD)',\n",
        "    10: '$2 to $5 billion (USD)',\n",
        "    11: '$5 to $10 billion (USD)',\n",
        "    12: '$10+ billion (USD)',\n",
        "    13: 'Unknown / Non-Applicable'\n",
        "}\n",
        "\n",
        "paises = {\n",
        "    1: 'USA',\n",
        "    2: ' Japan',\n",
        "    3: ' Switzerland',\n",
        "    4: ' Germany',\n",
        "    5: ' United Kingdom',\n",
        "    6: ' Belgium',\n",
        "    7: ' China',\n",
        "    8: ' Bermuda',\n",
        "    9: ' South Korea',\n",
        "    10: ' India',\n",
        "    11: ' Singapore',\n",
        "    12: ' Spain',\n",
        "    13: ' France',\n",
        "    14: 'Unknown'\n",
        "}"
      ],
      "execution_count": 11,
      "outputs": []
    },
    {
      "cell_type": "code",
      "metadata": {
        "id": "jQgIqX1QLlrv",
        "outputId": "51e6e891-3931-42a5-a622-ae8a099bff9c",
        "colab": {
          "base_uri": "https://localhost:8080/"
        }
      },
      "source": [
        "# Padronizando a coluna \"Job Title\"\n",
        "df['Job Title'].replace(\n",
        "    to_replace=['Sr. Enterprise Account Exec- Data Science / ML - NYC','Senior Manager, Epidemiologic Data Scientist','Senior Risk Data Scientist','Senior Data Scientist 4 Artificial Intelligence','Senior Scientist Protein/Oligonucleotides','Senior Insurance Data Scientist','Senior Research Analytical Scientist-Non-Targeted Analysis','Senior Clinical Lab Scientist, Clinical Lab Svcs - FT/Nights (8hr)','Senior Director Biometrics and Clinical Data Management','Sr. Scientist - Digital & Image Analysis/Computational Pathology','Sr Software Engineer (Data Scientist)','Sr. Data Scientist - Analytics, Personalized Healthcare (PHC)','Senior Data Scientist Artificial Intelligence','Senior LiDAR Data Scientist','Senior Data & Machine Learning Scientist','Senior Scientist - Biostatistician','Senior Scientist - Biostatistician ','Senior Data Scientist Oncology','Senior Scientist - Neuroscience','Sr Scientist, Immuno-Oncology - Oncology','Sr Expert Data Science, Advanced Visual Analytics (Associate level)','Senior Scientist - Toxicologist - Product Integrity (Stewardship)','Senior Scientist, Cell Pharmacology/Assay Development','Data Scientist SR','Scientist/Senior Scientist, Autoimmune','Senior Scientist, Logic Gated CAR T Cell Therapy','Senior Data Scientist / Machine Learning','Senior Scientist (Neuroscience)','Sr. Data Scientist II','Senior Scientist - Regulatory Submissions','Sr. Scientist, Quantitative Translational Sciences','Senior Data Scientist - AI Forecasting, Finance team','Senior Data Scientist - Algorithms','Sr. Data Scientist','Sr Data Scientist','Data Scientist, Senior','Senior Data Scientist Statistics','Senior Data Scientist','Data Scientist Manager','Data Science Manager','Senior Formulations Scientist II',\n",
        "                'Jr. Data Scientist','Staff Data Scientist - Technology','Scientist, Immuno-Oncology','Machine Learning Research Scientist','Pricipal Scientist Molecular and cellular biologist','MED TECH/LAB SCIENTIST - LABORATORY','Associate Principal Scientist, Pharmacogenomics','Medical Lab Scientist - MLT','Quality Control Scientist','PL Actuarial-Lead Data Scientist','Customer Data Scientist','Data Scientist - Health Data Analytics','Scientist Manufacturing Pharma - Kentucky BioProcessing','Principal Scientist - Immunologist','Data Scientist / Machine Learning Expert','Medical Lab Scientist - MLT ','Data Scientist, Office of Data Science','Associate Director/Director, Safety Scientist','Principal Data Scientist with over 10 years experience','Staff Data Scientist','Digital Health Data Scientist','Data Scientist (Actuary, FSA or ASA)','Clinical Laboratory Scientist','Head Data Scientist – Image Analytics lead, Novartis AI Innovation Lab','UX Data Scientist (Python)','Principal Scientist, Hematology','Scientist - Analytical Services','Principal Data Scientist (Computational Chemistry)','Head Data Scientist – NLP lead, Novartis AI Innovation Lab','Data Scientist (Active TS SCI with Polygraph)','Managing Data Scientist/ML Engineer','Scientist, Bacteriology','Staff Scientist- Upstream PD','Scientist - Analytical Development - Pharmaceutics','RESEARCH COMPUTER SCIENTIST - RESEARCH ENGINEER - SR. COMPUTER SCIENTIST - SOFTWARE DEVELOPMENT','Principal Data Scientist (Computational Chemistry','Excel / VBA / SQL Data Analyst','Data Analytics Project Manager','College Hire - Data Scientist - Open to December 2019 Graduates','Scientist','Risk and Analytics IT, Data Scientist','Data Scientist in Artificial Intelligence Early Career','Scientist, Analytical Development','Director Data Science','Scientist, Product Development','Director II, Data Science - GRS Predictive Analytics','Scientist, Pharmacometrics','Data Scientist - Algorithms & Inference','Data Scientist - Systems Engineering','Associate Director, Platform and DevOps- Data Engineering and Aritifical Intelligence','Product Engineer – Spatial Data Science and Statistical Analysis','Senior Imagery Scientist - SAR TO 11 #78 (TS/SCI)','Associate Machine Learning Engineer / Data Scientist May 2020 Undergrad','Scientist Manufacturing - Kentucky BioProcessing','Machine Learning Engineer - Regulatory','Research Scientist – Security and Privacy','Technology-Minded, Data Professional Opportunities','Associate Environmental Scientist - Wildlife Biologist','Sr. Scientist Method Development','Research Scientist – Security and Privacy ','Computational Chemist/Data Scientist','Scientist, Upstream Process Development (Bioreactors)','Scientist - Biomarker and Flow Cytometry','Medical Lab Scientist','Principal, Data Science - Advanced Analytics','Principal Scientist, Chemistry & Immunology','Associate, Data Science, Internal Audit','Clinical Data Scientist','Scientist – Cancer Drug Discovery','Project Scientist - Auton Lab, Robotics Institute','PV Scientist','Staff Machine Learning Scientist, AI Foundation','Geospatial Software Developer and Data Scientist','Data Scientist - Quantitative','Front-End, Back-End, Fullstack Developers & Data Scientist / Researchers - Cleared OR CLEARABLE (Up to 25% Profit Sharing Benefit!)','VP, Data Science','Deep Learning/Computer Vision Scientist','Product Engineer – Data Science','Data Science Project Manager','Chief Scientist - Emerging Technology Center','Lab Head, Principle Scientist, Dupixent/Type 2 Inflammation & Fibrosis - Cambridge, MA','Data Systems Specialist 2','RESEARCH SCIENTIST - BIOLOGICAL SAFETY','Environmental Scientist','Data Scientist - Research','Clinical Document Review Scientist','R&D Sr Data Scientist','Associate Scientist/Scientist, Process Analytical Technology - Small Molecule Analytical Chemistry','Data Scientist - Alpha Insights','Chief Data Scientist','Scientist - CVRM Metabolism - in vivo pharmacology','Real World Evidence (RWE) Scientist','Data Scientist, Rice University','Clinical Data Manager','Director, Data Science','Sr. Scientist, Toxicology','Scientist 2, QC Viral Vector','Clinical Scientist, Clinical Development','Data Scientist - Consultant - National','Scientist, Molecular/Cellular Biologist','Research Scientist, Machine Learning Department','Healthcare Data Scientist','Research Scientist, Immunology - Cancer Biology','Senior Data Scientist – Visualization, Novartis AI Innovation Lab','Machine Learning Scientist','Senior Research Scientist - Embedded System Development for DevOps','Senior Quantitative Analyst','Process Development Scientist','Project Scientist','Chief Data Officer','Associate Scientist','Data Scientist Analyst','Manager of Data Science','Senior Scientist - Bioanalytical','Director, Precision Medicine Clinical Biomarker Scientist','Senior Data Scientist - R&D Oncology','Associate Scientist ','Senior Machine Learning (ML) Engineer / Data Scientist - Cyber Security Analytics','Customer Data Scientist/Sales Engineer','Data Scientist/ML Engineer','Associate Scientist, LC/MS Biologics','R&D Data Analysis Scientist','Data Scientist - Sales','Data Management Specialist','Senior Research Statistician- Data Scientist','Senior Spark Engineer (Data Science)','Pharmacovigilance Scientist (Senior Pharmacovigilance)','Data Scientist II','Data Scientist (Warehouse Automation)','Medical Laboratory Scientist','Medical Technologist / Clinical Laboratory Scientist','Food Scientist - Developer','Insurance Data Scientist','Research Scientist','Research Scientist / Principal Research Scientist - Multiphysical Systems','Sr. Data Scientist, Cyber-Security LT Contract','Senior Research Scientist-Machine Learning','Data Scientists','Assistant Director/Director, Office of Data Science','Associate Scientist / Sr. Associate Scientist, Antibody Discovery','Scientist, Stem Cells and Genomics','Sr. Manager, Data Science - Marketing Mix Media','Business Development - Data Supply Partnerships (Veraset)','Data Scientist in Translational Medicine','Customer Data Scientist/Sales Engineer (Bay','Environmental Data Specialist','Head Data Scientist, Predictive Analytics Lead AI Innovation Lab','R&D Specialist/ Food Scientist','MED TECH/LAB SCIENTIST- SOUTH COASTAL LAB','Associate Research Scientist I (Protein Expression and Production)','Product Manager/Data Evangelist','Ag Data Scientist','Staff Scientist-Downstream Process Development','Principal Data Scientist','Lead Data Scientist','Machine Learning Engineer (NLP)','Associate Data Scientist/Computer Scientist','Staff Scientist','Senior Data Scientist: Causal & Predictive analytics AI Innovation Lab','Research Scientist or Senior Research Scientist - Computer Vision','Quality Control Scientist III- Analytical Development','Scientist I/II, Biology ', 'Scientist – Cancer Discovery, Molecular Assay', 'Principal Research Scientist/Team Lead, Medicinal Chemistry - Oncology', 'Principal Machine Learning Scientist', 'Manager, Safety Scientist, Medical Safety & Risk Management', 'Scientist I/II, Biology', 'Data Scientist - Bioinformatics', 'Senior Analytical Scientist', 'Tech Manager, Software Engineering - Data', 'Scientist, Biomarker Science', 'Sr. Scientist II' ],\n",
        "    value='Data Scientist',\n",
        "    inplace=True\n",
        ")\n",
        "\n",
        "df['Job Title'].replace(\n",
        "    to_replace=['Sr Data Engineer (Sr BI Developer)','Sr. Microsoft Data Engineer','Sr. Data Engineer (ETL Developer)','Senior Data Science Systems Engineer','Sr. BI Data Engineer III','Senior Data Engineer','Sr. Data Engineer','Sr. Data Engineer - Contract-to-Hire (Java)',\n",
        "                'Data Modeler - Data Solutions Engineer','Enterprise Architect, Data','IT - Data Engineer II','Staff Data Engineer','Director II, Data Science - GRM Actuarial','Data Science Engineer - Mobile','Director - Data, Privacy and AI Governance','Staff Machine Learning Engineer','Associate Data Engineer','Staff BI and Data Engineer','Data Engineer 5 - Contract (Remote)','AWS Data Engineer','Lead Big Data Engineer','Data Engineer - Consultant (Charlotte Based)','Lead Data Engineer (Python)','Data Engineer 4 - Contract (Remote)','Data Engineer, Data Engineering and Artifical Intelligence','Software Data Engineer - College','Data Engineer I','ENVIRONMENTAL ENGINEER/SCIENTIST','Data Modeler','Data Engineering Analyst','Software Engineer (Data Scientist/Software Engineer) - SISW - MG','Data Engineer 4 - Contract','Principal Data Engineer, Data Platform & Insights','Software Engineer - Data Visualization','Data Modeler (Analytical Systems)','Data Platform Engineer','Data Operations Lead','Data Architect / Data Modeler','Data Engineer - ETL','MongoDB Data Engineer II','Big Data Engineer','SQL Data Engineer','Software Engineer Staff Scientist: Human Language Technologies','Data Engineer 5 - Contract','Spectral Scientist/Engineer','Data Engineer with R','Lead Data Engineer','Machine Learning Engineer','Weapons and Sensors Engineer/Scientist – Entry Level','Postdoc Scientist - T cell engineering','Data Engineer I - Azure','Sr. Data Engineer | Big Data SaaS Pipeline','Big Data Engineer - Chicago - Future Opportunity'],\n",
        "    value='Data Engineer',\n",
        "    inplace=True\n",
        ")\n",
        "\n",
        "df['Job Title'].replace(\n",
        "    to_replace=['Data Analyst Senior','Sr Data Analyst - IT','Sr. Data Analyst','Senior Data Analyst/Scientist','Jr. Business Data Analyst','Junior Data Analyst','Data Analytics Manager','Senior Data Analyst',\n",
        "                'Marketing Data Analyst, May 2020 Undergrad','Data Science Analyst','Associate Data Analyst','Advanced Analytics Manager','Data Analyst 1, full-time contract worker for up to 12 months','Market Data Analyst','Market Data Analyst ','IT Associate Data Analyst','Corporate Risk Data Analyst (SQL Based) - Milwaukee or','Information Security Data Analyst','Clinical Data Analyst','Products Data Analyst II','Data Analytics Project Manager ','Lead Data Analyst','Digital Marketing & ECommerce Data Analyst','Salesforce Analytics Consultant','Senior Operations Data Analyst, Call Center Operations','Diversity and Inclusion Data Analyst','Systems Engineer II - Data Analyst','Radar Data Analyst','Associate Data Analyst- Graduate Development Program','Analytics - Business Assurance Data Analyst','Business Data Analyst','Data Analyst 2 (Missionary Department)','ATL - Data & Analytics (DA)','Revenue Analytics Manager','Supply Chain Data Analyst','System and Data Analyst','CONSULTANT– DATA ANALYTICS GROUP','Foundational Community Supports Data Analyst','Consultant - Analytics Consulting','Analytics Consultant','Business Data Analyst, SQL','Health Data Analyst/Developer','Financial Data Analyst','Data Analyst II','Web Data Analyst','MSP - Data & Analytics (DA)','Program/Data Analyst','CONSULTANT– DATA ANALYTICS GROUP ','Data Analyst / Scientist','Senior Engineer, Data Management Engineering','Data Analyst 2 (Missionary Department) ','Senior Health Data Analyst, Star Ratings','Data Analyst Level III','Data Analyst Level III ','Data Analyst - Asset Management','Data Analyst, Performance Partnership','Survey Data Analyst','Analytics Manager - Data Mart','Data Analyst Chemist - Quality System Contractor','Analytics Manager','Marketing Data Analyst','Data & Analytics Consultant (NYC)','E-Commerce Data Analyst','Insurance Financial Data Analyst','Lead Health Data Analyst - Front End'],\n",
        "    value='Data Analyst',\n",
        "    inplace=True\n",
        ")\n",
        "\n",
        "df['Job Title'].replace(\n",
        "    to_replace=['BI & Platform Analytics Manager','Business Intelligence Analyst / Developer','Business Intelligence Analyst'],\n",
        "    value='Business Intelligence',\n",
        "    inplace=True\n",
        ")\n",
        "\n",
        "df['Job Title'].replace(\n",
        "    to_replace=['Data Engineer Intern','Data Science Intern'],\n",
        "    value='Intern',\n",
        "    inplace=True\n",
        ")\n",
        "\n",
        "df['Job Title'].value_counts()"
      ],
      "execution_count": 12,
      "outputs": [
        {
          "output_type": "execute_result",
          "data": {
            "text/plain": [
              "Data Scientist           612\n",
              "Data Engineer            193\n",
              "Data Analyst             133\n",
              "Business Intelligence     16\n",
              "Intern                     2\n",
              "Name: Job Title, dtype: int64"
            ]
          },
          "metadata": {
            "tags": []
          },
          "execution_count": 12
        }
      ]
    },
    {
      "cell_type": "code",
      "metadata": {
        "id": "VpYQ0_paOQxi"
      },
      "source": [
        "# Transformando a coluna 'Salary Estimate' em duas colunas 'Valor Mínimo','Valor Máximo'\n",
        "df[['Valor Mínimo','Valor Máximo']] = df['Salary Estimate'].str.split('-', expand=True)\n",
        "\n",
        "# Excluindo a coluna 'Salary Estimate'\n",
        "df.drop('Salary Estimate', axis=1, inplace=True)"
      ],
      "execution_count": 13,
      "outputs": []
    },
    {
      "cell_type": "code",
      "metadata": {
        "id": "BnOjZ84rUtt-"
      },
      "source": [
        "# Criando uma lista com o indíce dos salários divulgados por hora.\n",
        "lista_indice = [197, 209, 240, 247, 257, 307, 337, 427, 437, 456, 464, 522, 523, 632, 652, 682, 694, 786, 787, 823, 854, 875, 919, 936]\n",
        "\n",
        "# Excluindo esses indices\n",
        "df = df.drop(lista_indice) "
      ],
      "execution_count": 14,
      "outputs": []
    },
    {
      "cell_type": "code",
      "metadata": {
        "id": "WLDjROsJQfz3"
      },
      "source": [
        "# Limpando as colunas 'Valor Mínimo','Valor Máximo'\n",
        "df['Valor Mínimo'] = df['Valor Mínimo'].str.replace('K','')\n",
        "df['Valor Máximo'] = df['Valor Máximo'].str.replace('K','')\n",
        "df['Valor Mínimo'] = df['Valor Mínimo'].str.replace('$','')\n",
        "df['Valor Máximo'] = df['Valor Máximo'].str.replace('$','')\n",
        "df['Valor Máximo'] = df['Valor Máximo'].str.replace('Glassdoor est.','')\n",
        "df['Valor Máximo'] = df['Valor Máximo'].str.replace('(','')\n",
        "df['Valor Máximo'] = df['Valor Máximo'].str.replace(')','')\n",
        "df['Valor Máximo'] = df['Valor Máximo'].str.replace('Employer est.','')\n",
        "df['Valor Mínimo'] = df['Valor Mínimo'].str.replace('Employer Provided Salary:','')\n",
        "\n",
        "# Mudando o type das colunas 'Valor Mínimo','Valor Máximo'\n",
        "df['Valor Máximo'] = df['Valor Máximo'].astype(float)\n",
        "df['Valor Mínimo'] = df['Valor Mínimo'].astype(float)\n",
        "\n",
        "# Convertendo para milhares\n",
        "df['Valor Máximo'] = df['Valor Máximo'].multiply(1000)\n",
        "df['Valor Mínimo'] = df['Valor Mínimo'].multiply(1000)\n",
        "\n",
        "# Preenchendo os valores vazios com a mediana\n",
        "df['Valor Máximo'] = df['Valor Máximo'].fillna(df['Valor Máximo'].median())\n",
        "df['Valor Mínimo'] = df['Valor Mínimo'].fillna(df['Valor Mínimo'].median())"
      ],
      "execution_count": 15,
      "outputs": []
    },
    {
      "cell_type": "code",
      "metadata": {
        "id": "UJvejYk50E6Q"
      },
      "source": [
        "# Substituindo os valores vazios por Unknown / Non-Applicable\n",
        "df['Revenue'] = df['Revenue'].fillna('Unknown / Non-Applicable')\n",
        "\n",
        "# Substituindo os valores vazios por Unknown\n",
        "df['Size'] = df['Size'].fillna('Unknown')\n",
        "\n",
        "# Substituindo  os valores vazios por Unknown\n",
        "df['Type of ownership'] = df['Type of ownership'].fillna('Unknown')\n",
        "\n",
        "# Substituindo  os valores vazios por Unknown\n",
        "df['Sector'] = df['Sector'].fillna('Unknown')\n",
        "\n",
        "# Substituindo  os valores vazios por Unknown\n",
        "df['Industry'] = df['Industry'].fillna('Unknown')\n",
        "\n",
        "# Substituindo  os valores vazios por Unknown\n",
        "df['Headquarters'] = df['Headquarters'].fillna('Unknown')\n",
        "\n",
        "# Transformando a coluna 'Headquarters' em duas colunas 'Cidade','Pais'\n",
        "df[['Cidade_HQ','Pais_HQ']] = df['Headquarters'].str.split(',', expand=True)\n",
        "\n",
        "# Substituindo  os valores vazios por Unknown\n",
        "df['Pais_HQ'] = df['Pais_HQ'].fillna('Unknown')\n",
        "\n",
        "# Transformando em paises\n",
        "df[\"Pais_HQ\"].replace(\n",
        "    to_replace=[' CA', ' MD', ' FL', ' WA', ' NY', ' TX', ' VA', ' AR',\n",
        "       ' NJ', ' MA', ' CO', ' ID', ' GA', ' MI', ' IL', ' CT', ' NE', ' AL', ' MO', ' RI',\n",
        "       ' OH', ' PA', ' LA', ' DC', ' MN', ' AZ',' IN', ' SC', ' UT', ' TN', ' WI',\n",
        "       ' AK', ' NV', ' IA', ' NC',' OR', ' PR'],\n",
        "    value='USA',\n",
        "    inplace=True\n",
        ")\n",
        "\n",
        "\n",
        "\n",
        "# Excluindo a coluna 'Headquarters' porque ela foi dividida em duas colunas\n",
        "df.drop('Headquarters', axis=1, inplace=True)"
      ],
      "execution_count": 16,
      "outputs": []
    },
    {
      "cell_type": "code",
      "metadata": {
        "id": "zpHin9PWdH-v",
        "outputId": "a5924abe-bb10-4128-b92f-55565b4c6bf5",
        "colab": {
          "base_uri": "https://localhost:8080/",
          "height": 306
        }
      },
      "source": [
        "# Visualisando as primeiras 5 linhas do dataset \n",
        "df.head()"
      ],
      "execution_count": 17,
      "outputs": [
        {
          "output_type": "execute_result",
          "data": {
            "text/html": [
              "<div>\n",
              "<style scoped>\n",
              "    .dataframe tbody tr th:only-of-type {\n",
              "        vertical-align: middle;\n",
              "    }\n",
              "\n",
              "    .dataframe tbody tr th {\n",
              "        vertical-align: top;\n",
              "    }\n",
              "\n",
              "    .dataframe thead th {\n",
              "        text-align: right;\n",
              "    }\n",
              "</style>\n",
              "<table border=\"1\" class=\"dataframe\">\n",
              "  <thead>\n",
              "    <tr style=\"text-align: right;\">\n",
              "      <th></th>\n",
              "      <th>Job Title</th>\n",
              "      <th>Rating</th>\n",
              "      <th>Location</th>\n",
              "      <th>Size</th>\n",
              "      <th>Founded</th>\n",
              "      <th>Type of ownership</th>\n",
              "      <th>Industry</th>\n",
              "      <th>Sector</th>\n",
              "      <th>Revenue</th>\n",
              "      <th>Valor Mínimo</th>\n",
              "      <th>Valor Máximo</th>\n",
              "      <th>Cidade_HQ</th>\n",
              "      <th>Pais_HQ</th>\n",
              "    </tr>\n",
              "  </thead>\n",
              "  <tbody>\n",
              "    <tr>\n",
              "      <th>0</th>\n",
              "      <td>Data Scientist</td>\n",
              "      <td>3.8</td>\n",
              "      <td>Albuquerque, NM</td>\n",
              "      <td>501 to 1000 employees</td>\n",
              "      <td>1973</td>\n",
              "      <td>Company - Private</td>\n",
              "      <td>Aerospace &amp; Defense</td>\n",
              "      <td>Aerospace &amp; Defense</td>\n",
              "      <td>$50 to $100 million (USD)</td>\n",
              "      <td>53000.0</td>\n",
              "      <td>91000.0</td>\n",
              "      <td>Goleta</td>\n",
              "      <td>USA</td>\n",
              "    </tr>\n",
              "    <tr>\n",
              "      <th>1</th>\n",
              "      <td>Data Scientist</td>\n",
              "      <td>3.4</td>\n",
              "      <td>Linthicum, MD</td>\n",
              "      <td>10000+ employees</td>\n",
              "      <td>1984</td>\n",
              "      <td>Other Organization</td>\n",
              "      <td>Health Care Services &amp; Hospitals</td>\n",
              "      <td>Health Care</td>\n",
              "      <td>$2 to $5 billion (USD)</td>\n",
              "      <td>63000.0</td>\n",
              "      <td>112000.0</td>\n",
              "      <td>Baltimore</td>\n",
              "      <td>USA</td>\n",
              "    </tr>\n",
              "    <tr>\n",
              "      <th>2</th>\n",
              "      <td>Data Scientist</td>\n",
              "      <td>4.8</td>\n",
              "      <td>Clearwater, FL</td>\n",
              "      <td>501 to 1000 employees</td>\n",
              "      <td>2010</td>\n",
              "      <td>Company - Private</td>\n",
              "      <td>Security Services</td>\n",
              "      <td>Business Services</td>\n",
              "      <td>$100 to $500 million (USD)</td>\n",
              "      <td>80000.0</td>\n",
              "      <td>90000.0</td>\n",
              "      <td>Clearwater</td>\n",
              "      <td>USA</td>\n",
              "    </tr>\n",
              "    <tr>\n",
              "      <th>3</th>\n",
              "      <td>Data Scientist</td>\n",
              "      <td>3.8</td>\n",
              "      <td>Richland, WA</td>\n",
              "      <td>1001 to 5000 employees</td>\n",
              "      <td>1965</td>\n",
              "      <td>Government</td>\n",
              "      <td>Energy</td>\n",
              "      <td>Oil, Gas, Energy &amp; Utilities</td>\n",
              "      <td>$500 million to $1 billion (USD)</td>\n",
              "      <td>56000.0</td>\n",
              "      <td>97000.0</td>\n",
              "      <td>Richland</td>\n",
              "      <td>USA</td>\n",
              "    </tr>\n",
              "    <tr>\n",
              "      <th>4</th>\n",
              "      <td>Data Scientist</td>\n",
              "      <td>2.9</td>\n",
              "      <td>New York, NY</td>\n",
              "      <td>51 to 200 employees</td>\n",
              "      <td>1998</td>\n",
              "      <td>Company - Private</td>\n",
              "      <td>Advertising &amp; Marketing</td>\n",
              "      <td>Business Services</td>\n",
              "      <td>Unknown / Non-Applicable</td>\n",
              "      <td>86000.0</td>\n",
              "      <td>143000.0</td>\n",
              "      <td>New York</td>\n",
              "      <td>USA</td>\n",
              "    </tr>\n",
              "  </tbody>\n",
              "</table>\n",
              "</div>"
            ],
            "text/plain": [
              "        Job Title  Rating         Location  ... Valor Máximo   Cidade_HQ Pais_HQ\n",
              "0  Data Scientist     3.8  Albuquerque, NM  ...      91000.0      Goleta     USA\n",
              "1  Data Scientist     3.4    Linthicum, MD  ...     112000.0   Baltimore     USA\n",
              "2  Data Scientist     4.8   Clearwater, FL  ...      90000.0  Clearwater     USA\n",
              "3  Data Scientist     3.8     Richland, WA  ...      97000.0    Richland     USA\n",
              "4  Data Scientist     2.9     New York, NY  ...     143000.0    New York     USA\n",
              "\n",
              "[5 rows x 13 columns]"
            ]
          },
          "metadata": {
            "tags": []
          },
          "execution_count": 17
        }
      ]
    },
    {
      "cell_type": "code",
      "metadata": {
        "id": "eml3URSl02Xc",
        "outputId": "9be20f0e-5064-4a9c-8add-a7a5ec3bf500",
        "colab": {
          "base_uri": "https://localhost:8080/"
        }
      },
      "source": [
        "# Analisando a quantidade de vezes o NaN aparece em todo o dataset\n",
        "df.isnull().sum()"
      ],
      "execution_count": 18,
      "outputs": [
        {
          "output_type": "execute_result",
          "data": {
            "text/plain": [
              "Job Title            0\n",
              "Rating               0\n",
              "Location             0\n",
              "Size                 0\n",
              "Founded              0\n",
              "Type of ownership    0\n",
              "Industry             0\n",
              "Sector               0\n",
              "Revenue              0\n",
              "Valor Mínimo         0\n",
              "Valor Máximo         0\n",
              "Cidade_HQ            0\n",
              "Pais_HQ              0\n",
              "dtype: int64"
            ]
          },
          "metadata": {
            "tags": []
          },
          "execution_count": 18
        }
      ]
    },
    {
      "cell_type": "code",
      "metadata": {
        "id": "xMFIVjDt1mjV",
        "outputId": "12a9508e-aaec-4908-d010-a36255bfbf59",
        "colab": {
          "base_uri": "https://localhost:8080/"
        }
      },
      "source": [
        "# Verificando se todas as colunas estão com a mesma quantidade de valores\n",
        "df.info()"
      ],
      "execution_count": 19,
      "outputs": [
        {
          "output_type": "stream",
          "text": [
            "<class 'pandas.core.frame.DataFrame'>\n",
            "Int64Index: 932 entries, 0 to 955\n",
            "Data columns (total 13 columns):\n",
            " #   Column             Non-Null Count  Dtype  \n",
            "---  ------             --------------  -----  \n",
            " 0   Job Title          932 non-null    object \n",
            " 1   Rating             932 non-null    float64\n",
            " 2   Location           932 non-null    object \n",
            " 3   Size               932 non-null    object \n",
            " 4   Founded            932 non-null    int64  \n",
            " 5   Type of ownership  932 non-null    object \n",
            " 6   Industry           932 non-null    object \n",
            " 7   Sector             932 non-null    object \n",
            " 8   Revenue            932 non-null    object \n",
            " 9   Valor Mínimo       932 non-null    float64\n",
            " 10  Valor Máximo       932 non-null    float64\n",
            " 11  Cidade_HQ          932 non-null    object \n",
            " 12  Pais_HQ            932 non-null    object \n",
            "dtypes: float64(3), int64(1), object(9)\n",
            "memory usage: 101.9+ KB\n"
          ],
          "name": "stdout"
        }
      ]
    },
    {
      "cell_type": "markdown",
      "metadata": {
        "id": "YmPpNPJS12H7"
      },
      "source": [
        "# IV - Análise exploratória"
      ]
    },
    {
      "cell_type": "code",
      "metadata": {
        "id": "RnJ4ydFjWtIE",
        "outputId": "d4399db3-b048-4082-9a62-82e108f4c3f4",
        "colab": {
          "base_uri": "https://localhost:8080/"
        }
      },
      "source": [
        "# Analisando o maior e menor salário independente da função.\n",
        "print('O maior salário é $ {}  e o menor salário é $ {}'.format(df['Valor Máximo'].max(), df['Valor Mínimo'].min() ))"
      ],
      "execution_count": 20,
      "outputs": [
        {
          "output_type": "stream",
          "text": [
            "O maior salário é $ 306000.0  e o menor salário é $ 15000.0\n"
          ],
          "name": "stdout"
        }
      ]
    },
    {
      "cell_type": "code",
      "metadata": {
        "id": "ppu_EpvL1AEN",
        "outputId": "a32c5f76-c7d6-4074-cbb9-8b0dc157faa6",
        "colab": {
          "base_uri": "https://localhost:8080/",
          "height": 320
        }
      },
      "source": [
        "# Analisando max e min por Job Title\n",
        "df.groupby('Job Title')['Valor Mínimo', 'Valor Máximo'].agg(['max', 'min'])\n"
      ],
      "execution_count": 21,
      "outputs": [
        {
          "output_type": "stream",
          "text": [
            "/usr/local/lib/python3.6/dist-packages/ipykernel_launcher.py:2: FutureWarning: Indexing with multiple keys (implicitly converted to a tuple of keys) will be deprecated, use a list instead.\n",
            "  \n"
          ],
          "name": "stderr"
        },
        {
          "output_type": "execute_result",
          "data": {
            "text/html": [
              "<div>\n",
              "<style scoped>\n",
              "    .dataframe tbody tr th:only-of-type {\n",
              "        vertical-align: middle;\n",
              "    }\n",
              "\n",
              "    .dataframe tbody tr th {\n",
              "        vertical-align: top;\n",
              "    }\n",
              "\n",
              "    .dataframe thead tr th {\n",
              "        text-align: left;\n",
              "    }\n",
              "\n",
              "    .dataframe thead tr:last-of-type th {\n",
              "        text-align: right;\n",
              "    }\n",
              "</style>\n",
              "<table border=\"1\" class=\"dataframe\">\n",
              "  <thead>\n",
              "    <tr>\n",
              "      <th></th>\n",
              "      <th colspan=\"2\" halign=\"left\">Valor Mínimo</th>\n",
              "      <th colspan=\"2\" halign=\"left\">Valor Máximo</th>\n",
              "    </tr>\n",
              "    <tr>\n",
              "      <th></th>\n",
              "      <th>max</th>\n",
              "      <th>min</th>\n",
              "      <th>max</th>\n",
              "      <th>min</th>\n",
              "    </tr>\n",
              "    <tr>\n",
              "      <th>Job Title</th>\n",
              "      <th></th>\n",
              "      <th></th>\n",
              "      <th></th>\n",
              "      <th></th>\n",
              "    </tr>\n",
              "  </thead>\n",
              "  <tbody>\n",
              "    <tr>\n",
              "      <th>Business Intelligence</th>\n",
              "      <td>85000.0</td>\n",
              "      <td>53000.0</td>\n",
              "      <td>134000.0</td>\n",
              "      <td>105000.0</td>\n",
              "    </tr>\n",
              "    <tr>\n",
              "      <th>Data Analyst</th>\n",
              "      <td>99000.0</td>\n",
              "      <td>20000.0</td>\n",
              "      <td>178000.0</td>\n",
              "      <td>39000.0</td>\n",
              "    </tr>\n",
              "    <tr>\n",
              "      <th>Data Engineer</th>\n",
              "      <td>202000.0</td>\n",
              "      <td>37000.0</td>\n",
              "      <td>306000.0</td>\n",
              "      <td>66000.0</td>\n",
              "    </tr>\n",
              "    <tr>\n",
              "      <th>Data Scientist</th>\n",
              "      <td>200000.0</td>\n",
              "      <td>15000.0</td>\n",
              "      <td>289000.0</td>\n",
              "      <td>16000.0</td>\n",
              "    </tr>\n",
              "    <tr>\n",
              "      <th>Intern</th>\n",
              "      <td>71000.0</td>\n",
              "      <td>71000.0</td>\n",
              "      <td>126000.0</td>\n",
              "      <td>126000.0</td>\n",
              "    </tr>\n",
              "  </tbody>\n",
              "</table>\n",
              "</div>"
            ],
            "text/plain": [
              "                      Valor Mínimo          Valor Máximo          \n",
              "                               max      min          max       min\n",
              "Job Title                                                         \n",
              "Business Intelligence      85000.0  53000.0     134000.0  105000.0\n",
              "Data Analyst               99000.0  20000.0     178000.0   39000.0\n",
              "Data Engineer             202000.0  37000.0     306000.0   66000.0\n",
              "Data Scientist            200000.0  15000.0     289000.0   16000.0\n",
              "Intern                     71000.0  71000.0     126000.0  126000.0"
            ]
          },
          "metadata": {
            "tags": []
          },
          "execution_count": 21
        }
      ]
    },
    {
      "cell_type": "code",
      "metadata": {
        "id": "xcDQxhRnAFgm",
        "outputId": "69a7f6c4-5cde-4d61-9603-6e97df9b50ee",
        "colab": {
          "base_uri": "https://localhost:8080/",
          "height": 1000
        }
      },
      "source": [
        "# Analisando a média por Job Title e Size\n",
        "df.groupby(['Job Title', 'Size'])['Valor Mínimo', 'Valor Máximo'].mean()"
      ],
      "execution_count": 22,
      "outputs": [
        {
          "output_type": "stream",
          "text": [
            "/usr/local/lib/python3.6/dist-packages/ipykernel_launcher.py:2: FutureWarning: Indexing with multiple keys (implicitly converted to a tuple of keys) will be deprecated, use a list instead.\n",
            "  \n"
          ],
          "name": "stderr"
        },
        {
          "output_type": "execute_result",
          "data": {
            "text/html": [
              "<div>\n",
              "<style scoped>\n",
              "    .dataframe tbody tr th:only-of-type {\n",
              "        vertical-align: middle;\n",
              "    }\n",
              "\n",
              "    .dataframe tbody tr th {\n",
              "        vertical-align: top;\n",
              "    }\n",
              "\n",
              "    .dataframe thead th {\n",
              "        text-align: right;\n",
              "    }\n",
              "</style>\n",
              "<table border=\"1\" class=\"dataframe\">\n",
              "  <thead>\n",
              "    <tr style=\"text-align: right;\">\n",
              "      <th></th>\n",
              "      <th></th>\n",
              "      <th>Valor Mínimo</th>\n",
              "      <th>Valor Máximo</th>\n",
              "    </tr>\n",
              "    <tr>\n",
              "      <th>Job Title</th>\n",
              "      <th>Size</th>\n",
              "      <th></th>\n",
              "      <th></th>\n",
              "    </tr>\n",
              "  </thead>\n",
              "  <tbody>\n",
              "    <tr>\n",
              "      <th rowspan=\"3\" valign=\"top\">Business Intelligence</th>\n",
              "      <th>1001 to 5000 employees</th>\n",
              "      <td>72666.666667</td>\n",
              "      <td>125166.666667</td>\n",
              "    </tr>\n",
              "    <tr>\n",
              "      <th>201 to 500 employees</th>\n",
              "      <td>71000.000000</td>\n",
              "      <td>126000.000000</td>\n",
              "    </tr>\n",
              "    <tr>\n",
              "      <th>501 to 1000 employees</th>\n",
              "      <td>71000.000000</td>\n",
              "      <td>126000.000000</td>\n",
              "    </tr>\n",
              "    <tr>\n",
              "      <th rowspan=\"7\" valign=\"top\">Data Analyst</th>\n",
              "      <th>1 to 50 employees</th>\n",
              "      <td>59833.333333</td>\n",
              "      <td>104833.333333</td>\n",
              "    </tr>\n",
              "    <tr>\n",
              "      <th>10000+ employees</th>\n",
              "      <td>49538.461538</td>\n",
              "      <td>82000.000000</td>\n",
              "    </tr>\n",
              "    <tr>\n",
              "      <th>1001 to 5000 employees</th>\n",
              "      <td>48538.461538</td>\n",
              "      <td>88653.846154</td>\n",
              "    </tr>\n",
              "    <tr>\n",
              "      <th>201 to 500 employees</th>\n",
              "      <td>53185.185185</td>\n",
              "      <td>95481.481481</td>\n",
              "    </tr>\n",
              "    <tr>\n",
              "      <th>5001 to 10000 employees</th>\n",
              "      <td>45666.666667</td>\n",
              "      <td>80555.555556</td>\n",
              "    </tr>\n",
              "    <tr>\n",
              "      <th>501 to 1000 employees</th>\n",
              "      <td>42535.714286</td>\n",
              "      <td>76928.571429</td>\n",
              "    </tr>\n",
              "    <tr>\n",
              "      <th>51 to 200 employees</th>\n",
              "      <td>58727.272727</td>\n",
              "      <td>106818.181818</td>\n",
              "    </tr>\n",
              "    <tr>\n",
              "      <th rowspan=\"8\" valign=\"top\">Data Engineer</th>\n",
              "      <th>1 to 50 employees</th>\n",
              "      <td>70312.500000</td>\n",
              "      <td>128250.000000</td>\n",
              "    </tr>\n",
              "    <tr>\n",
              "      <th>10000+ employees</th>\n",
              "      <td>84769.230769</td>\n",
              "      <td>147076.923077</td>\n",
              "    </tr>\n",
              "    <tr>\n",
              "      <th>1001 to 5000 employees</th>\n",
              "      <td>76322.580645</td>\n",
              "      <td>137774.193548</td>\n",
              "    </tr>\n",
              "    <tr>\n",
              "      <th>201 to 500 employees</th>\n",
              "      <td>80222.222222</td>\n",
              "      <td>140481.481481</td>\n",
              "    </tr>\n",
              "    <tr>\n",
              "      <th>5001 to 10000 employees</th>\n",
              "      <td>74333.333333</td>\n",
              "      <td>134055.555556</td>\n",
              "    </tr>\n",
              "    <tr>\n",
              "      <th>501 to 1000 employees</th>\n",
              "      <td>63925.925926</td>\n",
              "      <td>112962.962963</td>\n",
              "    </tr>\n",
              "    <tr>\n",
              "      <th>51 to 200 employees</th>\n",
              "      <td>81883.720930</td>\n",
              "      <td>139069.767442</td>\n",
              "    </tr>\n",
              "    <tr>\n",
              "      <th>Unknown</th>\n",
              "      <td>71000.000000</td>\n",
              "      <td>126000.000000</td>\n",
              "    </tr>\n",
              "    <tr>\n",
              "      <th rowspan=\"8\" valign=\"top\">Data Scientist</th>\n",
              "      <th>1 to 50 employees</th>\n",
              "      <td>81277.777778</td>\n",
              "      <td>138972.222222</td>\n",
              "    </tr>\n",
              "    <tr>\n",
              "      <th>10000+ employees</th>\n",
              "      <td>85848.214286</td>\n",
              "      <td>146562.500000</td>\n",
              "    </tr>\n",
              "    <tr>\n",
              "      <th>1001 to 5000 employees</th>\n",
              "      <td>74903.846154</td>\n",
              "      <td>129913.461538</td>\n",
              "    </tr>\n",
              "    <tr>\n",
              "      <th>201 to 500 employees</th>\n",
              "      <td>74650.000000</td>\n",
              "      <td>133090.000000</td>\n",
              "    </tr>\n",
              "    <tr>\n",
              "      <th>5001 to 10000 employees</th>\n",
              "      <td>77208.333333</td>\n",
              "      <td>136208.333333</td>\n",
              "    </tr>\n",
              "    <tr>\n",
              "      <th>501 to 1000 employees</th>\n",
              "      <td>77172.839506</td>\n",
              "      <td>132666.666667</td>\n",
              "    </tr>\n",
              "    <tr>\n",
              "      <th>51 to 200 employees</th>\n",
              "      <td>83306.818182</td>\n",
              "      <td>138704.545455</td>\n",
              "    </tr>\n",
              "    <tr>\n",
              "      <th>Unknown</th>\n",
              "      <td>88125.000000</td>\n",
              "      <td>132666.666667</td>\n",
              "    </tr>\n",
              "    <tr>\n",
              "      <th rowspan=\"2\" valign=\"top\">Intern</th>\n",
              "      <th>201 to 500 employees</th>\n",
              "      <td>71000.000000</td>\n",
              "      <td>126000.000000</td>\n",
              "    </tr>\n",
              "    <tr>\n",
              "      <th>51 to 200 employees</th>\n",
              "      <td>71000.000000</td>\n",
              "      <td>126000.000000</td>\n",
              "    </tr>\n",
              "  </tbody>\n",
              "</table>\n",
              "</div>"
            ],
            "text/plain": [
              "                                               Valor Mínimo   Valor Máximo\n",
              "Job Title             Size                                                \n",
              "Business Intelligence 1001 to 5000 employees   72666.666667  125166.666667\n",
              "                      201 to 500 employees     71000.000000  126000.000000\n",
              "                      501 to 1000 employees    71000.000000  126000.000000\n",
              "Data Analyst          1 to 50 employees        59833.333333  104833.333333\n",
              "                      10000+ employees         49538.461538   82000.000000\n",
              "                      1001 to 5000 employees   48538.461538   88653.846154\n",
              "                      201 to 500 employees     53185.185185   95481.481481\n",
              "                      5001 to 10000 employees  45666.666667   80555.555556\n",
              "                      501 to 1000 employees    42535.714286   76928.571429\n",
              "                      51 to 200 employees      58727.272727  106818.181818\n",
              "Data Engineer         1 to 50 employees        70312.500000  128250.000000\n",
              "                      10000+ employees         84769.230769  147076.923077\n",
              "                      1001 to 5000 employees   76322.580645  137774.193548\n",
              "                      201 to 500 employees     80222.222222  140481.481481\n",
              "                      5001 to 10000 employees  74333.333333  134055.555556\n",
              "                      501 to 1000 employees    63925.925926  112962.962963\n",
              "                      51 to 200 employees      81883.720930  139069.767442\n",
              "                      Unknown                  71000.000000  126000.000000\n",
              "Data Scientist        1 to 50 employees        81277.777778  138972.222222\n",
              "                      10000+ employees         85848.214286  146562.500000\n",
              "                      1001 to 5000 employees   74903.846154  129913.461538\n",
              "                      201 to 500 employees     74650.000000  133090.000000\n",
              "                      5001 to 10000 employees  77208.333333  136208.333333\n",
              "                      501 to 1000 employees    77172.839506  132666.666667\n",
              "                      51 to 200 employees      83306.818182  138704.545455\n",
              "                      Unknown                  88125.000000  132666.666667\n",
              "Intern                201 to 500 employees     71000.000000  126000.000000\n",
              "                      51 to 200 employees      71000.000000  126000.000000"
            ]
          },
          "metadata": {
            "tags": []
          },
          "execution_count": 22
        }
      ]
    },
    {
      "cell_type": "code",
      "metadata": {
        "id": "7KY45GEJbkzO",
        "outputId": "e8ec3804-4d10-4db9-97e2-47c4eb29a5c5",
        "colab": {
          "base_uri": "https://localhost:8080/",
          "height": 173
        }
      },
      "source": [
        "# Analisando principais medidas do dataframe\n",
        "df.describe().T"
      ],
      "execution_count": 54,
      "outputs": [
        {
          "output_type": "execute_result",
          "data": {
            "text/html": [
              "<div>\n",
              "<style scoped>\n",
              "    .dataframe tbody tr th:only-of-type {\n",
              "        vertical-align: middle;\n",
              "    }\n",
              "\n",
              "    .dataframe tbody tr th {\n",
              "        vertical-align: top;\n",
              "    }\n",
              "\n",
              "    .dataframe thead th {\n",
              "        text-align: right;\n",
              "    }\n",
              "</style>\n",
              "<table border=\"1\" class=\"dataframe\">\n",
              "  <thead>\n",
              "    <tr style=\"text-align: right;\">\n",
              "      <th></th>\n",
              "      <th>count</th>\n",
              "      <th>mean</th>\n",
              "      <th>std</th>\n",
              "      <th>min</th>\n",
              "      <th>25%</th>\n",
              "      <th>50%</th>\n",
              "      <th>75%</th>\n",
              "      <th>max</th>\n",
              "    </tr>\n",
              "  </thead>\n",
              "  <tbody>\n",
              "    <tr>\n",
              "      <th>Rating</th>\n",
              "      <td>932.0</td>\n",
              "      <td>3.603004</td>\n",
              "      <td>1.079818</td>\n",
              "      <td>-1.0</td>\n",
              "      <td>3.3</td>\n",
              "      <td>3.8</td>\n",
              "      <td>4.2</td>\n",
              "      <td>5.0</td>\n",
              "    </tr>\n",
              "    <tr>\n",
              "      <th>Founded</th>\n",
              "      <td>932.0</td>\n",
              "      <td>1769.543991</td>\n",
              "      <td>605.754504</td>\n",
              "      <td>-1.0</td>\n",
              "      <td>1938.5</td>\n",
              "      <td>1993.0</td>\n",
              "      <td>2008.0</td>\n",
              "      <td>2019.0</td>\n",
              "    </tr>\n",
              "    <tr>\n",
              "      <th>Valor Mínimo</th>\n",
              "      <td>932.0</td>\n",
              "      <td>74753.218884</td>\n",
              "      <td>27103.240585</td>\n",
              "      <td>15000.0</td>\n",
              "      <td>60000.0</td>\n",
              "      <td>71000.0</td>\n",
              "      <td>84250.0</td>\n",
              "      <td>202000.0</td>\n",
              "    </tr>\n",
              "    <tr>\n",
              "      <th>Valor Máximo</th>\n",
              "      <td>932.0</td>\n",
              "      <td>129417.381974</td>\n",
              "      <td>38747.227314</td>\n",
              "      <td>16000.0</td>\n",
              "      <td>109000.0</td>\n",
              "      <td>126000.0</td>\n",
              "      <td>144000.0</td>\n",
              "      <td>306000.0</td>\n",
              "    </tr>\n",
              "  </tbody>\n",
              "</table>\n",
              "</div>"
            ],
            "text/plain": [
              "              count           mean           std  ...       50%       75%       max\n",
              "Rating        932.0       3.603004      1.079818  ...       3.8       4.2       5.0\n",
              "Founded       932.0    1769.543991    605.754504  ...    1993.0    2008.0    2019.0\n",
              "Valor Mínimo  932.0   74753.218884  27103.240585  ...   71000.0   84250.0  202000.0\n",
              "Valor Máximo  932.0  129417.381974  38747.227314  ...  126000.0  144000.0  306000.0\n",
              "\n",
              "[4 rows x 8 columns]"
            ]
          },
          "metadata": {
            "tags": []
          },
          "execution_count": 54
        }
      ]
    },
    {
      "cell_type": "code",
      "metadata": {
        "id": "Tt4jHy2jkerU"
      },
      "source": [
        "# Padronizando as cores \n",
        "cor_valor_maximo =  \"r\"\n",
        "cor_valor_minimo =  \"b\""
      ],
      "execution_count": 24,
      "outputs": []
    },
    {
      "cell_type": "code",
      "metadata": {
        "id": "dfBjIMpMam-s",
        "outputId": "59d974fd-02aa-4226-fe20-bb57bcab1c69",
        "colab": {
          "base_uri": "https://localhost:8080/",
          "height": 265
        }
      },
      "source": [
        "# Aplicando um estilo aos plots\n",
        "plt.style.use(\"ggplot\")\n",
        "\n",
        "# Criando gráfico\n",
        "g1 = plt.hist(df['Valor Máximo'],ec = \"k\", label= 'Valor Máximo', alpha= 0.5, color = cor_valor_maximo)\n",
        "g1 = plt.hist(df['Valor Mínimo'],ec = \"k\", label= 'Valor Mínimo', alpha= 0.5, color = cor_valor_minimo)\n",
        "\n",
        "# Colocando a legenda no melhor lugar\n",
        "plt.legend(loc='best')\n",
        "\n",
        "# Mostrando gráfico\n",
        "plt.show()"
      ],
      "execution_count": 25,
      "outputs": [
        {
          "output_type": "display_data",
          "data": {
            "image/png": "[encoded data removed]",
            "text/plain": [
              "<Figure size 432x288 with 1 Axes>"
            ]
          },
          "metadata": {
            "tags": []
          }
        }
      ]
    },
    {
      "cell_type": "markdown",
      "metadata": {
        "id": "Ohr5jogYbuvN"
      },
      "source": [
        "**Algumas Conclusões**\n",
        "\n",
        "1 - Há maior concentração de Valor Máximo entre 100000 e 150000\n",
        "\n",
        "2 - Há maior concentração de Valor Mínimo entre 50000 e 90000"
      ]
    },
    {
      "cell_type": "code",
      "metadata": {
        "id": "VSS5fPqVeFIF",
        "outputId": "d1c86296-544d-4804-9c77-6567b17bd94c",
        "colab": {
          "base_uri": "https://localhost:8080/",
          "height": 542
        }
      },
      "source": [
        "# Configurando tamanho da figura\n",
        "plt.figure(figsize=(18,8))\n",
        "\n",
        "# Criando gráfico\n",
        "g3 = sns.kdeplot(df['Valor Mínimo'], label = 'Valor Mínimo', shade = True)\n",
        "g3 = sns.kdeplot(df['Valor Máximo'], label = 'Valor Máximo', shade = True)\n",
        "\n",
        "# Criando titulo\n",
        "plt.title('Salários',\n",
        "               pad = 20,\n",
        "         fontsize = 13, color ='dimgrey', fontweight = 'bold')\n",
        "\n",
        "sns.despine(bottom = True, left=True)\n",
        "\n",
        "# Padronizando as legendas\n",
        "plt.xlabel('Valor', color = 'grey', labelpad = 20, fontsize = 8)\n",
        "\n",
        "\n",
        "g3.tick_params(axis ='y', labelsize=0, length = 0)\n",
        "g3.set_yticklabels([])\n",
        "plt.ylabel([], fontsize =0)\n",
        "\n",
        "g3 = plt.legend()"
      ],
      "execution_count": 26,
      "outputs": [
        {
          "output_type": "display_data",
          "data": {
            "image/png": "[encoded data removed]",
            "text/plain": [
              "<Figure size 1296x576 with 1 Axes>"
            ]
          },
          "metadata": {
            "tags": []
          }
        }
      ]
    },
    {
      "cell_type": "markdown",
      "metadata": {
        "id": "vcV9EpvagHBI"
      },
      "source": [
        "**Algumas Conclusões**\n",
        "\n",
        "1 - Os salários Máximo são mais \"distribuídos\".\n",
        "\n",
        "2 - Os salários Mínimo tem uma alta concentração um pouco acima de $50000."
      ]
    },
    {
      "cell_type": "code",
      "metadata": {
        "id": "J9JBBafw3qMw",
        "outputId": "c50b3ecf-6bfb-4f16-a0ab-8f96e06c1650",
        "colab": {
          "base_uri": "https://localhost:8080/",
          "height": 304
        }
      },
      "source": [
        "# Criando gráfico\n",
        "plt.figure(figsize=(20, 20))\n",
        "g2 = plt.subplot(4, 2, 1)\n",
        "g2 = sns.barplot(x=\"Job Title\", y=\"Valor Máximo\", data=df, color= cor_valor_maximo, errwidth=False)\n",
        "\n",
        "##############\n",
        "\n",
        "# Criando gráfico\n",
        "g3 = plt.subplot(4, 2, 2)\n",
        "g3 = sns.barplot(x=\"Job Title\", y=\"Valor Mínimo\", data=df, color= cor_valor_minimo, errwidth=False)\n"
      ],
      "execution_count": 33,
      "outputs": [
        {
          "output_type": "display_data",
          "data": {
            "image/png": "[encoded data removed]",
            "text/plain": [
              "<Figure size 1440x1440 with 2 Axes>"
            ]
          },
          "metadata": {
            "tags": []
          }
        }
      ]
    },
    {
      "cell_type": "markdown",
      "metadata": {
        "id": "yq8NOHJ5btqS"
      },
      "source": [
        "**Algumas Conclusões**\n",
        "\n",
        "1 - Os salários de Data Analyst são menores do que o de Intern.\n",
        "\n",
        "2 - Os salários de Business Intelligence e Intern são bem próximos.\n",
        "\n",
        "3 - Os salários de Data Scientist e Data Engineer são bem próximos."
      ]
    },
    {
      "cell_type": "code",
      "metadata": {
        "id": "9S_tZ3qvlDk1",
        "outputId": "31b16fc6-01da-4657-8475-ddd217df1cdf",
        "colab": {
          "base_uri": "https://localhost:8080/",
          "height": 1000
        }
      },
      "source": [
        "# Criando gráfico\n",
        "plt.figure(figsize=(10, 8))\n",
        "sns.set_theme(style=\"whitegrid\")\n",
        "sns.boxplot(x=\"Job Title\", y = \"Valor Máximo\", data = df, color= cor_valor_maximo)\n",
        "plt.title(\"Boxplot do Salário Máximo pela Função\")\n",
        "\n",
        "##############\n",
        "\n",
        "# Criando gráfico\n",
        "plt.figure(figsize=(10, 8))\n",
        "sns.set_theme(style=\"whitegrid\")\n",
        "sns.boxplot(x=\"Job Title\", y = \"Valor Mínimo\", data = df, color= cor_valor_minimo)\n",
        "plt.title(\"Boxplot do Salário Mínimo pela Função\")"
      ],
      "execution_count": 28,
      "outputs": [
        {
          "output_type": "execute_result",
          "data": {
            "text/plain": [
              "Text(0.5, 1.0, 'Boxplot do Salário Mínimo pela Função')"
            ]
          },
          "metadata": {
            "tags": []
          },
          "execution_count": 28
        },
        {
          "output_type": "display_data",
          "data": {
            "image/png": "[encoded data removed]",
            "text/plain": [
              "<Figure size 720x576 with 1 Axes>"
            ]
          },
          "metadata": {
            "tags": []
          }
        },
        {
          "output_type": "display_data",
          "data": {
            "image/png": "[encoded data removed]",
            "text/plain": [
              "<Figure size 720x576 with 1 Axes>"
            ]
          },
          "metadata": {
            "tags": []
          }
        }
      ]
    },
    {
      "cell_type": "markdown",
      "metadata": {
        "id": "RtccXB3GhnTG"
      },
      "source": [
        "**Algumas Conclusões**\n",
        "\n",
        "1 - Os salários de Data Scientist e Data Engineer são bem próximos no gráfico anterior mas nesse gráfico podemos verificar que a média é praticamente a mesma mas a caixa de distribuição dos salários e bem maior no Data Scientist do que Data Engineer.\n",
        "\n",
        "2 - O Data Engineer possui um outlier bem evidente no valor máximo superior. \n",
        "\n",
        "3 - O Data Scientist possui um outlier bem evidente na parte inferior de ambas variáveis."
      ]
    },
    {
      "cell_type": "code",
      "metadata": {
        "id": "SqZ_PrMM0S6s",
        "outputId": "2d03a01d-9d85-4aa0-ef50-7a365c14acc7",
        "colab": {
          "base_uri": "https://localhost:8080/",
          "height": 1000
        }
      },
      "source": [
        "# Criando gráfico\n",
        "plt.figure(figsize=(19, 8))\n",
        "sns.barplot(x=\"Pais_HQ\",\n",
        "            y=\"Valor Máximo\", \n",
        "            data=df, \n",
        "            color= cor_valor_maximo,\n",
        "            errwidth=False)\n",
        "\n",
        "##############\n",
        "\n",
        "# Criando gráfico\n",
        "plt.figure(figsize=(19, 8))\n",
        "sns.barplot(x=\"Pais_HQ\", \n",
        "            y=\"Valor Mínimo\", \n",
        "            data=df,\n",
        "            color= cor_valor_minimo,\n",
        "            errwidth=False)"
      ],
      "execution_count": 29,
      "outputs": [
        {
          "output_type": "execute_result",
          "data": {
            "text/plain": [
              "<matplotlib.axes._subplots.AxesSubplot at 0x7f3193a23ac8>"
            ]
          },
          "metadata": {
            "tags": []
          },
          "execution_count": 29
        },
        {
          "output_type": "display_data",
          "data": {
            "image/png": "[encoded data removed]",
            "text/plain": [
              "<Figure size 1368x576 with 1 Axes>"
            ]
          },
          "metadata": {
            "tags": []
          }
        },
        {
          "output_type": "display_data",
          "data": {
            "image/png": "[encoded data removed]",
            "text/plain": [
              "<Figure size 1368x576 with 1 Axes>"
            ]
          },
          "metadata": {
            "tags": []
          }
        }
      ]
    },
    {
      "cell_type": "markdown",
      "metadata": {
        "id": "n9GE5Ru5hrwk"
      },
      "source": [
        "**Algumas Conclusões**\n",
        "\n",
        "1 - Japan e Bermuda tem os maiores salários.\n",
        "\n",
        "2 - India e Spain tem os menores salários."
      ]
    },
    {
      "cell_type": "code",
      "metadata": {
        "id": "lmCbUOZckIn-",
        "outputId": "98e70419-dc0c-4cef-8e83-891d6b54c8e0",
        "colab": {
          "base_uri": "https://localhost:8080/",
          "height": 741
        }
      },
      "source": [
        "# Criando gráfico\n",
        "sns.pairplot(df, hue='Job Title', diag_kind=\"hist\")"
      ],
      "execution_count": 30,
      "outputs": [
        {
          "output_type": "execute_result",
          "data": {
            "text/plain": [
              "<seaborn.axisgrid.PairGrid at 0x7f3193d89be0>"
            ]
          },
          "metadata": {
            "tags": []
          },
          "execution_count": 30
        },
        {
          "output_type": "display_data",
          "data": {
            "image/png": "[encoded data removed]",
            "text/plain": [
              "<Figure size 876.475x720 with 20 Axes>"
            ]
          },
          "metadata": {
            "tags": []
          }
        }
      ]
    },
    {
      "cell_type": "markdown",
      "metadata": {
        "id": "GiIhvexBhzoR"
      },
      "source": [
        "**Algumas Conclusões**\n",
        "\n",
        "1 - Evidente correlação positiva entre os valores de salários."
      ]
    },
    {
      "cell_type": "code",
      "metadata": {
        "id": "xXXQa9aJ9Qwz",
        "outputId": "643375a7-3ca6-4f35-8f69-602c24cbc280",
        "colab": {
          "base_uri": "https://localhost:8080/",
          "height": 573
        }
      },
      "source": [
        "#matriz\n",
        "correlacao = df.corr()\n",
        "\n",
        "# Generate a mask for the upper triangle\n",
        "mask = np.triu(np.ones_like(correlacao, dtype=bool))\n",
        "\n",
        "# Set up the matplotlib figure\n",
        "f, ax = plt.subplots(figsize=(11, 9))\n",
        "\n",
        "# Draw the heatmap with the mask and correct aspect ratio\n",
        "sns.heatmap(correlacao, mask=mask, cmap='coolwarm', annot=True, center=0, linewidths=.5)\n",
        "plt.title(\"Correlação das Variáveis\")"
      ],
      "execution_count": 31,
      "outputs": [
        {
          "output_type": "execute_result",
          "data": {
            "text/plain": [
              "Text(0.5, 1.0, 'Correlação das Variáveis')"
            ]
          },
          "metadata": {
            "tags": []
          },
          "execution_count": 31
        },
        {
          "output_type": "display_data",
          "data": {
            "image/png": "[encoded data removed]",
            "text/plain": [
              "<Figure size 792x648 with 2 Axes>"
            ]
          },
          "metadata": {
            "tags": []
          }
        }
      ]
    },
    {
      "cell_type": "markdown",
      "metadata": {
        "id": "WusNc3d1h1b-"
      },
      "source": [
        "**Algumas Conclusões**\n",
        "\n",
        "1 - Confirmada a correlação positiva em Valor Máximo e Valor Mínimo (0,94).\n",
        "\n",
        "2 - Correlação pouco significativa entre Founded e Rating (0,49). "
      ]
    },
    {
      "cell_type": "markdown",
      "metadata": {
        "id": "_eTmiePO9hSR"
      },
      "source": [
        "# V - Modelagem"
      ]
    },
    {
      "cell_type": "code",
      "metadata": {
        "id": "NSiEr_hfHF0G",
        "outputId": "b8c48583-a3d7-4858-ede1-5c4c24e3cbbe",
        "colab": {
          "base_uri": "https://localhost:8080/",
          "height": 306
        }
      },
      "source": [
        "df.head()"
      ],
      "execution_count": 34,
      "outputs": [
        {
          "output_type": "execute_result",
          "data": {
            "text/html": [
              "<div>\n",
              "<style scoped>\n",
              "    .dataframe tbody tr th:only-of-type {\n",
              "        vertical-align: middle;\n",
              "    }\n",
              "\n",
              "    .dataframe tbody tr th {\n",
              "        vertical-align: top;\n",
              "    }\n",
              "\n",
              "    .dataframe thead th {\n",
              "        text-align: right;\n",
              "    }\n",
              "</style>\n",
              "<table border=\"1\" class=\"dataframe\">\n",
              "  <thead>\n",
              "    <tr style=\"text-align: right;\">\n",
              "      <th></th>\n",
              "      <th>Job Title</th>\n",
              "      <th>Rating</th>\n",
              "      <th>Location</th>\n",
              "      <th>Size</th>\n",
              "      <th>Founded</th>\n",
              "      <th>Type of ownership</th>\n",
              "      <th>Industry</th>\n",
              "      <th>Sector</th>\n",
              "      <th>Revenue</th>\n",
              "      <th>Valor Mínimo</th>\n",
              "      <th>Valor Máximo</th>\n",
              "      <th>Cidade_HQ</th>\n",
              "      <th>Pais_HQ</th>\n",
              "    </tr>\n",
              "  </thead>\n",
              "  <tbody>\n",
              "    <tr>\n",
              "      <th>0</th>\n",
              "      <td>Data Scientist</td>\n",
              "      <td>3.8</td>\n",
              "      <td>Albuquerque, NM</td>\n",
              "      <td>501 to 1000 employees</td>\n",
              "      <td>1973</td>\n",
              "      <td>Company - Private</td>\n",
              "      <td>Aerospace &amp; Defense</td>\n",
              "      <td>Aerospace &amp; Defense</td>\n",
              "      <td>$50 to $100 million (USD)</td>\n",
              "      <td>53000.0</td>\n",
              "      <td>91000.0</td>\n",
              "      <td>Goleta</td>\n",
              "      <td>USA</td>\n",
              "    </tr>\n",
              "    <tr>\n",
              "      <th>1</th>\n",
              "      <td>Data Scientist</td>\n",
              "      <td>3.4</td>\n",
              "      <td>Linthicum, MD</td>\n",
              "      <td>10000+ employees</td>\n",
              "      <td>1984</td>\n",
              "      <td>Other Organization</td>\n",
              "      <td>Health Care Services &amp; Hospitals</td>\n",
              "      <td>Health Care</td>\n",
              "      <td>$2 to $5 billion (USD)</td>\n",
              "      <td>63000.0</td>\n",
              "      <td>112000.0</td>\n",
              "      <td>Baltimore</td>\n",
              "      <td>USA</td>\n",
              "    </tr>\n",
              "    <tr>\n",
              "      <th>2</th>\n",
              "      <td>Data Scientist</td>\n",
              "      <td>4.8</td>\n",
              "      <td>Clearwater, FL</td>\n",
              "      <td>501 to 1000 employees</td>\n",
              "      <td>2010</td>\n",
              "      <td>Company - Private</td>\n",
              "      <td>Security Services</td>\n",
              "      <td>Business Services</td>\n",
              "      <td>$100 to $500 million (USD)</td>\n",
              "      <td>80000.0</td>\n",
              "      <td>90000.0</td>\n",
              "      <td>Clearwater</td>\n",
              "      <td>USA</td>\n",
              "    </tr>\n",
              "    <tr>\n",
              "      <th>3</th>\n",
              "      <td>Data Scientist</td>\n",
              "      <td>3.8</td>\n",
              "      <td>Richland, WA</td>\n",
              "      <td>1001 to 5000 employees</td>\n",
              "      <td>1965</td>\n",
              "      <td>Government</td>\n",
              "      <td>Energy</td>\n",
              "      <td>Oil, Gas, Energy &amp; Utilities</td>\n",
              "      <td>$500 million to $1 billion (USD)</td>\n",
              "      <td>56000.0</td>\n",
              "      <td>97000.0</td>\n",
              "      <td>Richland</td>\n",
              "      <td>USA</td>\n",
              "    </tr>\n",
              "    <tr>\n",
              "      <th>4</th>\n",
              "      <td>Data Scientist</td>\n",
              "      <td>2.9</td>\n",
              "      <td>New York, NY</td>\n",
              "      <td>51 to 200 employees</td>\n",
              "      <td>1998</td>\n",
              "      <td>Company - Private</td>\n",
              "      <td>Advertising &amp; Marketing</td>\n",
              "      <td>Business Services</td>\n",
              "      <td>Unknown / Non-Applicable</td>\n",
              "      <td>86000.0</td>\n",
              "      <td>143000.0</td>\n",
              "      <td>New York</td>\n",
              "      <td>USA</td>\n",
              "    </tr>\n",
              "  </tbody>\n",
              "</table>\n",
              "</div>"
            ],
            "text/plain": [
              "        Job Title  Rating         Location  ... Valor Máximo   Cidade_HQ Pais_HQ\n",
              "0  Data Scientist     3.8  Albuquerque, NM  ...      91000.0      Goleta     USA\n",
              "1  Data Scientist     3.4    Linthicum, MD  ...     112000.0   Baltimore     USA\n",
              "2  Data Scientist     4.8   Clearwater, FL  ...      90000.0  Clearwater     USA\n",
              "3  Data Scientist     3.8     Richland, WA  ...      97000.0    Richland     USA\n",
              "4  Data Scientist     2.9     New York, NY  ...     143000.0    New York     USA\n",
              "\n",
              "[5 rows x 13 columns]"
            ]
          },
          "metadata": {
            "tags": []
          },
          "execution_count": 34
        }
      ]
    },
    {
      "cell_type": "markdown",
      "metadata": {
        "id": "MOUVbkSwHIVy"
      },
      "source": [
        "**Categoricas** \n",
        "\n",
        "- Job Title\n",
        "- Size\n",
        "- Revenue\n",
        "- Pais\n",
        "\n",
        "**Numerica** \n",
        "\n",
        "\n",
        "- Rating\n",
        "- Founded\n",
        "- Valor Mínimo\n",
        "- Valor Máximo"
      ]
    },
    {
      "cell_type": "code",
      "metadata": {
        "id": "vzGRmRZIIBTR"
      },
      "source": [
        "# Tratando colunas categóricas\n",
        "cat_cols = ['Job Title', 'Size', 'Revenue', 'Pais_HQ']\n",
        "treino_cat = df[cat_cols]"
      ],
      "execution_count": 37,
      "outputs": []
    },
    {
      "cell_type": "code",
      "metadata": {
        "id": "BhD-RaVAIBEP"
      },
      "source": [
        "# usando one hot encoding\n",
        "treino_cat = pd.get_dummies(treino_cat)"
      ],
      "execution_count": 38,
      "outputs": []
    },
    {
      "cell_type": "code",
      "metadata": {
        "id": "YoPmNDaVIBCq",
        "outputId": "863a730f-c01c-4456-ffc6-c3fd90c1df1e",
        "colab": {
          "base_uri": "https://localhost:8080/"
        }
      },
      "source": [
        "treino_cat.info()"
      ],
      "execution_count": 39,
      "outputs": [
        {
          "output_type": "stream",
          "text": [
            "<class 'pandas.core.frame.DataFrame'>\n",
            "Int64Index: 932 entries, 0 to 955\n",
            "Data columns (total 40 columns):\n",
            " #   Column                                    Non-Null Count  Dtype\n",
            "---  ------                                    --------------  -----\n",
            " 0   Job Title_Business Intelligence           932 non-null    uint8\n",
            " 1   Job Title_Data Analyst                    932 non-null    uint8\n",
            " 2   Job Title_Data Engineer                   932 non-null    uint8\n",
            " 3   Job Title_Data Scientist                  932 non-null    uint8\n",
            " 4   Job Title_Intern                          932 non-null    uint8\n",
            " 5   Size_1 to 50 employees                    932 non-null    uint8\n",
            " 6   Size_10000+ employees                     932 non-null    uint8\n",
            " 7   Size_1001 to 5000 employees               932 non-null    uint8\n",
            " 8   Size_201 to 500 employees                 932 non-null    uint8\n",
            " 9   Size_5001 to 10000 employees              932 non-null    uint8\n",
            " 10  Size_501 to 1000 employees                932 non-null    uint8\n",
            " 11  Size_51 to 200 employees                  932 non-null    uint8\n",
            " 12  Size_Unknown                              932 non-null    uint8\n",
            " 13  Revenue_$1 to $2 billion (USD)            932 non-null    uint8\n",
            " 14  Revenue_$1 to $5 million (USD)            932 non-null    uint8\n",
            " 15  Revenue_$10 to $25 million (USD)          932 non-null    uint8\n",
            " 16  Revenue_$10+ billion (USD)                932 non-null    uint8\n",
            " 17  Revenue_$100 to $500 million (USD)        932 non-null    uint8\n",
            " 18  Revenue_$2 to $5 billion (USD)            932 non-null    uint8\n",
            " 19  Revenue_$25 to $50 million (USD)          932 non-null    uint8\n",
            " 20  Revenue_$5 to $10 billion (USD)           932 non-null    uint8\n",
            " 21  Revenue_$5 to $10 million (USD)           932 non-null    uint8\n",
            " 22  Revenue_$50 to $100 million (USD)         932 non-null    uint8\n",
            " 23  Revenue_$500 million to $1 billion (USD)  932 non-null    uint8\n",
            " 24  Revenue_Less than $1 million (USD)        932 non-null    uint8\n",
            " 25  Revenue_Unknown / Non-Applicable          932 non-null    uint8\n",
            " 26  Pais_HQ_ Belgium                          932 non-null    uint8\n",
            " 27  Pais_HQ_ Bermuda                          932 non-null    uint8\n",
            " 28  Pais_HQ_ China                            932 non-null    uint8\n",
            " 29  Pais_HQ_ France                           932 non-null    uint8\n",
            " 30  Pais_HQ_ Germany                          932 non-null    uint8\n",
            " 31  Pais_HQ_ India                            932 non-null    uint8\n",
            " 32  Pais_HQ_ Japan                            932 non-null    uint8\n",
            " 33  Pais_HQ_ Singapore                        932 non-null    uint8\n",
            " 34  Pais_HQ_ South Korea                      932 non-null    uint8\n",
            " 35  Pais_HQ_ Spain                            932 non-null    uint8\n",
            " 36  Pais_HQ_ Switzerland                      932 non-null    uint8\n",
            " 37  Pais_HQ_ United Kingdom                   932 non-null    uint8\n",
            " 38  Pais_HQ_USA                               932 non-null    uint8\n",
            " 39  Pais_HQ_Unknown                           932 non-null    uint8\n",
            "dtypes: uint8(40)\n",
            "memory usage: 83.7 KB\n"
          ],
          "name": "stdout"
        }
      ]
    },
    {
      "cell_type": "code",
      "metadata": {
        "id": "2LdORVAnIA1Y"
      },
      "source": [
        "num_cols = ['Rating', 'Founded', 'Valor Mínimo', 'Valor Máximo']\n",
        "treino_num = df[num_cols]"
      ],
      "execution_count": 40,
      "outputs": []
    },
    {
      "cell_type": "code",
      "metadata": {
        "id": "M_zOtu9JIAzy",
        "outputId": "56fcdff9-8384-437a-971e-9ed52805056b",
        "colab": {
          "base_uri": "https://localhost:8080/"
        }
      },
      "source": [
        "treino_num.info()"
      ],
      "execution_count": 41,
      "outputs": [
        {
          "output_type": "stream",
          "text": [
            "<class 'pandas.core.frame.DataFrame'>\n",
            "Int64Index: 932 entries, 0 to 955\n",
            "Data columns (total 4 columns):\n",
            " #   Column        Non-Null Count  Dtype  \n",
            "---  ------        --------------  -----  \n",
            " 0   Rating        932 non-null    float64\n",
            " 1   Founded       932 non-null    int64  \n",
            " 2   Valor Mínimo  932 non-null    float64\n",
            " 3   Valor Máximo  932 non-null    float64\n",
            "dtypes: float64(3), int64(1)\n",
            "memory usage: 76.4 KB\n"
          ],
          "name": "stdout"
        }
      ]
    },
    {
      "cell_type": "code",
      "metadata": {
        "id": "VzBidS43IAsH"
      },
      "source": [
        "treino = pd.concat([treino_cat, treino_num], axis=1)"
      ],
      "execution_count": 42,
      "outputs": []
    },
    {
      "cell_type": "code",
      "metadata": {
        "id": "sXA4Tk2lO8fR",
        "outputId": "2042c0f8-f1b5-4e2a-cefa-4e1f507f3c07",
        "colab": {
          "base_uri": "https://localhost:8080/",
          "height": 275
        }
      },
      "source": [
        "treino.head()"
      ],
      "execution_count": 55,
      "outputs": [
        {
          "output_type": "execute_result",
          "data": {
            "text/html": [
              "<div>\n",
              "<style scoped>\n",
              "    .dataframe tbody tr th:only-of-type {\n",
              "        vertical-align: middle;\n",
              "    }\n",
              "\n",
              "    .dataframe tbody tr th {\n",
              "        vertical-align: top;\n",
              "    }\n",
              "\n",
              "    .dataframe thead th {\n",
              "        text-align: right;\n",
              "    }\n",
              "</style>\n",
              "<table border=\"1\" class=\"dataframe\">\n",
              "  <thead>\n",
              "    <tr style=\"text-align: right;\">\n",
              "      <th></th>\n",
              "      <th>Job Title_Business Intelligence</th>\n",
              "      <th>Job Title_Data Analyst</th>\n",
              "      <th>Job Title_Data Engineer</th>\n",
              "      <th>Job Title_Data Scientist</th>\n",
              "      <th>Job Title_Intern</th>\n",
              "      <th>Size_1 to 50 employees</th>\n",
              "      <th>Size_10000+ employees</th>\n",
              "      <th>Size_1001 to 5000 employees</th>\n",
              "      <th>Size_201 to 500 employees</th>\n",
              "      <th>Size_5001 to 10000 employees</th>\n",
              "      <th>Size_501 to 1000 employees</th>\n",
              "      <th>Size_51 to 200 employees</th>\n",
              "      <th>Size_Unknown</th>\n",
              "      <th>Revenue_$1 to $2 billion (USD)</th>\n",
              "      <th>Revenue_$1 to $5 million (USD)</th>\n",
              "      <th>Revenue_$10 to $25 million (USD)</th>\n",
              "      <th>Revenue_$10+ billion (USD)</th>\n",
              "      <th>Revenue_$100 to $500 million (USD)</th>\n",
              "      <th>Revenue_$2 to $5 billion (USD)</th>\n",
              "      <th>Revenue_$25 to $50 million (USD)</th>\n",
              "      <th>Revenue_$5 to $10 billion (USD)</th>\n",
              "      <th>Revenue_$5 to $10 million (USD)</th>\n",
              "      <th>Revenue_$50 to $100 million (USD)</th>\n",
              "      <th>Revenue_$500 million to $1 billion (USD)</th>\n",
              "      <th>Revenue_Less than $1 million (USD)</th>\n",
              "      <th>Revenue_Unknown / Non-Applicable</th>\n",
              "      <th>Pais_HQ_ Belgium</th>\n",
              "      <th>Pais_HQ_ Bermuda</th>\n",
              "      <th>Pais_HQ_ China</th>\n",
              "      <th>Pais_HQ_ France</th>\n",
              "      <th>Pais_HQ_ Germany</th>\n",
              "      <th>Pais_HQ_ India</th>\n",
              "      <th>Pais_HQ_ Japan</th>\n",
              "      <th>Pais_HQ_ Singapore</th>\n",
              "      <th>Pais_HQ_ South Korea</th>\n",
              "      <th>Pais_HQ_ Spain</th>\n",
              "      <th>Pais_HQ_ Switzerland</th>\n",
              "      <th>Pais_HQ_ United Kingdom</th>\n",
              "      <th>Pais_HQ_USA</th>\n",
              "      <th>Pais_HQ_Unknown</th>\n",
              "      <th>Rating</th>\n",
              "      <th>Founded</th>\n",
              "      <th>Valor Mínimo</th>\n",
              "      <th>Valor Máximo</th>\n",
              "    </tr>\n",
              "  </thead>\n",
              "  <tbody>\n",
              "    <tr>\n",
              "      <th>0</th>\n",
              "      <td>0</td>\n",
              "      <td>0</td>\n",
              "      <td>0</td>\n",
              "      <td>1</td>\n",
              "      <td>0</td>\n",
              "      <td>0</td>\n",
              "      <td>0</td>\n",
              "      <td>0</td>\n",
              "      <td>0</td>\n",
              "      <td>0</td>\n",
              "      <td>1</td>\n",
              "      <td>0</td>\n",
              "      <td>0</td>\n",
              "      <td>0</td>\n",
              "      <td>0</td>\n",
              "      <td>0</td>\n",
              "      <td>0</td>\n",
              "      <td>0</td>\n",
              "      <td>0</td>\n",
              "      <td>0</td>\n",
              "      <td>0</td>\n",
              "      <td>0</td>\n",
              "      <td>1</td>\n",
              "      <td>0</td>\n",
              "      <td>0</td>\n",
              "      <td>0</td>\n",
              "      <td>0</td>\n",
              "      <td>0</td>\n",
              "      <td>0</td>\n",
              "      <td>0</td>\n",
              "      <td>0</td>\n",
              "      <td>0</td>\n",
              "      <td>0</td>\n",
              "      <td>0</td>\n",
              "      <td>0</td>\n",
              "      <td>0</td>\n",
              "      <td>0</td>\n",
              "      <td>0</td>\n",
              "      <td>1</td>\n",
              "      <td>0</td>\n",
              "      <td>3.8</td>\n",
              "      <td>1973</td>\n",
              "      <td>53000.0</td>\n",
              "      <td>91000.0</td>\n",
              "    </tr>\n",
              "    <tr>\n",
              "      <th>1</th>\n",
              "      <td>0</td>\n",
              "      <td>0</td>\n",
              "      <td>0</td>\n",
              "      <td>1</td>\n",
              "      <td>0</td>\n",
              "      <td>0</td>\n",
              "      <td>1</td>\n",
              "      <td>0</td>\n",
              "      <td>0</td>\n",
              "      <td>0</td>\n",
              "      <td>0</td>\n",
              "      <td>0</td>\n",
              "      <td>0</td>\n",
              "      <td>0</td>\n",
              "      <td>0</td>\n",
              "      <td>0</td>\n",
              "      <td>0</td>\n",
              "      <td>0</td>\n",
              "      <td>1</td>\n",
              "      <td>0</td>\n",
              "      <td>0</td>\n",
              "      <td>0</td>\n",
              "      <td>0</td>\n",
              "      <td>0</td>\n",
              "      <td>0</td>\n",
              "      <td>0</td>\n",
              "      <td>0</td>\n",
              "      <td>0</td>\n",
              "      <td>0</td>\n",
              "      <td>0</td>\n",
              "      <td>0</td>\n",
              "      <td>0</td>\n",
              "      <td>0</td>\n",
              "      <td>0</td>\n",
              "      <td>0</td>\n",
              "      <td>0</td>\n",
              "      <td>0</td>\n",
              "      <td>0</td>\n",
              "      <td>1</td>\n",
              "      <td>0</td>\n",
              "      <td>3.4</td>\n",
              "      <td>1984</td>\n",
              "      <td>63000.0</td>\n",
              "      <td>112000.0</td>\n",
              "    </tr>\n",
              "    <tr>\n",
              "      <th>2</th>\n",
              "      <td>0</td>\n",
              "      <td>0</td>\n",
              "      <td>0</td>\n",
              "      <td>1</td>\n",
              "      <td>0</td>\n",
              "      <td>0</td>\n",
              "      <td>0</td>\n",
              "      <td>0</td>\n",
              "      <td>0</td>\n",
              "      <td>0</td>\n",
              "      <td>1</td>\n",
              "      <td>0</td>\n",
              "      <td>0</td>\n",
              "      <td>0</td>\n",
              "      <td>0</td>\n",
              "      <td>0</td>\n",
              "      <td>0</td>\n",
              "      <td>1</td>\n",
              "      <td>0</td>\n",
              "      <td>0</td>\n",
              "      <td>0</td>\n",
              "      <td>0</td>\n",
              "      <td>0</td>\n",
              "      <td>0</td>\n",
              "      <td>0</td>\n",
              "      <td>0</td>\n",
              "      <td>0</td>\n",
              "      <td>0</td>\n",
              "      <td>0</td>\n",
              "      <td>0</td>\n",
              "      <td>0</td>\n",
              "      <td>0</td>\n",
              "      <td>0</td>\n",
              "      <td>0</td>\n",
              "      <td>0</td>\n",
              "      <td>0</td>\n",
              "      <td>0</td>\n",
              "      <td>0</td>\n",
              "      <td>1</td>\n",
              "      <td>0</td>\n",
              "      <td>4.8</td>\n",
              "      <td>2010</td>\n",
              "      <td>80000.0</td>\n",
              "      <td>90000.0</td>\n",
              "    </tr>\n",
              "    <tr>\n",
              "      <th>3</th>\n",
              "      <td>0</td>\n",
              "      <td>0</td>\n",
              "      <td>0</td>\n",
              "      <td>1</td>\n",
              "      <td>0</td>\n",
              "      <td>0</td>\n",
              "      <td>0</td>\n",
              "      <td>1</td>\n",
              "      <td>0</td>\n",
              "      <td>0</td>\n",
              "      <td>0</td>\n",
              "      <td>0</td>\n",
              "      <td>0</td>\n",
              "      <td>0</td>\n",
              "      <td>0</td>\n",
              "      <td>0</td>\n",
              "      <td>0</td>\n",
              "      <td>0</td>\n",
              "      <td>0</td>\n",
              "      <td>0</td>\n",
              "      <td>0</td>\n",
              "      <td>0</td>\n",
              "      <td>0</td>\n",
              "      <td>1</td>\n",
              "      <td>0</td>\n",
              "      <td>0</td>\n",
              "      <td>0</td>\n",
              "      <td>0</td>\n",
              "      <td>0</td>\n",
              "      <td>0</td>\n",
              "      <td>0</td>\n",
              "      <td>0</td>\n",
              "      <td>0</td>\n",
              "      <td>0</td>\n",
              "      <td>0</td>\n",
              "      <td>0</td>\n",
              "      <td>0</td>\n",
              "      <td>0</td>\n",
              "      <td>1</td>\n",
              "      <td>0</td>\n",
              "      <td>3.8</td>\n",
              "      <td>1965</td>\n",
              "      <td>56000.0</td>\n",
              "      <td>97000.0</td>\n",
              "    </tr>\n",
              "    <tr>\n",
              "      <th>4</th>\n",
              "      <td>0</td>\n",
              "      <td>0</td>\n",
              "      <td>0</td>\n",
              "      <td>1</td>\n",
              "      <td>0</td>\n",
              "      <td>0</td>\n",
              "      <td>0</td>\n",
              "      <td>0</td>\n",
              "      <td>0</td>\n",
              "      <td>0</td>\n",
              "      <td>0</td>\n",
              "      <td>1</td>\n",
              "      <td>0</td>\n",
              "      <td>0</td>\n",
              "      <td>0</td>\n",
              "      <td>0</td>\n",
              "      <td>0</td>\n",
              "      <td>0</td>\n",
              "      <td>0</td>\n",
              "      <td>0</td>\n",
              "      <td>0</td>\n",
              "      <td>0</td>\n",
              "      <td>0</td>\n",
              "      <td>0</td>\n",
              "      <td>0</td>\n",
              "      <td>1</td>\n",
              "      <td>0</td>\n",
              "      <td>0</td>\n",
              "      <td>0</td>\n",
              "      <td>0</td>\n",
              "      <td>0</td>\n",
              "      <td>0</td>\n",
              "      <td>0</td>\n",
              "      <td>0</td>\n",
              "      <td>0</td>\n",
              "      <td>0</td>\n",
              "      <td>0</td>\n",
              "      <td>0</td>\n",
              "      <td>1</td>\n",
              "      <td>0</td>\n",
              "      <td>2.9</td>\n",
              "      <td>1998</td>\n",
              "      <td>86000.0</td>\n",
              "      <td>143000.0</td>\n",
              "    </tr>\n",
              "  </tbody>\n",
              "</table>\n",
              "</div>"
            ],
            "text/plain": [
              "   Job Title_Business Intelligence  ...  Valor Máximo\n",
              "0                                0  ...       91000.0\n",
              "1                                0  ...      112000.0\n",
              "2                                0  ...       90000.0\n",
              "3                                0  ...       97000.0\n",
              "4                                0  ...      143000.0\n",
              "\n",
              "[5 rows x 44 columns]"
            ]
          },
          "metadata": {
            "tags": []
          },
          "execution_count": 55
        }
      ]
    },
    {
      "cell_type": "code",
      "metadata": {
        "id": "HMyoDhLvIAd-",
        "outputId": "dcc0a4d9-105a-4f98-99d5-26981fd18c3a",
        "colab": {
          "base_uri": "https://localhost:8080/"
        }
      },
      "source": [
        "treino.shape"
      ],
      "execution_count": 44,
      "outputs": [
        {
          "output_type": "execute_result",
          "data": {
            "text/plain": [
              "(932, 44)"
            ]
          },
          "metadata": {
            "tags": []
          },
          "execution_count": 44
        }
      ]
    },
    {
      "cell_type": "code",
      "metadata": {
        "id": "eGDeEUwhZmJE"
      },
      "source": [
        "# Dividindo os dados de treino e teste (X e y) Variável alvo = Valor Máximo.\n",
        "\n",
        "X = treino.drop('Valor Máximo', axis=1)\n",
        "y = treino['Valor Máximo']\n",
        "\n",
        "\n",
        "from sklearn.model_selection import train_test_split\n",
        "\n",
        "\n",
        "#vamos estratificar nossas amostras para que nosso teste tenha a mesma proporção de classes que nosso treino\n",
        "X_train, X_test, y_train, y_test = train_test_split(X,y, test_size=0.25, random_state=42)"
      ],
      "execution_count": 46,
      "outputs": []
    },
    {
      "cell_type": "code",
      "metadata": {
        "id": "wKFU3Mq6IAOL",
        "outputId": "093b4012-181a-4670-aefd-774fdcfad3f8",
        "colab": {
          "base_uri": "https://localhost:8080/"
        }
      },
      "source": [
        "from sklearn.linear_model import LinearRegression # importa o modelo\n",
        "\n",
        "regr = LinearRegression() # cria o modelo\n",
        "\n",
        "regr.fit(X_train, y_train) # treina o modelo"
      ],
      "execution_count": 47,
      "outputs": [
        {
          "output_type": "execute_result",
          "data": {
            "text/plain": [
              "LinearRegression(copy_X=True, fit_intercept=True, n_jobs=None, normalize=False)"
            ]
          },
          "metadata": {
            "tags": []
          },
          "execution_count": 47
        }
      ]
    },
    {
      "cell_type": "code",
      "metadata": {
        "id": "R0bZhoboZlxH"
      },
      "source": [
        "r2_train = regr.score(X_train, y_train)\n",
        "r2_test = regr.score(X_test, y_test)"
      ],
      "execution_count": 48,
      "outputs": []
    },
    {
      "cell_type": "code",
      "metadata": {
        "id": "PcDYQrRqLL-k",
        "outputId": "85a050f6-f70c-4fe1-d980-3ecf131b754e",
        "colab": {
          "base_uri": "https://localhost:8080/"
        }
      },
      "source": [
        "print('R2 no set de treino: %.2f' % r2_train)\n",
        "print('R2 no set de teste: %.2f' % r2_test)"
      ],
      "execution_count": 49,
      "outputs": [
        {
          "output_type": "stream",
          "text": [
            "R2 no set de treino: 0.91\n",
            "R2 no set de teste: 0.87\n"
          ],
          "name": "stdout"
        }
      ]
    },
    {
      "cell_type": "code",
      "metadata": {
        "id": "v9-PEkdoLbVw"
      },
      "source": [
        "# Dividindo os dados de treino e teste (X e y) Variável alvo = Valor Máximo.\n",
        "\n",
        "X = treino.drop('Valor Mínimo', axis=1)\n",
        "y = treino['Valor Mínimo']\n",
        "\n",
        "\n",
        "from sklearn.model_selection import train_test_split\n",
        "\n",
        "\n",
        "#vamos estratificar nossas amostras para que nosso teste tenha a mesma proporção de classes que nosso treino\n",
        "X_train, X_test, y_train, y_test = train_test_split(X,y, test_size=0.25, random_state=42)"
      ],
      "execution_count": 50,
      "outputs": []
    },
    {
      "cell_type": "code",
      "metadata": {
        "id": "YKkm1yZaLbEA",
        "outputId": "02cac422-11f2-4f21-b4f4-67367404490c",
        "colab": {
          "base_uri": "https://localhost:8080/"
        }
      },
      "source": [
        "from sklearn.linear_model import LinearRegression # importa o modelo\n",
        "\n",
        "regr = LinearRegression() # cria o modelo\n",
        "\n",
        "regr.fit(X_train, y_train) # treina o modelo"
      ],
      "execution_count": 51,
      "outputs": [
        {
          "output_type": "execute_result",
          "data": {
            "text/plain": [
              "LinearRegression(copy_X=True, fit_intercept=True, n_jobs=None, normalize=False)"
            ]
          },
          "metadata": {
            "tags": []
          },
          "execution_count": 51
        }
      ]
    },
    {
      "cell_type": "code",
      "metadata": {
        "id": "ImzVjo8eLay3"
      },
      "source": [
        "r2_train = regr.score(X_train, y_train)\n",
        "r2_test = regr.score(X_test, y_test)"
      ],
      "execution_count": 52,
      "outputs": []
    },
    {
      "cell_type": "code",
      "metadata": {
        "id": "UYoXE3D2Lagt",
        "outputId": "12f55857-c093-4588-c04b-db2b58a8f981",
        "colab": {
          "base_uri": "https://localhost:8080/"
        }
      },
      "source": [
        "print('R2 no set de treino: %.2f' % r2_train)\n",
        "print('R2 no set de teste: %.2f' % r2_test)"
      ],
      "execution_count": 53,
      "outputs": [
        {
          "output_type": "stream",
          "text": [
            "R2 no set de treino: 0.91\n",
            "R2 no set de teste: 0.86\n"
          ],
          "name": "stdout"
        }
      ]
    },
    {
      "cell_type": "markdown",
      "metadata": {
        "id": "zlgjhajISvlT"
      },
      "source": [
        "# VI - Comunicação e visualização"
      ]
    },
    {
      "cell_type": "code",
      "metadata": {
        "id": "o3EKEFjOSthZ"
      },
      "source": [
        ""
      ],
      "execution_count": null,
      "outputs": []
    },
    {
      "cell_type": "code",
      "metadata": {
        "id": "TqyDN-wgSuxA"
      },
      "source": [
        ""
      ],
      "execution_count": null,
      "outputs": []
    },
    {
      "cell_type": "markdown",
      "metadata": {
        "id": "pN-haZFOTKWR"
      },
      "source": [
        "# VII - Implementação e manutenção (opcional)"
      ]
    },
    {
      "cell_type": "code",
      "metadata": {
        "id": "91DZ1ICNaV-b"
      },
      "source": [
        ""
      ],
      "execution_count": null,
      "outputs": []
    },
    {
      "cell_type": "code",
      "metadata": {
        "id": "YQnGNrAdSugd"
      },
      "source": [
        ""
      ],
      "execution_count": null,
      "outputs": []
    }
  ]
}