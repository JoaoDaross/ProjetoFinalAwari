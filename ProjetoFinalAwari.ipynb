{
  "nbformat": 4,
  "nbformat_minor": 0,
  "metadata": {
    "colab": {
      "name": "ProjetoFinalAwari.ipynb",
      "provenance": [],
      "collapsed_sections": [
        "ot77pl5w54R8",
        "fMER2V3v6Mf4",
        "sV4UqUOB69qR",
        "YmPpNPJS12H7",
        "_eTmiePO9hSR"
      ],
      "authorship_tag": "ABX9TyOsSv8ym9HUhreennTrIvOi",
      "include_colab_link": true
    },
    "kernelspec": {
      "name": "python3",
      "display_name": "Python 3"
    }
  },
  "cells": [
    {
      "cell_type": "markdown",
      "metadata": {
        "id": "view-in-github",
        "colab_type": "text"
      },
      "source": [
        "<a href=\"https://colab.research.google.com/github/JoaoDaross/ProjetoFinalAwari/blob/main/ProjetoFinalAwari.ipynb\" target=\"_parent\"><img src=\"https://colab.research.google.com/assets/colab-badge.svg\" alt=\"Open In Colab\"/></a>"
      ]
    },
    {
      "cell_type": "markdown",
      "metadata": {
        "id": "ot77pl5w54R8"
      },
      "source": [
        "# I - Exposição do problema"
      ]
    },
    {
      "cell_type": "markdown",
      "metadata": {
        "id": "f4BTo3smKYXY"
      },
      "source": [
        "Esta etapa consiste em apresentar um panorama da situação em que seu projeto se encaixa, demonstrar o problema que você buscará resolver através da utilização de dados e justificar sua relevância.\n",
        "\n",
        "**PROJETO FINAL AWARI**\n",
        "\n",
        "\n",
        "O CEO da empresa de consultoria XPTO verificou a grande demanda por profissionais que trabalhem com dados e como muitos de seus clientes estão contratando esse perfil profissional, ele precisa de informações para orientar seus clientes em relação a proposta salarial. \n",
        "\n",
        "\n"
      ]
    },
    {
      "cell_type": "markdown",
      "metadata": {
        "id": "fMER2V3v6Mf4"
      },
      "source": [
        "# II - Coleta ou Importação dos Dados"
      ]
    },
    {
      "cell_type": "code",
      "metadata": {
        "id": "pL09IS0_KEOm"
      },
      "source": [
        "# Importando as bibliotecas \n",
        "%matplotlib inline\n",
        "import pandas as pd\n",
        "import numpy as np\n",
        "import matplotlib.pyplot as plt\n",
        "import seaborn as sns\n",
        "from sklearn import linear_model\n",
        "from sklearn.linear_model import LinearRegression"
      ],
      "execution_count": null,
      "outputs": []
    },
    {
      "cell_type": "code",
      "metadata": {
        "id": "0ZZfsNfGKyX5",
        "outputId": "5efa6155-96e2-48b1-a303-925116487ff3",
        "colab": {
          "base_uri": "https://localhost:8080/",
          "height": 513
        }
      },
      "source": [
        "# Carregando o dataset. \n",
        "fonte = \"https://raw.githubusercontent.com/JoaoDaross/ProjetoFinalAwari/main/data_scraped.csv\"\n",
        "\n",
        "df_raw = pd.read_csv(fonte)\n",
        "\n",
        "# Visualisando as primeiras linhas do dataset\n",
        "df_raw.head()"
      ],
      "execution_count": null,
      "outputs": [
        {
          "output_type": "execute_result",
          "data": {
            "text/html": [
              "<div>\n",
              "<style scoped>\n",
              "    .dataframe tbody tr th:only-of-type {\n",
              "        vertical-align: middle;\n",
              "    }\n",
              "\n",
              "    .dataframe tbody tr th {\n",
              "        vertical-align: top;\n",
              "    }\n",
              "\n",
              "    .dataframe thead th {\n",
              "        text-align: right;\n",
              "    }\n",
              "</style>\n",
              "<table border=\"1\" class=\"dataframe\">\n",
              "  <thead>\n",
              "    <tr style=\"text-align: right;\">\n",
              "      <th></th>\n",
              "      <th>Unnamed: 0</th>\n",
              "      <th>Job Title</th>\n",
              "      <th>Salary Estimate</th>\n",
              "      <th>Job Description</th>\n",
              "      <th>Rating</th>\n",
              "      <th>Company Name</th>\n",
              "      <th>Location</th>\n",
              "      <th>Headquarters</th>\n",
              "      <th>Size</th>\n",
              "      <th>Founded</th>\n",
              "      <th>Type of ownership</th>\n",
              "      <th>Industry</th>\n",
              "      <th>Sector</th>\n",
              "      <th>Revenue</th>\n",
              "      <th>Competitors</th>\n",
              "    </tr>\n",
              "  </thead>\n",
              "  <tbody>\n",
              "    <tr>\n",
              "      <th>0</th>\n",
              "      <td>0</td>\n",
              "      <td>Data Scientist</td>\n",
              "      <td>$53K-$91K (Glassdoor est.)</td>\n",
              "      <td>Data Scientist\\r\\nLocation: Albuquerque, NM\\r\\...</td>\n",
              "      <td>3.8</td>\n",
              "      <td>Tecolote Research\\r\\n3.8</td>\n",
              "      <td>Albuquerque, NM</td>\n",
              "      <td>Goleta, CA</td>\n",
              "      <td>501 to 1000 employees</td>\n",
              "      <td>1973</td>\n",
              "      <td>Company - Private</td>\n",
              "      <td>Aerospace &amp; Defense</td>\n",
              "      <td>Aerospace &amp; Defense</td>\n",
              "      <td>$50 to $100 million (USD)</td>\n",
              "      <td>-1</td>\n",
              "    </tr>\n",
              "    <tr>\n",
              "      <th>1</th>\n",
              "      <td>1</td>\n",
              "      <td>Healthcare Data Scientist</td>\n",
              "      <td>$63K-$112K (Glassdoor est.)</td>\n",
              "      <td>What You Will Do:\\r\\n\\r\\nI. General Summary\\r\\...</td>\n",
              "      <td>3.4</td>\n",
              "      <td>University of Maryland Medical System\\r\\n3.4</td>\n",
              "      <td>Linthicum, MD</td>\n",
              "      <td>Baltimore, MD</td>\n",
              "      <td>10000+ employees</td>\n",
              "      <td>1984</td>\n",
              "      <td>Other Organization</td>\n",
              "      <td>Health Care Services &amp; Hospitals</td>\n",
              "      <td>Health Care</td>\n",
              "      <td>$2 to $5 billion (USD)</td>\n",
              "      <td>-1</td>\n",
              "    </tr>\n",
              "    <tr>\n",
              "      <th>2</th>\n",
              "      <td>2</td>\n",
              "      <td>Data Scientist</td>\n",
              "      <td>$80K-$90K (Glassdoor est.)</td>\n",
              "      <td>KnowBe4, Inc. is a high growth information sec...</td>\n",
              "      <td>4.8</td>\n",
              "      <td>KnowBe4\\r\\n4.8</td>\n",
              "      <td>Clearwater, FL</td>\n",
              "      <td>Clearwater, FL</td>\n",
              "      <td>501 to 1000 employees</td>\n",
              "      <td>2010</td>\n",
              "      <td>Company - Private</td>\n",
              "      <td>Security Services</td>\n",
              "      <td>Business Services</td>\n",
              "      <td>$100 to $500 million (USD)</td>\n",
              "      <td>-1</td>\n",
              "    </tr>\n",
              "    <tr>\n",
              "      <th>3</th>\n",
              "      <td>3</td>\n",
              "      <td>Data Scientist</td>\n",
              "      <td>$56K-$97K (Glassdoor est.)</td>\n",
              "      <td>*Organization and Job ID**\\r\\nJob ID: 310709\\r...</td>\n",
              "      <td>3.8</td>\n",
              "      <td>PNNL\\r\\n3.8</td>\n",
              "      <td>Richland, WA</td>\n",
              "      <td>Richland, WA</td>\n",
              "      <td>1001 to 5000 employees</td>\n",
              "      <td>1965</td>\n",
              "      <td>Government</td>\n",
              "      <td>Energy</td>\n",
              "      <td>Oil, Gas, Energy &amp; Utilities</td>\n",
              "      <td>$500 million to $1 billion (USD)</td>\n",
              "      <td>Oak Ridge National Laboratory, National Renewa...</td>\n",
              "    </tr>\n",
              "    <tr>\n",
              "      <th>4</th>\n",
              "      <td>4</td>\n",
              "      <td>Data Scientist</td>\n",
              "      <td>$86K-$143K (Glassdoor est.)</td>\n",
              "      <td>Data Scientist\\r\\nAffinity Solutions / Marketi...</td>\n",
              "      <td>2.9</td>\n",
              "      <td>Affinity Solutions\\r\\n2.9</td>\n",
              "      <td>New York, NY</td>\n",
              "      <td>New York, NY</td>\n",
              "      <td>51 to 200 employees</td>\n",
              "      <td>1998</td>\n",
              "      <td>Company - Private</td>\n",
              "      <td>Advertising &amp; Marketing</td>\n",
              "      <td>Business Services</td>\n",
              "      <td>Unknown / Non-Applicable</td>\n",
              "      <td>Commerce Signals, Cardlytics, Yodlee</td>\n",
              "    </tr>\n",
              "  </tbody>\n",
              "</table>\n",
              "</div>"
            ],
            "text/plain": [
              "   Unnamed: 0  ...                                        Competitors\n",
              "0           0  ...                                                 -1\n",
              "1           1  ...                                                 -1\n",
              "2           2  ...                                                 -1\n",
              "3           3  ...  Oak Ridge National Laboratory, National Renewa...\n",
              "4           4  ...               Commerce Signals, Cardlytics, Yodlee\n",
              "\n",
              "[5 rows x 15 columns]"
            ]
          },
          "metadata": {
            "tags": []
          },
          "execution_count": 3
        }
      ]
    },
    {
      "cell_type": "markdown",
      "metadata": {
        "id": "sV4UqUOB69qR"
      },
      "source": [
        "# III - Preparação dos dados"
      ]
    },
    {
      "cell_type": "code",
      "metadata": {
        "id": "efMLVs4ILYKh"
      },
      "source": [
        "# Excluindo as colunas que não iremos utilizar.\n",
        "df_raw.drop('Unnamed: 0', axis=1, inplace=True)\n",
        "df_raw.drop('Job Description', axis=1, inplace=True)\n",
        "df_raw.drop('Company Name', axis=1, inplace=True)\n",
        "df_raw.drop('Competitors', axis=1, inplace=True)"
      ],
      "execution_count": null,
      "outputs": []
    },
    {
      "cell_type": "code",
      "metadata": {
        "id": "jQgIqX1QLlrv",
        "outputId": "4df24b6f-d48d-44a0-c4a6-08bebb3c5d3c",
        "colab": {
          "base_uri": "https://localhost:8080/",
          "height": 119
        }
      },
      "source": [
        "# Padronizando a coluna \"Job Title\"\n",
        "df_raw['Job Title'].replace(\n",
        "    to_replace=['Sr. Enterprise Account Exec- Data Science / ML - NYC','Senior Manager, Epidemiologic Data Scientist','Senior Risk Data Scientist','Senior Data Scientist 4 Artificial Intelligence','Senior Scientist Protein/Oligonucleotides','Senior Insurance Data Scientist','Senior Research Analytical Scientist-Non-Targeted Analysis','Senior Clinical Lab Scientist, Clinical Lab Svcs - FT/Nights (8hr)','Senior Director Biometrics and Clinical Data Management','Sr. Scientist - Digital & Image Analysis/Computational Pathology','Sr Software Engineer (Data Scientist)','Sr. Data Scientist - Analytics, Personalized Healthcare (PHC)','Senior Data Scientist Artificial Intelligence','Senior LiDAR Data Scientist','Senior Data & Machine Learning Scientist','Senior Scientist - Biostatistician','Senior Scientist - Biostatistician ','Senior Data Scientist Oncology','Senior Scientist - Neuroscience','Sr Scientist, Immuno-Oncology - Oncology','Sr Expert Data Science, Advanced Visual Analytics (Associate level)','Senior Scientist - Toxicologist - Product Integrity (Stewardship)','Senior Scientist, Cell Pharmacology/Assay Development','Data Scientist SR','Scientist/Senior Scientist, Autoimmune','Senior Scientist, Logic Gated CAR T Cell Therapy','Senior Data Scientist / Machine Learning','Senior Scientist (Neuroscience)','Sr. Data Scientist II','Senior Scientist - Regulatory Submissions','Sr. Scientist, Quantitative Translational Sciences','Senior Data Scientist - AI Forecasting, Finance team','Senior Data Scientist - Algorithms','Sr. Data Scientist','Sr Data Scientist','Data Scientist, Senior','Senior Data Scientist Statistics','Senior Data Scientist','Data Scientist Manager','Data Science Manager','Senior Formulations Scientist II',\n",
        "                'Jr. Data Scientist','Staff Data Scientist - Technology','Scientist, Immuno-Oncology','Machine Learning Research Scientist','Pricipal Scientist Molecular and cellular biologist','MED TECH/LAB SCIENTIST - LABORATORY','Associate Principal Scientist, Pharmacogenomics','Medical Lab Scientist - MLT','Quality Control Scientist','PL Actuarial-Lead Data Scientist','Customer Data Scientist','Data Scientist - Health Data Analytics','Scientist Manufacturing Pharma - Kentucky BioProcessing','Principal Scientist - Immunologist','Data Scientist / Machine Learning Expert','Medical Lab Scientist - MLT ','Data Scientist, Office of Data Science','Associate Director/Director, Safety Scientist','Principal Data Scientist with over 10 years experience','Staff Data Scientist','Digital Health Data Scientist','Data Scientist (Actuary, FSA or ASA)','Clinical Laboratory Scientist','Head Data Scientist – Image Analytics lead, Novartis AI Innovation Lab','UX Data Scientist (Python)','Principal Scientist, Hematology','Scientist - Analytical Services','Principal Data Scientist (Computational Chemistry)','Head Data Scientist – NLP lead, Novartis AI Innovation Lab','Data Scientist (Active TS SCI with Polygraph)','Managing Data Scientist/ML Engineer','Scientist, Bacteriology','Staff Scientist- Upstream PD','Scientist - Analytical Development - Pharmaceutics','RESEARCH COMPUTER SCIENTIST - RESEARCH ENGINEER - SR. COMPUTER SCIENTIST - SOFTWARE DEVELOPMENT','Principal Data Scientist (Computational Chemistry','Excel / VBA / SQL Data Analyst','Data Analytics Project Manager','College Hire - Data Scientist - Open to December 2019 Graduates','Scientist','Risk and Analytics IT, Data Scientist','Data Scientist in Artificial Intelligence Early Career','Scientist, Analytical Development','Director Data Science','Scientist, Product Development','Director II, Data Science - GRS Predictive Analytics','Scientist, Pharmacometrics','Data Scientist - Algorithms & Inference','Data Scientist - Systems Engineering','Associate Director, Platform and DevOps- Data Engineering and Aritifical Intelligence','Product Engineer – Spatial Data Science and Statistical Analysis','Senior Imagery Scientist - SAR TO 11 #78 (TS/SCI)','Associate Machine Learning Engineer / Data Scientist May 2020 Undergrad','Scientist Manufacturing - Kentucky BioProcessing','Machine Learning Engineer - Regulatory','Research Scientist – Security and Privacy','Technology-Minded, Data Professional Opportunities','Associate Environmental Scientist - Wildlife Biologist','Sr. Scientist Method Development','Research Scientist – Security and Privacy ','Computational Chemist/Data Scientist','Scientist, Upstream Process Development (Bioreactors)','Scientist - Biomarker and Flow Cytometry','Medical Lab Scientist','Principal, Data Science - Advanced Analytics','Principal Scientist, Chemistry & Immunology','Associate, Data Science, Internal Audit','Clinical Data Scientist','Scientist – Cancer Drug Discovery','Project Scientist - Auton Lab, Robotics Institute','PV Scientist','Staff Machine Learning Scientist, AI Foundation','Geospatial Software Developer and Data Scientist','Data Scientist - Quantitative','Front-End, Back-End, Fullstack Developers & Data Scientist / Researchers - Cleared OR CLEARABLE (Up to 25% Profit Sharing Benefit!)','VP, Data Science','Deep Learning/Computer Vision Scientist','Product Engineer – Data Science','Data Science Project Manager','Chief Scientist - Emerging Technology Center','Lab Head, Principle Scientist, Dupixent/Type 2 Inflammation & Fibrosis - Cambridge, MA','Data Systems Specialist 2','RESEARCH SCIENTIST - BIOLOGICAL SAFETY','Environmental Scientist','Data Scientist - Research','Clinical Document Review Scientist','R&D Sr Data Scientist','Associate Scientist/Scientist, Process Analytical Technology - Small Molecule Analytical Chemistry','Data Scientist - Alpha Insights','Chief Data Scientist','Scientist - CVRM Metabolism - in vivo pharmacology','Real World Evidence (RWE) Scientist','Data Scientist, Rice University','Clinical Data Manager','Director, Data Science','Sr. Scientist, Toxicology','Scientist 2, QC Viral Vector','Clinical Scientist, Clinical Development','Data Scientist - Consultant - National','Scientist, Molecular/Cellular Biologist','Research Scientist, Machine Learning Department','Healthcare Data Scientist','Research Scientist, Immunology - Cancer Biology','Senior Data Scientist – Visualization, Novartis AI Innovation Lab','Machine Learning Scientist','Senior Research Scientist - Embedded System Development for DevOps','Senior Quantitative Analyst','Process Development Scientist','Project Scientist','Chief Data Officer','Associate Scientist','Data Scientist Analyst','Manager of Data Science','Senior Scientist - Bioanalytical','Director, Precision Medicine Clinical Biomarker Scientist','Senior Data Scientist - R&D Oncology','Associate Scientist ','Senior Machine Learning (ML) Engineer / Data Scientist - Cyber Security Analytics','Customer Data Scientist/Sales Engineer','Data Scientist/ML Engineer','Associate Scientist, LC/MS Biologics','R&D Data Analysis Scientist','Data Scientist - Sales','Data Management Specialist','Senior Research Statistician- Data Scientist','Senior Spark Engineer (Data Science)','Pharmacovigilance Scientist (Senior Pharmacovigilance)','Data Scientist II','Data Scientist (Warehouse Automation)','Medical Laboratory Scientist','Medical Technologist / Clinical Laboratory Scientist','Food Scientist - Developer','Insurance Data Scientist','Research Scientist','Research Scientist / Principal Research Scientist - Multiphysical Systems','Sr. Data Scientist, Cyber-Security LT Contract','Senior Research Scientist-Machine Learning','Data Scientists','Assistant Director/Director, Office of Data Science','Associate Scientist / Sr. Associate Scientist, Antibody Discovery','Scientist, Stem Cells and Genomics','Sr. Manager, Data Science - Marketing Mix Media','Business Development - Data Supply Partnerships (Veraset)','Data Scientist in Translational Medicine','Customer Data Scientist/Sales Engineer (Bay','Environmental Data Specialist','Head Data Scientist, Predictive Analytics Lead AI Innovation Lab','R&D Specialist/ Food Scientist','MED TECH/LAB SCIENTIST- SOUTH COASTAL LAB','Associate Research Scientist I (Protein Expression and Production)','Product Manager/Data Evangelist','Ag Data Scientist','Staff Scientist-Downstream Process Development','Principal Data Scientist','Lead Data Scientist','Machine Learning Engineer (NLP)','Associate Data Scientist/Computer Scientist','Staff Scientist','Senior Data Scientist: Causal & Predictive analytics AI Innovation Lab','Research Scientist or Senior Research Scientist - Computer Vision','Quality Control Scientist III- Analytical Development','Scientist I/II, Biology ', 'Scientist – Cancer Discovery, Molecular Assay', 'Principal Research Scientist/Team Lead, Medicinal Chemistry - Oncology', 'Principal Machine Learning Scientist', 'Manager, Safety Scientist, Medical Safety & Risk Management', 'Scientist I/II, Biology', 'Data Scientist - Bioinformatics', 'Senior Analytical Scientist', 'Tech Manager, Software Engineering - Data', 'Scientist, Biomarker Science', 'Sr. Scientist II' ],\n",
        "    value='Data Scientist',\n",
        "    inplace=True\n",
        ")\n",
        "\n",
        "df_raw['Job Title'].replace(\n",
        "    to_replace=['Sr Data Engineer (Sr BI Developer)','Sr. Microsoft Data Engineer','Sr. Data Engineer (ETL Developer)','Senior Data Science Systems Engineer','Sr. BI Data Engineer III','Senior Data Engineer','Sr. Data Engineer','Sr. Data Engineer - Contract-to-Hire (Java)',\n",
        "                'Data Modeler - Data Solutions Engineer','Enterprise Architect, Data','IT - Data Engineer II','Staff Data Engineer','Director II, Data Science - GRM Actuarial','Data Science Engineer - Mobile','Director - Data, Privacy and AI Governance','Staff Machine Learning Engineer','Associate Data Engineer','Staff BI and Data Engineer','Data Engineer 5 - Contract (Remote)','AWS Data Engineer','Lead Big Data Engineer','Data Engineer - Consultant (Charlotte Based)','Lead Data Engineer (Python)','Data Engineer 4 - Contract (Remote)','Data Engineer, Data Engineering and Artifical Intelligence','Software Data Engineer - College','Data Engineer I','ENVIRONMENTAL ENGINEER/SCIENTIST','Data Modeler','Data Engineering Analyst','Software Engineer (Data Scientist/Software Engineer) - SISW - MG','Data Engineer 4 - Contract','Principal Data Engineer, Data Platform & Insights','Software Engineer - Data Visualization','Data Modeler (Analytical Systems)','Data Platform Engineer','Data Operations Lead','Data Architect / Data Modeler','Data Engineer - ETL','MongoDB Data Engineer II','Big Data Engineer','SQL Data Engineer','Software Engineer Staff Scientist: Human Language Technologies','Data Engineer 5 - Contract','Spectral Scientist/Engineer','Data Engineer with R','Lead Data Engineer','Machine Learning Engineer','Weapons and Sensors Engineer/Scientist – Entry Level','Postdoc Scientist - T cell engineering','Data Engineer I - Azure','Sr. Data Engineer | Big Data SaaS Pipeline','Big Data Engineer - Chicago - Future Opportunity'],\n",
        "    value='Data Engineer',\n",
        "    inplace=True\n",
        ")\n",
        "\n",
        "df_raw['Job Title'].replace(\n",
        "    to_replace=['Data Analyst Senior','Sr Data Analyst - IT','Sr. Data Analyst','Senior Data Analyst/Scientist','Jr. Business Data Analyst','Junior Data Analyst','Data Analytics Manager','Senior Data Analyst',\n",
        "                'Marketing Data Analyst, May 2020 Undergrad','Data Science Analyst','Associate Data Analyst','Advanced Analytics Manager','Data Analyst 1, full-time contract worker for up to 12 months','Market Data Analyst','Market Data Analyst ','IT Associate Data Analyst','Corporate Risk Data Analyst (SQL Based) - Milwaukee or','Information Security Data Analyst','Clinical Data Analyst','Products Data Analyst II','Data Analytics Project Manager ','Lead Data Analyst','Digital Marketing & ECommerce Data Analyst','Salesforce Analytics Consultant','Senior Operations Data Analyst, Call Center Operations','Diversity and Inclusion Data Analyst','Systems Engineer II - Data Analyst','Radar Data Analyst','Associate Data Analyst- Graduate Development Program','Analytics - Business Assurance Data Analyst','Business Data Analyst','Data Analyst 2 (Missionary Department)','ATL - Data & Analytics (DA)','Revenue Analytics Manager','Supply Chain Data Analyst','System and Data Analyst','CONSULTANT– DATA ANALYTICS GROUP','Foundational Community Supports Data Analyst','Consultant - Analytics Consulting','Analytics Consultant','Business Data Analyst, SQL','Health Data Analyst/Developer','Financial Data Analyst','Data Analyst II','Web Data Analyst','MSP - Data & Analytics (DA)','Program/Data Analyst','CONSULTANT– DATA ANALYTICS GROUP ','Data Analyst / Scientist','Senior Engineer, Data Management Engineering','Data Analyst 2 (Missionary Department) ','Senior Health Data Analyst, Star Ratings','Data Analyst Level III','Data Analyst Level III ','Data Analyst - Asset Management','Data Analyst, Performance Partnership','Survey Data Analyst','Analytics Manager - Data Mart','Data Analyst Chemist - Quality System Contractor','Analytics Manager','Marketing Data Analyst','Data & Analytics Consultant (NYC)','E-Commerce Data Analyst','Insurance Financial Data Analyst','Lead Health Data Analyst - Front End'],\n",
        "    value='Data Analyst',\n",
        "    inplace=True\n",
        ")\n",
        "\n",
        "df_raw['Job Title'].replace(\n",
        "    to_replace=['BI & Platform Analytics Manager','Business Intelligence Analyst / Developer','Business Intelligence Analyst'],\n",
        "    value='Business Intelligence',\n",
        "    inplace=True\n",
        ")\n",
        "\n",
        "df_raw['Job Title'].replace(\n",
        "    to_replace=['Data Engineer Intern','Data Science Intern'],\n",
        "    value='Intern',\n",
        "    inplace=True\n",
        ")\n",
        "\n",
        "df_raw['Job Title'].value_counts()"
      ],
      "execution_count": null,
      "outputs": [
        {
          "output_type": "execute_result",
          "data": {
            "text/plain": [
              "Data Scientist           612\n",
              "Data Engineer            193\n",
              "Data Analyst             133\n",
              "Business Intelligence     16\n",
              "Intern                     2\n",
              "Name: Job Title, dtype: int64"
            ]
          },
          "metadata": {
            "tags": []
          },
          "execution_count": 4
        }
      ]
    },
    {
      "cell_type": "code",
      "metadata": {
        "id": "05g9aTfgPQR2"
      },
      "source": [
        "# Convertendo todos os valos \"-1\" para NaN\n",
        "df_raw = df_raw[['Job Title', 'Salary Estimate', 'Rating', 'Location',\t'Headquarters', 'Size',\t'Founded',\t'Type of ownership',\t'Industry',\t'Sector',\t'Revenue']].replace('-1', np.NAN)"
      ],
      "execution_count": null,
      "outputs": []
    },
    {
      "cell_type": "code",
      "metadata": {
        "id": "Mk4ctzJhMEWZ",
        "outputId": "3d866f90-fae3-4193-fbff-254c47b1a4ce",
        "colab": {
          "base_uri": "https://localhost:8080/",
          "height": 221
        }
      },
      "source": [
        "# Analisando a quantidade de vezes o NaN aparece em todo o dataset\n",
        "df_raw.isnull().sum()"
      ],
      "execution_count": null,
      "outputs": [
        {
          "output_type": "execute_result",
          "data": {
            "text/plain": [
              "Job Title              0\n",
              "Salary Estimate      214\n",
              "Rating                 0\n",
              "Location               0\n",
              "Headquarters          11\n",
              "Size                  11\n",
              "Founded                0\n",
              "Type of ownership     11\n",
              "Industry              39\n",
              "Sector                39\n",
              "Revenue               11\n",
              "dtype: int64"
            ]
          },
          "metadata": {
            "tags": []
          },
          "execution_count": 6
        }
      ]
    },
    {
      "cell_type": "code",
      "metadata": {
        "id": "VpYQ0_paOQxi"
      },
      "source": [
        "# Transformando a coluna 'Salary Estimate' em duas colunas 'Valor Mínimo','Valor Máximo'\n",
        "df_raw[['Valor Mínimo','Valor Máximo']] = df_raw['Salary Estimate'].str.split('-', expand=True)\n",
        "\n",
        "# Excluindo a coluna 'Salary Estimate'\n",
        "df_raw.drop('Salary Estimate', axis=1, inplace=True)"
      ],
      "execution_count": null,
      "outputs": []
    },
    {
      "cell_type": "code",
      "metadata": {
        "id": "BnOjZ84rUtt-"
      },
      "source": [
        "# Criando uma lista com o indíce dos salários divulgados por hora.\n",
        "lista_indice = [197, 209, 240, 247, 257, 307, 337, 427, 437, 456, 464, 522, 523, 632, 652, 682, 694, 786, 787, 823, 854, 875, 919, 936]\n",
        "\n",
        "# Excluindo essas linhas\n",
        "df_raw = df_raw.drop(lista_indice) "
      ],
      "execution_count": null,
      "outputs": []
    },
    {
      "cell_type": "code",
      "metadata": {
        "id": "WLDjROsJQfz3"
      },
      "source": [
        "# Limpando as colunas 'Valor Mínimo','Valor Máximo'\n",
        "df_raw['Valor Mínimo'] = df_raw['Valor Mínimo'].str.replace('K','')\n",
        "df_raw['Valor Máximo'] = df_raw['Valor Máximo'].str.replace('K','')\n",
        "df_raw['Valor Mínimo'] = df_raw['Valor Mínimo'].str.replace('$','')\n",
        "df_raw['Valor Máximo'] = df_raw['Valor Máximo'].str.replace('$','')\n",
        "df_raw['Valor Máximo'] = df_raw['Valor Máximo'].str.replace('Glassdoor est.','')\n",
        "df_raw['Valor Máximo'] = df_raw['Valor Máximo'].str.replace('(','')\n",
        "df_raw['Valor Máximo'] = df_raw['Valor Máximo'].str.replace(')','')\n",
        "df_raw['Valor Máximo'] = df_raw['Valor Máximo'].str.replace('Employer est.','')\n",
        "df_raw['Valor Mínimo'] = df_raw['Valor Mínimo'].str.replace('Employer Provided Salary:','')\n",
        "\n",
        "# Mudando o type das colunas 'Valor Mínimo','Valor Máximo'\n",
        "df_raw['Valor Máximo'] = df_raw['Valor Máximo'].astype(float)\n",
        "df_raw['Valor Mínimo'] = df_raw['Valor Mínimo'].astype(float)\n",
        "\n",
        "# Convertendo para milhares\n",
        "df_raw['Valor Máximo'] = df_raw['Valor Máximo'].multiply(1000)\n",
        "df_raw['Valor Mínimo'] = df_raw['Valor Mínimo'].multiply(1000)\n",
        "\n",
        "# Preenchendo os valores vazios com a mediana\n",
        "df_raw['Valor Máximo'] = df_raw['Valor Máximo'].fillna(df_raw['Valor Máximo'].median())\n",
        "df_raw['Valor Mínimo'] = df_raw['Valor Mínimo'].fillna(df_raw['Valor Mínimo'].median())"
      ],
      "execution_count": null,
      "outputs": []
    },
    {
      "cell_type": "code",
      "metadata": {
        "id": "UJvejYk50E6Q"
      },
      "source": [
        "# Substituindo os valores vazios por Unknown / Non-Applicable\n",
        "df_raw['Revenue'] = df_raw['Revenue'].fillna('Unknown / Non-Applicable')\n",
        "\n",
        "# Substituindo os valores vazios por Unknown\n",
        "df_raw['Size'] = df_raw['Size'].fillna('Unknown')\n",
        "\n",
        "# Substituindo  os valores vazios por Unknown\n",
        "df_raw['Type of ownership'] = df_raw['Type of ownership'].fillna('Unknown')\n",
        "\n",
        "# Substituindo  os valores vazios por Unknown\n",
        "df_raw['Sector'] = df_raw['Sector'].fillna('Unknown')\n",
        "\n",
        "# Substituindo  os valores vazios por Unknown\n",
        "df_raw['Industry'] = df_raw['Industry'].fillna('Unknown')\n",
        "\n",
        "# Substituindo  os valores vazios por Unknown\n",
        "df_raw['Headquarters'] = df_raw['Headquarters'].fillna('Unknown')\n",
        "\n",
        "# Transformando a coluna 'Headquarters' em duas colunas 'Cidade','Estado'\n",
        "df_raw[['Cidade','Estado']] = df_raw['Headquarters'].str.split(',', expand=True)\n",
        "\n",
        "# Substituindo  os valores vazios por Unknown\n",
        "df_raw['Estado'] = df_raw['Estado'].fillna('Unknown')"
      ],
      "execution_count": null,
      "outputs": []
    },
    {
      "cell_type": "code",
      "metadata": {
        "id": "Nzjv6hQcAZMo",
        "outputId": "7e704f82-8c7d-4de8-cb34-5d7320286f91",
        "colab": {
          "base_uri": "https://localhost:8080/",
          "height": 884
        }
      },
      "source": [
        "# for =\n",
        "\n",
        "\n",
        "df_raw['Estado'].value_counts()"
      ],
      "execution_count": null,
      "outputs": [
        {
          "output_type": "execute_result",
          "data": {
            "text/plain": [
              " CA                223\n",
              " MA                 97\n",
              " NY                 86\n",
              " VA                 72\n",
              " IL                 42\n",
              " PA                 34\n",
              " NC                 27\n",
              " MD                 24\n",
              " FL                 24\n",
              " United Kingdom     21\n",
              " TX                 21\n",
              " NJ                 20\n",
              " WA                 20\n",
              " UT                 19\n",
              " Switzerland        17\n",
              " Japan              14\n",
              " TN                 14\n",
              " MI                 13\n",
              "Unknown             11\n",
              " MO                 11\n",
              " CO                 11\n",
              " OH                 10\n",
              " GA                  9\n",
              " DC                  9\n",
              " WI                  9\n",
              " IN                  7\n",
              " IA                  7\n",
              " India               5\n",
              " NE                  5\n",
              " OR                  4\n",
              " AL                  4\n",
              " AZ                  4\n",
              " CT                  4\n",
              " Germany             4\n",
              " France              4\n",
              " South Korea         3\n",
              " ID                  3\n",
              " RI                  3\n",
              " Spain               2\n",
              " MN                  2\n",
              " Singapore           2\n",
              " Bermuda             2\n",
              " AR                  2\n",
              " Belgium             1\n",
              " PR                  1\n",
              " NV                  1\n",
              " China               1\n",
              " LA                  1\n",
              " AK                  1\n",
              " SC                  1\n",
              "Name: Estado, dtype: int64"
            ]
          },
          "metadata": {
            "tags": []
          },
          "execution_count": 11
        }
      ]
    },
    {
      "cell_type": "code",
      "metadata": {
        "id": "eml3URSl02Xc",
        "outputId": "ff175439-dd86-4ffe-9e2a-445d6af0e2cd",
        "colab": {
          "base_uri": "https://localhost:8080/",
          "height": 272
        }
      },
      "source": [
        "df_raw.isnull().sum()"
      ],
      "execution_count": null,
      "outputs": [
        {
          "output_type": "execute_result",
          "data": {
            "text/plain": [
              "Job Title            0\n",
              "Rating               0\n",
              "Location             0\n",
              "Headquarters         0\n",
              "Size                 0\n",
              "Founded              0\n",
              "Type of ownership    0\n",
              "Industry             0\n",
              "Sector               0\n",
              "Revenue              0\n",
              "Valor Mínimo         0\n",
              "Valor Máximo         0\n",
              "Cidade               0\n",
              "Estado               0\n",
              "dtype: int64"
            ]
          },
          "metadata": {
            "tags": []
          },
          "execution_count": 12
        }
      ]
    },
    {
      "cell_type": "code",
      "metadata": {
        "id": "xMFIVjDt1mjV",
        "outputId": "0f04bb8e-4bd9-4a09-fe9c-9c1c95be838a",
        "colab": {
          "base_uri": "https://localhost:8080/",
          "height": 374
        }
      },
      "source": [
        "df_raw.info()"
      ],
      "execution_count": null,
      "outputs": [
        {
          "output_type": "stream",
          "text": [
            "<class 'pandas.core.frame.DataFrame'>\n",
            "Int64Index: 932 entries, 0 to 955\n",
            "Data columns (total 14 columns):\n",
            " #   Column             Non-Null Count  Dtype  \n",
            "---  ------             --------------  -----  \n",
            " 0   Job Title          932 non-null    object \n",
            " 1   Rating             932 non-null    float64\n",
            " 2   Location           932 non-null    object \n",
            " 3   Headquarters       932 non-null    object \n",
            " 4   Size               932 non-null    object \n",
            " 5   Founded            932 non-null    int64  \n",
            " 6   Type of ownership  932 non-null    object \n",
            " 7   Industry           932 non-null    object \n",
            " 8   Sector             932 non-null    object \n",
            " 9   Revenue            932 non-null    object \n",
            " 10  Valor Mínimo       932 non-null    float64\n",
            " 11  Valor Máximo       932 non-null    float64\n",
            " 12  Cidade             932 non-null    object \n",
            " 13  Estado             932 non-null    object \n",
            "dtypes: float64(3), int64(1), object(10)\n",
            "memory usage: 109.2+ KB\n"
          ],
          "name": "stdout"
        }
      ]
    },
    {
      "cell_type": "code",
      "metadata": {
        "id": "7KY45GEJbkzO",
        "outputId": "12181bcb-1a25-4a83-b766-2baaa961da6b",
        "colab": {
          "base_uri": "https://localhost:8080/",
          "height": 297
        }
      },
      "source": [
        "df_raw.describe()"
      ],
      "execution_count": null,
      "outputs": [
        {
          "output_type": "execute_result",
          "data": {
            "text/html": [
              "<div>\n",
              "<style scoped>\n",
              "    .dataframe tbody tr th:only-of-type {\n",
              "        vertical-align: middle;\n",
              "    }\n",
              "\n",
              "    .dataframe tbody tr th {\n",
              "        vertical-align: top;\n",
              "    }\n",
              "\n",
              "    .dataframe thead th {\n",
              "        text-align: right;\n",
              "    }\n",
              "</style>\n",
              "<table border=\"1\" class=\"dataframe\">\n",
              "  <thead>\n",
              "    <tr style=\"text-align: right;\">\n",
              "      <th></th>\n",
              "      <th>Rating</th>\n",
              "      <th>Founded</th>\n",
              "      <th>Valor Mínimo</th>\n",
              "      <th>Valor Máximo</th>\n",
              "    </tr>\n",
              "  </thead>\n",
              "  <tbody>\n",
              "    <tr>\n",
              "      <th>count</th>\n",
              "      <td>932.000000</td>\n",
              "      <td>932.000000</td>\n",
              "      <td>932.000000</td>\n",
              "      <td>932.000000</td>\n",
              "    </tr>\n",
              "    <tr>\n",
              "      <th>mean</th>\n",
              "      <td>3.603004</td>\n",
              "      <td>1769.543991</td>\n",
              "      <td>74753.218884</td>\n",
              "      <td>129417.381974</td>\n",
              "    </tr>\n",
              "    <tr>\n",
              "      <th>std</th>\n",
              "      <td>1.079818</td>\n",
              "      <td>605.754504</td>\n",
              "      <td>27103.240585</td>\n",
              "      <td>38747.227314</td>\n",
              "    </tr>\n",
              "    <tr>\n",
              "      <th>min</th>\n",
              "      <td>-1.000000</td>\n",
              "      <td>-1.000000</td>\n",
              "      <td>15000.000000</td>\n",
              "      <td>16000.000000</td>\n",
              "    </tr>\n",
              "    <tr>\n",
              "      <th>25%</th>\n",
              "      <td>3.300000</td>\n",
              "      <td>1938.500000</td>\n",
              "      <td>60000.000000</td>\n",
              "      <td>109000.000000</td>\n",
              "    </tr>\n",
              "    <tr>\n",
              "      <th>50%</th>\n",
              "      <td>3.800000</td>\n",
              "      <td>1993.000000</td>\n",
              "      <td>71000.000000</td>\n",
              "      <td>126000.000000</td>\n",
              "    </tr>\n",
              "    <tr>\n",
              "      <th>75%</th>\n",
              "      <td>4.200000</td>\n",
              "      <td>2008.000000</td>\n",
              "      <td>84250.000000</td>\n",
              "      <td>144000.000000</td>\n",
              "    </tr>\n",
              "    <tr>\n",
              "      <th>max</th>\n",
              "      <td>5.000000</td>\n",
              "      <td>2019.000000</td>\n",
              "      <td>202000.000000</td>\n",
              "      <td>306000.000000</td>\n",
              "    </tr>\n",
              "  </tbody>\n",
              "</table>\n",
              "</div>"
            ],
            "text/plain": [
              "           Rating      Founded   Valor Mínimo   Valor Máximo\n",
              "count  932.000000   932.000000     932.000000     932.000000\n",
              "mean     3.603004  1769.543991   74753.218884  129417.381974\n",
              "std      1.079818   605.754504   27103.240585   38747.227314\n",
              "min     -1.000000    -1.000000   15000.000000   16000.000000\n",
              "25%      3.300000  1938.500000   60000.000000  109000.000000\n",
              "50%      3.800000  1993.000000   71000.000000  126000.000000\n",
              "75%      4.200000  2008.000000   84250.000000  144000.000000\n",
              "max      5.000000  2019.000000  202000.000000  306000.000000"
            ]
          },
          "metadata": {
            "tags": []
          },
          "execution_count": 14
        }
      ]
    },
    {
      "cell_type": "code",
      "metadata": {
        "id": "ppu_EpvL1AEN",
        "outputId": "0da29c5b-4336-4367-96f4-3cd2107baec1",
        "colab": {
          "base_uri": "https://localhost:8080/",
          "height": 320
        }
      },
      "source": [
        "df_raw.groupby('Job Title')['Valor Mínimo', 'Valor Máximo'].agg(['max', 'min'])\n"
      ],
      "execution_count": null,
      "outputs": [
        {
          "output_type": "stream",
          "text": [
            "/usr/local/lib/python3.6/dist-packages/ipykernel_launcher.py:1: FutureWarning: Indexing with multiple keys (implicitly converted to a tuple of keys) will be deprecated, use a list instead.\n",
            "  \"\"\"Entry point for launching an IPython kernel.\n"
          ],
          "name": "stderr"
        },
        {
          "output_type": "execute_result",
          "data": {
            "text/html": [
              "<div>\n",
              "<style scoped>\n",
              "    .dataframe tbody tr th:only-of-type {\n",
              "        vertical-align: middle;\n",
              "    }\n",
              "\n",
              "    .dataframe tbody tr th {\n",
              "        vertical-align: top;\n",
              "    }\n",
              "\n",
              "    .dataframe thead tr th {\n",
              "        text-align: left;\n",
              "    }\n",
              "\n",
              "    .dataframe thead tr:last-of-type th {\n",
              "        text-align: right;\n",
              "    }\n",
              "</style>\n",
              "<table border=\"1\" class=\"dataframe\">\n",
              "  <thead>\n",
              "    <tr>\n",
              "      <th></th>\n",
              "      <th colspan=\"2\" halign=\"left\">Valor Mínimo</th>\n",
              "      <th colspan=\"2\" halign=\"left\">Valor Máximo</th>\n",
              "    </tr>\n",
              "    <tr>\n",
              "      <th></th>\n",
              "      <th>max</th>\n",
              "      <th>min</th>\n",
              "      <th>max</th>\n",
              "      <th>min</th>\n",
              "    </tr>\n",
              "    <tr>\n",
              "      <th>Job Title</th>\n",
              "      <th></th>\n",
              "      <th></th>\n",
              "      <th></th>\n",
              "      <th></th>\n",
              "    </tr>\n",
              "  </thead>\n",
              "  <tbody>\n",
              "    <tr>\n",
              "      <th>Business Intelligence</th>\n",
              "      <td>85000.0</td>\n",
              "      <td>53000.0</td>\n",
              "      <td>134000.0</td>\n",
              "      <td>105000.0</td>\n",
              "    </tr>\n",
              "    <tr>\n",
              "      <th>Data Analyst</th>\n",
              "      <td>99000.0</td>\n",
              "      <td>20000.0</td>\n",
              "      <td>178000.0</td>\n",
              "      <td>39000.0</td>\n",
              "    </tr>\n",
              "    <tr>\n",
              "      <th>Data Engineer</th>\n",
              "      <td>202000.0</td>\n",
              "      <td>37000.0</td>\n",
              "      <td>306000.0</td>\n",
              "      <td>66000.0</td>\n",
              "    </tr>\n",
              "    <tr>\n",
              "      <th>Data Scientist</th>\n",
              "      <td>200000.0</td>\n",
              "      <td>15000.0</td>\n",
              "      <td>289000.0</td>\n",
              "      <td>16000.0</td>\n",
              "    </tr>\n",
              "    <tr>\n",
              "      <th>Intern</th>\n",
              "      <td>71000.0</td>\n",
              "      <td>71000.0</td>\n",
              "      <td>126000.0</td>\n",
              "      <td>126000.0</td>\n",
              "    </tr>\n",
              "  </tbody>\n",
              "</table>\n",
              "</div>"
            ],
            "text/plain": [
              "                      Valor Mínimo          Valor Máximo          \n",
              "                               max      min          max       min\n",
              "Job Title                                                         \n",
              "Business Intelligence      85000.0  53000.0     134000.0  105000.0\n",
              "Data Analyst               99000.0  20000.0     178000.0   39000.0\n",
              "Data Engineer             202000.0  37000.0     306000.0   66000.0\n",
              "Data Scientist            200000.0  15000.0     289000.0   16000.0\n",
              "Intern                     71000.0  71000.0     126000.0  126000.0"
            ]
          },
          "metadata": {
            "tags": []
          },
          "execution_count": 15
        }
      ]
    },
    {
      "cell_type": "code",
      "metadata": {
        "id": "xcDQxhRnAFgm",
        "outputId": "2419222a-0722-4f1b-ee9d-0cd2bb1035fc",
        "colab": {
          "base_uri": "https://localhost:8080/",
          "height": 1000
        }
      },
      "source": [
        "df_raw.groupby(['Job Title', 'Size'])['Valor Mínimo', 'Valor Máximo'].mean()"
      ],
      "execution_count": null,
      "outputs": [
        {
          "output_type": "stream",
          "text": [
            "/usr/local/lib/python3.6/dist-packages/ipykernel_launcher.py:1: FutureWarning: Indexing with multiple keys (implicitly converted to a tuple of keys) will be deprecated, use a list instead.\n",
            "  \"\"\"Entry point for launching an IPython kernel.\n"
          ],
          "name": "stderr"
        },
        {
          "output_type": "execute_result",
          "data": {
            "text/html": [
              "<div>\n",
              "<style scoped>\n",
              "    .dataframe tbody tr th:only-of-type {\n",
              "        vertical-align: middle;\n",
              "    }\n",
              "\n",
              "    .dataframe tbody tr th {\n",
              "        vertical-align: top;\n",
              "    }\n",
              "\n",
              "    .dataframe thead th {\n",
              "        text-align: right;\n",
              "    }\n",
              "</style>\n",
              "<table border=\"1\" class=\"dataframe\">\n",
              "  <thead>\n",
              "    <tr style=\"text-align: right;\">\n",
              "      <th></th>\n",
              "      <th></th>\n",
              "      <th>Valor Mínimo</th>\n",
              "      <th>Valor Máximo</th>\n",
              "    </tr>\n",
              "    <tr>\n",
              "      <th>Job Title</th>\n",
              "      <th>Size</th>\n",
              "      <th></th>\n",
              "      <th></th>\n",
              "    </tr>\n",
              "  </thead>\n",
              "  <tbody>\n",
              "    <tr>\n",
              "      <th rowspan=\"3\" valign=\"top\">Business Intelligence</th>\n",
              "      <th>1001 to 5000 employees</th>\n",
              "      <td>72666.666667</td>\n",
              "      <td>125166.666667</td>\n",
              "    </tr>\n",
              "    <tr>\n",
              "      <th>201 to 500 employees</th>\n",
              "      <td>71000.000000</td>\n",
              "      <td>126000.000000</td>\n",
              "    </tr>\n",
              "    <tr>\n",
              "      <th>501 to 1000 employees</th>\n",
              "      <td>71000.000000</td>\n",
              "      <td>126000.000000</td>\n",
              "    </tr>\n",
              "    <tr>\n",
              "      <th rowspan=\"7\" valign=\"top\">Data Analyst</th>\n",
              "      <th>1 to 50 employees</th>\n",
              "      <td>59833.333333</td>\n",
              "      <td>104833.333333</td>\n",
              "    </tr>\n",
              "    <tr>\n",
              "      <th>10000+ employees</th>\n",
              "      <td>49538.461538</td>\n",
              "      <td>82000.000000</td>\n",
              "    </tr>\n",
              "    <tr>\n",
              "      <th>1001 to 5000 employees</th>\n",
              "      <td>48538.461538</td>\n",
              "      <td>88653.846154</td>\n",
              "    </tr>\n",
              "    <tr>\n",
              "      <th>201 to 500 employees</th>\n",
              "      <td>53185.185185</td>\n",
              "      <td>95481.481481</td>\n",
              "    </tr>\n",
              "    <tr>\n",
              "      <th>5001 to 10000 employees</th>\n",
              "      <td>45666.666667</td>\n",
              "      <td>80555.555556</td>\n",
              "    </tr>\n",
              "    <tr>\n",
              "      <th>501 to 1000 employees</th>\n",
              "      <td>42535.714286</td>\n",
              "      <td>76928.571429</td>\n",
              "    </tr>\n",
              "    <tr>\n",
              "      <th>51 to 200 employees</th>\n",
              "      <td>58727.272727</td>\n",
              "      <td>106818.181818</td>\n",
              "    </tr>\n",
              "    <tr>\n",
              "      <th rowspan=\"8\" valign=\"top\">Data Engineer</th>\n",
              "      <th>1 to 50 employees</th>\n",
              "      <td>70312.500000</td>\n",
              "      <td>128250.000000</td>\n",
              "    </tr>\n",
              "    <tr>\n",
              "      <th>10000+ employees</th>\n",
              "      <td>84769.230769</td>\n",
              "      <td>147076.923077</td>\n",
              "    </tr>\n",
              "    <tr>\n",
              "      <th>1001 to 5000 employees</th>\n",
              "      <td>76322.580645</td>\n",
              "      <td>137774.193548</td>\n",
              "    </tr>\n",
              "    <tr>\n",
              "      <th>201 to 500 employees</th>\n",
              "      <td>80222.222222</td>\n",
              "      <td>140481.481481</td>\n",
              "    </tr>\n",
              "    <tr>\n",
              "      <th>5001 to 10000 employees</th>\n",
              "      <td>74333.333333</td>\n",
              "      <td>134055.555556</td>\n",
              "    </tr>\n",
              "    <tr>\n",
              "      <th>501 to 1000 employees</th>\n",
              "      <td>63925.925926</td>\n",
              "      <td>112962.962963</td>\n",
              "    </tr>\n",
              "    <tr>\n",
              "      <th>51 to 200 employees</th>\n",
              "      <td>81883.720930</td>\n",
              "      <td>139069.767442</td>\n",
              "    </tr>\n",
              "    <tr>\n",
              "      <th>Unknown</th>\n",
              "      <td>71000.000000</td>\n",
              "      <td>126000.000000</td>\n",
              "    </tr>\n",
              "    <tr>\n",
              "      <th rowspan=\"8\" valign=\"top\">Data Scientist</th>\n",
              "      <th>1 to 50 employees</th>\n",
              "      <td>81277.777778</td>\n",
              "      <td>138972.222222</td>\n",
              "    </tr>\n",
              "    <tr>\n",
              "      <th>10000+ employees</th>\n",
              "      <td>85848.214286</td>\n",
              "      <td>146562.500000</td>\n",
              "    </tr>\n",
              "    <tr>\n",
              "      <th>1001 to 5000 employees</th>\n",
              "      <td>74903.846154</td>\n",
              "      <td>129913.461538</td>\n",
              "    </tr>\n",
              "    <tr>\n",
              "      <th>201 to 500 employees</th>\n",
              "      <td>74650.000000</td>\n",
              "      <td>133090.000000</td>\n",
              "    </tr>\n",
              "    <tr>\n",
              "      <th>5001 to 10000 employees</th>\n",
              "      <td>77208.333333</td>\n",
              "      <td>136208.333333</td>\n",
              "    </tr>\n",
              "    <tr>\n",
              "      <th>501 to 1000 employees</th>\n",
              "      <td>77172.839506</td>\n",
              "      <td>132666.666667</td>\n",
              "    </tr>\n",
              "    <tr>\n",
              "      <th>51 to 200 employees</th>\n",
              "      <td>83306.818182</td>\n",
              "      <td>138704.545455</td>\n",
              "    </tr>\n",
              "    <tr>\n",
              "      <th>Unknown</th>\n",
              "      <td>88125.000000</td>\n",
              "      <td>132666.666667</td>\n",
              "    </tr>\n",
              "    <tr>\n",
              "      <th rowspan=\"2\" valign=\"top\">Intern</th>\n",
              "      <th>201 to 500 employees</th>\n",
              "      <td>71000.000000</td>\n",
              "      <td>126000.000000</td>\n",
              "    </tr>\n",
              "    <tr>\n",
              "      <th>51 to 200 employees</th>\n",
              "      <td>71000.000000</td>\n",
              "      <td>126000.000000</td>\n",
              "    </tr>\n",
              "  </tbody>\n",
              "</table>\n",
              "</div>"
            ],
            "text/plain": [
              "                                               Valor Mínimo   Valor Máximo\n",
              "Job Title             Size                                                \n",
              "Business Intelligence 1001 to 5000 employees   72666.666667  125166.666667\n",
              "                      201 to 500 employees     71000.000000  126000.000000\n",
              "                      501 to 1000 employees    71000.000000  126000.000000\n",
              "Data Analyst          1 to 50 employees        59833.333333  104833.333333\n",
              "                      10000+ employees         49538.461538   82000.000000\n",
              "                      1001 to 5000 employees   48538.461538   88653.846154\n",
              "                      201 to 500 employees     53185.185185   95481.481481\n",
              "                      5001 to 10000 employees  45666.666667   80555.555556\n",
              "                      501 to 1000 employees    42535.714286   76928.571429\n",
              "                      51 to 200 employees      58727.272727  106818.181818\n",
              "Data Engineer         1 to 50 employees        70312.500000  128250.000000\n",
              "                      10000+ employees         84769.230769  147076.923077\n",
              "                      1001 to 5000 employees   76322.580645  137774.193548\n",
              "                      201 to 500 employees     80222.222222  140481.481481\n",
              "                      5001 to 10000 employees  74333.333333  134055.555556\n",
              "                      501 to 1000 employees    63925.925926  112962.962963\n",
              "                      51 to 200 employees      81883.720930  139069.767442\n",
              "                      Unknown                  71000.000000  126000.000000\n",
              "Data Scientist        1 to 50 employees        81277.777778  138972.222222\n",
              "                      10000+ employees         85848.214286  146562.500000\n",
              "                      1001 to 5000 employees   74903.846154  129913.461538\n",
              "                      201 to 500 employees     74650.000000  133090.000000\n",
              "                      5001 to 10000 employees  77208.333333  136208.333333\n",
              "                      501 to 1000 employees    77172.839506  132666.666667\n",
              "                      51 to 200 employees      83306.818182  138704.545455\n",
              "                      Unknown                  88125.000000  132666.666667\n",
              "Intern                201 to 500 employees     71000.000000  126000.000000\n",
              "                      51 to 200 employees      71000.000000  126000.000000"
            ]
          },
          "metadata": {
            "tags": []
          },
          "execution_count": 16
        }
      ]
    },
    {
      "cell_type": "markdown",
      "metadata": {
        "id": "YmPpNPJS12H7"
      },
      "source": [
        "# IV - Análise exploratória"
      ]
    },
    {
      "cell_type": "code",
      "metadata": {
        "id": "dfBjIMpMam-s",
        "outputId": "e5d2a26a-d007-4901-d7d4-9f0e74387d2e",
        "colab": {
          "base_uri": "https://localhost:8080/",
          "height": 265
        }
      },
      "source": [
        "# Aplicando um estilo aos plots\n",
        "plt.style.use(\"ggplot\")\n",
        "\n",
        "# Criando gráfico\n",
        "plt.hist(df_raw['Valor Máximo'],ec = \"k\", label= 'Valor Máximo', alpha= 0.5, color = \"darkblue\")\n",
        "plt.hist(df_raw['Valor Mínimo'],ec = \"k\", label= 'Valor Mínimo', alpha= 0.5, color = \"red\")\n",
        "\n",
        "# Colocando a legenda no melhor lugar\n",
        "plt.legend(loc='best')\n",
        "\n",
        "# Mostrando gráfico\n",
        "plt.show()"
      ],
      "execution_count": null,
      "outputs": [
        {
          "output_type": "display_data",
          "data": {
            "image/png": "[encoded data removed]",
            "text/plain": [
              "<Figure size 432x288 with 1 Axes>"
            ]
          },
          "metadata": {
            "tags": []
          }
        }
      ]
    },
    {
      "cell_type": "code",
      "metadata": {
        "id": "OvVA1Ga0dV6Q",
        "outputId": "bc7a78bc-860c-4521-eb69-d45c99982b84",
        "colab": {
          "base_uri": "https://localhost:8080/",
          "height": 373
        }
      },
      "source": [
        "# Definindo a largura das barras \n",
        "barWidth = 0.25\n",
        "\n",
        "# Aumentando o gráfico\n",
        "plt.figure(figsize= (15, 5))\n",
        "\n",
        "# Criando as barras\n",
        "plt.bar(x = df_raw['Job Title'],\n",
        "        height = df_raw['Valor Máximo'],\n",
        "        width = barWidth,\n",
        "        color = 'r')\n",
        "\n",
        "plt.bar(x = df_raw['Job Title'],\n",
        "        height = df_raw['Valor Mínimo'],\n",
        "        width = barWidth,\n",
        "        color ='b',\n",
        "        alpha= .6)\n",
        "\n",
        "\n",
        "# A label para o eixo X\n",
        "plt.xlabel('Cargos')\n",
        "\n",
        "# A label para o eixo Y\n",
        "plt.ylabel('Salário')\n",
        "\n",
        "# O título do gráfico\n",
        "plt.title('Salários máximo e mínimo x cargo',fontsize=16, fontweight='bold')"
      ],
      "execution_count": null,
      "outputs": [
        {
          "output_type": "execute_result",
          "data": {
            "text/plain": [
              "Text(0.5, 1.0, 'Salários máximo e mínimo x cargo')"
            ]
          },
          "metadata": {
            "tags": []
          },
          "execution_count": 44
        },
        {
          "output_type": "display_data",
          "data": {
            "image/png": "[encoded data removed]",
            "text/plain": [
              "<Figure size 1080x360 with 1 Axes>"
            ]
          },
          "metadata": {
            "tags": []
          }
        }
      ]
    },
    {
      "cell_type": "markdown",
      "metadata": {
        "id": "Im9N7TLy9RRR"
      },
      "source": [
        "criar novo df c/ as colunas job title e os valores de salario\n",
        "\n",
        "groupby cargo  escolher a medida"
      ]
    },
    {
      "cell_type": "code",
      "metadata": {
        "id": "GEMI_22ngOh5",
        "outputId": "bbc7b091-46c5-4c75-ad4b-829d67d61932",
        "colab": {
          "base_uri": "https://localhost:8080/",
          "height": 130
        }
      },
      "source": [
        "# Definindo a largura das barras \n",
        "barWidth = 0.25\n",
        "\n",
        "# Aumentando o gráfico\n",
        "plt.figure(figsize= (20, 5))\n",
        "\n",
        "size_sorted = df_raw['Size'].sort_values(')\n",
        "\n",
        "# Criando as barras\n",
        "plt.bar(size_sorted,\n",
        "        height = df_raw['Valor Máximo'],\n",
        "        width = barWidth,\n",
        "        color ='r')\n",
        "\n",
        "plt.bar(size_sorted,\n",
        "        height = df_raw['Valor Mínimo'],\n",
        "        width = barWidth,\n",
        "        color ='b')\n",
        "\n",
        "# A label para o eixo X\n",
        "plt.xlabel('# de Funcionários')\n",
        "\n",
        "# A label para o eixo Y\n",
        "plt.ylabel('Salário')\n",
        "1 to 50 employees 1 to 50 employees1 to 50 employees  \n",
        "# O título do gráfico\n",
        "plt.title('Salários máximo e mínimo x # de Funcionários',fontsize=16, fontweight='bold')"
      ],
      "execution_count": null,
      "outputs": [
        {
          "output_type": "error",
          "ename": "SyntaxError",
          "evalue": "ignored",
          "traceback": [
            "\u001b[0;36m  File \u001b[0;32m\"<ipython-input-54-c1084963a651>\"\u001b[0;36m, line \u001b[0;32m7\u001b[0m\n\u001b[0;31m    size_sorted = df_raw['Size'].sort_values(')\u001b[0m\n\u001b[0m                                               ^\u001b[0m\n\u001b[0;31mSyntaxError\u001b[0m\u001b[0;31m:\u001b[0m EOL while scanning string literal\n"
          ]
        }
      ]
    },
    {
      "cell_type": "code",
      "metadata": {
        "id": "wwNuWCUZxqF8",
        "outputId": "de0f380d-0b3f-40db-9dba-5154856e5a36",
        "colab": {
          "base_uri": "https://localhost:8080/",
          "height": 170
        }
      },
      "source": [
        "size_sorted.value_counts()"
      ],
      "execution_count": null,
      "outputs": [
        {
          "output_type": "execute_result",
          "data": {
            "text/plain": [
              "1001 to 5000 employees     167\n",
              "201 to 500 employees       160\n",
              "51 to 200 employees        154\n",
              "10000+ employees           151\n",
              "501 to 1000 employees      141\n",
              "5001 to 10000 employees     75\n",
              "1 to 50 employees           58\n",
              "Unknown                     26\n",
              "Name: Size, dtype: int64"
            ]
          },
          "metadata": {
            "tags": []
          },
          "execution_count": 52
        }
      ]
    },
    {
      "cell_type": "markdown",
      "metadata": {
        "id": "z6p_5kN7-10L"
      },
      "source": [
        "Tentar ordenar as colunas do pandas em relacao ao Size"
      ]
    },
    {
      "cell_type": "code",
      "metadata": {
        "id": "lmCbUOZckIn-",
        "outputId": "2575ce10-9685-4d11-c13a-a4596b26c653",
        "colab": {
          "base_uri": "https://localhost:8080/",
          "height": 811
        }
      },
      "source": [
        "sns.pairplot(df_raw, hue='Job Title')"
      ],
      "execution_count": null,
      "outputs": [
        {
          "output_type": "stream",
          "text": [
            "/usr/local/lib/python3.6/dist-packages/seaborn/distributions.py:305: UserWarning: Dataset has 0 variance; skipping density estimate.\n",
            "  warnings.warn(msg, UserWarning)\n",
            "/usr/local/lib/python3.6/dist-packages/seaborn/distributions.py:305: UserWarning: Dataset has 0 variance; skipping density estimate.\n",
            "  warnings.warn(msg, UserWarning)\n"
          ],
          "name": "stderr"
        },
        {
          "output_type": "execute_result",
          "data": {
            "text/plain": [
              "<seaborn.axisgrid.PairGrid at 0x7f7dc3ed6a20>"
            ]
          },
          "metadata": {
            "tags": []
          },
          "execution_count": 59
        },
        {
          "output_type": "display_data",
          "data": {
            "image/png": "[encoded data removed]",
            "text/plain": [
              "<Figure size 861.875x720 with 20 Axes>"
            ]
          },
          "metadata": {
            "tags": [],
            "needs_background": "light"
          }
        }
      ]
    },
    {
      "cell_type": "code",
      "metadata": {
        "id": "dW8vK1Jk8xvi"
      },
      "source": [
        "dados.query(\"IN_TREINEIRO == 1\")[\"NU_IDADE\"].hist(bins = 20, figsize = (8, 6), alpha = .5)"
      ],
      "execution_count": null,
      "outputs": []
    },
    {
      "cell_type": "markdown",
      "metadata": {
        "id": "yzA5R9nce3Zn"
      },
      "source": [
        ">Proximos passos:\n",
        "\n",
        "Realizar os estudos \n",
        "\n",
        "media de salario por pais - coluna e pizza\n",
        "\n",
        "dados relacionado a localidade\n",
        "\n",
        "Especificar mais o estudo\n",
        "\n",
        "\n",
        "\n"
      ]
    },
    {
      "cell_type": "markdown",
      "metadata": {
        "id": "_eTmiePO9hSR"
      },
      "source": [
        "# V - Modelagem"
      ]
    },
    {
      "cell_type": "code",
      "metadata": {
        "id": "4EwHiVXwDXtS",
        "outputId": "960f776a-b66d-4d81-f1e3-cb569cc8ee8d",
        "colab": {
          "base_uri": "https://localhost:8080/",
          "height": 204
        }
      },
      "source": [
        "df_numeric = df_raw.select_dtypes(include=['float64', 'int'])\n",
        "df_numeric.head()"
      ],
      "execution_count": null,
      "outputs": [
        {
          "output_type": "execute_result",
          "data": {
            "text/html": [
              "<div>\n",
              "<style scoped>\n",
              "    .dataframe tbody tr th:only-of-type {\n",
              "        vertical-align: middle;\n",
              "    }\n",
              "\n",
              "    .dataframe tbody tr th {\n",
              "        vertical-align: top;\n",
              "    }\n",
              "\n",
              "    .dataframe thead th {\n",
              "        text-align: right;\n",
              "    }\n",
              "</style>\n",
              "<table border=\"1\" class=\"dataframe\">\n",
              "  <thead>\n",
              "    <tr style=\"text-align: right;\">\n",
              "      <th></th>\n",
              "      <th>Rating</th>\n",
              "      <th>Founded</th>\n",
              "      <th>Valor Mínimo</th>\n",
              "      <th>Valor Máximo</th>\n",
              "    </tr>\n",
              "  </thead>\n",
              "  <tbody>\n",
              "    <tr>\n",
              "      <th>0</th>\n",
              "      <td>3.8</td>\n",
              "      <td>1973</td>\n",
              "      <td>53000.0</td>\n",
              "      <td>91000.0</td>\n",
              "    </tr>\n",
              "    <tr>\n",
              "      <th>1</th>\n",
              "      <td>3.4</td>\n",
              "      <td>1984</td>\n",
              "      <td>63000.0</td>\n",
              "      <td>112000.0</td>\n",
              "    </tr>\n",
              "    <tr>\n",
              "      <th>2</th>\n",
              "      <td>4.8</td>\n",
              "      <td>2010</td>\n",
              "      <td>80000.0</td>\n",
              "      <td>90000.0</td>\n",
              "    </tr>\n",
              "    <tr>\n",
              "      <th>3</th>\n",
              "      <td>3.8</td>\n",
              "      <td>1965</td>\n",
              "      <td>56000.0</td>\n",
              "      <td>97000.0</td>\n",
              "    </tr>\n",
              "    <tr>\n",
              "      <th>4</th>\n",
              "      <td>2.9</td>\n",
              "      <td>1998</td>\n",
              "      <td>86000.0</td>\n",
              "      <td>143000.0</td>\n",
              "    </tr>\n",
              "  </tbody>\n",
              "</table>\n",
              "</div>"
            ],
            "text/plain": [
              "   Rating  Founded  Valor Mínimo  Valor Máximo\n",
              "0     3.8     1973       53000.0       91000.0\n",
              "1     3.4     1984       63000.0      112000.0\n",
              "2     4.8     2010       80000.0       90000.0\n",
              "3     3.8     1965       56000.0       97000.0\n",
              "4     2.9     1998       86000.0      143000.0"
            ]
          },
          "metadata": {
            "tags": []
          },
          "execution_count": 53
        }
      ]
    },
    {
      "cell_type": "code",
      "metadata": {
        "id": "ewxMzRl2DXXs",
        "outputId": "856ad320-ffe7-4c54-84a8-6a7db7474418",
        "colab": {
          "base_uri": "https://localhost:8080/",
          "height": 173
        }
      },
      "source": [
        "# correlation matrix\n",
        "cor = df_numeric.corr()\n",
        "cor"
      ],
      "execution_count": null,
      "outputs": [
        {
          "output_type": "execute_result",
          "data": {
            "text/html": [
              "<div>\n",
              "<style scoped>\n",
              "    .dataframe tbody tr th:only-of-type {\n",
              "        vertical-align: middle;\n",
              "    }\n",
              "\n",
              "    .dataframe tbody tr th {\n",
              "        vertical-align: top;\n",
              "    }\n",
              "\n",
              "    .dataframe thead th {\n",
              "        text-align: right;\n",
              "    }\n",
              "</style>\n",
              "<table border=\"1\" class=\"dataframe\">\n",
              "  <thead>\n",
              "    <tr style=\"text-align: right;\">\n",
              "      <th></th>\n",
              "      <th>Rating</th>\n",
              "      <th>Founded</th>\n",
              "      <th>Valor Mínimo</th>\n",
              "      <th>Valor Máximo</th>\n",
              "    </tr>\n",
              "  </thead>\n",
              "  <tbody>\n",
              "    <tr>\n",
              "      <th>Rating</th>\n",
              "      <td>1.000000</td>\n",
              "      <td>0.486271</td>\n",
              "      <td>-0.007719</td>\n",
              "      <td>0.015373</td>\n",
              "    </tr>\n",
              "    <tr>\n",
              "      <th>Founded</th>\n",
              "      <td>0.486271</td>\n",
              "      <td>1.000000</td>\n",
              "      <td>-0.003367</td>\n",
              "      <td>0.024924</td>\n",
              "    </tr>\n",
              "    <tr>\n",
              "      <th>Valor Mínimo</th>\n",
              "      <td>-0.007719</td>\n",
              "      <td>-0.003367</td>\n",
              "      <td>1.000000</td>\n",
              "      <td>0.939667</td>\n",
              "    </tr>\n",
              "    <tr>\n",
              "      <th>Valor Máximo</th>\n",
              "      <td>0.015373</td>\n",
              "      <td>0.024924</td>\n",
              "      <td>0.939667</td>\n",
              "      <td>1.000000</td>\n",
              "    </tr>\n",
              "  </tbody>\n",
              "</table>\n",
              "</div>"
            ],
            "text/plain": [
              "                Rating   Founded  Valor Mínimo  Valor Máximo\n",
              "Rating        1.000000  0.486271     -0.007719      0.015373\n",
              "Founded       0.486271  1.000000     -0.003367      0.024924\n",
              "Valor Mínimo -0.007719 -0.003367      1.000000      0.939667\n",
              "Valor Máximo  0.015373  0.024924      0.939667      1.000000"
            ]
          },
          "metadata": {
            "tags": []
          },
          "execution_count": 54
        }
      ]
    },
    {
      "cell_type": "code",
      "metadata": {
        "id": "Ia1-kPIIDXBf",
        "outputId": "106ca82f-12e9-4f86-8217-a222144fd524",
        "colab": {
          "base_uri": "https://localhost:8080/",
          "height": 384
        }
      },
      "source": [
        "# plotting correlations on a heatmap\n",
        "\n",
        "# figure size\n",
        "plt.figure(figsize=(10,6))\n",
        "\n",
        "# heatmap\n",
        "sns.heatmap(cor, cmap=\"YlGnBu\", annot=True)\n",
        "plt.show()"
      ],
      "execution_count": null,
      "outputs": [
        {
          "output_type": "display_data",
          "data": {
            "image/png": "[encoded data removed]",
            "text/plain": [
              "<Figure size 720x432 with 2 Axes>"
            ]
          },
          "metadata": {
            "tags": [],
            "needs_background": "light"
          }
        }
      ]
    },
    {
      "cell_type": "code",
      "metadata": {
        "id": "1TkrzDbNBJzE",
        "outputId": "82b96fb2-b82b-4f3e-ec98-e20e4fea8ea5",
        "colab": {
          "base_uri": "https://localhost:8080/",
          "height": 85
        }
      },
      "source": [
        "df_raw.columns"
      ],
      "execution_count": null,
      "outputs": [
        {
          "output_type": "execute_result",
          "data": {
            "text/plain": [
              "Index(['Job Title', 'Rating', 'Location', 'Headquarters', 'Size', 'Founded',\n",
              "       'Type of ownership', 'Industry', 'Sector', 'Revenue', 'Valor Mínimo',\n",
              "       'Valor Máximo', 'Cidade', 'Estado'],\n",
              "      dtype='object')"
            ]
          },
          "metadata": {
            "tags": []
          },
          "execution_count": 56
        }
      ]
    },
    {
      "cell_type": "code",
      "metadata": {
        "id": "-ssiF-LmCJfU",
        "outputId": "54278f93-d339-4eea-a4ba-c2223203a62e",
        "colab": {
          "base_uri": "https://localhost:8080/",
          "height": 606
        }
      },
      "source": [
        "# split into X and y\n",
        "X = df_raw.loc[:, ['Job Title', 'Rating', 'Location', 'Headquarters', 'Size', 'Founded',\n",
        "       'Type of ownership', 'Industry', 'Sector', 'Revenue', 'Valor Máximo', 'Cidade', 'Estado']]\n",
        "\n",
        "y = df_raw['Valor Mínimo']\n",
        "\n",
        "X"
      ],
      "execution_count": null,
      "outputs": [
        {
          "output_type": "execute_result",
          "data": {
            "text/html": [
              "<div>\n",
              "<style scoped>\n",
              "    .dataframe tbody tr th:only-of-type {\n",
              "        vertical-align: middle;\n",
              "    }\n",
              "\n",
              "    .dataframe tbody tr th {\n",
              "        vertical-align: top;\n",
              "    }\n",
              "\n",
              "    .dataframe thead th {\n",
              "        text-align: right;\n",
              "    }\n",
              "</style>\n",
              "<table border=\"1\" class=\"dataframe\">\n",
              "  <thead>\n",
              "    <tr style=\"text-align: right;\">\n",
              "      <th></th>\n",
              "      <th>Job Title</th>\n",
              "      <th>Rating</th>\n",
              "      <th>Location</th>\n",
              "      <th>Headquarters</th>\n",
              "      <th>Size</th>\n",
              "      <th>Founded</th>\n",
              "      <th>Type of ownership</th>\n",
              "      <th>Industry</th>\n",
              "      <th>Sector</th>\n",
              "      <th>Revenue</th>\n",
              "      <th>Valor Máximo</th>\n",
              "      <th>Cidade</th>\n",
              "      <th>Estado</th>\n",
              "    </tr>\n",
              "  </thead>\n",
              "  <tbody>\n",
              "    <tr>\n",
              "      <th>0</th>\n",
              "      <td>Data Scientist</td>\n",
              "      <td>3.8</td>\n",
              "      <td>Albuquerque, NM</td>\n",
              "      <td>Goleta, CA</td>\n",
              "      <td>501 to 1000 employees</td>\n",
              "      <td>1973</td>\n",
              "      <td>Company - Private</td>\n",
              "      <td>Aerospace &amp; Defense</td>\n",
              "      <td>Aerospace &amp; Defense</td>\n",
              "      <td>$50 to $100 million (USD)</td>\n",
              "      <td>91000.0</td>\n",
              "      <td>Goleta</td>\n",
              "      <td>CA</td>\n",
              "    </tr>\n",
              "    <tr>\n",
              "      <th>1</th>\n",
              "      <td>Data Scientist</td>\n",
              "      <td>3.4</td>\n",
              "      <td>Linthicum, MD</td>\n",
              "      <td>Baltimore, MD</td>\n",
              "      <td>10000+ employees</td>\n",
              "      <td>1984</td>\n",
              "      <td>Other Organization</td>\n",
              "      <td>Health Care Services &amp; Hospitals</td>\n",
              "      <td>Health Care</td>\n",
              "      <td>$2 to $5 billion (USD)</td>\n",
              "      <td>112000.0</td>\n",
              "      <td>Baltimore</td>\n",
              "      <td>MD</td>\n",
              "    </tr>\n",
              "    <tr>\n",
              "      <th>2</th>\n",
              "      <td>Data Scientist</td>\n",
              "      <td>4.8</td>\n",
              "      <td>Clearwater, FL</td>\n",
              "      <td>Clearwater, FL</td>\n",
              "      <td>501 to 1000 employees</td>\n",
              "      <td>2010</td>\n",
              "      <td>Company - Private</td>\n",
              "      <td>Security Services</td>\n",
              "      <td>Business Services</td>\n",
              "      <td>$100 to $500 million (USD)</td>\n",
              "      <td>90000.0</td>\n",
              "      <td>Clearwater</td>\n",
              "      <td>FL</td>\n",
              "    </tr>\n",
              "    <tr>\n",
              "      <th>3</th>\n",
              "      <td>Data Scientist</td>\n",
              "      <td>3.8</td>\n",
              "      <td>Richland, WA</td>\n",
              "      <td>Richland, WA</td>\n",
              "      <td>1001 to 5000 employees</td>\n",
              "      <td>1965</td>\n",
              "      <td>Government</td>\n",
              "      <td>Energy</td>\n",
              "      <td>Oil, Gas, Energy &amp; Utilities</td>\n",
              "      <td>$500 million to $1 billion (USD)</td>\n",
              "      <td>97000.0</td>\n",
              "      <td>Richland</td>\n",
              "      <td>WA</td>\n",
              "    </tr>\n",
              "    <tr>\n",
              "      <th>4</th>\n",
              "      <td>Data Scientist</td>\n",
              "      <td>2.9</td>\n",
              "      <td>New York, NY</td>\n",
              "      <td>New York, NY</td>\n",
              "      <td>51 to 200 employees</td>\n",
              "      <td>1998</td>\n",
              "      <td>Company - Private</td>\n",
              "      <td>Advertising &amp; Marketing</td>\n",
              "      <td>Business Services</td>\n",
              "      <td>Unknown / Non-Applicable</td>\n",
              "      <td>143000.0</td>\n",
              "      <td>New York</td>\n",
              "      <td>NY</td>\n",
              "    </tr>\n",
              "    <tr>\n",
              "      <th>...</th>\n",
              "      <td>...</td>\n",
              "      <td>...</td>\n",
              "      <td>...</td>\n",
              "      <td>...</td>\n",
              "      <td>...</td>\n",
              "      <td>...</td>\n",
              "      <td>...</td>\n",
              "      <td>...</td>\n",
              "      <td>...</td>\n",
              "      <td>...</td>\n",
              "      <td>...</td>\n",
              "      <td>...</td>\n",
              "      <td>...</td>\n",
              "    </tr>\n",
              "    <tr>\n",
              "      <th>951</th>\n",
              "      <td>Data Engineer</td>\n",
              "      <td>4.4</td>\n",
              "      <td>Nashville, TN</td>\n",
              "      <td>San Francisco, CA</td>\n",
              "      <td>1001 to 5000 employees</td>\n",
              "      <td>2006</td>\n",
              "      <td>Company - Public</td>\n",
              "      <td>Internet</td>\n",
              "      <td>Information Technology</td>\n",
              "      <td>$100 to $500 million (USD)</td>\n",
              "      <td>133000.0</td>\n",
              "      <td>San Francisco</td>\n",
              "      <td>CA</td>\n",
              "    </tr>\n",
              "    <tr>\n",
              "      <th>952</th>\n",
              "      <td>Data Scientist</td>\n",
              "      <td>2.6</td>\n",
              "      <td>Pittsburgh, PA</td>\n",
              "      <td>Pittsburgh, PA</td>\n",
              "      <td>501 to 1000 employees</td>\n",
              "      <td>1984</td>\n",
              "      <td>College / University</td>\n",
              "      <td>Colleges &amp; Universities</td>\n",
              "      <td>Education</td>\n",
              "      <td>Unknown / Non-Applicable</td>\n",
              "      <td>91000.0</td>\n",
              "      <td>Pittsburgh</td>\n",
              "      <td>PA</td>\n",
              "    </tr>\n",
              "    <tr>\n",
              "      <th>953</th>\n",
              "      <td>Data Scientist</td>\n",
              "      <td>3.2</td>\n",
              "      <td>Allentown, PA</td>\n",
              "      <td>Chadds Ford, PA</td>\n",
              "      <td>1 to 50 employees</td>\n",
              "      <td>-1</td>\n",
              "      <td>Company - Private</td>\n",
              "      <td>Staffing &amp; Outsourcing</td>\n",
              "      <td>Business Services</td>\n",
              "      <td>$5 to $10 million (USD)</td>\n",
              "      <td>160000.0</td>\n",
              "      <td>Chadds Ford</td>\n",
              "      <td>PA</td>\n",
              "    </tr>\n",
              "    <tr>\n",
              "      <th>954</th>\n",
              "      <td>Data Engineer</td>\n",
              "      <td>4.8</td>\n",
              "      <td>Austin, TX</td>\n",
              "      <td>Portland, OR</td>\n",
              "      <td>201 to 500 employees</td>\n",
              "      <td>2015</td>\n",
              "      <td>Company - Private</td>\n",
              "      <td>IT Services</td>\n",
              "      <td>Information Technology</td>\n",
              "      <td>$25 to $50 million (USD)</td>\n",
              "      <td>126000.0</td>\n",
              "      <td>Portland</td>\n",
              "      <td>OR</td>\n",
              "    </tr>\n",
              "    <tr>\n",
              "      <th>955</th>\n",
              "      <td>Data Scientist</td>\n",
              "      <td>3.6</td>\n",
              "      <td>Beavercreek, OH</td>\n",
              "      <td>Arlington, VA</td>\n",
              "      <td>501 to 1000 employees</td>\n",
              "      <td>1967</td>\n",
              "      <td>Nonprofit Organization</td>\n",
              "      <td>Federal Agencies</td>\n",
              "      <td>Government</td>\n",
              "      <td>$50 to $100 million (USD)</td>\n",
              "      <td>126000.0</td>\n",
              "      <td>Arlington</td>\n",
              "      <td>VA</td>\n",
              "    </tr>\n",
              "  </tbody>\n",
              "</table>\n",
              "<p>932 rows × 13 columns</p>\n",
              "</div>"
            ],
            "text/plain": [
              "          Job Title  Rating  ...         Cidade Estado\n",
              "0    Data Scientist     3.8  ...         Goleta     CA\n",
              "1    Data Scientist     3.4  ...      Baltimore     MD\n",
              "2    Data Scientist     4.8  ...     Clearwater     FL\n",
              "3    Data Scientist     3.8  ...       Richland     WA\n",
              "4    Data Scientist     2.9  ...       New York     NY\n",
              "..              ...     ...  ...            ...    ...\n",
              "951   Data Engineer     4.4  ...  San Francisco     CA\n",
              "952  Data Scientist     2.6  ...     Pittsburgh     PA\n",
              "953  Data Scientist     3.2  ...    Chadds Ford     PA\n",
              "954   Data Engineer     4.8  ...       Portland     OR\n",
              "955  Data Scientist     3.6  ...      Arlington     VA\n",
              "\n",
              "[932 rows x 13 columns]"
            ]
          },
          "metadata": {
            "tags": []
          },
          "execution_count": 57
        }
      ]
    },
    {
      "cell_type": "code",
      "metadata": {
        "id": "Fb5Y3iNgC0j5",
        "outputId": "f7ef4cf0-6159-4312-8734-b55d9868aa0e",
        "colab": {
          "base_uri": "https://localhost:8080/",
          "height": 306
        }
      },
      "source": [
        "# creating dummy variables for categorical variables\n",
        "\n",
        "# subset all categorical variables\n",
        "df_raw_categorical = X.select_dtypes(include=['object'])\n",
        "df_raw_categorical.head()"
      ],
      "execution_count": null,
      "outputs": [
        {
          "output_type": "execute_result",
          "data": {
            "text/html": [
              "<div>\n",
              "<style scoped>\n",
              "    .dataframe tbody tr th:only-of-type {\n",
              "        vertical-align: middle;\n",
              "    }\n",
              "\n",
              "    .dataframe tbody tr th {\n",
              "        vertical-align: top;\n",
              "    }\n",
              "\n",
              "    .dataframe thead th {\n",
              "        text-align: right;\n",
              "    }\n",
              "</style>\n",
              "<table border=\"1\" class=\"dataframe\">\n",
              "  <thead>\n",
              "    <tr style=\"text-align: right;\">\n",
              "      <th></th>\n",
              "      <th>Job Title</th>\n",
              "      <th>Location</th>\n",
              "      <th>Headquarters</th>\n",
              "      <th>Size</th>\n",
              "      <th>Type of ownership</th>\n",
              "      <th>Industry</th>\n",
              "      <th>Sector</th>\n",
              "      <th>Revenue</th>\n",
              "      <th>Cidade</th>\n",
              "      <th>Estado</th>\n",
              "    </tr>\n",
              "  </thead>\n",
              "  <tbody>\n",
              "    <tr>\n",
              "      <th>0</th>\n",
              "      <td>Data Scientist</td>\n",
              "      <td>Albuquerque, NM</td>\n",
              "      <td>Goleta, CA</td>\n",
              "      <td>501 to 1000 employees</td>\n",
              "      <td>Company - Private</td>\n",
              "      <td>Aerospace &amp; Defense</td>\n",
              "      <td>Aerospace &amp; Defense</td>\n",
              "      <td>$50 to $100 million (USD)</td>\n",
              "      <td>Goleta</td>\n",
              "      <td>CA</td>\n",
              "    </tr>\n",
              "    <tr>\n",
              "      <th>1</th>\n",
              "      <td>Data Scientist</td>\n",
              "      <td>Linthicum, MD</td>\n",
              "      <td>Baltimore, MD</td>\n",
              "      <td>10000+ employees</td>\n",
              "      <td>Other Organization</td>\n",
              "      <td>Health Care Services &amp; Hospitals</td>\n",
              "      <td>Health Care</td>\n",
              "      <td>$2 to $5 billion (USD)</td>\n",
              "      <td>Baltimore</td>\n",
              "      <td>MD</td>\n",
              "    </tr>\n",
              "    <tr>\n",
              "      <th>2</th>\n",
              "      <td>Data Scientist</td>\n",
              "      <td>Clearwater, FL</td>\n",
              "      <td>Clearwater, FL</td>\n",
              "      <td>501 to 1000 employees</td>\n",
              "      <td>Company - Private</td>\n",
              "      <td>Security Services</td>\n",
              "      <td>Business Services</td>\n",
              "      <td>$100 to $500 million (USD)</td>\n",
              "      <td>Clearwater</td>\n",
              "      <td>FL</td>\n",
              "    </tr>\n",
              "    <tr>\n",
              "      <th>3</th>\n",
              "      <td>Data Scientist</td>\n",
              "      <td>Richland, WA</td>\n",
              "      <td>Richland, WA</td>\n",
              "      <td>1001 to 5000 employees</td>\n",
              "      <td>Government</td>\n",
              "      <td>Energy</td>\n",
              "      <td>Oil, Gas, Energy &amp; Utilities</td>\n",
              "      <td>$500 million to $1 billion (USD)</td>\n",
              "      <td>Richland</td>\n",
              "      <td>WA</td>\n",
              "    </tr>\n",
              "    <tr>\n",
              "      <th>4</th>\n",
              "      <td>Data Scientist</td>\n",
              "      <td>New York, NY</td>\n",
              "      <td>New York, NY</td>\n",
              "      <td>51 to 200 employees</td>\n",
              "      <td>Company - Private</td>\n",
              "      <td>Advertising &amp; Marketing</td>\n",
              "      <td>Business Services</td>\n",
              "      <td>Unknown / Non-Applicable</td>\n",
              "      <td>New York</td>\n",
              "      <td>NY</td>\n",
              "    </tr>\n",
              "  </tbody>\n",
              "</table>\n",
              "</div>"
            ],
            "text/plain": [
              "        Job Title         Location  ...      Cidade Estado\n",
              "0  Data Scientist  Albuquerque, NM  ...      Goleta     CA\n",
              "1  Data Scientist    Linthicum, MD  ...   Baltimore     MD\n",
              "2  Data Scientist   Clearwater, FL  ...  Clearwater     FL\n",
              "3  Data Scientist     Richland, WA  ...    Richland     WA\n",
              "4  Data Scientist     New York, NY  ...    New York     NY\n",
              "\n",
              "[5 rows x 10 columns]"
            ]
          },
          "metadata": {
            "tags": []
          },
          "execution_count": 58
        }
      ]
    },
    {
      "cell_type": "code",
      "metadata": {
        "id": "12kSvFJiDF03",
        "outputId": "05795057-56e3-429a-d348-c99fecba0fc5",
        "colab": {
          "base_uri": "https://localhost:8080/",
          "height": 287
        }
      },
      "source": [
        "# convert into dummies\n",
        "df_raw_dummies = pd.get_dummies(df_raw_categorical, drop_first=True)\n",
        "df_raw_dummies.head()"
      ],
      "execution_count": null,
      "outputs": [
        {
          "output_type": "execute_result",
          "data": {
            "text/html": [
              "<div>\n",
              "<style scoped>\n",
              "    .dataframe tbody tr th:only-of-type {\n",
              "        vertical-align: middle;\n",
              "    }\n",
              "\n",
              "    .dataframe tbody tr th {\n",
              "        vertical-align: top;\n",
              "    }\n",
              "\n",
              "    .dataframe thead th {\n",
              "        text-align: right;\n",
              "    }\n",
              "</style>\n",
              "<table border=\"1\" class=\"dataframe\">\n",
              "  <thead>\n",
              "    <tr style=\"text-align: right;\">\n",
              "      <th></th>\n",
              "      <th>Job Title_Data Analyst</th>\n",
              "      <th>Job Title_Data Engineer</th>\n",
              "      <th>Job Title_Data Scientist</th>\n",
              "      <th>Job Title_Intern</th>\n",
              "      <th>Location_Alabaster, AL</th>\n",
              "      <th>Location_Alameda, CA</th>\n",
              "      <th>Location_Albuquerque, NM</th>\n",
              "      <th>Location_Alexandria, VA</th>\n",
              "      <th>Location_Aliso Viejo, CA</th>\n",
              "      <th>Location_Allendale, NJ</th>\n",
              "      <th>Location_Allentown, PA</th>\n",
              "      <th>Location_Amsterdam, NY</th>\n",
              "      <th>Location_Anchorage, AK</th>\n",
              "      <th>Location_Ann Arbor, MI</th>\n",
              "      <th>Location_Annapolis Junction, MD</th>\n",
              "      <th>Location_Arlington, VA</th>\n",
              "      <th>Location_Armonk, NY</th>\n",
              "      <th>Location_Arvada, CO</th>\n",
              "      <th>Location_Ashburn, VA</th>\n",
              "      <th>Location_Atlanta, GA</th>\n",
              "      <th>Location_Atlanta, IN</th>\n",
              "      <th>Location_Aurora, CO</th>\n",
              "      <th>Location_Austin, TX</th>\n",
              "      <th>Location_Baltimore, MD</th>\n",
              "      <th>Location_Beavercreek, OH</th>\n",
              "      <th>Location_Bedford, MA</th>\n",
              "      <th>Location_Bellevue, WA</th>\n",
              "      <th>Location_Bethesda, MD</th>\n",
              "      <th>Location_Birmingham, AL</th>\n",
              "      <th>Location_Bloomington, IL</th>\n",
              "      <th>Location_Bloomington, MN</th>\n",
              "      <th>Location_Blue Bell, PA</th>\n",
              "      <th>Location_Boise, ID</th>\n",
              "      <th>Location_Boston, MA</th>\n",
              "      <th>Location_Brisbane, CA</th>\n",
              "      <th>Location_Bristol, TN</th>\n",
              "      <th>Location_Burbank, CA</th>\n",
              "      <th>Location_Burlington, MA</th>\n",
              "      <th>Location_Camarillo, CA</th>\n",
              "      <th>Location_Cambridge, MA</th>\n",
              "      <th>...</th>\n",
              "      <th>Estado_ China</th>\n",
              "      <th>Estado_ DC</th>\n",
              "      <th>Estado_ FL</th>\n",
              "      <th>Estado_ France</th>\n",
              "      <th>Estado_ GA</th>\n",
              "      <th>Estado_ Germany</th>\n",
              "      <th>Estado_ IA</th>\n",
              "      <th>Estado_ ID</th>\n",
              "      <th>Estado_ IL</th>\n",
              "      <th>Estado_ IN</th>\n",
              "      <th>Estado_ India</th>\n",
              "      <th>Estado_ Japan</th>\n",
              "      <th>Estado_ LA</th>\n",
              "      <th>Estado_ MA</th>\n",
              "      <th>Estado_ MD</th>\n",
              "      <th>Estado_ MI</th>\n",
              "      <th>Estado_ MN</th>\n",
              "      <th>Estado_ MO</th>\n",
              "      <th>Estado_ NC</th>\n",
              "      <th>Estado_ NE</th>\n",
              "      <th>Estado_ NJ</th>\n",
              "      <th>Estado_ NV</th>\n",
              "      <th>Estado_ NY</th>\n",
              "      <th>Estado_ OH</th>\n",
              "      <th>Estado_ OR</th>\n",
              "      <th>Estado_ PA</th>\n",
              "      <th>Estado_ PR</th>\n",
              "      <th>Estado_ RI</th>\n",
              "      <th>Estado_ SC</th>\n",
              "      <th>Estado_ Singapore</th>\n",
              "      <th>Estado_ South Korea</th>\n",
              "      <th>Estado_ Spain</th>\n",
              "      <th>Estado_ Switzerland</th>\n",
              "      <th>Estado_ TN</th>\n",
              "      <th>Estado_ TX</th>\n",
              "      <th>Estado_ UT</th>\n",
              "      <th>Estado_ United Kingdom</th>\n",
              "      <th>Estado_ VA</th>\n",
              "      <th>Estado_ WA</th>\n",
              "      <th>Estado_ WI</th>\n",
              "    </tr>\n",
              "  </thead>\n",
              "  <tbody>\n",
              "    <tr>\n",
              "      <th>0</th>\n",
              "      <td>0</td>\n",
              "      <td>0</td>\n",
              "      <td>1</td>\n",
              "      <td>0</td>\n",
              "      <td>0</td>\n",
              "      <td>0</td>\n",
              "      <td>1</td>\n",
              "      <td>0</td>\n",
              "      <td>0</td>\n",
              "      <td>0</td>\n",
              "      <td>0</td>\n",
              "      <td>0</td>\n",
              "      <td>0</td>\n",
              "      <td>0</td>\n",
              "      <td>0</td>\n",
              "      <td>0</td>\n",
              "      <td>0</td>\n",
              "      <td>0</td>\n",
              "      <td>0</td>\n",
              "      <td>0</td>\n",
              "      <td>0</td>\n",
              "      <td>0</td>\n",
              "      <td>0</td>\n",
              "      <td>0</td>\n",
              "      <td>0</td>\n",
              "      <td>0</td>\n",
              "      <td>0</td>\n",
              "      <td>0</td>\n",
              "      <td>0</td>\n",
              "      <td>0</td>\n",
              "      <td>0</td>\n",
              "      <td>0</td>\n",
              "      <td>0</td>\n",
              "      <td>0</td>\n",
              "      <td>0</td>\n",
              "      <td>0</td>\n",
              "      <td>0</td>\n",
              "      <td>0</td>\n",
              "      <td>0</td>\n",
              "      <td>0</td>\n",
              "      <td>...</td>\n",
              "      <td>0</td>\n",
              "      <td>0</td>\n",
              "      <td>0</td>\n",
              "      <td>0</td>\n",
              "      <td>0</td>\n",
              "      <td>0</td>\n",
              "      <td>0</td>\n",
              "      <td>0</td>\n",
              "      <td>0</td>\n",
              "      <td>0</td>\n",
              "      <td>0</td>\n",
              "      <td>0</td>\n",
              "      <td>0</td>\n",
              "      <td>0</td>\n",
              "      <td>0</td>\n",
              "      <td>0</td>\n",
              "      <td>0</td>\n",
              "      <td>0</td>\n",
              "      <td>0</td>\n",
              "      <td>0</td>\n",
              "      <td>0</td>\n",
              "      <td>0</td>\n",
              "      <td>0</td>\n",
              "      <td>0</td>\n",
              "      <td>0</td>\n",
              "      <td>0</td>\n",
              "      <td>0</td>\n",
              "      <td>0</td>\n",
              "      <td>0</td>\n",
              "      <td>0</td>\n",
              "      <td>0</td>\n",
              "      <td>0</td>\n",
              "      <td>0</td>\n",
              "      <td>0</td>\n",
              "      <td>0</td>\n",
              "      <td>0</td>\n",
              "      <td>0</td>\n",
              "      <td>0</td>\n",
              "      <td>0</td>\n",
              "      <td>0</td>\n",
              "    </tr>\n",
              "    <tr>\n",
              "      <th>1</th>\n",
              "      <td>0</td>\n",
              "      <td>0</td>\n",
              "      <td>1</td>\n",
              "      <td>0</td>\n",
              "      <td>0</td>\n",
              "      <td>0</td>\n",
              "      <td>0</td>\n",
              "      <td>0</td>\n",
              "      <td>0</td>\n",
              "      <td>0</td>\n",
              "      <td>0</td>\n",
              "      <td>0</td>\n",
              "      <td>0</td>\n",
              "      <td>0</td>\n",
              "      <td>0</td>\n",
              "      <td>0</td>\n",
              "      <td>0</td>\n",
              "      <td>0</td>\n",
              "      <td>0</td>\n",
              "      <td>0</td>\n",
              "      <td>0</td>\n",
              "      <td>0</td>\n",
              "      <td>0</td>\n",
              "      <td>0</td>\n",
              "      <td>0</td>\n",
              "      <td>0</td>\n",
              "      <td>0</td>\n",
              "      <td>0</td>\n",
              "      <td>0</td>\n",
              "      <td>0</td>\n",
              "      <td>0</td>\n",
              "      <td>0</td>\n",
              "      <td>0</td>\n",
              "      <td>0</td>\n",
              "      <td>0</td>\n",
              "      <td>0</td>\n",
              "      <td>0</td>\n",
              "      <td>0</td>\n",
              "      <td>0</td>\n",
              "      <td>0</td>\n",
              "      <td>...</td>\n",
              "      <td>0</td>\n",
              "      <td>0</td>\n",
              "      <td>0</td>\n",
              "      <td>0</td>\n",
              "      <td>0</td>\n",
              "      <td>0</td>\n",
              "      <td>0</td>\n",
              "      <td>0</td>\n",
              "      <td>0</td>\n",
              "      <td>0</td>\n",
              "      <td>0</td>\n",
              "      <td>0</td>\n",
              "      <td>0</td>\n",
              "      <td>0</td>\n",
              "      <td>1</td>\n",
              "      <td>0</td>\n",
              "      <td>0</td>\n",
              "      <td>0</td>\n",
              "      <td>0</td>\n",
              "      <td>0</td>\n",
              "      <td>0</td>\n",
              "      <td>0</td>\n",
              "      <td>0</td>\n",
              "      <td>0</td>\n",
              "      <td>0</td>\n",
              "      <td>0</td>\n",
              "      <td>0</td>\n",
              "      <td>0</td>\n",
              "      <td>0</td>\n",
              "      <td>0</td>\n",
              "      <td>0</td>\n",
              "      <td>0</td>\n",
              "      <td>0</td>\n",
              "      <td>0</td>\n",
              "      <td>0</td>\n",
              "      <td>0</td>\n",
              "      <td>0</td>\n",
              "      <td>0</td>\n",
              "      <td>0</td>\n",
              "      <td>0</td>\n",
              "    </tr>\n",
              "    <tr>\n",
              "      <th>2</th>\n",
              "      <td>0</td>\n",
              "      <td>0</td>\n",
              "      <td>1</td>\n",
              "      <td>0</td>\n",
              "      <td>0</td>\n",
              "      <td>0</td>\n",
              "      <td>0</td>\n",
              "      <td>0</td>\n",
              "      <td>0</td>\n",
              "      <td>0</td>\n",
              "      <td>0</td>\n",
              "      <td>0</td>\n",
              "      <td>0</td>\n",
              "      <td>0</td>\n",
              "      <td>0</td>\n",
              "      <td>0</td>\n",
              "      <td>0</td>\n",
              "      <td>0</td>\n",
              "      <td>0</td>\n",
              "      <td>0</td>\n",
              "      <td>0</td>\n",
              "      <td>0</td>\n",
              "      <td>0</td>\n",
              "      <td>0</td>\n",
              "      <td>0</td>\n",
              "      <td>0</td>\n",
              "      <td>0</td>\n",
              "      <td>0</td>\n",
              "      <td>0</td>\n",
              "      <td>0</td>\n",
              "      <td>0</td>\n",
              "      <td>0</td>\n",
              "      <td>0</td>\n",
              "      <td>0</td>\n",
              "      <td>0</td>\n",
              "      <td>0</td>\n",
              "      <td>0</td>\n",
              "      <td>0</td>\n",
              "      <td>0</td>\n",
              "      <td>0</td>\n",
              "      <td>...</td>\n",
              "      <td>0</td>\n",
              "      <td>0</td>\n",
              "      <td>1</td>\n",
              "      <td>0</td>\n",
              "      <td>0</td>\n",
              "      <td>0</td>\n",
              "      <td>0</td>\n",
              "      <td>0</td>\n",
              "      <td>0</td>\n",
              "      <td>0</td>\n",
              "      <td>0</td>\n",
              "      <td>0</td>\n",
              "      <td>0</td>\n",
              "      <td>0</td>\n",
              "      <td>0</td>\n",
              "      <td>0</td>\n",
              "      <td>0</td>\n",
              "      <td>0</td>\n",
              "      <td>0</td>\n",
              "      <td>0</td>\n",
              "      <td>0</td>\n",
              "      <td>0</td>\n",
              "      <td>0</td>\n",
              "      <td>0</td>\n",
              "      <td>0</td>\n",
              "      <td>0</td>\n",
              "      <td>0</td>\n",
              "      <td>0</td>\n",
              "      <td>0</td>\n",
              "      <td>0</td>\n",
              "      <td>0</td>\n",
              "      <td>0</td>\n",
              "      <td>0</td>\n",
              "      <td>0</td>\n",
              "      <td>0</td>\n",
              "      <td>0</td>\n",
              "      <td>0</td>\n",
              "      <td>0</td>\n",
              "      <td>0</td>\n",
              "      <td>0</td>\n",
              "    </tr>\n",
              "    <tr>\n",
              "      <th>3</th>\n",
              "      <td>0</td>\n",
              "      <td>0</td>\n",
              "      <td>1</td>\n",
              "      <td>0</td>\n",
              "      <td>0</td>\n",
              "      <td>0</td>\n",
              "      <td>0</td>\n",
              "      <td>0</td>\n",
              "      <td>0</td>\n",
              "      <td>0</td>\n",
              "      <td>0</td>\n",
              "      <td>0</td>\n",
              "      <td>0</td>\n",
              "      <td>0</td>\n",
              "      <td>0</td>\n",
              "      <td>0</td>\n",
              "      <td>0</td>\n",
              "      <td>0</td>\n",
              "      <td>0</td>\n",
              "      <td>0</td>\n",
              "      <td>0</td>\n",
              "      <td>0</td>\n",
              "      <td>0</td>\n",
              "      <td>0</td>\n",
              "      <td>0</td>\n",
              "      <td>0</td>\n",
              "      <td>0</td>\n",
              "      <td>0</td>\n",
              "      <td>0</td>\n",
              "      <td>0</td>\n",
              "      <td>0</td>\n",
              "      <td>0</td>\n",
              "      <td>0</td>\n",
              "      <td>0</td>\n",
              "      <td>0</td>\n",
              "      <td>0</td>\n",
              "      <td>0</td>\n",
              "      <td>0</td>\n",
              "      <td>0</td>\n",
              "      <td>0</td>\n",
              "      <td>...</td>\n",
              "      <td>0</td>\n",
              "      <td>0</td>\n",
              "      <td>0</td>\n",
              "      <td>0</td>\n",
              "      <td>0</td>\n",
              "      <td>0</td>\n",
              "      <td>0</td>\n",
              "      <td>0</td>\n",
              "      <td>0</td>\n",
              "      <td>0</td>\n",
              "      <td>0</td>\n",
              "      <td>0</td>\n",
              "      <td>0</td>\n",
              "      <td>0</td>\n",
              "      <td>0</td>\n",
              "      <td>0</td>\n",
              "      <td>0</td>\n",
              "      <td>0</td>\n",
              "      <td>0</td>\n",
              "      <td>0</td>\n",
              "      <td>0</td>\n",
              "      <td>0</td>\n",
              "      <td>0</td>\n",
              "      <td>0</td>\n",
              "      <td>0</td>\n",
              "      <td>0</td>\n",
              "      <td>0</td>\n",
              "      <td>0</td>\n",
              "      <td>0</td>\n",
              "      <td>0</td>\n",
              "      <td>0</td>\n",
              "      <td>0</td>\n",
              "      <td>0</td>\n",
              "      <td>0</td>\n",
              "      <td>0</td>\n",
              "      <td>0</td>\n",
              "      <td>0</td>\n",
              "      <td>0</td>\n",
              "      <td>1</td>\n",
              "      <td>0</td>\n",
              "    </tr>\n",
              "    <tr>\n",
              "      <th>4</th>\n",
              "      <td>0</td>\n",
              "      <td>0</td>\n",
              "      <td>1</td>\n",
              "      <td>0</td>\n",
              "      <td>0</td>\n",
              "      <td>0</td>\n",
              "      <td>0</td>\n",
              "      <td>0</td>\n",
              "      <td>0</td>\n",
              "      <td>0</td>\n",
              "      <td>0</td>\n",
              "      <td>0</td>\n",
              "      <td>0</td>\n",
              "      <td>0</td>\n",
              "      <td>0</td>\n",
              "      <td>0</td>\n",
              "      <td>0</td>\n",
              "      <td>0</td>\n",
              "      <td>0</td>\n",
              "      <td>0</td>\n",
              "      <td>0</td>\n",
              "      <td>0</td>\n",
              "      <td>0</td>\n",
              "      <td>0</td>\n",
              "      <td>0</td>\n",
              "      <td>0</td>\n",
              "      <td>0</td>\n",
              "      <td>0</td>\n",
              "      <td>0</td>\n",
              "      <td>0</td>\n",
              "      <td>0</td>\n",
              "      <td>0</td>\n",
              "      <td>0</td>\n",
              "      <td>0</td>\n",
              "      <td>0</td>\n",
              "      <td>0</td>\n",
              "      <td>0</td>\n",
              "      <td>0</td>\n",
              "      <td>0</td>\n",
              "      <td>0</td>\n",
              "      <td>...</td>\n",
              "      <td>0</td>\n",
              "      <td>0</td>\n",
              "      <td>0</td>\n",
              "      <td>0</td>\n",
              "      <td>0</td>\n",
              "      <td>0</td>\n",
              "      <td>0</td>\n",
              "      <td>0</td>\n",
              "      <td>0</td>\n",
              "      <td>0</td>\n",
              "      <td>0</td>\n",
              "      <td>0</td>\n",
              "      <td>0</td>\n",
              "      <td>0</td>\n",
              "      <td>0</td>\n",
              "      <td>0</td>\n",
              "      <td>0</td>\n",
              "      <td>0</td>\n",
              "      <td>0</td>\n",
              "      <td>0</td>\n",
              "      <td>0</td>\n",
              "      <td>0</td>\n",
              "      <td>1</td>\n",
              "      <td>0</td>\n",
              "      <td>0</td>\n",
              "      <td>0</td>\n",
              "      <td>0</td>\n",
              "      <td>0</td>\n",
              "      <td>0</td>\n",
              "      <td>0</td>\n",
              "      <td>0</td>\n",
              "      <td>0</td>\n",
              "      <td>0</td>\n",
              "      <td>0</td>\n",
              "      <td>0</td>\n",
              "      <td>0</td>\n",
              "      <td>0</td>\n",
              "      <td>0</td>\n",
              "      <td>0</td>\n",
              "      <td>0</td>\n",
              "    </tr>\n",
              "  </tbody>\n",
              "</table>\n",
              "<p>5 rows × 842 columns</p>\n",
              "</div>"
            ],
            "text/plain": [
              "   Job Title_Data Analyst  Job Title_Data Engineer  ...  Estado_ WA  Estado_ WI\n",
              "0                       0                        0  ...           0           0\n",
              "1                       0                        0  ...           0           0\n",
              "2                       0                        0  ...           0           0\n",
              "3                       0                        0  ...           1           0\n",
              "4                       0                        0  ...           0           0\n",
              "\n",
              "[5 rows x 842 columns]"
            ]
          },
          "metadata": {
            "tags": []
          },
          "execution_count": 59
        }
      ]
    },
    {
      "cell_type": "code",
      "metadata": {
        "id": "6sAC7p8NDTwU"
      },
      "source": [
        "# drop categorical variables \n",
        "X = X.drop(list(df_raw_categorical.columns), axis=1)"
      ],
      "execution_count": null,
      "outputs": []
    },
    {
      "cell_type": "code",
      "metadata": {
        "id": "JZ9gmYSlEFQa"
      },
      "source": [
        "# concat dummy variables with X\n",
        "X = pd.concat([X, df_raw_dummies], axis=1)"
      ],
      "execution_count": null,
      "outputs": []
    },
    {
      "cell_type": "code",
      "metadata": {
        "id": "h-KhsK_1EJyA",
        "outputId": "1c6d8351-8124-4d25-92fb-48d1b8b7f6bc",
        "colab": {
          "base_uri": "https://localhost:8080/",
          "height": 170
        }
      },
      "source": [
        "# scaling the features\n",
        "from sklearn.preprocessing import scale\n",
        "\n",
        "# storing column names in cols, since column names are (annoyingly) lost after \n",
        "# scaling (the df is converted to a numpy array)\n",
        "cols = X.columns\n",
        "X = pd.DataFrame(scale(X))\n",
        "X.columns = cols\n",
        "X.columns"
      ],
      "execution_count": null,
      "outputs": [
        {
          "output_type": "execute_result",
          "data": {
            "text/plain": [
              "Index(['Rating', 'Founded', 'Valor Máximo', 'Job Title_Data Analyst',\n",
              "       'Job Title_Data Engineer', 'Job Title_Data Scientist',\n",
              "       'Job Title_Intern', 'Location_Alabaster, AL', 'Location_Alameda, CA',\n",
              "       'Location_Albuquerque, NM',\n",
              "       ...\n",
              "       'Estado_ South Korea', 'Estado_ Spain', 'Estado_ Switzerland',\n",
              "       'Estado_ TN', 'Estado_ TX', 'Estado_ UT', 'Estado_ United Kingdom',\n",
              "       'Estado_ VA', 'Estado_ WA', 'Estado_ WI'],\n",
              "      dtype='object', length=845)"
            ]
          },
          "metadata": {
            "tags": []
          },
          "execution_count": 62
        }
      ]
    },
    {
      "cell_type": "code",
      "metadata": {
        "id": "7PaVdFeiEQWZ",
        "outputId": "7c5d972e-37fd-4f87-8f33-03020e0053a8",
        "colab": {
          "base_uri": "https://localhost:8080/",
          "height": 51
        }
      },
      "source": [
        "# split into train and test\n",
        "from sklearn.model_selection import train_test_split\n",
        "X_train, X_test, y_train, y_test = train_test_split(X, y, \n",
        "                                                    train_size=0.7,\n",
        "                                                    test_size = 0.3, random_state=100)\n",
        "print(f'Training Sample:{X_train.shape}')\n",
        "print(f'Testing Sample:{X_test.shape}')"
      ],
      "execution_count": null,
      "outputs": [
        {
          "output_type": "stream",
          "text": [
            "Training Sample:(652, 845)\n",
            "Testing Sample:(280, 845)\n"
          ],
          "name": "stdout"
        }
      ]
    },
    {
      "cell_type": "code",
      "metadata": {
        "id": "lSZsXQFpEV9U",
        "outputId": "607b6e1b-ab23-45b5-e981-a039cec0c6f0",
        "colab": {
          "base_uri": "https://localhost:8080/",
          "height": 34
        }
      },
      "source": [
        "from sklearn import linear_model\n",
        "from sklearn.linear_model import LinearRegression\n",
        "\n",
        "# Building the first model with all the features\n",
        "\n",
        "# instantiate\n",
        "lm = LinearRegression()\n",
        "\n",
        "# fit\n",
        "lm.fit(X_train, y_train)"
      ],
      "execution_count": null,
      "outputs": [
        {
          "output_type": "execute_result",
          "data": {
            "text/plain": [
              "LinearRegression(copy_X=True, fit_intercept=True, n_jobs=None, normalize=False)"
            ]
          },
          "metadata": {
            "tags": []
          },
          "execution_count": 64
        }
      ]
    },
    {
      "cell_type": "code",
      "metadata": {
        "id": "KBcgG6DSEa51",
        "outputId": "cc2af006-5c7e-4c09-d897-8a6fc9a30edf",
        "colab": {
          "base_uri": "https://localhost:8080/",
          "height": 1000
        }
      },
      "source": [
        "# print coefficients and intercept\n",
        "print(lm.coef_)\n",
        "print(lm.intercept_)"
      ],
      "execution_count": null,
      "outputs": [
        {
          "output_type": "stream",
          "text": [
            "[ 7.08680721e+02 -4.70800645e+03  2.66972936e+04  1.99560894e+04\n",
            "  2.40202656e+04  2.89205818e+04  1.44576700e+16 -1.21003410e+17\n",
            "  1.16526823e+17 -6.99952616e+02 -5.09171923e+03  9.72099193e+16\n",
            "  8.45246682e+16 -3.45568198e+16 -1.79270220e+17 -1.66548477e+17\n",
            "  1.04848517e+17  1.98782436e+17 -5.19803713e+03  2.45412978e+16\n",
            " -6.12692889e+02  6.77019873e+16 -4.56803110e+03  1.96963034e+17\n",
            " -1.00092587e+17 -1.22925714e+04 -3.46823560e+03 -4.82335989e+03\n",
            "  4.23547957e+16  1.17137260e+17  5.47008300e+16 -3.02629295e+17\n",
            "  1.29299584e+17 -3.79042543e+17 -1.00435609e+17 -3.89362578e+17\n",
            " -8.17200000e+03 -1.36325273e+17  8.68006323e+16 -1.57773708e+17\n",
            "  9.48421473e+16  3.68172038e+17 -8.69600000e+03 -6.85617189e+17\n",
            "  2.79768017e+17  1.44554068e+17 -2.74206265e+17 -2.73600000e+03\n",
            " -6.64000000e+03  1.72718910e+17 -1.42200000e+03 -3.32181510e+17\n",
            " -2.23200000e+03 -1.12240000e+04 -2.70400000e+03 -1.13857600e+17\n",
            "  1.51221643e+17  1.35206384e+17 -5.34874547e+15 -4.67059414e+15\n",
            "  3.66192702e+16 -3.42492272e+17  3.30934187e+16 -1.67414168e+17\n",
            " -1.49978694e+17 -9.48200000e+03  1.63992443e+17  3.07730871e+17\n",
            " -1.13560000e+04  1.80763563e+16  5.86873717e+17 -3.44716582e+17\n",
            " -1.38400000e+03 -9.02990001e+15 -2.21218876e+17 -5.33788448e+16\n",
            "  2.39906458e+17  8.87201906e+16  4.42480754e+17  1.95164858e+17\n",
            " -5.62411332e+16 -4.43656326e+17  2.37763333e+17 -2.63108923e+15\n",
            " -2.69200000e+03 -3.58668548e+17 -1.05600000e+03  2.23797638e+17\n",
            " -3.81600000e+03 -4.48000000e+02 -2.71800000e+03 -1.60387477e+17\n",
            " -1.70941656e+17 -1.95000000e+03 -1.39270788e+17  3.67000868e+16\n",
            "  3.09786156e+17 -1.67346148e+17 -6.78800000e+03 -7.28497928e+16\n",
            " -6.80000000e+02 -1.57016895e+17  1.70135263e+17  4.05110924e+16\n",
            " -4.02400000e+03 -7.06400000e+03 -4.69800000e+03  1.16805766e+17\n",
            " -2.10400000e+03  3.13264394e+16 -1.91500000e+03 -8.86399135e+15\n",
            "  1.23556408e+17  6.05685821e+16 -2.44484954e+16 -1.30400000e+03\n",
            "  5.81317797e+15 -5.46000000e+03  1.40175308e+16  9.84865008e+16\n",
            " -2.28111985e+17 -1.36808066e+17  3.49200000e+03 -2.17879725e+15\n",
            " -1.99251055e+16  3.21166287e+16  6.10421637e+16  6.46624733e+16\n",
            " -3.33200000e+03 -2.69262890e+17  2.24464087e+16 -1.22935426e+17\n",
            "  3.13264394e+16 -1.31580689e+17  3.88025306e+17 -2.89600000e+03\n",
            " -2.18122616e+17  3.67000868e+16  3.31000606e+15  8.96424178e+16\n",
            "  1.20604507e+17 -1.45200000e+03 -3.38966523e+16 -2.05600000e+03\n",
            "  2.93777997e+16 -4.43800000e+03 -2.72000000e+03  1.20340207e+17\n",
            " -6.46326021e+16  7.65711617e+16 -1.15080000e+04 -2.17600000e+03\n",
            "  1.12299340e+17  1.96223839e+17 -5.68000000e+02 -1.02128128e+17\n",
            " -1.76321835e+17 -2.46601514e+17  9.26052088e+16  7.53108223e+16\n",
            "  4.15241639e+16 -1.05212649e+17  1.68487555e+17  9.88527825e+16\n",
            "  2.11839008e+17 -8.80000000e+02 -2.39308290e+17 -1.28634694e+17\n",
            " -3.45568198e+16 -6.44758659e+16 -1.90400000e+03  2.17717684e+17\n",
            " -1.44980000e+04 -1.01095434e+17  2.78246519e+17 -2.10060589e+17\n",
            " -6.19812651e+16  4.20756847e+15 -1.91600000e+03  1.15696832e+17\n",
            " -1.00654255e+17 -3.65383910e+17 -2.38198868e+17 -6.71482121e+16\n",
            " -3.96400000e+03 -1.28214533e+16 -5.98000000e+03 -1.67098737e+17\n",
            "  2.84294754e+17 -2.05733744e+16 -1.12155676e+17 -2.78649099e+17\n",
            " -3.81700000e+03 -3.80000000e+03  2.20690940e+17  1.11279203e+17\n",
            " -4.71200000e+03 -1.24200000e+04 -5.78800000e+03  1.29958086e+17\n",
            " -6.32000000e+02  3.95483313e+16  1.21975294e+17  4.48521570e+17\n",
            " -2.48600000e+03  5.84799086e+16  3.47308507e+17 -1.88816803e+17\n",
            " -4.77200000e+03  1.52613544e+16 -1.19200000e+03 -4.66000000e+03\n",
            "  4.06931967e+17 -3.36800000e+03  1.64188796e+17 -3.10800000e+03\n",
            "  2.80050596e+17 -1.49978694e+17 -1.13219361e+17  6.66583183e+16\n",
            " -9.86566868e+16 -5.54000000e+02 -4.25600000e+03  8.81307020e+16\n",
            " -1.71856024e+17  4.67760198e+16 -3.07600000e+03 -4.18800000e+03\n",
            " -9.30200000e+03 -5.61530418e+17 -2.42400000e+03  2.65539604e+17\n",
            " -1.75711462e+16 -2.77600000e+03 -3.55934957e+17  1.68938275e+17\n",
            "  4.44663256e+16 -5.82095074e+16 -2.99456148e+17 -1.68010586e+16\n",
            "  9.88510580e+16 -4.51731782e+17 -1.35947810e+17  9.90134124e+16\n",
            " -6.06430644e+16 -1.63717881e+17 -2.29627221e+17 -8.32523641e+16\n",
            " -2.07529822e+17  1.77079180e+17  3.80720812e+16  9.69024880e+16\n",
            " -3.29346906e+17  2.88619603e+17 -3.92306948e+16  1.08194287e+17\n",
            "  8.22746595e+16  1.58431842e+16  2.56958948e+17  8.72315654e+16\n",
            " -8.54873347e+16 -4.20901433e+17 -9.86564314e+16  2.55108643e+17\n",
            " -2.60700537e+17  6.79784558e+16 -7.92945254e+16  1.42095822e+17\n",
            "  2.43917680e+17  1.97386299e+17 -5.30832254e+15  1.30391670e+17\n",
            " -1.37240517e+17  4.61259608e+16  1.01455808e+17  1.21347688e+17\n",
            "  2.70522952e+17  2.18736611e+17  1.21394172e+17  6.81350515e+16\n",
            "  1.20594809e+17  1.70107687e+17  2.61914948e+17 -1.03239856e+17\n",
            "  1.49958029e+17 -1.24082453e+17  2.26164923e+16 -1.41593580e+17\n",
            "  4.80728201e+15 -9.10288263e+16  1.41810064e+17 -1.04070367e+17\n",
            "  3.99789022e+16 -2.08257269e+17 -1.11617373e+16  1.82271877e+17\n",
            " -5.84682773e+16  9.12608356e+16 -5.68017943e+17  3.81606803e+17\n",
            " -1.83330171e+17  1.87265179e+17 -1.05766800e+17 -1.50087763e+17\n",
            "  1.79920562e+16  1.10903492e+17 -7.71985239e+16 -4.12344426e+17\n",
            " -9.09077990e+16 -1.11609102e+17  2.53029632e+16  5.89272114e+16\n",
            " -1.01701295e+17 -2.44978529e+16 -9.61178461e+16  4.19405384e+16\n",
            " -1.43342135e+17  2.18838726e+16  6.24379588e+16 -6.02557282e+16\n",
            "  1.28176701e+17  2.32072378e+17 -4.17265291e+15  7.67828442e+16\n",
            "  1.61242925e+17 -2.35262526e+17 -7.62421494e+16 -1.09443514e+17\n",
            "  1.23724529e+17  1.06942082e+17  2.56484193e+16 -5.93443356e+16\n",
            "  2.77862772e+16  9.86292084e+16  1.10080051e+17 -1.94552175e+16\n",
            " -1.49151696e+16 -8.03220959e+16  1.72278761e+17 -1.51260404e+17\n",
            " -5.30344104e+16 -7.98803746e+16  1.37479714e+17 -1.23708985e+17\n",
            " -3.14581942e+16 -5.62567069e+16  3.16116271e+16  3.79820748e+16\n",
            " -7.05613456e+16  1.09216551e+17  9.85344774e+16 -2.36163176e+16\n",
            "  4.57316373e+16 -3.68000000e+02  5.91968299e+16 -9.84000000e+02\n",
            "  7.77537081e+16 -1.83626180e+16 -3.17137774e+16 -7.49188737e+16\n",
            "  1.51968066e+16  2.87072901e+16 -4.87554028e+15  5.17200545e+16\n",
            "  7.91580489e+14  4.13262654e+16 -4.16000000e+02 -4.06910679e+16\n",
            " -4.64734999e+16 -2.55237206e+16  1.10534584e+15 -5.33166911e+16\n",
            " -8.33134397e+16 -5.67781040e+16  1.03805604e+16 -8.44153159e+16\n",
            "  2.85762207e+16  1.37743353e+16  0.00000000e+00 -4.49892660e+16\n",
            " -5.36427590e+16 -2.30600000e+03 -9.37991720e+16 -1.90532095e+16\n",
            "  1.00646645e+16 -1.82371385e+16 -1.43650000e+03 -5.57373017e+16\n",
            "  1.20884980e+17  1.41822457e+17  3.04476946e+16  5.87909112e+16\n",
            "  9.27448403e+15  6.61843651e+16  2.40000000e+02  2.39894744e+16\n",
            "  7.89636434e+16  2.45738550e+16 -1.64009984e+16 -6.40000000e+01\n",
            " -4.74678558e+16  6.40237309e+16  7.91624524e+15  6.73403547e+16\n",
            "  1.51968066e+16  1.64498421e+16 -2.04965309e+16  9.27419532e+15\n",
            "  4.04091316e+16  1.10534584e+15  4.95426038e+15  4.55072717e+16\n",
            "  9.70074678e+16 -1.04526496e+15 -2.56879756e+16 -1.09076085e+17\n",
            " -1.06715685e+17 -9.60000000e+01  2.39894744e+16  7.39971781e+16\n",
            "  3.70237496e+16  0.00000000e+00  7.53297852e+16  7.58478914e+16\n",
            "  1.31160560e+17  1.10534584e+15  1.33931564e+17  6.82976021e+15\n",
            " -1.87912333e+16 -1.87025143e+17 -4.71628156e+16 -4.12777143e+16\n",
            " -9.26641804e+16 -1.04650424e+17  2.24000000e+02 -1.46239408e+17\n",
            "  5.25421463e+16 -2.90538664e+16 -2.17469535e+16 -1.91332271e+17\n",
            " -3.38520363e+17  5.38242746e+16  1.56186254e+16 -1.24127693e+15\n",
            " -1.01383976e+17 -4.00000000e+01  2.91024103e+17 -3.20000000e+01\n",
            " -1.25092577e+17  2.92248324e+16 -1.52299002e+16 -2.33569078e+16\n",
            "  9.61611494e+16  1.55421831e+17  2.41123878e+16 -3.70304465e+16\n",
            "  4.96143017e+15 -1.78125952e+17 -7.47014740e+16 -9.98819729e+16\n",
            " -2.29754515e+17 -6.30737337e+16  7.48936130e+16  8.96000000e+02\n",
            " -3.83200000e+03  3.17200000e+03  3.18600000e+03  2.03200000e+03\n",
            "  4.56800000e+03  3.64000000e+03  6.41600000e+03  3.97600000e+03\n",
            "  6.53273185e+16 -5.00027289e+16 -2.40776970e+15  4.85200000e+03\n",
            "  4.44580755e+16  3.20000000e+01 -9.60000000e+01  2.07200000e+03\n",
            "  4.96800000e+03 -8.07890582e+16  6.87770754e+16  1.17815149e+17\n",
            " -2.77749850e+16  1.03845944e+17 -2.77749850e+16  3.45045985e+16\n",
            "  3.40042986e+16 -1.75387255e+17  4.84182361e+16  0.00000000e+00\n",
            " -9.37468156e+16  8.16686760e+16  2.74905850e+17 -7.32485241e+16\n",
            " -7.21866960e+16  1.59233057e+17  4.36568481e+16  1.07969390e+17\n",
            " -2.54988157e+16  6.77888597e+16  3.40042986e+16 -2.76418437e+16\n",
            "  7.72802764e+16  6.30113629e+16  4.00000000e+00 -5.71896056e+16\n",
            "  0.00000000e+00  5.05748649e+16 -1.10528391e+16 -1.58270524e+16\n",
            " -5.04063382e+16  3.54006769e+16  5.87703759e+16 -8.33091424e+16\n",
            "  8.93846015e+16  2.96654752e+16 -5.78906212e+16  1.02867967e+16\n",
            "  5.76258739e+16 -1.52587891e-05 -9.64226765e+16  3.46157939e+16\n",
            "  1.62840708e+16 -1.13251661e+17 -7.42074885e+16 -4.61274957e+16\n",
            " -5.46995346e+16  9.48825759e+16 -1.00123709e+17  1.78432260e+17\n",
            "  3.46157939e+16 -1.14315177e+15 -1.06651837e+17 -4.67373909e+16\n",
            "  8.45354190e+15  5.23575797e+15  3.64044654e+15  0.00000000e+00\n",
            "  6.90078987e+16 -7.27656199e+16 -6.87770754e+16 -4.41448105e+16\n",
            "  5.90290742e+16 -3.45045985e+16  1.75441666e+17  0.00000000e+00\n",
            " -9.42520954e+16  2.09864728e+17 -1.71680705e+17  2.54988157e+16\n",
            "  5.71896056e+16 -8.02180090e+16  5.24988357e+16 -1.29993811e+17\n",
            " -8.77298236e+16  7.08631122e+16  1.25436196e+17 -3.79545011e+16\n",
            " -1.62840708e+16  1.10201301e+17  3.89691928e+17 -1.37673770e+16\n",
            " -5.23575797e+15  1.13600000e+03  1.35200000e+03  8.64400000e+03\n",
            "  4.16400000e+03  1.08000000e+04  1.72200000e+03  3.76650000e+03\n",
            " -8.34000000e+02  7.05600000e+03  8.12800000e+03 -6.00000000e+01\n",
            "  4.90200000e+03 -2.79237027e+16  2.69405002e+17 -2.10396723e+17\n",
            "  0.00000000e+00  3.60202254e+17 -6.41182685e+16 -1.59208742e+17\n",
            "  2.87862632e+16  1.51738986e+17  0.00000000e+00  5.18261017e+16\n",
            " -1.78891591e+17 -2.26761695e+16 -1.13830310e+17  1.64802166e+17\n",
            " -2.23889071e+16  5.44519487e+16 -1.09242940e+17  0.00000000e+00\n",
            "  0.00000000e+00 -1.36010926e+17  0.00000000e+00  1.50202997e+17\n",
            "  1.10534584e+15  1.49384435e+17 -9.72802890e+16  7.49086421e+16\n",
            "  1.32732069e+17  5.86275116e+16  0.00000000e+00 -2.12087870e+17\n",
            "  6.20165073e+16  0.00000000e+00 -1.29674798e+17 -1.47743212e+17\n",
            " -7.62921860e+16  1.78022199e+17  4.30217513e+16 -6.34421055e+16\n",
            "  8.05457820e+16 -8.65872681e+16 -2.10475482e+17 -1.85181965e+17\n",
            "  0.00000000e+00  1.42178630e+17 -5.56940146e+15 -2.86094343e+16\n",
            " -1.52310108e+16  1.33221526e+17 -3.20040763e+16  9.16139594e+16\n",
            "  1.15216602e+17 -1.38212940e+16 -3.19330870e+15  4.88202902e+16\n",
            "  0.00000000e+00 -5.43657917e+16  2.47099047e+17 -8.41735697e+16\n",
            " -1.59098657e+17 -6.49660805e+15 -6.84086436e+16 -1.47263730e+17\n",
            " -8.54640285e+16  1.10534584e+15 -3.92873700e+16 -9.20777161e+16\n",
            " -2.25433717e+16 -1.34285649e+17 -1.27648237e+16  0.00000000e+00\n",
            "  0.00000000e+00 -1.38860068e+17 -1.05668424e+17  0.00000000e+00\n",
            "  3.85100087e+16  3.15679356e+17  1.10534584e+15  0.00000000e+00\n",
            " -4.09348773e+16  3.01278641e+16  5.10365511e+16 -8.34857095e+16\n",
            "  0.00000000e+00  2.39686339e+16 -4.00862625e+16  4.26803282e+16\n",
            "  8.89207725e+16  0.00000000e+00  7.76234839e+16  7.79229571e+16\n",
            "  0.00000000e+00 -1.11238052e+17 -2.08177806e+16  1.06600692e+17\n",
            " -7.49720543e+16  6.28941184e+16 -4.76122402e+15  0.00000000e+00\n",
            " -5.44066695e+16  4.35697629e+16  0.00000000e+00  8.98903626e+16\n",
            "  9.41190364e+16  2.24839145e+16  3.99738238e+16  0.00000000e+00\n",
            " -7.31514679e+15 -4.86257301e+16 -8.90428109e+16  0.00000000e+00\n",
            "  4.57316373e+16  0.00000000e+00  5.91968299e+16 -1.04800000e+03\n",
            "  7.77537081e+16 -1.83626180e+16 -9.04300970e+15 -7.49188737e+16\n",
            "  1.51968066e+16  2.87072901e+16 -4.87554028e+15  5.17200545e+16\n",
            "  7.91580489e+14  4.13262654e+16  0.00000000e+00 -4.06910679e+16\n",
            " -4.64734999e+16 -2.55237206e+16  1.10534584e+15 -5.33166911e+16\n",
            " -8.33134397e+16  1.03805604e+16 -3.64609457e+16 -8.44153159e+16\n",
            "  2.85762207e+16  1.37743353e+16  0.00000000e+00 -4.49892660e+16\n",
            " -5.36427590e+16 -2.69000000e+03 -7.53905816e+16 -1.90532095e+16\n",
            "  1.00646645e+16 -1.82371385e+16 -1.30850000e+03 -5.57373017e+16\n",
            "  1.20884980e+17  1.41822457e+17  2.84381684e+16  5.87909112e+16\n",
            "  9.27448403e+15  6.61843651e+16  0.00000000e+00  2.39894744e+16\n",
            "  7.89636434e+16  2.45738550e+16 -1.64009984e+16  0.00000000e+00\n",
            " -4.74678558e+16  6.40237309e+16  7.91624524e+15  6.73403547e+16\n",
            "  1.51968066e+16  1.64498421e+16 -2.04965309e+16  9.27419532e+15\n",
            "  4.04091316e+16  1.10534584e+15  4.95426038e+15  1.60323792e+17\n",
            " -1.04526496e+15 -2.56879756e+16 -1.09076085e+17 -1.06715685e+17\n",
            "  0.00000000e+00  2.39894744e+16  7.39971781e+16  3.70237496e+16\n",
            "  0.00000000e+00 -2.27998364e+16 -8.17864820e+15  6.66643564e+16\n",
            "  1.10534584e+15 -1.03537951e+17 -1.72728959e+16 -1.94415239e+16\n",
            " -1.17346547e+17  1.54282715e+17 -3.88578047e+16  6.15869667e+16\n",
            " -8.05458742e+16  0.00000000e+00  8.20263142e+16 -1.39160601e+17\n",
            "  1.11706397e+17 -3.04130288e+17  2.67137580e+17 -5.84532586e+15\n",
            "  8.47671800e+16  4.11863829e+15  1.63006557e+16  0.00000000e+00\n",
            " -2.52765650e+16  0.00000000e+00  1.59412229e+16 -2.56588985e+17\n",
            "  6.50540453e+16  1.16784539e+16  4.47250506e+16  9.66942663e+16\n",
            "  1.30920155e+16  1.03973636e+17 -2.39200465e+16 -2.03223283e+17\n",
            "  7.18930032e+15  1.22260467e+17  1.04665663e+17  5.39337985e+16\n",
            " -9.22654163e+16 -1.09923588e+17  5.63410032e+16 -2.62039803e+16\n",
            " -6.07353160e+16 -9.37494813e+16 -2.80221471e+17 -2.20829819e+17\n",
            "  1.27111960e+17  1.64544741e+17  1.16784539e+16  2.91230262e+17\n",
            " -1.30850000e+03  2.83178369e+16  3.01278641e+16 -4.69501051e+16\n",
            " -1.10534584e+15  1.71395255e+17 -2.33915546e+17 -1.27521912e+17\n",
            " -2.69000000e+03 -2.55237206e+16 -1.47673817e+17  3.58941730e+15\n",
            " -4.77118043e+16  1.37827023e+16  7.59558389e+16 -9.60775254e+16\n",
            "  7.39090497e+16 -1.21937763e+17  0.00000000e+00  1.13450535e+17\n",
            " -1.04164422e+16  3.78560922e+16 -1.97211725e+17  0.00000000e+00\n",
            " -3.59206708e+16  0.00000000e+00  8.20263142e+16 -3.88578047e+16\n",
            " -1.04800000e+03 -1.69377243e+16  1.51429490e+17  2.67638100e+17\n",
            " -1.52619764e+17 -1.15162908e+17  8.69752194e+16 -1.94089237e+17\n",
            "  4.72432816e+16]\n",
            "-6.03117183528873e+16\n"
          ],
          "name": "stdout"
        }
      ]
    },
    {
      "cell_type": "code",
      "metadata": {
        "id": "JFy9kEzmEpUk",
        "outputId": "14f4c782-0b0b-484c-f959-f53cc0831b27",
        "colab": {
          "base_uri": "https://localhost:8080/",
          "height": 34
        }
      },
      "source": [
        "# predict \n",
        "y_pred = lm.predict(X_test)\n",
        "\n",
        "# metrics\n",
        "from sklearn.metrics import r2_score\n",
        "\n",
        "print(r2_score(y_true=y_test, y_pred=y_pred))"
      ],
      "execution_count": null,
      "outputs": [
        {
          "output_type": "stream",
          "text": [
            "-1.1262344110508189e+28\n"
          ],
          "name": "stdout"
        }
      ]
    },
    {
      "cell_type": "code",
      "metadata": {
        "id": "VLVMmFp7Esbt",
        "outputId": "4df2b178-0ea5-4e4e-c0ae-7ebf5422aaad",
        "colab": {
          "base_uri": "https://localhost:8080/",
          "height": 1000
        }
      },
      "source": [
        "# RFE with 15 features\n",
        "from sklearn.feature_selection import RFE\n",
        "\n",
        "# RFE with 15 features\n",
        "lm = LinearRegression()\n",
        "rfe_15 = RFE(lm, 15)\n",
        "\n",
        "# fit with 15 features\n",
        "rfe_15.fit(X_train, y_train)\n",
        "\n",
        "# Printing the boolean results\n",
        "print(rfe_15.support_)           \n",
        "print(rfe_15.ranking_)"
      ],
      "execution_count": null,
      "outputs": [
        {
          "output_type": "stream",
          "text": [
            "[False False False False False False False False False False False  True\n",
            " False False False False False False False False False False False False\n",
            " False False False False False False  True False False False False False\n",
            " False False False  True False False False False False False False False\n",
            " False False False False False False False False False False False False\n",
            " False False False False  True False False False False False False False\n",
            " False False False False  True False False False False False False False\n",
            " False False False False False False False False False False False False\n",
            " False False False False False False False False False False False False\n",
            " False False False False False False False False False False False False\n",
            " False False False False False False False False False False False False\n",
            " False False False False False False False False False False False False\n",
            " False False False False False False False False False False False False\n",
            " False False False False False False False False False False False False\n",
            " False False False False False False False False False False False False\n",
            " False False False False False False False False False False False False\n",
            " False False False False False False False False False False False False\n",
            " False False False False False False False False False False False False\n",
            " False  True False False False False False False False False False False\n",
            " False False False False False False False False False False False False\n",
            " False False False False False False False False False False False  True\n",
            " False False False False False False False False False False False False\n",
            " False  True False False False False False False False False False False\n",
            " False False False False False False False False False False False False\n",
            " False False False False False False False False False False False False\n",
            " False False  True False False False False False False False False False\n",
            " False False False False False False False False False False False False\n",
            " False False False False False False False False False False False False\n",
            " False False False False False False False False False False False False\n",
            " False False False False False False False False False False False False\n",
            " False False False False False False False False False False False False\n",
            " False False False False False False False False False False False False\n",
            " False False False False False False False False False False False False\n",
            " False False False False False False False False False False False False\n",
            " False False False False False False False False False False False False\n",
            " False False False False False False False False False False False False\n",
            " False False False False False  True False False False False False False\n",
            " False False False False False False False False False False False False\n",
            " False False False False False False False False False False False False\n",
            " False False False False False False False False False False False False\n",
            " False False False False False False False False False False False False\n",
            " False False False False False False False False False False False False\n",
            " False False False False False False False False False False False False\n",
            " False False False False False False  True False False False False False\n",
            " False False False False False False  True False False False False False\n",
            " False False False False False False False False False False False False\n",
            " False False False False False False False False False False False False\n",
            " False False False False False False False False False False False False\n",
            " False False False False False False False False False False False False\n",
            " False False  True False False False False False False False False False\n",
            " False False False False False False False False False False False False\n",
            " False False False False False False False False False False False False\n",
            " False False False False False False False False False False False False\n",
            " False False False False False False False False False False False False\n",
            " False False False False False False False False False False False False\n",
            " False False False False False False False False False False False False\n",
            " False False False False False False False False False False False False\n",
            " False False False False False False False False False False False False\n",
            " False False False False False False False False False False False False\n",
            " False False False False False False False False False False False False\n",
            " False False False False False False False False False False False False\n",
            " False False False False False False False False False False False False\n",
            " False False False False False False False False False False False False\n",
            " False False False False False False False False False False False False\n",
            " False False False False  True False False False False False False False\n",
            " False False False False False False False False False False False False\n",
            " False False False False False False False False False False False False\n",
            " False False False False False False False False False False False False\n",
            " False False False False False False False False False False False False\n",
            " False False False False False False False  True False False False False\n",
            " False False False False False]\n",
            "[757 682 668 719 733 730 168 107 106 772 738   1 181 328  80 319 387 636\n",
            " 700 124 775 191 723 115 146 702 718 741 444 189   1  83 351  19 618  16\n",
            " 735   4 213   1 457 425 753 199 397 622 581 732 747 183 784 458 713 711\n",
            " 748  58 172 135 487 185 316 285 572 250   1 691 148  33 694  13 303 264\n",
            " 759 118  11 467   1  24  53 630  92 557 589  69 755 311 771  62 742 710\n",
            " 724 501 112 777 401 447 662  95 709 469 799 644 592 289 703 743 744 526\n",
            " 720 620 758  57 102   8 329 785 215 689 629 174   6 325 698 441 439 100\n",
            "  36 315 688 288 208  82 619 468 345 716 442 448 626 122 613 769 307 774\n",
            " 309 773 761 284  47  99 745 751 566 562 767 274 267 164 314  87 308  34\n",
            " 408 570 569 754 300 301 327 326 740 294 701 109 524  56 186  45 750  14\n",
            "  66 178  50 473 707 341 725  40 637 276 229 513 765 729 638 282 717 727\n",
            " 726  51 768  97 187 108 760 139 402 435 722 246 734 776  85 746 234 770\n",
            "  63   1  43 623  60 681 699  44 201 571 756 728 687 243 763 407 652 705\n",
            " 137 597 384 105 646 295  79 388 615 540 272 405 136 426 536 291 599   1\n",
            " 339  96 162 416  37 167  93 175 104 163 550   5 247   1  22 166 377 648\n",
            " 471 318 251 554 323 321 356 278 466 275 184  18 324 366   2 347 642  59\n",
            "  55  20 280 400 119 430 132 601 203  12 260  26 206 258   1 658 346 423\n",
            " 548  52 368 192 255 190 198 320 212 310 462 209  76 353 364 111 333 312\n",
            " 367 179 270 588 340 117 237 678 437 634 113 543 429 418 677 210 350 674\n",
            "   7 415  91 101 379 749 498 422 511 715 358 786  81 676 417 160 515 121\n",
            " 496 665 231  61 306 483 789  78 249 556 663  71 643 477 259 519 509 369\n",
            " 778  46 534 673  88 207  35 474 692 159 627 357 281 194 565 608 764 478\n",
            " 443  74 445 782 411 253 653 582 484 232 271 342  64 628 575 577  72 372\n",
            " 263 567  28 783 126 432 486 829 431 399 266 612   9 436 349 403 489 252\n",
            " 245  41 795 177 145   1 508 360 254 472  42 600 539 779  49 793 173 131\n",
            " 239 651 202 504 481 578 593 451 479 641 491 563 125 690 714 737 708 752\n",
            " 684 669 736 739 488 409 547 762 438 781 800 731 670 392 551 530 605 149\n",
            " 603 607 156 654 334 792 390 129 257 602 657 233 335 537 660 153 155 298\n",
            " 535 382 796 610 790 331 595 494 492 336 154 655 151 227  31 123 133 787\n",
            "   1 453 464 219 394 395 220 413 393 152 455 244   1  84 228 591 147 823\n",
            " 454 396 552 344 531 606 391 819 128 656 150 659 609 332 493 296 452  30\n",
            " 218 302 465 604 414 226 590 712 704 706 693 683 697 721 780 680 695 766\n",
            " 696 500 269 410 791 514 371 553 664 564 809 223 292 523   1 338 140 157\n",
            " 373 814 830  94 826 103 633 381 235 242 661  23 831 378 516 828  73 475\n",
            " 594 499 165 545 171 376 560  17 803 544   3 427 625 647  54  21 503 224\n",
            " 195 343 825 297 204 217 261  27 205 355 502 576 273 424 221 456 507 812\n",
            " 821 596 197 802 362 584 579 798  75 375 363 631 822 666 180 505 568 817\n",
            " 116  48 808 225 241 461 585 428 420 805 580 450 794 293  89 354 645 824\n",
            "  25 421 196 811 389 820 200 675 419 161 214 283 485 574 337  68 521 542\n",
            " 788  77 248 440 639 517 134 142 558 518 510 617 815  38 541 671 386  86\n",
            " 290 482 686 158 587 299 406 193 170 279 816 555 611 520 446 810  15  67\n",
            " 528 616 559 120 317 497  65 640 635 361 383 561 144  29 807 127 433 480\n",
            " 806 434 398 449 586  10 138 529 632 512 216 412 236 804 176 265   1 304\n",
            " 359 573 463 614 598 827 330 797 546 130 238 649 374 667 532 287 460 256\n",
            " 476 527 495 385 188 240 110 169  32 313 470 286  39 506 650 538 679 404\n",
            " 352 322 583 348 114 549 685  98 525 370 533 230 262 305  90 365 818  70\n",
            " 624 459 277 813 141 801 182   1 672 522 211 222 143 380 268 490 621]\n"
          ],
          "name": "stdout"
        }
      ]
    },
    {
      "cell_type": "code",
      "metadata": {
        "id": "CQogTrWiEw0U",
        "outputId": "24df7d2b-5f75-4745-bf10-8d590fab5fe1",
        "colab": {
          "base_uri": "https://localhost:8080/",
          "height": 34
        }
      },
      "source": [
        "# making predictions using rfe model\n",
        "y_pred = rfe_15.predict(X_test)\n",
        "\n",
        "# r-squared\n",
        "print(r2_score(y_test, y_pred))"
      ],
      "execution_count": null,
      "outputs": [
        {
          "output_type": "stream",
          "text": [
            "-3.314987114243543e+26\n"
          ],
          "name": "stdout"
        }
      ]
    },
    {
      "cell_type": "code",
      "metadata": {
        "id": "6vM71vmaE5xF",
        "outputId": "d1a3be01-6505-40c3-84a8-ca912cc04194",
        "colab": {
          "base_uri": "https://localhost:8080/",
          "height": 34
        }
      },
      "source": [
        "# RFE with 6 features\n",
        "from sklearn.feature_selection import RFE\n",
        "\n",
        "# RFE with 6 features\n",
        "lm = LinearRegression()\n",
        "rfe_6 = RFE(lm, 6)\n",
        "\n",
        "# fit with 6 features\n",
        "rfe_6.fit(X_train, y_train)\n",
        "\n",
        "# predict\n",
        "y_pred = rfe_6.predict(X_test)\n",
        "\n",
        "# r-squared\n",
        "print(r2_score(y_test, y_pred))"
      ],
      "execution_count": null,
      "outputs": [
        {
          "output_type": "stream",
          "text": [
            "0.0007146449796928689\n"
          ],
          "name": "stdout"
        }
      ]
    },
    {
      "cell_type": "code",
      "metadata": {
        "id": "x0Nu6LXAFEff",
        "outputId": "6c7c152d-0ff5-48d6-f4f5-92baf5bc093b",
        "colab": {
          "base_uri": "https://localhost:8080/",
          "height": 292
        }
      },
      "source": [
        "# import statsmodels\n",
        "import statsmodels.api as sm  \n",
        "\n",
        "# subset the features selected by rfe_15\n",
        "col_15 = X_train.columns[rfe_15.support_]\n",
        "\n",
        "# subsetting training data for 15 selected columns\n",
        "X_train_rfe_15 = X_train[col_15]\n",
        "\n",
        "# add a constant to the model\n",
        "X_train_rfe_15 = sm.add_constant(X_train_rfe_15)\n",
        "X_train_rfe_15.head()"
      ],
      "execution_count": null,
      "outputs": [
        {
          "output_type": "stream",
          "text": [
            "/usr/local/lib/python3.6/dist-packages/statsmodels/tools/_testing.py:19: FutureWarning: pandas.util.testing is deprecated. Use the functions in the public API at pandas.testing instead.\n",
            "  import pandas.util.testing as tm\n"
          ],
          "name": "stderr"
        },
        {
          "output_type": "execute_result",
          "data": {
            "text/html": [
              "<div>\n",
              "<style scoped>\n",
              "    .dataframe tbody tr th:only-of-type {\n",
              "        vertical-align: middle;\n",
              "    }\n",
              "\n",
              "    .dataframe tbody tr th {\n",
              "        vertical-align: top;\n",
              "    }\n",
              "\n",
              "    .dataframe thead th {\n",
              "        text-align: right;\n",
              "    }\n",
              "</style>\n",
              "<table border=\"1\" class=\"dataframe\">\n",
              "  <thead>\n",
              "    <tr style=\"text-align: right;\">\n",
              "      <th></th>\n",
              "      <th>const</th>\n",
              "      <th>Location_Aliso Viejo, CA</th>\n",
              "      <th>Location_Bethesda, MD</th>\n",
              "      <th>Location_Burbank, CA</th>\n",
              "      <th>Location_Cupertino, CA</th>\n",
              "      <th>Location_Exton, PA</th>\n",
              "      <th>Location_Sunnyvale, CA</th>\n",
              "      <th>Headquarters_Bedford, MA</th>\n",
              "      <th>Headquarters_Burbank, CA</th>\n",
              "      <th>Headquarters_Exton, PA</th>\n",
              "      <th>Headquarters_South San Francisco, CA</th>\n",
              "      <th>Industry_Preschool &amp; Child Care</th>\n",
              "      <th>Industry_Telecommunications Services</th>\n",
              "      <th>Cidade_Bedford</th>\n",
              "      <th>Cidade_South San Francisco</th>\n",
              "      <th>Estado_ South Korea</th>\n",
              "    </tr>\n",
              "  </thead>\n",
              "  <tbody>\n",
              "    <tr>\n",
              "      <th>111</th>\n",
              "      <td>1.0</td>\n",
              "      <td>-0.046374</td>\n",
              "      <td>-0.032774</td>\n",
              "      <td>-0.065653</td>\n",
              "      <td>-0.046374</td>\n",
              "      <td>-0.046374</td>\n",
              "      <td>-0.046374</td>\n",
              "      <td>-0.104144</td>\n",
              "      <td>-0.065653</td>\n",
              "      <td>-0.046374</td>\n",
              "      <td>7.818781</td>\n",
              "      <td>-0.032774</td>\n",
              "      <td>-0.065653</td>\n",
              "      <td>-0.104144</td>\n",
              "      <td>7.818781</td>\n",
              "      <td>-0.056827</td>\n",
              "    </tr>\n",
              "    <tr>\n",
              "      <th>432</th>\n",
              "      <td>1.0</td>\n",
              "      <td>-0.046374</td>\n",
              "      <td>-0.032774</td>\n",
              "      <td>-0.065653</td>\n",
              "      <td>-0.046374</td>\n",
              "      <td>-0.046374</td>\n",
              "      <td>-0.046374</td>\n",
              "      <td>-0.104144</td>\n",
              "      <td>-0.065653</td>\n",
              "      <td>-0.046374</td>\n",
              "      <td>-0.127897</td>\n",
              "      <td>-0.032774</td>\n",
              "      <td>-0.065653</td>\n",
              "      <td>-0.104144</td>\n",
              "      <td>-0.127897</td>\n",
              "      <td>-0.056827</td>\n",
              "    </tr>\n",
              "    <tr>\n",
              "      <th>105</th>\n",
              "      <td>1.0</td>\n",
              "      <td>-0.046374</td>\n",
              "      <td>-0.032774</td>\n",
              "      <td>-0.065653</td>\n",
              "      <td>-0.046374</td>\n",
              "      <td>-0.046374</td>\n",
              "      <td>-0.046374</td>\n",
              "      <td>-0.104144</td>\n",
              "      <td>-0.065653</td>\n",
              "      <td>-0.046374</td>\n",
              "      <td>-0.127897</td>\n",
              "      <td>-0.032774</td>\n",
              "      <td>-0.065653</td>\n",
              "      <td>-0.104144</td>\n",
              "      <td>-0.127897</td>\n",
              "      <td>-0.056827</td>\n",
              "    </tr>\n",
              "    <tr>\n",
              "      <th>511</th>\n",
              "      <td>1.0</td>\n",
              "      <td>-0.046374</td>\n",
              "      <td>-0.032774</td>\n",
              "      <td>-0.065653</td>\n",
              "      <td>-0.046374</td>\n",
              "      <td>-0.046374</td>\n",
              "      <td>-0.046374</td>\n",
              "      <td>-0.104144</td>\n",
              "      <td>-0.065653</td>\n",
              "      <td>-0.046374</td>\n",
              "      <td>-0.127897</td>\n",
              "      <td>-0.032774</td>\n",
              "      <td>-0.065653</td>\n",
              "      <td>-0.104144</td>\n",
              "      <td>-0.127897</td>\n",
              "      <td>-0.056827</td>\n",
              "    </tr>\n",
              "    <tr>\n",
              "      <th>672</th>\n",
              "      <td>1.0</td>\n",
              "      <td>-0.046374</td>\n",
              "      <td>-0.032774</td>\n",
              "      <td>-0.065653</td>\n",
              "      <td>-0.046374</td>\n",
              "      <td>-0.046374</td>\n",
              "      <td>-0.046374</td>\n",
              "      <td>-0.104144</td>\n",
              "      <td>-0.065653</td>\n",
              "      <td>-0.046374</td>\n",
              "      <td>-0.127897</td>\n",
              "      <td>-0.032774</td>\n",
              "      <td>-0.065653</td>\n",
              "      <td>-0.104144</td>\n",
              "      <td>-0.127897</td>\n",
              "      <td>-0.056827</td>\n",
              "    </tr>\n",
              "  </tbody>\n",
              "</table>\n",
              "</div>"
            ],
            "text/plain": [
              "     const  ...  Estado_ South Korea\n",
              "111    1.0  ...            -0.056827\n",
              "432    1.0  ...            -0.056827\n",
              "105    1.0  ...            -0.056827\n",
              "511    1.0  ...            -0.056827\n",
              "672    1.0  ...            -0.056827\n",
              "\n",
              "[5 rows x 16 columns]"
            ]
          },
          "metadata": {
            "tags": []
          },
          "execution_count": 71
        }
      ]
    },
    {
      "cell_type": "code",
      "metadata": {
        "id": "w7H-wQIACC2A"
      },
      "source": [
        "y_train.values.reshape(-1,1)"
      ],
      "execution_count": null,
      "outputs": []
    },
    {
      "cell_type": "code",
      "metadata": {
        "id": "B8Nsmi6wFEXh",
        "outputId": "82bce71a-e529-410e-99fe-d4bf2ee5c5a4",
        "colab": {
          "base_uri": "https://localhost:8080/",
          "height": 358
        }
      },
      "source": [
        "# fitting the model with 15 variables\n",
        "\n",
        "lm_15 = sm.OLS(y_train, X_train_rfe_15).fit()\n",
        "print(lm_15.summary())"
      ],
      "execution_count": null,
      "outputs": [
        {
          "output_type": "error",
          "ename": "ValueError",
          "evalue": "ignored",
          "traceback": [
            "\u001b[0;31m---------------------------------------------------------------------------\u001b[0m",
            "\u001b[0;31mValueError\u001b[0m                                Traceback (most recent call last)",
            "\u001b[0;32m<ipython-input-82-f5ffadeac06e>\u001b[0m in \u001b[0;36m<module>\u001b[0;34m()\u001b[0m\n\u001b[1;32m      1\u001b[0m \u001b[0;31m# fitting the model with 15 variables\u001b[0m\u001b[0;34m\u001b[0m\u001b[0;34m\u001b[0m\u001b[0;34m\u001b[0m\u001b[0m\n\u001b[1;32m      2\u001b[0m \u001b[0;34m\u001b[0m\u001b[0m\n\u001b[0;32m----> 3\u001b[0;31m \u001b[0mlm_15\u001b[0m \u001b[0;34m=\u001b[0m \u001b[0msm\u001b[0m\u001b[0;34m.\u001b[0m\u001b[0mOLS\u001b[0m\u001b[0;34m(\u001b[0m\u001b[0my_train\u001b[0m\u001b[0;34m,\u001b[0m \u001b[0mX_train_rfe_15\u001b[0m\u001b[0;34m)\u001b[0m\u001b[0;34m.\u001b[0m\u001b[0mfit\u001b[0m\u001b[0;34m(\u001b[0m\u001b[0;34m)\u001b[0m\u001b[0;34m\u001b[0m\u001b[0;34m\u001b[0m\u001b[0m\n\u001b[0m\u001b[1;32m      4\u001b[0m \u001b[0mprint\u001b[0m\u001b[0;34m(\u001b[0m\u001b[0mlm_15\u001b[0m\u001b[0;34m.\u001b[0m\u001b[0msummary\u001b[0m\u001b[0;34m(\u001b[0m\u001b[0;34m)\u001b[0m\u001b[0;34m)\u001b[0m\u001b[0;34m\u001b[0m\u001b[0;34m\u001b[0m\u001b[0m\n",
            "\u001b[0;32m/usr/local/lib/python3.6/dist-packages/statsmodels/regression/linear_model.py\u001b[0m in \u001b[0;36m__init__\u001b[0;34m(self, endog, exog, missing, hasconst, **kwargs)\u001b[0m\n\u001b[1;32m    836\u001b[0m                  **kwargs):\n\u001b[1;32m    837\u001b[0m         super(OLS, self).__init__(endog, exog, missing=missing,\n\u001b[0;32m--> 838\u001b[0;31m                                   hasconst=hasconst, **kwargs)\n\u001b[0m\u001b[1;32m    839\u001b[0m         \u001b[0;32mif\u001b[0m \u001b[0;34m\"weights\"\u001b[0m \u001b[0;32min\u001b[0m \u001b[0mself\u001b[0m\u001b[0;34m.\u001b[0m\u001b[0m_init_keys\u001b[0m\u001b[0;34m:\u001b[0m\u001b[0;34m\u001b[0m\u001b[0;34m\u001b[0m\u001b[0m\n\u001b[1;32m    840\u001b[0m             \u001b[0mself\u001b[0m\u001b[0;34m.\u001b[0m\u001b[0m_init_keys\u001b[0m\u001b[0;34m.\u001b[0m\u001b[0mremove\u001b[0m\u001b[0;34m(\u001b[0m\u001b[0;34m\"weights\"\u001b[0m\u001b[0;34m)\u001b[0m\u001b[0;34m\u001b[0m\u001b[0;34m\u001b[0m\u001b[0m\n",
            "\u001b[0;32m/usr/local/lib/python3.6/dist-packages/statsmodels/regression/linear_model.py\u001b[0m in \u001b[0;36m__init__\u001b[0;34m(self, endog, exog, weights, missing, hasconst, **kwargs)\u001b[0m\n\u001b[1;32m    682\u001b[0m             \u001b[0mweights\u001b[0m \u001b[0;34m=\u001b[0m \u001b[0mweights\u001b[0m\u001b[0;34m.\u001b[0m\u001b[0msqueeze\u001b[0m\u001b[0;34m(\u001b[0m\u001b[0;34m)\u001b[0m\u001b[0;34m\u001b[0m\u001b[0;34m\u001b[0m\u001b[0m\n\u001b[1;32m    683\u001b[0m         super(WLS, self).__init__(endog, exog, missing=missing,\n\u001b[0;32m--> 684\u001b[0;31m                                   weights=weights, hasconst=hasconst, **kwargs)\n\u001b[0m\u001b[1;32m    685\u001b[0m         \u001b[0mnobs\u001b[0m \u001b[0;34m=\u001b[0m \u001b[0mself\u001b[0m\u001b[0;34m.\u001b[0m\u001b[0mexog\u001b[0m\u001b[0;34m.\u001b[0m\u001b[0mshape\u001b[0m\u001b[0;34m[\u001b[0m\u001b[0;36m0\u001b[0m\u001b[0;34m]\u001b[0m\u001b[0;34m\u001b[0m\u001b[0;34m\u001b[0m\u001b[0m\n\u001b[1;32m    686\u001b[0m         \u001b[0mweights\u001b[0m \u001b[0;34m=\u001b[0m \u001b[0mself\u001b[0m\u001b[0;34m.\u001b[0m\u001b[0mweights\u001b[0m\u001b[0;34m\u001b[0m\u001b[0;34m\u001b[0m\u001b[0m\n",
            "\u001b[0;32m/usr/local/lib/python3.6/dist-packages/statsmodels/regression/linear_model.py\u001b[0m in \u001b[0;36m__init__\u001b[0;34m(self, endog, exog, **kwargs)\u001b[0m\n\u001b[1;32m    194\u001b[0m     \"\"\"\n\u001b[1;32m    195\u001b[0m     \u001b[0;32mdef\u001b[0m \u001b[0m__init__\u001b[0m\u001b[0;34m(\u001b[0m\u001b[0mself\u001b[0m\u001b[0;34m,\u001b[0m \u001b[0mendog\u001b[0m\u001b[0;34m,\u001b[0m \u001b[0mexog\u001b[0m\u001b[0;34m,\u001b[0m \u001b[0;34m**\u001b[0m\u001b[0mkwargs\u001b[0m\u001b[0;34m)\u001b[0m\u001b[0;34m:\u001b[0m\u001b[0;34m\u001b[0m\u001b[0;34m\u001b[0m\u001b[0m\n\u001b[0;32m--> 196\u001b[0;31m         \u001b[0msuper\u001b[0m\u001b[0;34m(\u001b[0m\u001b[0mRegressionModel\u001b[0m\u001b[0;34m,\u001b[0m \u001b[0mself\u001b[0m\u001b[0;34m)\u001b[0m\u001b[0;34m.\u001b[0m\u001b[0m__init__\u001b[0m\u001b[0;34m(\u001b[0m\u001b[0mendog\u001b[0m\u001b[0;34m,\u001b[0m \u001b[0mexog\u001b[0m\u001b[0;34m,\u001b[0m \u001b[0;34m**\u001b[0m\u001b[0mkwargs\u001b[0m\u001b[0;34m)\u001b[0m\u001b[0;34m\u001b[0m\u001b[0;34m\u001b[0m\u001b[0m\n\u001b[0m\u001b[1;32m    197\u001b[0m         \u001b[0mself\u001b[0m\u001b[0;34m.\u001b[0m\u001b[0m_data_attr\u001b[0m\u001b[0;34m.\u001b[0m\u001b[0mextend\u001b[0m\u001b[0;34m(\u001b[0m\u001b[0;34m[\u001b[0m\u001b[0;34m'pinv_wexog'\u001b[0m\u001b[0;34m,\u001b[0m \u001b[0;34m'wendog'\u001b[0m\u001b[0;34m,\u001b[0m \u001b[0;34m'wexog'\u001b[0m\u001b[0;34m,\u001b[0m \u001b[0;34m'weights'\u001b[0m\u001b[0;34m]\u001b[0m\u001b[0;34m)\u001b[0m\u001b[0;34m\u001b[0m\u001b[0;34m\u001b[0m\u001b[0m\n\u001b[1;32m    198\u001b[0m \u001b[0;34m\u001b[0m\u001b[0m\n",
            "\u001b[0;32m/usr/local/lib/python3.6/dist-packages/statsmodels/base/model.py\u001b[0m in \u001b[0;36m__init__\u001b[0;34m(self, endog, exog, **kwargs)\u001b[0m\n\u001b[1;32m    214\u001b[0m \u001b[0;34m\u001b[0m\u001b[0m\n\u001b[1;32m    215\u001b[0m     \u001b[0;32mdef\u001b[0m \u001b[0m__init__\u001b[0m\u001b[0;34m(\u001b[0m\u001b[0mself\u001b[0m\u001b[0;34m,\u001b[0m \u001b[0mendog\u001b[0m\u001b[0;34m,\u001b[0m \u001b[0mexog\u001b[0m\u001b[0;34m=\u001b[0m\u001b[0;32mNone\u001b[0m\u001b[0;34m,\u001b[0m \u001b[0;34m**\u001b[0m\u001b[0mkwargs\u001b[0m\u001b[0;34m)\u001b[0m\u001b[0;34m:\u001b[0m\u001b[0;34m\u001b[0m\u001b[0;34m\u001b[0m\u001b[0m\n\u001b[0;32m--> 216\u001b[0;31m         \u001b[0msuper\u001b[0m\u001b[0;34m(\u001b[0m\u001b[0mLikelihoodModel\u001b[0m\u001b[0;34m,\u001b[0m \u001b[0mself\u001b[0m\u001b[0;34m)\u001b[0m\u001b[0;34m.\u001b[0m\u001b[0m__init__\u001b[0m\u001b[0;34m(\u001b[0m\u001b[0mendog\u001b[0m\u001b[0;34m,\u001b[0m \u001b[0mexog\u001b[0m\u001b[0;34m,\u001b[0m \u001b[0;34m**\u001b[0m\u001b[0mkwargs\u001b[0m\u001b[0;34m)\u001b[0m\u001b[0;34m\u001b[0m\u001b[0;34m\u001b[0m\u001b[0m\n\u001b[0m\u001b[1;32m    217\u001b[0m         \u001b[0mself\u001b[0m\u001b[0;34m.\u001b[0m\u001b[0minitialize\u001b[0m\u001b[0;34m(\u001b[0m\u001b[0;34m)\u001b[0m\u001b[0;34m\u001b[0m\u001b[0;34m\u001b[0m\u001b[0m\n\u001b[1;32m    218\u001b[0m \u001b[0;34m\u001b[0m\u001b[0m\n",
            "\u001b[0;32m/usr/local/lib/python3.6/dist-packages/statsmodels/base/model.py\u001b[0m in \u001b[0;36m__init__\u001b[0;34m(self, endog, exog, **kwargs)\u001b[0m\n\u001b[1;32m     66\u001b[0m         \u001b[0mhasconst\u001b[0m \u001b[0;34m=\u001b[0m \u001b[0mkwargs\u001b[0m\u001b[0;34m.\u001b[0m\u001b[0mpop\u001b[0m\u001b[0;34m(\u001b[0m\u001b[0;34m'hasconst'\u001b[0m\u001b[0;34m,\u001b[0m \u001b[0;32mNone\u001b[0m\u001b[0;34m)\u001b[0m\u001b[0;34m\u001b[0m\u001b[0;34m\u001b[0m\u001b[0m\n\u001b[1;32m     67\u001b[0m         self.data = self._handle_data(endog, exog, missing, hasconst,\n\u001b[0;32m---> 68\u001b[0;31m                                       **kwargs)\n\u001b[0m\u001b[1;32m     69\u001b[0m         \u001b[0mself\u001b[0m\u001b[0;34m.\u001b[0m\u001b[0mk_constant\u001b[0m \u001b[0;34m=\u001b[0m \u001b[0mself\u001b[0m\u001b[0;34m.\u001b[0m\u001b[0mdata\u001b[0m\u001b[0;34m.\u001b[0m\u001b[0mk_constant\u001b[0m\u001b[0;34m\u001b[0m\u001b[0;34m\u001b[0m\u001b[0m\n\u001b[1;32m     70\u001b[0m         \u001b[0mself\u001b[0m\u001b[0;34m.\u001b[0m\u001b[0mexog\u001b[0m \u001b[0;34m=\u001b[0m \u001b[0mself\u001b[0m\u001b[0;34m.\u001b[0m\u001b[0mdata\u001b[0m\u001b[0;34m.\u001b[0m\u001b[0mexog\u001b[0m\u001b[0;34m\u001b[0m\u001b[0;34m\u001b[0m\u001b[0m\n",
            "\u001b[0;32m/usr/local/lib/python3.6/dist-packages/statsmodels/base/model.py\u001b[0m in \u001b[0;36m_handle_data\u001b[0;34m(self, endog, exog, missing, hasconst, **kwargs)\u001b[0m\n\u001b[1;32m     89\u001b[0m \u001b[0;34m\u001b[0m\u001b[0m\n\u001b[1;32m     90\u001b[0m     \u001b[0;32mdef\u001b[0m \u001b[0m_handle_data\u001b[0m\u001b[0;34m(\u001b[0m\u001b[0mself\u001b[0m\u001b[0;34m,\u001b[0m \u001b[0mendog\u001b[0m\u001b[0;34m,\u001b[0m \u001b[0mexog\u001b[0m\u001b[0;34m,\u001b[0m \u001b[0mmissing\u001b[0m\u001b[0;34m,\u001b[0m \u001b[0mhasconst\u001b[0m\u001b[0;34m,\u001b[0m \u001b[0;34m**\u001b[0m\u001b[0mkwargs\u001b[0m\u001b[0;34m)\u001b[0m\u001b[0;34m:\u001b[0m\u001b[0;34m\u001b[0m\u001b[0;34m\u001b[0m\u001b[0m\n\u001b[0;32m---> 91\u001b[0;31m         \u001b[0mdata\u001b[0m \u001b[0;34m=\u001b[0m \u001b[0mhandle_data\u001b[0m\u001b[0;34m(\u001b[0m\u001b[0mendog\u001b[0m\u001b[0;34m,\u001b[0m \u001b[0mexog\u001b[0m\u001b[0;34m,\u001b[0m \u001b[0mmissing\u001b[0m\u001b[0;34m,\u001b[0m \u001b[0mhasconst\u001b[0m\u001b[0;34m,\u001b[0m \u001b[0;34m**\u001b[0m\u001b[0mkwargs\u001b[0m\u001b[0;34m)\u001b[0m\u001b[0;34m\u001b[0m\u001b[0;34m\u001b[0m\u001b[0m\n\u001b[0m\u001b[1;32m     92\u001b[0m         \u001b[0;31m# kwargs arrays could have changed, easier to just attach here\u001b[0m\u001b[0;34m\u001b[0m\u001b[0;34m\u001b[0m\u001b[0;34m\u001b[0m\u001b[0m\n\u001b[1;32m     93\u001b[0m         \u001b[0;32mfor\u001b[0m \u001b[0mkey\u001b[0m \u001b[0;32min\u001b[0m \u001b[0mkwargs\u001b[0m\u001b[0;34m:\u001b[0m\u001b[0;34m\u001b[0m\u001b[0;34m\u001b[0m\u001b[0m\n",
            "\u001b[0;32m/usr/local/lib/python3.6/dist-packages/statsmodels/base/data.py\u001b[0m in \u001b[0;36mhandle_data\u001b[0;34m(endog, exog, missing, hasconst, **kwargs)\u001b[0m\n\u001b[1;32m    633\u001b[0m     \u001b[0mklass\u001b[0m \u001b[0;34m=\u001b[0m \u001b[0mhandle_data_class_factory\u001b[0m\u001b[0;34m(\u001b[0m\u001b[0mendog\u001b[0m\u001b[0;34m,\u001b[0m \u001b[0mexog\u001b[0m\u001b[0;34m)\u001b[0m\u001b[0;34m\u001b[0m\u001b[0;34m\u001b[0m\u001b[0m\n\u001b[1;32m    634\u001b[0m     return klass(endog, exog=exog, missing=missing, hasconst=hasconst,\n\u001b[0;32m--> 635\u001b[0;31m                  **kwargs)\n\u001b[0m",
            "\u001b[0;32m/usr/local/lib/python3.6/dist-packages/statsmodels/base/data.py\u001b[0m in \u001b[0;36m__init__\u001b[0;34m(self, endog, exog, missing, hasconst, **kwargs)\u001b[0m\n\u001b[1;32m     79\u001b[0m         \u001b[0mself\u001b[0m\u001b[0;34m.\u001b[0m\u001b[0mk_constant\u001b[0m \u001b[0;34m=\u001b[0m \u001b[0;36m0\u001b[0m\u001b[0;34m\u001b[0m\u001b[0;34m\u001b[0m\u001b[0m\n\u001b[1;32m     80\u001b[0m         \u001b[0mself\u001b[0m\u001b[0;34m.\u001b[0m\u001b[0m_handle_constant\u001b[0m\u001b[0;34m(\u001b[0m\u001b[0mhasconst\u001b[0m\u001b[0;34m)\u001b[0m\u001b[0;34m\u001b[0m\u001b[0;34m\u001b[0m\u001b[0m\n\u001b[0;32m---> 81\u001b[0;31m         \u001b[0mself\u001b[0m\u001b[0;34m.\u001b[0m\u001b[0m_check_integrity\u001b[0m\u001b[0;34m(\u001b[0m\u001b[0;34m)\u001b[0m\u001b[0;34m\u001b[0m\u001b[0;34m\u001b[0m\u001b[0m\n\u001b[0m\u001b[1;32m     82\u001b[0m         \u001b[0mself\u001b[0m\u001b[0;34m.\u001b[0m\u001b[0m_cache\u001b[0m \u001b[0;34m=\u001b[0m \u001b[0;34m{\u001b[0m\u001b[0;34m}\u001b[0m\u001b[0;34m\u001b[0m\u001b[0;34m\u001b[0m\u001b[0m\n\u001b[1;32m     83\u001b[0m \u001b[0;34m\u001b[0m\u001b[0m\n",
            "\u001b[0;32m/usr/local/lib/python3.6/dist-packages/statsmodels/base/data.py\u001b[0m in \u001b[0;36m_check_integrity\u001b[0;34m(self)\u001b[0m\n\u001b[1;32m    497\u001b[0m                 \u001b[0;34m(\u001b[0m\u001b[0mhasattr\u001b[0m\u001b[0;34m(\u001b[0m\u001b[0mendog\u001b[0m\u001b[0;34m,\u001b[0m \u001b[0;34m'index'\u001b[0m\u001b[0;34m)\u001b[0m \u001b[0;32mand\u001b[0m \u001b[0mhasattr\u001b[0m\u001b[0;34m(\u001b[0m\u001b[0mexog\u001b[0m\u001b[0;34m,\u001b[0m \u001b[0;34m'index'\u001b[0m\u001b[0;34m)\u001b[0m\u001b[0;34m)\u001b[0m \u001b[0;32mand\u001b[0m\u001b[0;34m\u001b[0m\u001b[0;34m\u001b[0m\u001b[0m\n\u001b[1;32m    498\u001b[0m                 not self.orig_endog.index.equals(self.orig_exog.index)):\n\u001b[0;32m--> 499\u001b[0;31m             \u001b[0;32mraise\u001b[0m \u001b[0mValueError\u001b[0m\u001b[0;34m(\u001b[0m\u001b[0;34m\"The indices for endog and exog are not aligned\"\u001b[0m\u001b[0;34m)\u001b[0m\u001b[0;34m\u001b[0m\u001b[0;34m\u001b[0m\u001b[0m\n\u001b[0m\u001b[1;32m    500\u001b[0m         \u001b[0msuper\u001b[0m\u001b[0;34m(\u001b[0m\u001b[0mPandasData\u001b[0m\u001b[0;34m,\u001b[0m \u001b[0mself\u001b[0m\u001b[0;34m)\u001b[0m\u001b[0;34m.\u001b[0m\u001b[0m_check_integrity\u001b[0m\u001b[0;34m(\u001b[0m\u001b[0;34m)\u001b[0m\u001b[0;34m\u001b[0m\u001b[0;34m\u001b[0m\u001b[0m\n\u001b[1;32m    501\u001b[0m \u001b[0;34m\u001b[0m\u001b[0m\n",
            "\u001b[0;31mValueError\u001b[0m: The indices for endog and exog are not aligned"
          ]
        }
      ]
    },
    {
      "cell_type": "code",
      "metadata": {
        "id": "eithH58PFK5P",
        "outputId": "146d06ad-48bc-44d4-a8b4-abd7bf2cb6ce",
        "colab": {
          "base_uri": "https://localhost:8080/",
          "height": 589
        }
      },
      "source": [
        "# making predictions using rfe_15 sm model\n",
        "X_test_rfe_15 = X_test[col_15]\n",
        "\n",
        "\n",
        "# # Adding a constant variable \n",
        "X_test_rfe_15 = sm.add_constant(X_test_rfe_15, has_constant='add')\n",
        "X_test_rfe_15.info()\n",
        "\n",
        "\n",
        "# # Making predictions\n",
        "y_pred = lm_15.predict(X_test_rfe_15)"
      ],
      "execution_count": null,
      "outputs": [
        {
          "output_type": "stream",
          "text": [
            "<class 'pandas.core.frame.DataFrame'>\n",
            "Int64Index: 280 entries, 372 to 517\n",
            "Data columns (total 16 columns):\n",
            " #   Column                                Non-Null Count  Dtype  \n",
            "---  ------                                --------------  -----  \n",
            " 0   const                                 280 non-null    float64\n",
            " 1   Location_Aliso Viejo, CA              280 non-null    float64\n",
            " 2   Location_Bethesda, MD                 280 non-null    float64\n",
            " 3   Location_Burbank, CA                  280 non-null    float64\n",
            " 4   Location_Cupertino, CA                280 non-null    float64\n",
            " 5   Location_Exton, PA                    280 non-null    float64\n",
            " 6   Location_Sunnyvale, CA                280 non-null    float64\n",
            " 7   Headquarters_Bedford, MA              280 non-null    float64\n",
            " 8   Headquarters_Burbank, CA              280 non-null    float64\n",
            " 9   Headquarters_Exton, PA                280 non-null    float64\n",
            " 10  Headquarters_South San Francisco, CA  280 non-null    float64\n",
            " 11  Industry_Preschool & Child Care       280 non-null    float64\n",
            " 12  Industry_Telecommunications Services  280 non-null    float64\n",
            " 13  Cidade_Bedford                        280 non-null    float64\n",
            " 14  Cidade_South San Francisco            280 non-null    float64\n",
            " 15  Estado_ South Korea                   280 non-null    float64\n",
            "dtypes: float64(16)\n",
            "memory usage: 37.2 KB\n"
          ],
          "name": "stdout"
        },
        {
          "output_type": "error",
          "ename": "NameError",
          "evalue": "ignored",
          "traceback": [
            "\u001b[0;31m---------------------------------------------------------------------------\u001b[0m",
            "\u001b[0;31mNameError\u001b[0m                                 Traceback (most recent call last)",
            "\u001b[0;32m<ipython-input-64-ffdf2a901491>\u001b[0m in \u001b[0;36m<module>\u001b[0;34m()\u001b[0m\n\u001b[1;32m      9\u001b[0m \u001b[0;34m\u001b[0m\u001b[0m\n\u001b[1;32m     10\u001b[0m \u001b[0;31m# # Making predictions\u001b[0m\u001b[0;34m\u001b[0m\u001b[0;34m\u001b[0m\u001b[0;34m\u001b[0m\u001b[0m\n\u001b[0;32m---> 11\u001b[0;31m \u001b[0my_pred\u001b[0m \u001b[0;34m=\u001b[0m \u001b[0mlm_15\u001b[0m\u001b[0;34m.\u001b[0m\u001b[0mpredict\u001b[0m\u001b[0;34m(\u001b[0m\u001b[0mX_test_rfe_15\u001b[0m\u001b[0;34m)\u001b[0m\u001b[0;34m\u001b[0m\u001b[0;34m\u001b[0m\u001b[0m\n\u001b[0m",
            "\u001b[0;31mNameError\u001b[0m: name 'lm_15' is not defined"
          ]
        }
      ]
    },
    {
      "cell_type": "code",
      "metadata": {
        "id": "FRJr2dGVFP8G",
        "outputId": "95807a00-41fb-4a60-fb33-261d426aec03",
        "colab": {
          "base_uri": "https://localhost:8080/",
          "height": 34
        }
      },
      "source": [
        "# r-squared\n",
        "r2_score(y_test, y_pred)"
      ],
      "execution_count": null,
      "outputs": [
        {
          "output_type": "execute_result",
          "data": {
            "text/plain": [
              "0.0007146449796928689"
            ]
          },
          "metadata": {
            "tags": []
          },
          "execution_count": 65
        }
      ]
    },
    {
      "cell_type": "code",
      "metadata": {
        "id": "6TNdn7qlFQpl",
        "outputId": "655885dc-4d98-431e-cb52-833f48f72797",
        "colab": {
          "base_uri": "https://localhost:8080/",
          "height": 375
        }
      },
      "source": [
        "# subset the features selected by rfe_6\n",
        "col_6 = X_train.columns[rfe_6.support_]\n",
        "\n",
        "# subsetting training data for 6 selected columns\n",
        "X_train_rfe_6 = X_train[col_6]\n",
        "\n",
        "# add a constant to the model\n",
        "X_train_rfe_6 = sm.add_constant(X_train_rfe_6)\n",
        "\n",
        "\n",
        "# fitting the model with 6 variables\n",
        "lm_6 = sm.OLS(y_train, X_train_rfe_6).fit()   \n",
        "print(lm_6.summary())\n",
        "\n",
        "\n",
        "# making predictions using rfe_6 sm model\n",
        "X_test_rfe_6 = X_test[col_6]\n",
        "\n",
        "\n",
        "# Adding a constant  \n",
        "X_test_rfe_6 = sm.add_constant(X_test_rfe_6, has_constant='add')\n",
        "X_test_rfe_6.info()\n",
        "\n",
        "\n",
        "# # Making predictions\n",
        "y_pred = lm_6.predict(X_test_rfe_6)"
      ],
      "execution_count": null,
      "outputs": [
        {
          "output_type": "error",
          "ename": "ValueError",
          "evalue": "ignored",
          "traceback": [
            "\u001b[0;31m---------------------------------------------------------------------------\u001b[0m",
            "\u001b[0;31mValueError\u001b[0m                                Traceback (most recent call last)",
            "\u001b[0;32m<ipython-input-66-db168c39d156>\u001b[0m in \u001b[0;36m<module>\u001b[0;34m()\u001b[0m\n\u001b[1;32m     10\u001b[0m \u001b[0;34m\u001b[0m\u001b[0m\n\u001b[1;32m     11\u001b[0m \u001b[0;31m# fitting the model with 6 variables\u001b[0m\u001b[0;34m\u001b[0m\u001b[0;34m\u001b[0m\u001b[0;34m\u001b[0m\u001b[0m\n\u001b[0;32m---> 12\u001b[0;31m \u001b[0mlm_6\u001b[0m \u001b[0;34m=\u001b[0m \u001b[0msm\u001b[0m\u001b[0;34m.\u001b[0m\u001b[0mOLS\u001b[0m\u001b[0;34m(\u001b[0m\u001b[0my_train\u001b[0m\u001b[0;34m,\u001b[0m \u001b[0mX_train_rfe_6\u001b[0m\u001b[0;34m)\u001b[0m\u001b[0;34m.\u001b[0m\u001b[0mfit\u001b[0m\u001b[0;34m(\u001b[0m\u001b[0;34m)\u001b[0m\u001b[0;34m\u001b[0m\u001b[0;34m\u001b[0m\u001b[0m\n\u001b[0m\u001b[1;32m     13\u001b[0m \u001b[0mprint\u001b[0m\u001b[0;34m(\u001b[0m\u001b[0mlm_6\u001b[0m\u001b[0;34m.\u001b[0m\u001b[0msummary\u001b[0m\u001b[0;34m(\u001b[0m\u001b[0;34m)\u001b[0m\u001b[0;34m)\u001b[0m\u001b[0;34m\u001b[0m\u001b[0;34m\u001b[0m\u001b[0m\n\u001b[1;32m     14\u001b[0m \u001b[0;34m\u001b[0m\u001b[0m\n",
            "\u001b[0;32m/usr/local/lib/python3.6/dist-packages/statsmodels/regression/linear_model.py\u001b[0m in \u001b[0;36m__init__\u001b[0;34m(self, endog, exog, missing, hasconst, **kwargs)\u001b[0m\n\u001b[1;32m    836\u001b[0m                  **kwargs):\n\u001b[1;32m    837\u001b[0m         super(OLS, self).__init__(endog, exog, missing=missing,\n\u001b[0;32m--> 838\u001b[0;31m                                   hasconst=hasconst, **kwargs)\n\u001b[0m\u001b[1;32m    839\u001b[0m         \u001b[0;32mif\u001b[0m \u001b[0;34m\"weights\"\u001b[0m \u001b[0;32min\u001b[0m \u001b[0mself\u001b[0m\u001b[0;34m.\u001b[0m\u001b[0m_init_keys\u001b[0m\u001b[0;34m:\u001b[0m\u001b[0;34m\u001b[0m\u001b[0;34m\u001b[0m\u001b[0m\n\u001b[1;32m    840\u001b[0m             \u001b[0mself\u001b[0m\u001b[0;34m.\u001b[0m\u001b[0m_init_keys\u001b[0m\u001b[0;34m.\u001b[0m\u001b[0mremove\u001b[0m\u001b[0;34m(\u001b[0m\u001b[0;34m\"weights\"\u001b[0m\u001b[0;34m)\u001b[0m\u001b[0;34m\u001b[0m\u001b[0;34m\u001b[0m\u001b[0m\n",
            "\u001b[0;32m/usr/local/lib/python3.6/dist-packages/statsmodels/regression/linear_model.py\u001b[0m in \u001b[0;36m__init__\u001b[0;34m(self, endog, exog, weights, missing, hasconst, **kwargs)\u001b[0m\n\u001b[1;32m    682\u001b[0m             \u001b[0mweights\u001b[0m \u001b[0;34m=\u001b[0m \u001b[0mweights\u001b[0m\u001b[0;34m.\u001b[0m\u001b[0msqueeze\u001b[0m\u001b[0;34m(\u001b[0m\u001b[0;34m)\u001b[0m\u001b[0;34m\u001b[0m\u001b[0;34m\u001b[0m\u001b[0m\n\u001b[1;32m    683\u001b[0m         super(WLS, self).__init__(endog, exog, missing=missing,\n\u001b[0;32m--> 684\u001b[0;31m                                   weights=weights, hasconst=hasconst, **kwargs)\n\u001b[0m\u001b[1;32m    685\u001b[0m         \u001b[0mnobs\u001b[0m \u001b[0;34m=\u001b[0m \u001b[0mself\u001b[0m\u001b[0;34m.\u001b[0m\u001b[0mexog\u001b[0m\u001b[0;34m.\u001b[0m\u001b[0mshape\u001b[0m\u001b[0;34m[\u001b[0m\u001b[0;36m0\u001b[0m\u001b[0;34m]\u001b[0m\u001b[0;34m\u001b[0m\u001b[0;34m\u001b[0m\u001b[0m\n\u001b[1;32m    686\u001b[0m         \u001b[0mweights\u001b[0m \u001b[0;34m=\u001b[0m \u001b[0mself\u001b[0m\u001b[0;34m.\u001b[0m\u001b[0mweights\u001b[0m\u001b[0;34m\u001b[0m\u001b[0;34m\u001b[0m\u001b[0m\n",
            "\u001b[0;32m/usr/local/lib/python3.6/dist-packages/statsmodels/regression/linear_model.py\u001b[0m in \u001b[0;36m__init__\u001b[0;34m(self, endog, exog, **kwargs)\u001b[0m\n\u001b[1;32m    194\u001b[0m     \"\"\"\n\u001b[1;32m    195\u001b[0m     \u001b[0;32mdef\u001b[0m \u001b[0m__init__\u001b[0m\u001b[0;34m(\u001b[0m\u001b[0mself\u001b[0m\u001b[0;34m,\u001b[0m \u001b[0mendog\u001b[0m\u001b[0;34m,\u001b[0m \u001b[0mexog\u001b[0m\u001b[0;34m,\u001b[0m \u001b[0;34m**\u001b[0m\u001b[0mkwargs\u001b[0m\u001b[0;34m)\u001b[0m\u001b[0;34m:\u001b[0m\u001b[0;34m\u001b[0m\u001b[0;34m\u001b[0m\u001b[0m\n\u001b[0;32m--> 196\u001b[0;31m         \u001b[0msuper\u001b[0m\u001b[0;34m(\u001b[0m\u001b[0mRegressionModel\u001b[0m\u001b[0;34m,\u001b[0m \u001b[0mself\u001b[0m\u001b[0;34m)\u001b[0m\u001b[0;34m.\u001b[0m\u001b[0m__init__\u001b[0m\u001b[0;34m(\u001b[0m\u001b[0mendog\u001b[0m\u001b[0;34m,\u001b[0m \u001b[0mexog\u001b[0m\u001b[0;34m,\u001b[0m \u001b[0;34m**\u001b[0m\u001b[0mkwargs\u001b[0m\u001b[0;34m)\u001b[0m\u001b[0;34m\u001b[0m\u001b[0;34m\u001b[0m\u001b[0m\n\u001b[0m\u001b[1;32m    197\u001b[0m         \u001b[0mself\u001b[0m\u001b[0;34m.\u001b[0m\u001b[0m_data_attr\u001b[0m\u001b[0;34m.\u001b[0m\u001b[0mextend\u001b[0m\u001b[0;34m(\u001b[0m\u001b[0;34m[\u001b[0m\u001b[0;34m'pinv_wexog'\u001b[0m\u001b[0;34m,\u001b[0m \u001b[0;34m'wendog'\u001b[0m\u001b[0;34m,\u001b[0m \u001b[0;34m'wexog'\u001b[0m\u001b[0;34m,\u001b[0m \u001b[0;34m'weights'\u001b[0m\u001b[0;34m]\u001b[0m\u001b[0;34m)\u001b[0m\u001b[0;34m\u001b[0m\u001b[0;34m\u001b[0m\u001b[0m\n\u001b[1;32m    198\u001b[0m \u001b[0;34m\u001b[0m\u001b[0m\n",
            "\u001b[0;32m/usr/local/lib/python3.6/dist-packages/statsmodels/base/model.py\u001b[0m in \u001b[0;36m__init__\u001b[0;34m(self, endog, exog, **kwargs)\u001b[0m\n\u001b[1;32m    214\u001b[0m \u001b[0;34m\u001b[0m\u001b[0m\n\u001b[1;32m    215\u001b[0m     \u001b[0;32mdef\u001b[0m \u001b[0m__init__\u001b[0m\u001b[0;34m(\u001b[0m\u001b[0mself\u001b[0m\u001b[0;34m,\u001b[0m \u001b[0mendog\u001b[0m\u001b[0;34m,\u001b[0m \u001b[0mexog\u001b[0m\u001b[0;34m=\u001b[0m\u001b[0;32mNone\u001b[0m\u001b[0;34m,\u001b[0m \u001b[0;34m**\u001b[0m\u001b[0mkwargs\u001b[0m\u001b[0;34m)\u001b[0m\u001b[0;34m:\u001b[0m\u001b[0;34m\u001b[0m\u001b[0;34m\u001b[0m\u001b[0m\n\u001b[0;32m--> 216\u001b[0;31m         \u001b[0msuper\u001b[0m\u001b[0;34m(\u001b[0m\u001b[0mLikelihoodModel\u001b[0m\u001b[0;34m,\u001b[0m \u001b[0mself\u001b[0m\u001b[0;34m)\u001b[0m\u001b[0;34m.\u001b[0m\u001b[0m__init__\u001b[0m\u001b[0;34m(\u001b[0m\u001b[0mendog\u001b[0m\u001b[0;34m,\u001b[0m \u001b[0mexog\u001b[0m\u001b[0;34m,\u001b[0m \u001b[0;34m**\u001b[0m\u001b[0mkwargs\u001b[0m\u001b[0;34m)\u001b[0m\u001b[0;34m\u001b[0m\u001b[0;34m\u001b[0m\u001b[0m\n\u001b[0m\u001b[1;32m    217\u001b[0m         \u001b[0mself\u001b[0m\u001b[0;34m.\u001b[0m\u001b[0minitialize\u001b[0m\u001b[0;34m(\u001b[0m\u001b[0;34m)\u001b[0m\u001b[0;34m\u001b[0m\u001b[0;34m\u001b[0m\u001b[0m\n\u001b[1;32m    218\u001b[0m \u001b[0;34m\u001b[0m\u001b[0m\n",
            "\u001b[0;32m/usr/local/lib/python3.6/dist-packages/statsmodels/base/model.py\u001b[0m in \u001b[0;36m__init__\u001b[0;34m(self, endog, exog, **kwargs)\u001b[0m\n\u001b[1;32m     66\u001b[0m         \u001b[0mhasconst\u001b[0m \u001b[0;34m=\u001b[0m \u001b[0mkwargs\u001b[0m\u001b[0;34m.\u001b[0m\u001b[0mpop\u001b[0m\u001b[0;34m(\u001b[0m\u001b[0;34m'hasconst'\u001b[0m\u001b[0;34m,\u001b[0m \u001b[0;32mNone\u001b[0m\u001b[0;34m)\u001b[0m\u001b[0;34m\u001b[0m\u001b[0;34m\u001b[0m\u001b[0m\n\u001b[1;32m     67\u001b[0m         self.data = self._handle_data(endog, exog, missing, hasconst,\n\u001b[0;32m---> 68\u001b[0;31m                                       **kwargs)\n\u001b[0m\u001b[1;32m     69\u001b[0m         \u001b[0mself\u001b[0m\u001b[0;34m.\u001b[0m\u001b[0mk_constant\u001b[0m \u001b[0;34m=\u001b[0m \u001b[0mself\u001b[0m\u001b[0;34m.\u001b[0m\u001b[0mdata\u001b[0m\u001b[0;34m.\u001b[0m\u001b[0mk_constant\u001b[0m\u001b[0;34m\u001b[0m\u001b[0;34m\u001b[0m\u001b[0m\n\u001b[1;32m     70\u001b[0m         \u001b[0mself\u001b[0m\u001b[0;34m.\u001b[0m\u001b[0mexog\u001b[0m \u001b[0;34m=\u001b[0m \u001b[0mself\u001b[0m\u001b[0;34m.\u001b[0m\u001b[0mdata\u001b[0m\u001b[0;34m.\u001b[0m\u001b[0mexog\u001b[0m\u001b[0;34m\u001b[0m\u001b[0;34m\u001b[0m\u001b[0m\n",
            "\u001b[0;32m/usr/local/lib/python3.6/dist-packages/statsmodels/base/model.py\u001b[0m in \u001b[0;36m_handle_data\u001b[0;34m(self, endog, exog, missing, hasconst, **kwargs)\u001b[0m\n\u001b[1;32m     89\u001b[0m \u001b[0;34m\u001b[0m\u001b[0m\n\u001b[1;32m     90\u001b[0m     \u001b[0;32mdef\u001b[0m \u001b[0m_handle_data\u001b[0m\u001b[0;34m(\u001b[0m\u001b[0mself\u001b[0m\u001b[0;34m,\u001b[0m \u001b[0mendog\u001b[0m\u001b[0;34m,\u001b[0m \u001b[0mexog\u001b[0m\u001b[0;34m,\u001b[0m \u001b[0mmissing\u001b[0m\u001b[0;34m,\u001b[0m \u001b[0mhasconst\u001b[0m\u001b[0;34m,\u001b[0m \u001b[0;34m**\u001b[0m\u001b[0mkwargs\u001b[0m\u001b[0;34m)\u001b[0m\u001b[0;34m:\u001b[0m\u001b[0;34m\u001b[0m\u001b[0;34m\u001b[0m\u001b[0m\n\u001b[0;32m---> 91\u001b[0;31m         \u001b[0mdata\u001b[0m \u001b[0;34m=\u001b[0m \u001b[0mhandle_data\u001b[0m\u001b[0;34m(\u001b[0m\u001b[0mendog\u001b[0m\u001b[0;34m,\u001b[0m \u001b[0mexog\u001b[0m\u001b[0;34m,\u001b[0m \u001b[0mmissing\u001b[0m\u001b[0;34m,\u001b[0m \u001b[0mhasconst\u001b[0m\u001b[0;34m,\u001b[0m \u001b[0;34m**\u001b[0m\u001b[0mkwargs\u001b[0m\u001b[0;34m)\u001b[0m\u001b[0;34m\u001b[0m\u001b[0;34m\u001b[0m\u001b[0m\n\u001b[0m\u001b[1;32m     92\u001b[0m         \u001b[0;31m# kwargs arrays could have changed, easier to just attach here\u001b[0m\u001b[0;34m\u001b[0m\u001b[0;34m\u001b[0m\u001b[0;34m\u001b[0m\u001b[0m\n\u001b[1;32m     93\u001b[0m         \u001b[0;32mfor\u001b[0m \u001b[0mkey\u001b[0m \u001b[0;32min\u001b[0m \u001b[0mkwargs\u001b[0m\u001b[0;34m:\u001b[0m\u001b[0;34m\u001b[0m\u001b[0;34m\u001b[0m\u001b[0m\n",
            "\u001b[0;32m/usr/local/lib/python3.6/dist-packages/statsmodels/base/data.py\u001b[0m in \u001b[0;36mhandle_data\u001b[0;34m(endog, exog, missing, hasconst, **kwargs)\u001b[0m\n\u001b[1;32m    633\u001b[0m     \u001b[0mklass\u001b[0m \u001b[0;34m=\u001b[0m \u001b[0mhandle_data_class_factory\u001b[0m\u001b[0;34m(\u001b[0m\u001b[0mendog\u001b[0m\u001b[0;34m,\u001b[0m \u001b[0mexog\u001b[0m\u001b[0;34m)\u001b[0m\u001b[0;34m\u001b[0m\u001b[0;34m\u001b[0m\u001b[0m\n\u001b[1;32m    634\u001b[0m     return klass(endog, exog=exog, missing=missing, hasconst=hasconst,\n\u001b[0;32m--> 635\u001b[0;31m                  **kwargs)\n\u001b[0m",
            "\u001b[0;32m/usr/local/lib/python3.6/dist-packages/statsmodels/base/data.py\u001b[0m in \u001b[0;36m__init__\u001b[0;34m(self, endog, exog, missing, hasconst, **kwargs)\u001b[0m\n\u001b[1;32m     79\u001b[0m         \u001b[0mself\u001b[0m\u001b[0;34m.\u001b[0m\u001b[0mk_constant\u001b[0m \u001b[0;34m=\u001b[0m \u001b[0;36m0\u001b[0m\u001b[0;34m\u001b[0m\u001b[0;34m\u001b[0m\u001b[0m\n\u001b[1;32m     80\u001b[0m         \u001b[0mself\u001b[0m\u001b[0;34m.\u001b[0m\u001b[0m_handle_constant\u001b[0m\u001b[0;34m(\u001b[0m\u001b[0mhasconst\u001b[0m\u001b[0;34m)\u001b[0m\u001b[0;34m\u001b[0m\u001b[0;34m\u001b[0m\u001b[0m\n\u001b[0;32m---> 81\u001b[0;31m         \u001b[0mself\u001b[0m\u001b[0;34m.\u001b[0m\u001b[0m_check_integrity\u001b[0m\u001b[0;34m(\u001b[0m\u001b[0;34m)\u001b[0m\u001b[0;34m\u001b[0m\u001b[0;34m\u001b[0m\u001b[0m\n\u001b[0m\u001b[1;32m     82\u001b[0m         \u001b[0mself\u001b[0m\u001b[0;34m.\u001b[0m\u001b[0m_cache\u001b[0m \u001b[0;34m=\u001b[0m \u001b[0;34m{\u001b[0m\u001b[0;34m}\u001b[0m\u001b[0;34m\u001b[0m\u001b[0;34m\u001b[0m\u001b[0m\n\u001b[1;32m     83\u001b[0m \u001b[0;34m\u001b[0m\u001b[0m\n",
            "\u001b[0;32m/usr/local/lib/python3.6/dist-packages/statsmodels/base/data.py\u001b[0m in \u001b[0;36m_check_integrity\u001b[0;34m(self)\u001b[0m\n\u001b[1;32m    497\u001b[0m                 \u001b[0;34m(\u001b[0m\u001b[0mhasattr\u001b[0m\u001b[0;34m(\u001b[0m\u001b[0mendog\u001b[0m\u001b[0;34m,\u001b[0m \u001b[0;34m'index'\u001b[0m\u001b[0;34m)\u001b[0m \u001b[0;32mand\u001b[0m \u001b[0mhasattr\u001b[0m\u001b[0;34m(\u001b[0m\u001b[0mexog\u001b[0m\u001b[0;34m,\u001b[0m \u001b[0;34m'index'\u001b[0m\u001b[0;34m)\u001b[0m\u001b[0;34m)\u001b[0m \u001b[0;32mand\u001b[0m\u001b[0;34m\u001b[0m\u001b[0;34m\u001b[0m\u001b[0m\n\u001b[1;32m    498\u001b[0m                 not self.orig_endog.index.equals(self.orig_exog.index)):\n\u001b[0;32m--> 499\u001b[0;31m             \u001b[0;32mraise\u001b[0m \u001b[0mValueError\u001b[0m\u001b[0;34m(\u001b[0m\u001b[0;34m\"The indices for endog and exog are not aligned\"\u001b[0m\u001b[0;34m)\u001b[0m\u001b[0;34m\u001b[0m\u001b[0;34m\u001b[0m\u001b[0m\n\u001b[0m\u001b[1;32m    500\u001b[0m         \u001b[0msuper\u001b[0m\u001b[0;34m(\u001b[0m\u001b[0mPandasData\u001b[0m\u001b[0;34m,\u001b[0m \u001b[0mself\u001b[0m\u001b[0;34m)\u001b[0m\u001b[0;34m.\u001b[0m\u001b[0m_check_integrity\u001b[0m\u001b[0;34m(\u001b[0m\u001b[0;34m)\u001b[0m\u001b[0;34m\u001b[0m\u001b[0;34m\u001b[0m\u001b[0m\n\u001b[1;32m    501\u001b[0m \u001b[0;34m\u001b[0m\u001b[0m\n",
            "\u001b[0;31mValueError\u001b[0m: The indices for endog and exog are not aligned"
          ]
        }
      ]
    },
    {
      "cell_type": "code",
      "metadata": {
        "id": "tai10oVJFWB0",
        "outputId": "ce8c28b7-51f7-4340-e36c-da55317aa66a",
        "colab": {
          "base_uri": "https://localhost:8080/",
          "height": 34
        }
      },
      "source": [
        "# r2_score for 6 variables\n",
        "r2_score(y_test, y_pred)"
      ],
      "execution_count": null,
      "outputs": [
        {
          "output_type": "execute_result",
          "data": {
            "text/plain": [
              "0.0007146449796928689"
            ]
          },
          "metadata": {
            "tags": []
          },
          "execution_count": 67
        }
      ]
    },
    {
      "cell_type": "code",
      "metadata": {
        "id": "H82VN7LGFdQ4"
      },
      "source": [
        "n_features_list = list(range(4, 20))\n",
        "adjusted_r2 = []\n",
        "r2 = []\n",
        "test_r2 = []\n",
        "\n",
        "for n_features in range(4, 20):\n",
        "\n",
        "    # RFE with n features\n",
        "    lm = LinearRegression()\n",
        "\n",
        "    # specify number of features\n",
        "    rfe_n = RFE(lm, n_features)\n",
        "\n",
        "    # fit with n features\n",
        "    rfe_n.fit(X_train, y_train)\n",
        "\n",
        "    # subset the features selected by rfe_6\n",
        "    col_n = X_train.columns[rfe_n.support_]\n",
        "\n",
        "    # subsetting training data for 6 selected columns\n",
        "    X_train_rfe_n = X_train[col_n]\n",
        "\n",
        "    # add a constant to the model\n",
        "    X_train_rfe_n = sm.add_constant(X_train_rfe_n)\n",
        "\n",
        "\n",
        "    # fitting the model with 6 variables\n",
        "    lm_n = sm.OLS(y_train, X_train_rfe_n).fit()\n",
        "    adjusted_r2.append(lm_n.rsquared_adj)\n",
        "    r2.append(lm_n.rsquared)\n",
        "    \n",
        "    \n",
        "    # making predictions using rfe_15 sm model\n",
        "    X_test_rfe_n = X_test[col_n]\n",
        "\n",
        "\n",
        "    # # Adding a constant variable \n",
        "    X_test_rfe_n = sm.add_constant(X_test_rfe_n, has_constant='add')\n",
        "\n",
        "\n",
        "\n",
        "    # # Making predictions\n",
        "    y_pred = lm_n.predict(X_test_rfe_n)\n",
        "    \n",
        "    test_r2.append(r2_score(y_test, y_pred))"
      ],
      "execution_count": null,
      "outputs": []
    },
    {
      "cell_type": "code",
      "metadata": {
        "id": "NMF_oP7WFiXW",
        "outputId": "07d4ef72-cf26-45e7-ea8e-ac80e211283e",
        "colab": {
          "base_uri": "https://localhost:8080/",
          "height": 249
        }
      },
      "source": [
        "# plotting adjusted_r2 against n_features\n",
        "plt.figure(figsize=(10, 8))\n",
        "plt.plot(n_features_list, adjusted_r2, label=\"adjusted_r2\")\n",
        "plt.plot(n_features_list, r2, label=\"train_r2\")\n",
        "plt.plot(n_features_list, test_r2, label=\"test_r2\")\n",
        "plt.legend(loc='upper left')\n",
        "plt.show()"
      ],
      "execution_count": null,
      "outputs": [
        {
          "output_type": "error",
          "ename": "NameError",
          "evalue": "ignored",
          "traceback": [
            "\u001b[0;31m---------------------------------------------------------------------------\u001b[0m",
            "\u001b[0;31mNameError\u001b[0m                                 Traceback (most recent call last)",
            "\u001b[0;32m<ipython-input-68-c28b40a73215>\u001b[0m in \u001b[0;36m<module>\u001b[0;34m()\u001b[0m\n\u001b[1;32m      1\u001b[0m \u001b[0;31m# plotting adjusted_r2 against n_features\u001b[0m\u001b[0;34m\u001b[0m\u001b[0;34m\u001b[0m\u001b[0;34m\u001b[0m\u001b[0m\n\u001b[1;32m      2\u001b[0m \u001b[0mplt\u001b[0m\u001b[0;34m.\u001b[0m\u001b[0mfigure\u001b[0m\u001b[0;34m(\u001b[0m\u001b[0mfigsize\u001b[0m\u001b[0;34m=\u001b[0m\u001b[0;34m(\u001b[0m\u001b[0;36m10\u001b[0m\u001b[0;34m,\u001b[0m \u001b[0;36m8\u001b[0m\u001b[0;34m)\u001b[0m\u001b[0;34m)\u001b[0m\u001b[0;34m\u001b[0m\u001b[0;34m\u001b[0m\u001b[0m\n\u001b[0;32m----> 3\u001b[0;31m \u001b[0mplt\u001b[0m\u001b[0;34m.\u001b[0m\u001b[0mplot\u001b[0m\u001b[0;34m(\u001b[0m\u001b[0mn_features_list\u001b[0m\u001b[0;34m,\u001b[0m \u001b[0madjusted_r2\u001b[0m\u001b[0;34m,\u001b[0m \u001b[0mlabel\u001b[0m\u001b[0;34m=\u001b[0m\u001b[0;34m\"adjusted_r2\"\u001b[0m\u001b[0;34m)\u001b[0m\u001b[0;34m\u001b[0m\u001b[0;34m\u001b[0m\u001b[0m\n\u001b[0m\u001b[1;32m      4\u001b[0m \u001b[0mplt\u001b[0m\u001b[0;34m.\u001b[0m\u001b[0mplot\u001b[0m\u001b[0;34m(\u001b[0m\u001b[0mn_features_list\u001b[0m\u001b[0;34m,\u001b[0m \u001b[0mr2\u001b[0m\u001b[0;34m,\u001b[0m \u001b[0mlabel\u001b[0m\u001b[0;34m=\u001b[0m\u001b[0;34m\"train_r2\"\u001b[0m\u001b[0;34m)\u001b[0m\u001b[0;34m\u001b[0m\u001b[0;34m\u001b[0m\u001b[0m\n\u001b[1;32m      5\u001b[0m \u001b[0mplt\u001b[0m\u001b[0;34m.\u001b[0m\u001b[0mplot\u001b[0m\u001b[0;34m(\u001b[0m\u001b[0mn_features_list\u001b[0m\u001b[0;34m,\u001b[0m \u001b[0mtest_r2\u001b[0m\u001b[0;34m,\u001b[0m \u001b[0mlabel\u001b[0m\u001b[0;34m=\u001b[0m\u001b[0;34m\"test_r2\"\u001b[0m\u001b[0;34m)\u001b[0m\u001b[0;34m\u001b[0m\u001b[0;34m\u001b[0m\u001b[0m\n",
            "\u001b[0;31mNameError\u001b[0m: name 'n_features_list' is not defined"
          ]
        },
        {
          "output_type": "display_data",
          "data": {
            "text/plain": [
              "<Figure size 720x576 with 0 Axes>"
            ]
          },
          "metadata": {
            "tags": []
          }
        }
      ]
    },
    {
      "cell_type": "code",
      "metadata": {
        "id": "8Hg57dQmFjEs"
      },
      "source": [
        "# RFE with n features\n",
        "lm = LinearRegression()\n",
        "\n",
        "n_features = 6\n",
        "\n",
        "# specify number of features\n",
        "rfe_n = RFE(lm, n_features)\n",
        "\n",
        "# fit with n features\n",
        "rfe_n.fit(X_train, y_train)\n",
        "\n",
        "# subset the features selected by rfe_6\n",
        "col_n = X_train.columns[rfe_n.support_]\n",
        "\n",
        "# subsetting training data for 6 selected columns\n",
        "X_train_rfe_n = X_train[col_n]\n",
        "\n",
        "# add a constant to the model\n",
        "X_train_rfe_n = sm.add_constant(X_train_rfe_n)\n",
        "\n",
        "\n",
        "# fitting the model with 6 variables\n",
        "lm_n = sm.OLS(y_train, X_train_rfe_n).fit()\n",
        "adjusted_r2.append(lm_n.rsquared_adj)\n",
        "r2.append(lm_n.rsquared)\n",
        "\n",
        "\n",
        "# making predictions using rfe_15 sm model\n",
        "X_test_rfe_n = X_test[col_n]\n",
        "\n",
        "\n",
        "# # Adding a constant variable \n",
        "X_test_rfe_n = sm.add_constant(X_test_rfe_n, has_constant='add')\n",
        "\n",
        "\n",
        "\n",
        "# # Making predictions\n",
        "y_pred = lm_n.predict(X_test_rfe_n)\n",
        "\n",
        "test_r2.append(r2_score(y_test, y_pred))"
      ],
      "execution_count": null,
      "outputs": []
    },
    {
      "cell_type": "code",
      "metadata": {
        "id": "DHIvqQonFnO9",
        "outputId": "72c6c3e9-edd6-43cc-c273-02f0898803c7",
        "colab": {
          "base_uri": "https://localhost:8080/",
          "height": 181
        }
      },
      "source": [
        "# summary\n",
        "lm_n.summary()"
      ],
      "execution_count": null,
      "outputs": [
        {
          "output_type": "error",
          "ename": "NameError",
          "evalue": "ignored",
          "traceback": [
            "\u001b[0;31m---------------------------------------------------------------------------\u001b[0m",
            "\u001b[0;31mNameError\u001b[0m                                 Traceback (most recent call last)",
            "\u001b[0;32m<ipython-input-69-b1f56fa6e093>\u001b[0m in \u001b[0;36m<module>\u001b[0;34m()\u001b[0m\n\u001b[1;32m      1\u001b[0m \u001b[0;31m# summary\u001b[0m\u001b[0;34m\u001b[0m\u001b[0;34m\u001b[0m\u001b[0;34m\u001b[0m\u001b[0m\n\u001b[0;32m----> 2\u001b[0;31m \u001b[0mlm_n\u001b[0m\u001b[0;34m.\u001b[0m\u001b[0msummary\u001b[0m\u001b[0;34m(\u001b[0m\u001b[0;34m)\u001b[0m\u001b[0;34m\u001b[0m\u001b[0;34m\u001b[0m\u001b[0m\n\u001b[0m",
            "\u001b[0;31mNameError\u001b[0m: name 'lm_n' is not defined"
          ]
        }
      ]
    },
    {
      "cell_type": "code",
      "metadata": {
        "id": "8R_W84TXFpvy",
        "outputId": "aa789c73-87ab-41d8-876e-f5dbe87700cf",
        "colab": {
          "base_uri": "https://localhost:8080/",
          "height": 34
        }
      },
      "source": [
        "# results \n",
        "r2_score(y_test, y_pred)"
      ],
      "execution_count": null,
      "outputs": [
        {
          "output_type": "execute_result",
          "data": {
            "text/plain": [
              "0.0007146449796928689"
            ]
          },
          "metadata": {
            "tags": []
          },
          "execution_count": 70
        }
      ]
    },
    {
      "cell_type": "code",
      "metadata": {
        "id": "P0EwZ503FsMj",
        "outputId": "05e7101f-1588-4b3f-85a5-34c2c5dfc8bc",
        "colab": {
          "base_uri": "https://localhost:8080/",
          "height": 319
        }
      },
      "source": [
        "# Error terms\n",
        "c = [i for i in range(len(y_pred))]\n",
        "fig = plt.figure()\n",
        "plt.plot(c,y_test-y_pred, color=\"blue\", linewidth=2.5, linestyle=\"-\")\n",
        "fig.suptitle('Error Terms', fontsize=20)              # Plot heading \n",
        "plt.xlabel('Index', fontsize=18)                      # X-label\n",
        "plt.ylabel('ytest-ypred', fontsize=16)                # Y-label\n",
        "plt.show()"
      ],
      "execution_count": null,
      "outputs": [
        {
          "output_type": "display_data",
          "data": {
            "image/png": "[encoded data removed]",
            "text/plain": [
              "<Figure size 432x288 with 1 Axes>"
            ]
          },
          "metadata": {
            "tags": [],
            "needs_background": "light"
          }
        }
      ]
    },
    {
      "cell_type": "code",
      "metadata": {
        "id": "koxc7fOxFvPL",
        "outputId": "642a9209-448f-4cef-e5d3-79662cd8c33f",
        "colab": {
          "base_uri": "https://localhost:8080/",
          "height": 373
        }
      },
      "source": [
        "# Plotting the error terms to understand the distribution.\n",
        "fig = plt.figure()\n",
        "sns.distplot((y_test-y_pred),bins=50)\n",
        "fig.suptitle('Error Terms', fontsize=20)                  # Plot heading \n",
        "plt.xlabel('y_test-y_pred', fontsize=18)                  # X-label\n",
        "plt.ylabel('Index', fontsize=16)                          # Y-label\n",
        "plt.show()"
      ],
      "execution_count": null,
      "outputs": [
        {
          "output_type": "stream",
          "text": [
            "/usr/local/lib/python3.6/dist-packages/seaborn/distributions.py:2551: FutureWarning: `distplot` is a deprecated function and will be removed in a future version. Please adapt your code to use either `displot` (a figure-level function with similar flexibility) or `histplot` (an axes-level function for histograms).\n",
            "  warnings.warn(msg, FutureWarning)\n"
          ],
          "name": "stderr"
        },
        {
          "output_type": "display_data",
          "data": {
            "image/png": "[encoded data removed]",
            "text/plain": [
              "<Figure size 432x288 with 1 Axes>"
            ]
          },
          "metadata": {
            "tags": [],
            "needs_background": "light"
          }
        }
      ]
    },
    {
      "cell_type": "code",
      "metadata": {
        "id": "89AvhcznFyVu",
        "outputId": "e419ce0a-b66e-4d94-e89d-668ba2a0b5e9",
        "colab": {
          "base_uri": "https://localhost:8080/",
          "height": 34
        }
      },
      "source": [
        "# mean\n",
        "np.mean(y_test-y_pred)"
      ],
      "execution_count": null,
      "outputs": [
        {
          "output_type": "execute_result",
          "data": {
            "text/plain": [
              "2442.6566170026"
            ]
          },
          "metadata": {
            "tags": []
          },
          "execution_count": 73
        }
      ]
    },
    {
      "cell_type": "code",
      "metadata": {
        "id": "mrqx2ZfVF1lk",
        "outputId": "249849a9-e85a-4a0e-f1a4-943dcc77b519",
        "colab": {
          "base_uri": "https://localhost:8080/",
          "height": 181
        }
      },
      "source": [
        "sns.distplot(cars['price'],bins=50)\n",
        "plt.show()"
      ],
      "execution_count": null,
      "outputs": [
        {
          "output_type": "error",
          "ename": "NameError",
          "evalue": "ignored",
          "traceback": [
            "\u001b[0;31m---------------------------------------------------------------------------\u001b[0m",
            "\u001b[0;31mNameError\u001b[0m                                 Traceback (most recent call last)",
            "\u001b[0;32m<ipython-input-74-846ec2322581>\u001b[0m in \u001b[0;36m<module>\u001b[0;34m()\u001b[0m\n\u001b[0;32m----> 1\u001b[0;31m \u001b[0msns\u001b[0m\u001b[0;34m.\u001b[0m\u001b[0mdistplot\u001b[0m\u001b[0;34m(\u001b[0m\u001b[0mcars\u001b[0m\u001b[0;34m[\u001b[0m\u001b[0;34m'price'\u001b[0m\u001b[0;34m]\u001b[0m\u001b[0;34m,\u001b[0m\u001b[0mbins\u001b[0m\u001b[0;34m=\u001b[0m\u001b[0;36m50\u001b[0m\u001b[0;34m)\u001b[0m\u001b[0;34m\u001b[0m\u001b[0;34m\u001b[0m\u001b[0m\n\u001b[0m\u001b[1;32m      2\u001b[0m \u001b[0mplt\u001b[0m\u001b[0;34m.\u001b[0m\u001b[0mshow\u001b[0m\u001b[0;34m(\u001b[0m\u001b[0;34m)\u001b[0m\u001b[0;34m\u001b[0m\u001b[0;34m\u001b[0m\u001b[0m\n",
            "\u001b[0;31mNameError\u001b[0m: name 'cars' is not defined"
          ]
        }
      ]
    },
    {
      "cell_type": "code",
      "metadata": {
        "id": "lVKodQcLF3sG",
        "outputId": "18a7584a-be9a-4172-afbb-e3374b118008",
        "colab": {
          "base_uri": "https://localhost:8080/",
          "height": 409
        }
      },
      "source": [
        "# multicollinearity\n",
        "predictors = ['carwidth', 'curbweight', 'enginesize', \n",
        "             'enginelocation_rear', 'car_company_bmw', 'car_company_porsche']\n",
        "\n",
        "cors = X.loc[:, list(predictors)].corr()\n",
        "sns.heatmap(cors, annot=True)\n",
        "plt.show()"
      ],
      "execution_count": null,
      "outputs": [
        {
          "output_type": "error",
          "ename": "KeyError",
          "evalue": "ignored",
          "traceback": [
            "\u001b[0;31m---------------------------------------------------------------------------\u001b[0m",
            "\u001b[0;31mKeyError\u001b[0m                                  Traceback (most recent call last)",
            "\u001b[0;32m<ipython-input-75-b30e5ff0fa6f>\u001b[0m in \u001b[0;36m<module>\u001b[0;34m()\u001b[0m\n\u001b[1;32m      3\u001b[0m              'enginelocation_rear', 'car_company_bmw', 'car_company_porsche']\n\u001b[1;32m      4\u001b[0m \u001b[0;34m\u001b[0m\u001b[0m\n\u001b[0;32m----> 5\u001b[0;31m \u001b[0mcors\u001b[0m \u001b[0;34m=\u001b[0m \u001b[0mX\u001b[0m\u001b[0;34m.\u001b[0m\u001b[0mloc\u001b[0m\u001b[0;34m[\u001b[0m\u001b[0;34m:\u001b[0m\u001b[0;34m,\u001b[0m \u001b[0mlist\u001b[0m\u001b[0;34m(\u001b[0m\u001b[0mpredictors\u001b[0m\u001b[0;34m)\u001b[0m\u001b[0;34m]\u001b[0m\u001b[0;34m.\u001b[0m\u001b[0mcorr\u001b[0m\u001b[0;34m(\u001b[0m\u001b[0;34m)\u001b[0m\u001b[0;34m\u001b[0m\u001b[0;34m\u001b[0m\u001b[0m\n\u001b[0m\u001b[1;32m      6\u001b[0m \u001b[0msns\u001b[0m\u001b[0;34m.\u001b[0m\u001b[0mheatmap\u001b[0m\u001b[0;34m(\u001b[0m\u001b[0mcors\u001b[0m\u001b[0;34m,\u001b[0m \u001b[0mannot\u001b[0m\u001b[0;34m=\u001b[0m\u001b[0;32mTrue\u001b[0m\u001b[0;34m)\u001b[0m\u001b[0;34m\u001b[0m\u001b[0;34m\u001b[0m\u001b[0m\n\u001b[1;32m      7\u001b[0m \u001b[0mplt\u001b[0m\u001b[0;34m.\u001b[0m\u001b[0mshow\u001b[0m\u001b[0;34m(\u001b[0m\u001b[0;34m)\u001b[0m\u001b[0;34m\u001b[0m\u001b[0;34m\u001b[0m\u001b[0m\n",
            "\u001b[0;32m/usr/local/lib/python3.6/dist-packages/pandas/core/indexing.py\u001b[0m in \u001b[0;36m__getitem__\u001b[0;34m(self, key)\u001b[0m\n\u001b[1;32m    871\u001b[0m                     \u001b[0;31m# AttributeError for IntervalTree get_value\u001b[0m\u001b[0;34m\u001b[0m\u001b[0;34m\u001b[0m\u001b[0;34m\u001b[0m\u001b[0m\n\u001b[1;32m    872\u001b[0m                     \u001b[0;32mpass\u001b[0m\u001b[0;34m\u001b[0m\u001b[0;34m\u001b[0m\u001b[0m\n\u001b[0;32m--> 873\u001b[0;31m             \u001b[0;32mreturn\u001b[0m \u001b[0mself\u001b[0m\u001b[0;34m.\u001b[0m\u001b[0m_getitem_tuple\u001b[0m\u001b[0;34m(\u001b[0m\u001b[0mkey\u001b[0m\u001b[0;34m)\u001b[0m\u001b[0;34m\u001b[0m\u001b[0;34m\u001b[0m\u001b[0m\n\u001b[0m\u001b[1;32m    874\u001b[0m         \u001b[0;32melse\u001b[0m\u001b[0;34m:\u001b[0m\u001b[0;34m\u001b[0m\u001b[0;34m\u001b[0m\u001b[0m\n\u001b[1;32m    875\u001b[0m             \u001b[0;31m# we by definition only have the 0th axis\u001b[0m\u001b[0;34m\u001b[0m\u001b[0;34m\u001b[0m\u001b[0;34m\u001b[0m\u001b[0m\n",
            "\u001b[0;32m/usr/local/lib/python3.6/dist-packages/pandas/core/indexing.py\u001b[0m in \u001b[0;36m_getitem_tuple\u001b[0;34m(self, tup)\u001b[0m\n\u001b[1;32m   1053\u001b[0m             \u001b[0;32mreturn\u001b[0m \u001b[0mself\u001b[0m\u001b[0;34m.\u001b[0m\u001b[0m_multi_take\u001b[0m\u001b[0;34m(\u001b[0m\u001b[0mtup\u001b[0m\u001b[0;34m)\u001b[0m\u001b[0;34m\u001b[0m\u001b[0;34m\u001b[0m\u001b[0m\n\u001b[1;32m   1054\u001b[0m \u001b[0;34m\u001b[0m\u001b[0m\n\u001b[0;32m-> 1055\u001b[0;31m         \u001b[0;32mreturn\u001b[0m \u001b[0mself\u001b[0m\u001b[0;34m.\u001b[0m\u001b[0m_getitem_tuple_same_dim\u001b[0m\u001b[0;34m(\u001b[0m\u001b[0mtup\u001b[0m\u001b[0;34m)\u001b[0m\u001b[0;34m\u001b[0m\u001b[0;34m\u001b[0m\u001b[0m\n\u001b[0m\u001b[1;32m   1056\u001b[0m \u001b[0;34m\u001b[0m\u001b[0m\n\u001b[1;32m   1057\u001b[0m     \u001b[0;32mdef\u001b[0m \u001b[0m_get_label\u001b[0m\u001b[0;34m(\u001b[0m\u001b[0mself\u001b[0m\u001b[0;34m,\u001b[0m \u001b[0mlabel\u001b[0m\u001b[0;34m,\u001b[0m \u001b[0maxis\u001b[0m\u001b[0;34m:\u001b[0m \u001b[0mint\u001b[0m\u001b[0;34m)\u001b[0m\u001b[0;34m:\u001b[0m\u001b[0;34m\u001b[0m\u001b[0;34m\u001b[0m\u001b[0m\n",
            "\u001b[0;32m/usr/local/lib/python3.6/dist-packages/pandas/core/indexing.py\u001b[0m in \u001b[0;36m_getitem_tuple_same_dim\u001b[0;34m(self, tup)\u001b[0m\n\u001b[1;32m    748\u001b[0m                 \u001b[0;32mcontinue\u001b[0m\u001b[0;34m\u001b[0m\u001b[0;34m\u001b[0m\u001b[0m\n\u001b[1;32m    749\u001b[0m \u001b[0;34m\u001b[0m\u001b[0m\n\u001b[0;32m--> 750\u001b[0;31m             \u001b[0mretval\u001b[0m \u001b[0;34m=\u001b[0m \u001b[0mgetattr\u001b[0m\u001b[0;34m(\u001b[0m\u001b[0mretval\u001b[0m\u001b[0;34m,\u001b[0m \u001b[0mself\u001b[0m\u001b[0;34m.\u001b[0m\u001b[0mname\u001b[0m\u001b[0;34m)\u001b[0m\u001b[0;34m.\u001b[0m\u001b[0m_getitem_axis\u001b[0m\u001b[0;34m(\u001b[0m\u001b[0mkey\u001b[0m\u001b[0;34m,\u001b[0m \u001b[0maxis\u001b[0m\u001b[0;34m=\u001b[0m\u001b[0mi\u001b[0m\u001b[0;34m)\u001b[0m\u001b[0;34m\u001b[0m\u001b[0;34m\u001b[0m\u001b[0m\n\u001b[0m\u001b[1;32m    751\u001b[0m             \u001b[0;31m# We should never have retval.ndim < self.ndim, as that should\u001b[0m\u001b[0;34m\u001b[0m\u001b[0;34m\u001b[0m\u001b[0;34m\u001b[0m\u001b[0m\n\u001b[1;32m    752\u001b[0m             \u001b[0;31m#  be handled by the _getitem_lowerdim call above.\u001b[0m\u001b[0;34m\u001b[0m\u001b[0;34m\u001b[0m\u001b[0;34m\u001b[0m\u001b[0m\n",
            "\u001b[0;32m/usr/local/lib/python3.6/dist-packages/pandas/core/indexing.py\u001b[0m in \u001b[0;36m_getitem_axis\u001b[0;34m(self, key, axis)\u001b[0m\n\u001b[1;32m   1097\u001b[0m                     \u001b[0;32mraise\u001b[0m \u001b[0mValueError\u001b[0m\u001b[0;34m(\u001b[0m\u001b[0;34m\"Cannot index with multidimensional key\"\u001b[0m\u001b[0;34m)\u001b[0m\u001b[0;34m\u001b[0m\u001b[0;34m\u001b[0m\u001b[0m\n\u001b[1;32m   1098\u001b[0m \u001b[0;34m\u001b[0m\u001b[0m\n\u001b[0;32m-> 1099\u001b[0;31m                 \u001b[0;32mreturn\u001b[0m \u001b[0mself\u001b[0m\u001b[0;34m.\u001b[0m\u001b[0m_getitem_iterable\u001b[0m\u001b[0;34m(\u001b[0m\u001b[0mkey\u001b[0m\u001b[0;34m,\u001b[0m \u001b[0maxis\u001b[0m\u001b[0;34m=\u001b[0m\u001b[0maxis\u001b[0m\u001b[0;34m)\u001b[0m\u001b[0;34m\u001b[0m\u001b[0;34m\u001b[0m\u001b[0m\n\u001b[0m\u001b[1;32m   1100\u001b[0m \u001b[0;34m\u001b[0m\u001b[0m\n\u001b[1;32m   1101\u001b[0m             \u001b[0;31m# nested tuple slicing\u001b[0m\u001b[0;34m\u001b[0m\u001b[0;34m\u001b[0m\u001b[0;34m\u001b[0m\u001b[0m\n",
            "\u001b[0;32m/usr/local/lib/python3.6/dist-packages/pandas/core/indexing.py\u001b[0m in \u001b[0;36m_getitem_iterable\u001b[0;34m(self, key, axis)\u001b[0m\n\u001b[1;32m   1035\u001b[0m \u001b[0;34m\u001b[0m\u001b[0m\n\u001b[1;32m   1036\u001b[0m         \u001b[0;31m# A collection of keys\u001b[0m\u001b[0;34m\u001b[0m\u001b[0;34m\u001b[0m\u001b[0;34m\u001b[0m\u001b[0m\n\u001b[0;32m-> 1037\u001b[0;31m         \u001b[0mkeyarr\u001b[0m\u001b[0;34m,\u001b[0m \u001b[0mindexer\u001b[0m \u001b[0;34m=\u001b[0m \u001b[0mself\u001b[0m\u001b[0;34m.\u001b[0m\u001b[0m_get_listlike_indexer\u001b[0m\u001b[0;34m(\u001b[0m\u001b[0mkey\u001b[0m\u001b[0;34m,\u001b[0m \u001b[0maxis\u001b[0m\u001b[0;34m,\u001b[0m \u001b[0mraise_missing\u001b[0m\u001b[0;34m=\u001b[0m\u001b[0;32mFalse\u001b[0m\u001b[0;34m)\u001b[0m\u001b[0;34m\u001b[0m\u001b[0;34m\u001b[0m\u001b[0m\n\u001b[0m\u001b[1;32m   1038\u001b[0m         return self.obj._reindex_with_indexers(\n\u001b[1;32m   1039\u001b[0m             \u001b[0;34m{\u001b[0m\u001b[0maxis\u001b[0m\u001b[0;34m:\u001b[0m \u001b[0;34m[\u001b[0m\u001b[0mkeyarr\u001b[0m\u001b[0;34m,\u001b[0m \u001b[0mindexer\u001b[0m\u001b[0;34m]\u001b[0m\u001b[0;34m}\u001b[0m\u001b[0;34m,\u001b[0m \u001b[0mcopy\u001b[0m\u001b[0;34m=\u001b[0m\u001b[0;32mTrue\u001b[0m\u001b[0;34m,\u001b[0m \u001b[0mallow_dups\u001b[0m\u001b[0;34m=\u001b[0m\u001b[0;32mTrue\u001b[0m\u001b[0;34m\u001b[0m\u001b[0;34m\u001b[0m\u001b[0m\n",
            "\u001b[0;32m/usr/local/lib/python3.6/dist-packages/pandas/core/indexing.py\u001b[0m in \u001b[0;36m_get_listlike_indexer\u001b[0;34m(self, key, axis, raise_missing)\u001b[0m\n\u001b[1;32m   1252\u001b[0m             \u001b[0mkeyarr\u001b[0m\u001b[0;34m,\u001b[0m \u001b[0mindexer\u001b[0m\u001b[0;34m,\u001b[0m \u001b[0mnew_indexer\u001b[0m \u001b[0;34m=\u001b[0m \u001b[0max\u001b[0m\u001b[0;34m.\u001b[0m\u001b[0m_reindex_non_unique\u001b[0m\u001b[0;34m(\u001b[0m\u001b[0mkeyarr\u001b[0m\u001b[0;34m)\u001b[0m\u001b[0;34m\u001b[0m\u001b[0;34m\u001b[0m\u001b[0m\n\u001b[1;32m   1253\u001b[0m \u001b[0;34m\u001b[0m\u001b[0m\n\u001b[0;32m-> 1254\u001b[0;31m         \u001b[0mself\u001b[0m\u001b[0;34m.\u001b[0m\u001b[0m_validate_read_indexer\u001b[0m\u001b[0;34m(\u001b[0m\u001b[0mkeyarr\u001b[0m\u001b[0;34m,\u001b[0m \u001b[0mindexer\u001b[0m\u001b[0;34m,\u001b[0m \u001b[0maxis\u001b[0m\u001b[0;34m,\u001b[0m \u001b[0mraise_missing\u001b[0m\u001b[0;34m=\u001b[0m\u001b[0mraise_missing\u001b[0m\u001b[0;34m)\u001b[0m\u001b[0;34m\u001b[0m\u001b[0;34m\u001b[0m\u001b[0m\n\u001b[0m\u001b[1;32m   1255\u001b[0m         \u001b[0;32mreturn\u001b[0m \u001b[0mkeyarr\u001b[0m\u001b[0;34m,\u001b[0m \u001b[0mindexer\u001b[0m\u001b[0;34m\u001b[0m\u001b[0;34m\u001b[0m\u001b[0m\n\u001b[1;32m   1256\u001b[0m \u001b[0;34m\u001b[0m\u001b[0m\n",
            "\u001b[0;32m/usr/local/lib/python3.6/dist-packages/pandas/core/indexing.py\u001b[0m in \u001b[0;36m_validate_read_indexer\u001b[0;34m(self, key, indexer, axis, raise_missing)\u001b[0m\n\u001b[1;32m   1296\u001b[0m             \u001b[0;32mif\u001b[0m \u001b[0mmissing\u001b[0m \u001b[0;34m==\u001b[0m \u001b[0mlen\u001b[0m\u001b[0;34m(\u001b[0m\u001b[0mindexer\u001b[0m\u001b[0;34m)\u001b[0m\u001b[0;34m:\u001b[0m\u001b[0;34m\u001b[0m\u001b[0;34m\u001b[0m\u001b[0m\n\u001b[1;32m   1297\u001b[0m                 \u001b[0maxis_name\u001b[0m \u001b[0;34m=\u001b[0m \u001b[0mself\u001b[0m\u001b[0;34m.\u001b[0m\u001b[0mobj\u001b[0m\u001b[0;34m.\u001b[0m\u001b[0m_get_axis_name\u001b[0m\u001b[0;34m(\u001b[0m\u001b[0maxis\u001b[0m\u001b[0;34m)\u001b[0m\u001b[0;34m\u001b[0m\u001b[0;34m\u001b[0m\u001b[0m\n\u001b[0;32m-> 1298\u001b[0;31m                 \u001b[0;32mraise\u001b[0m \u001b[0mKeyError\u001b[0m\u001b[0;34m(\u001b[0m\u001b[0;34mf\"None of [{key}] are in the [{axis_name}]\"\u001b[0m\u001b[0;34m)\u001b[0m\u001b[0;34m\u001b[0m\u001b[0;34m\u001b[0m\u001b[0m\n\u001b[0m\u001b[1;32m   1299\u001b[0m \u001b[0;34m\u001b[0m\u001b[0m\n\u001b[1;32m   1300\u001b[0m             \u001b[0;31m# We (temporarily) allow for some missing keys with .loc, except in\u001b[0m\u001b[0;34m\u001b[0m\u001b[0;34m\u001b[0m\u001b[0;34m\u001b[0m\u001b[0m\n",
            "\u001b[0;31mKeyError\u001b[0m: \"None of [Index(['carwidth', 'curbweight', 'enginesize', 'enginelocation_rear',\\n       'car_company_bmw', 'car_company_porsche'],\\n      dtype='object')] are in the [columns]\""
          ]
        }
      ]
    },
    {
      "cell_type": "markdown",
      "metadata": {
        "id": "zlgjhajISvlT"
      },
      "source": [
        "# VI - Comunicação e visualização"
      ]
    },
    {
      "cell_type": "code",
      "metadata": {
        "id": "o3EKEFjOSthZ"
      },
      "source": [
        ""
      ],
      "execution_count": null,
      "outputs": []
    },
    {
      "cell_type": "code",
      "metadata": {
        "id": "TqyDN-wgSuxA"
      },
      "source": [
        ""
      ],
      "execution_count": null,
      "outputs": []
    },
    {
      "cell_type": "markdown",
      "metadata": {
        "id": "pN-haZFOTKWR"
      },
      "source": [
        "# VII - Implementação e manutenção (opcional)"
      ]
    },
    {
      "cell_type": "code",
      "metadata": {
        "id": "YQnGNrAdSugd"
      },
      "source": [
        ""
      ],
      "execution_count": null,
      "outputs": []
    }
  ]
}